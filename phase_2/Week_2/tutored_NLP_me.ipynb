{
  "nbformat": 4,
  "nbformat_minor": 0,
  "metadata": {
    "colab": {
      "name": "tutored_NLP_me.ipynb",
      "provenance": []
    },
    "kernelspec": {
      "name": "python3",
      "display_name": "Python 3"
    },
    "language_info": {
      "name": "python"
    },
    "accelerator": "GPU"
  },
  "cells": [
    {
      "cell_type": "code",
      "execution_count": null,
      "metadata": {
        "id": "ruJeMJ8nVuVd"
      },
      "outputs": [],
      "source": [
        "corpus = [\n",
        "          \"Saya sedang belajar data science\",\n",
        "          \"data yang saya proses adalah data teks\",\n",
        "          'NLP adalah cabang besar didalam data science'\n",
        "\n",
        "]"
      ]
    },
    {
      "cell_type": "code",
      "source": [
        "from sklearn.feature_extraction.text import CountVectorizer\n",
        "import pandas as pd"
      ],
      "metadata": {
        "id": "RmpLaao5YZGi"
      },
      "execution_count": null,
      "outputs": []
    },
    {
      "cell_type": "code",
      "source": [
        "vect = CountVectorizer()\n",
        "vect.fit(corpus)"
      ],
      "metadata": {
        "colab": {
          "base_uri": "https://localhost:8080/"
        },
        "id": "gRDSKRv8Ygar",
        "outputId": "6b66e6eb-1d06-486e-a589-9ba18bc199f1"
      },
      "execution_count": null,
      "outputs": [
        {
          "output_type": "execute_result",
          "data": {
            "text/plain": [
              "CountVectorizer()"
            ]
          },
          "metadata": {},
          "execution_count": 4
        }
      ]
    },
    {
      "cell_type": "code",
      "source": [
        "vect.get_feature_names_out()"
      ],
      "metadata": {
        "colab": {
          "base_uri": "https://localhost:8080/"
        },
        "id": "E2G_mF2eYp6r",
        "outputId": "469bed43-8e41-4d8a-d712-f0cf1e876ad6"
      },
      "execution_count": null,
      "outputs": [
        {
          "output_type": "execute_result",
          "data": {
            "text/plain": [
              "array(['adalah', 'belajar', 'besar', 'cabang', 'data', 'didalam', 'nlp',\n",
              "       'proses', 'saya', 'science', 'sedang', 'teks', 'yang'],\n",
              "      dtype=object)"
            ]
          },
          "metadata": {},
          "execution_count": 6
        }
      ]
    },
    {
      "cell_type": "markdown",
      "source": [
        "# Pemodelan Machine Learning untuk SMS Spam"
      ],
      "metadata": {
        "id": "qtk1WlJ3ZYPK"
      }
    },
    {
      "cell_type": "code",
      "source": [
        "!pip install pysastrawi"
      ],
      "metadata": {
        "colab": {
          "base_uri": "https://localhost:8080/"
        },
        "id": "oXfCuSaiZ5s9",
        "outputId": "2af92816-2a8e-4bf1-dbae-9e6bb1351b82"
      },
      "execution_count": null,
      "outputs": [
        {
          "output_type": "stream",
          "name": "stdout",
          "text": [
            "Looking in indexes: https://pypi.org/simple, https://us-python.pkg.dev/colab-wheels/public/simple/\n",
            "Collecting pysastrawi\n",
            "  Downloading PySastrawi-1.2.0-py2.py3-none-any.whl (210 kB)\n",
            "\u001b[K     |████████████████████████████████| 210 kB 22.2 MB/s \n",
            "\u001b[?25hInstalling collected packages: pysastrawi\n",
            "Successfully installed pysastrawi-1.2.0\n"
          ]
        }
      ]
    },
    {
      "cell_type": "code",
      "source": [
        "import pandas as pd\n",
        "from sklearn.feature_extraction.text import CountVectorizer\n",
        "from sklearn.model_selection import train_test_split\n",
        "from sklearn.naive_bayes import MultinomialNB\n",
        "from sklearn.metrics import classification_report\n",
        "from Sastrawi.StopWordRemover.StopWordRemoverFactory import StopWordRemoverFactory\n",
        "\n",
        "import matplotlib.pyplot as plt\n"
      ],
      "metadata": {
        "id": "uttHSbi3ZdQM"
      },
      "execution_count": null,
      "outputs": []
    },
    {
      "cell_type": "code",
      "source": [
        "df = pd.read_csv('https://raw.githubusercontent.com/afifai/hacktiv8-trial-class-spamdetector/main/data/dataset_sms_spam%20_v1.csv')\n",
        "df.head()"
      ],
      "metadata": {
        "colab": {
          "base_uri": "https://localhost:8080/",
          "height": 206
        },
        "id": "dmpgeiQBaRRH",
        "outputId": "10d8c9b6-ffcc-4dab-f054-b52e082df0f8"
      },
      "execution_count": null,
      "outputs": [
        {
          "output_type": "execute_result",
          "data": {
            "text/plain": [
              "                                                Teks  label\n",
              "0  [PROMO] Beli paket Flash mulai 1GB di MY TELKO...      2\n",
              "1  2.5 GB/30 hari hanya Rp 35 Ribu Spesial buat A...      2\n",
              "2  2016-07-08 11:47:11.Plg Yth, sisa kuota Flash ...      2\n",
              "3  2016-08-07 11:29:47.Plg Yth, sisa kuota Flash ...      2\n",
              "4  4.5GB/30 hari hanya Rp 55 Ribu Spesial buat an...      2"
            ],
            "text/html": [
              "\n",
              "  <div id=\"df-f139c385-4b3a-4e02-8d98-248c7a60c108\">\n",
              "    <div class=\"colab-df-container\">\n",
              "      <div>\n",
              "<style scoped>\n",
              "    .dataframe tbody tr th:only-of-type {\n",
              "        vertical-align: middle;\n",
              "    }\n",
              "\n",
              "    .dataframe tbody tr th {\n",
              "        vertical-align: top;\n",
              "    }\n",
              "\n",
              "    .dataframe thead th {\n",
              "        text-align: right;\n",
              "    }\n",
              "</style>\n",
              "<table border=\"1\" class=\"dataframe\">\n",
              "  <thead>\n",
              "    <tr style=\"text-align: right;\">\n",
              "      <th></th>\n",
              "      <th>Teks</th>\n",
              "      <th>label</th>\n",
              "    </tr>\n",
              "  </thead>\n",
              "  <tbody>\n",
              "    <tr>\n",
              "      <th>0</th>\n",
              "      <td>[PROMO] Beli paket Flash mulai 1GB di MY TELKO...</td>\n",
              "      <td>2</td>\n",
              "    </tr>\n",
              "    <tr>\n",
              "      <th>1</th>\n",
              "      <td>2.5 GB/30 hari hanya Rp 35 Ribu Spesial buat A...</td>\n",
              "      <td>2</td>\n",
              "    </tr>\n",
              "    <tr>\n",
              "      <th>2</th>\n",
              "      <td>2016-07-08 11:47:11.Plg Yth, sisa kuota Flash ...</td>\n",
              "      <td>2</td>\n",
              "    </tr>\n",
              "    <tr>\n",
              "      <th>3</th>\n",
              "      <td>2016-08-07 11:29:47.Plg Yth, sisa kuota Flash ...</td>\n",
              "      <td>2</td>\n",
              "    </tr>\n",
              "    <tr>\n",
              "      <th>4</th>\n",
              "      <td>4.5GB/30 hari hanya Rp 55 Ribu Spesial buat an...</td>\n",
              "      <td>2</td>\n",
              "    </tr>\n",
              "  </tbody>\n",
              "</table>\n",
              "</div>\n",
              "      <button class=\"colab-df-convert\" onclick=\"convertToInteractive('df-f139c385-4b3a-4e02-8d98-248c7a60c108')\"\n",
              "              title=\"Convert this dataframe to an interactive table.\"\n",
              "              style=\"display:none;\">\n",
              "        \n",
              "  <svg xmlns=\"http://www.w3.org/2000/svg\" height=\"24px\"viewBox=\"0 0 24 24\"\n",
              "       width=\"24px\">\n",
              "    <path d=\"M0 0h24v24H0V0z\" fill=\"none\"/>\n",
              "    <path d=\"M18.56 5.44l.94 2.06.94-2.06 2.06-.94-2.06-.94-.94-2.06-.94 2.06-2.06.94zm-11 1L8.5 8.5l.94-2.06 2.06-.94-2.06-.94L8.5 2.5l-.94 2.06-2.06.94zm10 10l.94 2.06.94-2.06 2.06-.94-2.06-.94-.94-2.06-.94 2.06-2.06.94z\"/><path d=\"M17.41 7.96l-1.37-1.37c-.4-.4-.92-.59-1.43-.59-.52 0-1.04.2-1.43.59L10.3 9.45l-7.72 7.72c-.78.78-.78 2.05 0 2.83L4 21.41c.39.39.9.59 1.41.59.51 0 1.02-.2 1.41-.59l7.78-7.78 2.81-2.81c.8-.78.8-2.07 0-2.86zM5.41 20L4 18.59l7.72-7.72 1.47 1.35L5.41 20z\"/>\n",
              "  </svg>\n",
              "      </button>\n",
              "      \n",
              "  <style>\n",
              "    .colab-df-container {\n",
              "      display:flex;\n",
              "      flex-wrap:wrap;\n",
              "      gap: 12px;\n",
              "    }\n",
              "\n",
              "    .colab-df-convert {\n",
              "      background-color: #E8F0FE;\n",
              "      border: none;\n",
              "      border-radius: 50%;\n",
              "      cursor: pointer;\n",
              "      display: none;\n",
              "      fill: #1967D2;\n",
              "      height: 32px;\n",
              "      padding: 0 0 0 0;\n",
              "      width: 32px;\n",
              "    }\n",
              "\n",
              "    .colab-df-convert:hover {\n",
              "      background-color: #E2EBFA;\n",
              "      box-shadow: 0px 1px 2px rgba(60, 64, 67, 0.3), 0px 1px 3px 1px rgba(60, 64, 67, 0.15);\n",
              "      fill: #174EA6;\n",
              "    }\n",
              "\n",
              "    [theme=dark] .colab-df-convert {\n",
              "      background-color: #3B4455;\n",
              "      fill: #D2E3FC;\n",
              "    }\n",
              "\n",
              "    [theme=dark] .colab-df-convert:hover {\n",
              "      background-color: #434B5C;\n",
              "      box-shadow: 0px 1px 3px 1px rgba(0, 0, 0, 0.15);\n",
              "      filter: drop-shadow(0px 1px 2px rgba(0, 0, 0, 0.3));\n",
              "      fill: #FFFFFF;\n",
              "    }\n",
              "  </style>\n",
              "\n",
              "      <script>\n",
              "        const buttonEl =\n",
              "          document.querySelector('#df-f139c385-4b3a-4e02-8d98-248c7a60c108 button.colab-df-convert');\n",
              "        buttonEl.style.display =\n",
              "          google.colab.kernel.accessAllowed ? 'block' : 'none';\n",
              "\n",
              "        async function convertToInteractive(key) {\n",
              "          const element = document.querySelector('#df-f139c385-4b3a-4e02-8d98-248c7a60c108');\n",
              "          const dataTable =\n",
              "            await google.colab.kernel.invokeFunction('convertToInteractive',\n",
              "                                                     [key], {});\n",
              "          if (!dataTable) return;\n",
              "\n",
              "          const docLinkHtml = 'Like what you see? Visit the ' +\n",
              "            '<a target=\"_blank\" href=https://colab.research.google.com/notebooks/data_table.ipynb>data table notebook</a>'\n",
              "            + ' to learn more about interactive tables.';\n",
              "          element.innerHTML = '';\n",
              "          dataTable['output_type'] = 'display_data';\n",
              "          await google.colab.output.renderOutput(dataTable, element);\n",
              "          const docLink = document.createElement('div');\n",
              "          docLink.innerHTML = docLinkHtml;\n",
              "          element.appendChild(docLink);\n",
              "        }\n",
              "      </script>\n",
              "    </div>\n",
              "  </div>\n",
              "  "
            ]
          },
          "metadata": {},
          "execution_count": 10
        }
      ]
    },
    {
      "cell_type": "code",
      "source": [
        "df.label = df.label.map({0:'SMS biasa', 1:'SMS Penipuan', 2:'SMS Operator'})"
      ],
      "metadata": {
        "id": "SOkT32BZaf-F"
      },
      "execution_count": null,
      "outputs": []
    },
    {
      "cell_type": "code",
      "source": [
        ""
      ],
      "metadata": {
        "colab": {
          "base_uri": "https://localhost:8080/",
          "height": 206
        },
        "id": "ctW1sH_XbFFg",
        "outputId": "69ba081c-5c10-4799-cebb-765db62420da"
      },
      "execution_count": null,
      "outputs": [
        {
          "output_type": "execute_result",
          "data": {
            "text/plain": [
              "                                                   Teks      label\n",
              "1138     Yooo sama2, oke nanti aku umumin di grup kelas  SMS biasa\n",
              "1139  😁 sebelumnya ga ad nulis kerudung. Kirain warn...  SMS biasa\n",
              "1140                               Mba mau kirim 300 ya  SMS biasa\n",
              "1141  nama1  beaok bwrangkat pagi...mau cas atay tra...  SMS biasa\n",
              "1142                         No bri atas nama kamu mana  SMS biasa"
            ],
            "text/html": [
              "\n",
              "  <div id=\"df-ef1a71ec-8599-45f5-a6b1-4b757e323c7c\">\n",
              "    <div class=\"colab-df-container\">\n",
              "      <div>\n",
              "<style scoped>\n",
              "    .dataframe tbody tr th:only-of-type {\n",
              "        vertical-align: middle;\n",
              "    }\n",
              "\n",
              "    .dataframe tbody tr th {\n",
              "        vertical-align: top;\n",
              "    }\n",
              "\n",
              "    .dataframe thead th {\n",
              "        text-align: right;\n",
              "    }\n",
              "</style>\n",
              "<table border=\"1\" class=\"dataframe\">\n",
              "  <thead>\n",
              "    <tr style=\"text-align: right;\">\n",
              "      <th></th>\n",
              "      <th>Teks</th>\n",
              "      <th>label</th>\n",
              "    </tr>\n",
              "  </thead>\n",
              "  <tbody>\n",
              "    <tr>\n",
              "      <th>1138</th>\n",
              "      <td>Yooo sama2, oke nanti aku umumin di grup kelas</td>\n",
              "      <td>SMS biasa</td>\n",
              "    </tr>\n",
              "    <tr>\n",
              "      <th>1139</th>\n",
              "      <td>😁 sebelumnya ga ad nulis kerudung. Kirain warn...</td>\n",
              "      <td>SMS biasa</td>\n",
              "    </tr>\n",
              "    <tr>\n",
              "      <th>1140</th>\n",
              "      <td>Mba mau kirim 300 ya</td>\n",
              "      <td>SMS biasa</td>\n",
              "    </tr>\n",
              "    <tr>\n",
              "      <th>1141</th>\n",
              "      <td>nama1  beaok bwrangkat pagi...mau cas atay tra...</td>\n",
              "      <td>SMS biasa</td>\n",
              "    </tr>\n",
              "    <tr>\n",
              "      <th>1142</th>\n",
              "      <td>No bri atas nama kamu mana</td>\n",
              "      <td>SMS biasa</td>\n",
              "    </tr>\n",
              "  </tbody>\n",
              "</table>\n",
              "</div>\n",
              "      <button class=\"colab-df-convert\" onclick=\"convertToInteractive('df-ef1a71ec-8599-45f5-a6b1-4b757e323c7c')\"\n",
              "              title=\"Convert this dataframe to an interactive table.\"\n",
              "              style=\"display:none;\">\n",
              "        \n",
              "  <svg xmlns=\"http://www.w3.org/2000/svg\" height=\"24px\"viewBox=\"0 0 24 24\"\n",
              "       width=\"24px\">\n",
              "    <path d=\"M0 0h24v24H0V0z\" fill=\"none\"/>\n",
              "    <path d=\"M18.56 5.44l.94 2.06.94-2.06 2.06-.94-2.06-.94-.94-2.06-.94 2.06-2.06.94zm-11 1L8.5 8.5l.94-2.06 2.06-.94-2.06-.94L8.5 2.5l-.94 2.06-2.06.94zm10 10l.94 2.06.94-2.06 2.06-.94-2.06-.94-.94-2.06-.94 2.06-2.06.94z\"/><path d=\"M17.41 7.96l-1.37-1.37c-.4-.4-.92-.59-1.43-.59-.52 0-1.04.2-1.43.59L10.3 9.45l-7.72 7.72c-.78.78-.78 2.05 0 2.83L4 21.41c.39.39.9.59 1.41.59.51 0 1.02-.2 1.41-.59l7.78-7.78 2.81-2.81c.8-.78.8-2.07 0-2.86zM5.41 20L4 18.59l7.72-7.72 1.47 1.35L5.41 20z\"/>\n",
              "  </svg>\n",
              "      </button>\n",
              "      \n",
              "  <style>\n",
              "    .colab-df-container {\n",
              "      display:flex;\n",
              "      flex-wrap:wrap;\n",
              "      gap: 12px;\n",
              "    }\n",
              "\n",
              "    .colab-df-convert {\n",
              "      background-color: #E8F0FE;\n",
              "      border: none;\n",
              "      border-radius: 50%;\n",
              "      cursor: pointer;\n",
              "      display: none;\n",
              "      fill: #1967D2;\n",
              "      height: 32px;\n",
              "      padding: 0 0 0 0;\n",
              "      width: 32px;\n",
              "    }\n",
              "\n",
              "    .colab-df-convert:hover {\n",
              "      background-color: #E2EBFA;\n",
              "      box-shadow: 0px 1px 2px rgba(60, 64, 67, 0.3), 0px 1px 3px 1px rgba(60, 64, 67, 0.15);\n",
              "      fill: #174EA6;\n",
              "    }\n",
              "\n",
              "    [theme=dark] .colab-df-convert {\n",
              "      background-color: #3B4455;\n",
              "      fill: #D2E3FC;\n",
              "    }\n",
              "\n",
              "    [theme=dark] .colab-df-convert:hover {\n",
              "      background-color: #434B5C;\n",
              "      box-shadow: 0px 1px 3px 1px rgba(0, 0, 0, 0.15);\n",
              "      filter: drop-shadow(0px 1px 2px rgba(0, 0, 0, 0.3));\n",
              "      fill: #FFFFFF;\n",
              "    }\n",
              "  </style>\n",
              "\n",
              "      <script>\n",
              "        const buttonEl =\n",
              "          document.querySelector('#df-ef1a71ec-8599-45f5-a6b1-4b757e323c7c button.colab-df-convert');\n",
              "        buttonEl.style.display =\n",
              "          google.colab.kernel.accessAllowed ? 'block' : 'none';\n",
              "\n",
              "        async function convertToInteractive(key) {\n",
              "          const element = document.querySelector('#df-ef1a71ec-8599-45f5-a6b1-4b757e323c7c');\n",
              "          const dataTable =\n",
              "            await google.colab.kernel.invokeFunction('convertToInteractive',\n",
              "                                                     [key], {});\n",
              "          if (!dataTable) return;\n",
              "\n",
              "          const docLinkHtml = 'Like what you see? Visit the ' +\n",
              "            '<a target=\"_blank\" href=https://colab.research.google.com/notebooks/data_table.ipynb>data table notebook</a>'\n",
              "            + ' to learn more about interactive tables.';\n",
              "          element.innerHTML = '';\n",
              "          dataTable['output_type'] = 'display_data';\n",
              "          await google.colab.output.renderOutput(dataTable, element);\n",
              "          const docLink = document.createElement('div');\n",
              "          docLink.innerHTML = docLinkHtml;\n",
              "          element.appendChild(docLink);\n",
              "        }\n",
              "      </script>\n",
              "    </div>\n",
              "  </div>\n",
              "  "
            ]
          },
          "metadata": {},
          "execution_count": 14
        }
      ]
    },
    {
      "cell_type": "code",
      "source": [
        "df.label.value_counts().plot(kind='bar');"
      ],
      "metadata": {
        "colab": {
          "base_uri": "https://localhost:8080/",
          "height": 326
        },
        "id": "8cDDf0wYbPrS",
        "outputId": "29b48abc-119f-4e70-9293-b684f9c01df2"
      },
      "execution_count": null,
      "outputs": [
        {
          "output_type": "display_data",
          "data": {
            "text/plain": [
              "<Figure size 432x288 with 1 Axes>"
            ],
            "image/png": "[encoded data removed]"
          },
          "metadata": {
            "needs_background": "light"
          }
        }
      ]
    },
    {
      "cell_type": "code",
      "source": [
        "df.label.value_counts()"
      ],
      "metadata": {
        "colab": {
          "base_uri": "https://localhost:8080/"
        },
        "id": "6CGq_xz6bzPR",
        "outputId": "11aec6d0-f46d-47ec-f3d5-7d03319d39d1"
      },
      "execution_count": null,
      "outputs": [
        {
          "output_type": "execute_result",
          "data": {
            "text/plain": [
              "SMS biasa       569\n",
              "SMS Penipuan    335\n",
              "SMS Operator    239\n",
              "Name: label, dtype: int64"
            ]
          },
          "metadata": {},
          "execution_count": 17
        }
      ]
    },
    {
      "cell_type": "code",
      "source": [
        "X_train, X_test, y_train, y_test = train_test_split(df.Teks, df.label, test_size=0.15, random_state=420, stratify=df.label)"
      ],
      "metadata": {
        "id": "gKrTqg2Wb15l"
      },
      "execution_count": null,
      "outputs": []
    },
    {
      "cell_type": "code",
      "source": [
        "# vektorisasi\n",
        "vect = CountVectorizer()\n",
        "\n",
        "# train\n",
        "X_train_vec = vect.fit_transform(X_train)\n",
        "X_test_vec = vect.transform(X_test)"
      ],
      "metadata": {
        "id": "OooIQ0frcLTG"
      },
      "execution_count": null,
      "outputs": []
    },
    {
      "cell_type": "code",
      "source": [
        "X_train_vec"
      ],
      "metadata": {
        "colab": {
          "base_uri": "https://localhost:8080/"
        },
        "id": "0PummaSGdEeZ",
        "outputId": "08aef54e-7dfe-45c7-d68b-ffc4b13969e2"
      },
      "execution_count": null,
      "outputs": [
        {
          "output_type": "execute_result",
          "data": {
            "text/plain": [
              "<971x4451 sparse matrix of type '<class 'numpy.int64'>'\n",
              "\twith 16237 stored elements in Compressed Sparse Row format>"
            ]
          },
          "metadata": {},
          "execution_count": 20
        }
      ]
    },
    {
      "cell_type": "code",
      "source": [
        "X_test_vec"
      ],
      "metadata": {
        "colab": {
          "base_uri": "https://localhost:8080/"
        },
        "id": "gz0KjsTSdn8y",
        "outputId": "6ebb8637-fd15-4b7e-9d9f-f313712765bf"
      },
      "execution_count": null,
      "outputs": [
        {
          "output_type": "execute_result",
          "data": {
            "text/plain": [
              "<172x4451 sparse matrix of type '<class 'numpy.int64'>'\n",
              "\twith 2438 stored elements in Compressed Sparse Row format>"
            ]
          },
          "metadata": {},
          "execution_count": 21
        }
      ]
    },
    {
      "cell_type": "code",
      "source": [
        "# modeling\n",
        "nb = MultinomialNB()\n",
        "nb.fit(X_train_vec, y_train)"
      ],
      "metadata": {
        "colab": {
          "base_uri": "https://localhost:8080/"
        },
        "id": "5aSV4PvBduyS",
        "outputId": "3318976d-bde9-45ce-9c52-27993c053d96"
      },
      "execution_count": null,
      "outputs": [
        {
          "output_type": "execute_result",
          "data": {
            "text/plain": [
              "MultinomialNB()"
            ]
          },
          "metadata": {},
          "execution_count": 22
        }
      ]
    },
    {
      "cell_type": "code",
      "source": [
        "# evaluasi\n",
        "y_pred = nb.predict(X_test_vec)\n",
        "print(classification_report(y_test, y_pred))"
      ],
      "metadata": {
        "colab": {
          "base_uri": "https://localhost:8080/"
        },
        "id": "KIWSdSzmeGj2",
        "outputId": "3676e490-3a47-4ba8-8aeb-1bc52ac9de82"
      },
      "execution_count": null,
      "outputs": [
        {
          "output_type": "stream",
          "name": "stdout",
          "text": [
            "              precision    recall  f1-score   support\n",
            "\n",
            "SMS Operator       0.95      0.97      0.96        36\n",
            "SMS Penipuan       0.96      0.98      0.97        50\n",
            "   SMS biasa       0.99      0.97      0.98        86\n",
            "\n",
            "    accuracy                           0.97       172\n",
            "   macro avg       0.96      0.97      0.97       172\n",
            "weighted avg       0.97      0.97      0.97       172\n",
            "\n"
          ]
        }
      ]
    },
    {
      "cell_type": "code",
      "source": [
        "sms_baru = ['Selamat ulang tahun brok']\n",
        "sms_baru_vec = vect.transform(sms_baru)\n",
        "res = nb.predict(sms_baru_vec)\n",
        "print(res)"
      ],
      "metadata": {
        "colab": {
          "base_uri": "https://localhost:8080/"
        },
        "id": "dQRapFdOeemn",
        "outputId": "087d8e5f-4831-416e-f447-cc02ae8979fc"
      },
      "execution_count": null,
      "outputs": [
        {
          "output_type": "stream",
          "name": "stdout",
          "text": [
            "['SMS Penipuan']\n"
          ]
        }
      ]
    },
    {
      "cell_type": "markdown",
      "source": [
        "## with preprocessing (stop words)"
      ],
      "metadata": {
        "id": "d1pRDx5vhl5a"
      }
    },
    {
      "cell_type": "code",
      "source": [
        "stp = StopWordRemoverFactory().get_stop_words()"
      ],
      "metadata": {
        "id": "hRrEfaHchokD"
      },
      "execution_count": null,
      "outputs": []
    },
    {
      "cell_type": "code",
      "source": [
        "vect_stp = CountVectorizer(stop_words = stp)\n",
        "\n",
        "# train\n",
        "X_train_vec_stp = vect.fit_transform(X_train)\n",
        "X_test_vec_stp = vect.transform(X_test)"
      ],
      "metadata": {
        "id": "fWcbyh-thvxg"
      },
      "execution_count": null,
      "outputs": []
    },
    {
      "cell_type": "code",
      "source": [
        "X_train_vec_stp"
      ],
      "metadata": {
        "colab": {
          "base_uri": "https://localhost:8080/"
        },
        "id": "OeC_6HXUh9AN",
        "outputId": "3e765cfe-8910-46d0-9a63-5162f5835c07"
      },
      "execution_count": null,
      "outputs": [
        {
          "output_type": "execute_result",
          "data": {
            "text/plain": [
              "<971x4451 sparse matrix of type '<class 'numpy.int64'>'\n",
              "\twith 16237 stored elements in Compressed Sparse Row format>"
            ]
          },
          "metadata": {},
          "execution_count": 38
        }
      ]
    },
    {
      "cell_type": "code",
      "source": [
        "# modeling\n",
        "nb = MultinomialNB()\n",
        "nb.fit(X_train_vec_stp, y_train)"
      ],
      "metadata": {
        "colab": {
          "base_uri": "https://localhost:8080/"
        },
        "id": "s26P8JjriAIc",
        "outputId": "92d78818-621e-4e95-fd9d-9c9fa74160bd"
      },
      "execution_count": null,
      "outputs": [
        {
          "output_type": "execute_result",
          "data": {
            "text/plain": [
              "MultinomialNB()"
            ]
          },
          "metadata": {},
          "execution_count": 39
        }
      ]
    },
    {
      "cell_type": "code",
      "source": [
        "# evaluasi\n",
        "y_pred_stp = nb.predict(X_test_vec_stp)\n",
        "print(classification_report(y_test, y_pred_stp))"
      ],
      "metadata": {
        "colab": {
          "base_uri": "https://localhost:8080/"
        },
        "id": "wRp5C7NTiE5_",
        "outputId": "778ce1e5-2779-4df9-da98-93116d75a07d"
      },
      "execution_count": null,
      "outputs": [
        {
          "output_type": "stream",
          "name": "stdout",
          "text": [
            "              precision    recall  f1-score   support\n",
            "\n",
            "SMS Operator       0.95      0.97      0.96        36\n",
            "SMS Penipuan       0.96      0.98      0.97        50\n",
            "   SMS biasa       0.99      0.97      0.98        86\n",
            "\n",
            "    accuracy                           0.97       172\n",
            "   macro avg       0.96      0.97      0.97       172\n",
            "weighted avg       0.97      0.97      0.97       172\n",
            "\n"
          ]
        }
      ]
    },
    {
      "cell_type": "markdown",
      "source": [
        "## with preprocessing (stemming)"
      ],
      "metadata": {
        "id": "F-ANcEtWig-7"
      }
    },
    {
      "cell_type": "code",
      "source": [
        "from Sastrawi.Stemmer.StemmerFactory import StemmerFactory"
      ],
      "metadata": {
        "id": "6ZDjAX8jily8"
      },
      "execution_count": null,
      "outputs": []
    },
    {
      "cell_type": "code",
      "source": [
        "# create stemmer\n",
        "factory = StemmerFactory()\n",
        "stemmer = factory.create_stemmer()"
      ],
      "metadata": {
        "id": "qIewyytUi561"
      },
      "execution_count": null,
      "outputs": []
    },
    {
      "cell_type": "code",
      "source": [
        "# buat function stem untuk series\n",
        "def stem_sent(sent):\n",
        "  output = stemmer.stem(sent)\n",
        "  return output"
      ],
      "metadata": {
        "id": "-yofcmcCjFig"
      },
      "execution_count": null,
      "outputs": []
    },
    {
      "cell_type": "code",
      "source": [
        "# stemming process\n",
        "X_train = X_train.apply(stem_sent)\n",
        "X_test = X_test.apply(stem_sent)"
      ],
      "metadata": {
        "id": "1-Cr82Vci-j-"
      },
      "execution_count": null,
      "outputs": []
    },
    {
      "cell_type": "code",
      "source": [
        "# vektorisasi\n",
        "vect = CountVectorizer()\n",
        "\n",
        "# train\n",
        "X_train_vec = vect.fit_transform(X_train)\n",
        "X_test_vec = vect.transform(X_test)"
      ],
      "metadata": {
        "id": "2yhoFTQpjnnA"
      },
      "execution_count": null,
      "outputs": []
    },
    {
      "cell_type": "code",
      "source": [
        "# modeling\n",
        "nb = MultinomialNB()\n",
        "nb.fit(X_train_vec, y_train)"
      ],
      "metadata": {
        "colab": {
          "base_uri": "https://localhost:8080/"
        },
        "id": "GbMkFmSLj5Vd",
        "outputId": "6c2abfbe-221a-48db-f6a4-0d42452cdfc5"
      },
      "execution_count": null,
      "outputs": [
        {
          "output_type": "execute_result",
          "data": {
            "text/plain": [
              "MultinomialNB()"
            ]
          },
          "metadata": {},
          "execution_count": 48
        }
      ]
    },
    {
      "cell_type": "code",
      "source": [
        "# evaluasi\n",
        "y_pred = nb.predict(X_test_vec)\n",
        "print(classification_report(y_test, y_pred))"
      ],
      "metadata": {
        "colab": {
          "base_uri": "https://localhost:8080/"
        },
        "id": "RGP1tqkzj8f3",
        "outputId": "b094b4e4-c600-40fa-9a80-55c48c74f186"
      },
      "execution_count": null,
      "outputs": [
        {
          "output_type": "stream",
          "name": "stdout",
          "text": [
            "              precision    recall  f1-score   support\n",
            "\n",
            "SMS Operator       0.89      0.94      0.92        36\n",
            "SMS Penipuan       0.94      0.94      0.94        50\n",
            "   SMS biasa       0.99      0.97      0.98        86\n",
            "\n",
            "    accuracy                           0.95       172\n",
            "   macro avg       0.94      0.95      0.95       172\n",
            "weighted avg       0.95      0.95      0.95       172\n",
            "\n"
          ]
        }
      ]
    },
    {
      "cell_type": "code",
      "source": [
        "sms_baru = ['Selamat ulang tahun brok']\n",
        "sms_baru = [stemmer.stem(sms_baru[0])]\n",
        "sms_baru_vec = vect.transform(sms_baru)\n",
        "res = nb.predict(sms_baru_vec)\n",
        "print(res)"
      ],
      "metadata": {
        "colab": {
          "base_uri": "https://localhost:8080/"
        },
        "id": "21qbMpJpkE6M",
        "outputId": "00cf51b0-5029-4710-af10-54c239b34084"
      },
      "execution_count": null,
      "outputs": [
        {
          "output_type": "stream",
          "name": "stdout",
          "text": [
            "['SMS Penipuan']\n"
          ]
        }
      ]
    },
    {
      "cell_type": "markdown",
      "source": [
        "# Model Deep Learning & Embedding"
      ],
      "metadata": {
        "id": "ICceDQfFDlGr"
      }
    },
    {
      "cell_type": "code",
      "source": [
        "import pandas as pd\n",
        "from sklearn.model_selection import train_test_split"
      ],
      "metadata": {
        "id": "J4ikfLb1DoP0"
      },
      "execution_count": null,
      "outputs": []
    },
    {
      "cell_type": "code",
      "source": [
        "df = pd.read_csv('https://raw.githubusercontent.com/afifai/hacktiv8-trial-class-spamdetector/main/data/dataset_sms_spam%20_v1.csv')\n",
        "df.head()"
      ],
      "metadata": {
        "colab": {
          "base_uri": "https://localhost:8080/",
          "height": 206
        },
        "id": "suk57hy1D-NZ",
        "outputId": "2111461b-cf7b-4e32-ecc2-6a8fbfc830ab"
      },
      "execution_count": null,
      "outputs": [
        {
          "output_type": "execute_result",
          "data": {
            "text/plain": [
              "                                                Teks  label\n",
              "0  [PROMO] Beli paket Flash mulai 1GB di MY TELKO...      2\n",
              "1  2.5 GB/30 hari hanya Rp 35 Ribu Spesial buat A...      2\n",
              "2  2016-07-08 11:47:11.Plg Yth, sisa kuota Flash ...      2\n",
              "3  2016-08-07 11:29:47.Plg Yth, sisa kuota Flash ...      2\n",
              "4  4.5GB/30 hari hanya Rp 55 Ribu Spesial buat an...      2"
            ],
            "text/html": [
              "\n",
              "  <div id=\"df-05a1929f-f03b-48bd-b506-509a172b941b\">\n",
              "    <div class=\"colab-df-container\">\n",
              "      <div>\n",
              "<style scoped>\n",
              "    .dataframe tbody tr th:only-of-type {\n",
              "        vertical-align: middle;\n",
              "    }\n",
              "\n",
              "    .dataframe tbody tr th {\n",
              "        vertical-align: top;\n",
              "    }\n",
              "\n",
              "    .dataframe thead th {\n",
              "        text-align: right;\n",
              "    }\n",
              "</style>\n",
              "<table border=\"1\" class=\"dataframe\">\n",
              "  <thead>\n",
              "    <tr style=\"text-align: right;\">\n",
              "      <th></th>\n",
              "      <th>Teks</th>\n",
              "      <th>label</th>\n",
              "    </tr>\n",
              "  </thead>\n",
              "  <tbody>\n",
              "    <tr>\n",
              "      <th>0</th>\n",
              "      <td>[PROMO] Beli paket Flash mulai 1GB di MY TELKO...</td>\n",
              "      <td>2</td>\n",
              "    </tr>\n",
              "    <tr>\n",
              "      <th>1</th>\n",
              "      <td>2.5 GB/30 hari hanya Rp 35 Ribu Spesial buat A...</td>\n",
              "      <td>2</td>\n",
              "    </tr>\n",
              "    <tr>\n",
              "      <th>2</th>\n",
              "      <td>2016-07-08 11:47:11.Plg Yth, sisa kuota Flash ...</td>\n",
              "      <td>2</td>\n",
              "    </tr>\n",
              "    <tr>\n",
              "      <th>3</th>\n",
              "      <td>2016-08-07 11:29:47.Plg Yth, sisa kuota Flash ...</td>\n",
              "      <td>2</td>\n",
              "    </tr>\n",
              "    <tr>\n",
              "      <th>4</th>\n",
              "      <td>4.5GB/30 hari hanya Rp 55 Ribu Spesial buat an...</td>\n",
              "      <td>2</td>\n",
              "    </tr>\n",
              "  </tbody>\n",
              "</table>\n",
              "</div>\n",
              "      <button class=\"colab-df-convert\" onclick=\"convertToInteractive('df-05a1929f-f03b-48bd-b506-509a172b941b')\"\n",
              "              title=\"Convert this dataframe to an interactive table.\"\n",
              "              style=\"display:none;\">\n",
              "        \n",
              "  <svg xmlns=\"http://www.w3.org/2000/svg\" height=\"24px\"viewBox=\"0 0 24 24\"\n",
              "       width=\"24px\">\n",
              "    <path d=\"M0 0h24v24H0V0z\" fill=\"none\"/>\n",
              "    <path d=\"M18.56 5.44l.94 2.06.94-2.06 2.06-.94-2.06-.94-.94-2.06-.94 2.06-2.06.94zm-11 1L8.5 8.5l.94-2.06 2.06-.94-2.06-.94L8.5 2.5l-.94 2.06-2.06.94zm10 10l.94 2.06.94-2.06 2.06-.94-2.06-.94-.94-2.06-.94 2.06-2.06.94z\"/><path d=\"M17.41 7.96l-1.37-1.37c-.4-.4-.92-.59-1.43-.59-.52 0-1.04.2-1.43.59L10.3 9.45l-7.72 7.72c-.78.78-.78 2.05 0 2.83L4 21.41c.39.39.9.59 1.41.59.51 0 1.02-.2 1.41-.59l7.78-7.78 2.81-2.81c.8-.78.8-2.07 0-2.86zM5.41 20L4 18.59l7.72-7.72 1.47 1.35L5.41 20z\"/>\n",
              "  </svg>\n",
              "      </button>\n",
              "      \n",
              "  <style>\n",
              "    .colab-df-container {\n",
              "      display:flex;\n",
              "      flex-wrap:wrap;\n",
              "      gap: 12px;\n",
              "    }\n",
              "\n",
              "    .colab-df-convert {\n",
              "      background-color: #E8F0FE;\n",
              "      border: none;\n",
              "      border-radius: 50%;\n",
              "      cursor: pointer;\n",
              "      display: none;\n",
              "      fill: #1967D2;\n",
              "      height: 32px;\n",
              "      padding: 0 0 0 0;\n",
              "      width: 32px;\n",
              "    }\n",
              "\n",
              "    .colab-df-convert:hover {\n",
              "      background-color: #E2EBFA;\n",
              "      box-shadow: 0px 1px 2px rgba(60, 64, 67, 0.3), 0px 1px 3px 1px rgba(60, 64, 67, 0.15);\n",
              "      fill: #174EA6;\n",
              "    }\n",
              "\n",
              "    [theme=dark] .colab-df-convert {\n",
              "      background-color: #3B4455;\n",
              "      fill: #D2E3FC;\n",
              "    }\n",
              "\n",
              "    [theme=dark] .colab-df-convert:hover {\n",
              "      background-color: #434B5C;\n",
              "      box-shadow: 0px 1px 3px 1px rgba(0, 0, 0, 0.15);\n",
              "      filter: drop-shadow(0px 1px 2px rgba(0, 0, 0, 0.3));\n",
              "      fill: #FFFFFF;\n",
              "    }\n",
              "  </style>\n",
              "\n",
              "      <script>\n",
              "        const buttonEl =\n",
              "          document.querySelector('#df-05a1929f-f03b-48bd-b506-509a172b941b button.colab-df-convert');\n",
              "        buttonEl.style.display =\n",
              "          google.colab.kernel.accessAllowed ? 'block' : 'none';\n",
              "\n",
              "        async function convertToInteractive(key) {\n",
              "          const element = document.querySelector('#df-05a1929f-f03b-48bd-b506-509a172b941b');\n",
              "          const dataTable =\n",
              "            await google.colab.kernel.invokeFunction('convertToInteractive',\n",
              "                                                     [key], {});\n",
              "          if (!dataTable) return;\n",
              "\n",
              "          const docLinkHtml = 'Like what you see? Visit the ' +\n",
              "            '<a target=\"_blank\" href=https://colab.research.google.com/notebooks/data_table.ipynb>data table notebook</a>'\n",
              "            + ' to learn more about interactive tables.';\n",
              "          element.innerHTML = '';\n",
              "          dataTable['output_type'] = 'display_data';\n",
              "          await google.colab.output.renderOutput(dataTable, element);\n",
              "          const docLink = document.createElement('div');\n",
              "          docLink.innerHTML = docLinkHtml;\n",
              "          element.appendChild(docLink);\n",
              "        }\n",
              "      </script>\n",
              "    </div>\n",
              "  </div>\n",
              "  "
            ]
          },
          "metadata": {},
          "execution_count": 2
        }
      ]
    },
    {
      "cell_type": "code",
      "source": [
        "train_df, test_df = train_test_split(df, test_size=0.15, random_state=420, stratify=df.label)"
      ],
      "metadata": {
        "id": "5Jq4QwgHEDUN"
      },
      "execution_count": null,
      "outputs": []
    },
    {
      "cell_type": "code",
      "source": [
        "train_df, val_df = train_test_split(train_df, test_size=0.1, random_state=69, stratify=train_df.label)"
      ],
      "metadata": {
        "id": "f2-WZNELERno"
      },
      "execution_count": null,
      "outputs": []
    },
    {
      "cell_type": "code",
      "source": [
        "print(train_df.shape)\n",
        "print(val_df.shape)\n",
        "print(test_df.shape)"
      ],
      "metadata": {
        "colab": {
          "base_uri": "https://localhost:8080/"
        },
        "id": "4SVfQ3BrEgAh",
        "outputId": "9f5dccc5-8835-440c-e3b2-c0c1ff991c04"
      },
      "execution_count": null,
      "outputs": [
        {
          "output_type": "stream",
          "name": "stdout",
          "text": [
            "(873, 2)\n",
            "(98, 2)\n",
            "(172, 2)\n"
          ]
        }
      ]
    },
    {
      "cell_type": "code",
      "source": [
        "import random\n",
        "random_index = random.randint(0, len(train_df) - 5)\n",
        "\n",
        "for row in train_df[['Teks', 'label']][random_index:random_index+5].itertuples():\n",
        "  _, teks, target = row\n",
        "  if target == 0:\n",
        "    print(f'label : {target} (SMS biasa)')\n",
        "  elif target == 1:\n",
        "      print(f'label : {target} (SMS penipuan)')\n",
        "  elif target == 2:\n",
        "      print(f'label : {target} (SMS promo)')\n",
        "  print(f'teks : {teks} \\n')\n",
        "  print('--\\n')"
      ],
      "metadata": {
        "colab": {
          "base_uri": "https://localhost:8080/"
        },
        "id": "aAIU6BfcEmki",
        "outputId": "ffc68201-401a-42ae-d512-a62e0f7d9c00"
      },
      "execution_count": null,
      "outputs": [
        {
          "output_type": "stream",
          "name": "stdout",
          "text": [
            "label : 0 (SMS biasa)\n",
            "teks : Iya ih maksimalkan waktu sebulan ini wkwkwk pdhl aku aja yg mo pindah :( \n",
            "\n",
            "--\n",
            "\n",
            "label : 2 (SMS promo)\n",
            "teks : Migrasikan kartu Anda ke kartuHalo (NOMOR TETAP SAMA). DAPATKAN Paket Spesial 4GB Hanya 25rb/bulan. kunjungi GraPARI & tunjukan SMS ini.(Promo Terbatas).SKB \n",
            "\n",
            "--\n",
            "\n",
            "label : 2 (SMS promo)\n",
            "teks : Kapan lg beli paket Flash mulai 1,3GB di MyTelkomsel dpt Extra PULSA Rp 50rb? Utk pembelian pertama sjk 25Aug - 25Sept. Cek detail paket di tsel.me/mytsel1 \n",
            "\n",
            "--\n",
            "\n",
            "label : 0 (SMS biasa)\n",
            "teks : Gaaais penamaannya kyk nama1 nih biar rapih \n",
            "\n",
            "--\n",
            "\n",
            "label : 2 (SMS promo)\n",
            "teks : Dapatkan Disc 20% di McDonalds khusus utk pembayaran dgn TCASH TAP!Dptkan stiker TCASH TAP di graPARI terdekat. Info tsel.me/tappromo \n",
            "\n",
            "--\n",
            "\n"
          ]
        }
      ]
    },
    {
      "cell_type": "code",
      "source": [
        "# siapkan label\n",
        "from tensorflow.keras.utils import to_categorical\n",
        "X_train, y_train = train_df.Teks, train_df.label\n",
        "X_val, y_val = val_df.Teks, val_df.label\n",
        "X_test, y_test = test_df.Teks, test_df.label\n",
        "\n",
        "y_train_ohe = to_categorical(y_train)\n",
        "y_val_ohe = to_categorical(y_val)\n",
        "y_test_ohe = to_categorical(y_test)"
      ],
      "metadata": {
        "id": "oHZ6xHKLE5xB"
      },
      "execution_count": null,
      "outputs": []
    },
    {
      "cell_type": "code",
      "source": [
        "# tokeniasi\n",
        "import tensorflow as tf\n",
        "from tensorflow.keras.layers import TextVectorization"
      ],
      "metadata": {
        "id": "1FAccCo0H-Be"
      },
      "execution_count": null,
      "outputs": []
    },
    {
      "cell_type": "code",
      "source": [
        "round(sum([len(i.split()) for i in X_train])/len(X_train))"
      ],
      "metadata": {
        "colab": {
          "base_uri": "https://localhost:8080/"
        },
        "id": "-PZ-HYduJfTb",
        "outputId": "be814ade-41e6-4863-ea31-6b43ba8c7081"
      },
      "execution_count": null,
      "outputs": [
        {
          "output_type": "execute_result",
          "data": {
            "text/plain": [
              "16"
            ]
          },
          "metadata": {},
          "execution_count": 17
        }
      ]
    },
    {
      "cell_type": "code",
      "source": [
        "# setup vect\n",
        "max_vocab_length = 3500\n",
        "max_length = 16\n",
        "\n",
        "text_vectorization = TextVectorization(max_tokens = max_vocab_length,\n",
        "                                       standardize = 'lower_and_strip_punctuation',\n",
        "                                       split = 'whitespace',\n",
        "                                       ngrams = None,\n",
        "                                       output_mode = 'int',\n",
        "                                       output_sequence_length = max_length,\n",
        "                                       input_shape=(1,)   # pake ini jika ingin pake sequential API\n",
        "                                       )"
      ],
      "metadata": {
        "id": "ZVAx4zwCJZ3-"
      },
      "execution_count": null,
      "outputs": []
    },
    {
      "cell_type": "code",
      "source": [
        "text_vectorization.adapt(X_train)   # equivalent to .fit"
      ],
      "metadata": {
        "id": "8DDMq_AbK70s"
      },
      "execution_count": null,
      "outputs": []
    },
    {
      "cell_type": "code",
      "source": [
        "# sms baru\n",
        "sample_sms = 'Selamat kamu udah tidak muda lagi'\n",
        "text_vectorization([sample_sms])"
      ],
      "metadata": {
        "colab": {
          "base_uri": "https://localhost:8080/"
        },
        "id": "MxflOl6MLHsh",
        "outputId": "9128504a-e7f6-4cee-ed4a-190e1d57f34a"
      },
      "execution_count": null,
      "outputs": [
        {
          "output_type": "execute_result",
          "data": {
            "text/plain": [
              "<tf.Tensor: shape=(1, 16), dtype=int64, numpy=\n",
              "array([[ 32,  53,  81, 138, 624,  98,   0,   0,   0,   0,   0,   0,   0,\n",
              "          0,   0,   0]])>"
            ]
          },
          "metadata": {},
          "execution_count": 20
        }
      ]
    },
    {
      "cell_type": "code",
      "source": [
        "text_vectorization.get_vocabulary()[:5]"
      ],
      "metadata": {
        "colab": {
          "base_uri": "https://localhost:8080/"
        },
        "id": "zLOQSR--LRbO",
        "outputId": "b730d781-a4b1-4016-c901-2d7304f9d1de"
      },
      "execution_count": null,
      "outputs": [
        {
          "output_type": "execute_result",
          "data": {
            "text/plain": [
              "['', '[UNK]', 'di', 'anda', 'ke']"
            ]
          },
          "metadata": {},
          "execution_count": 21
        }
      ]
    },
    {
      "cell_type": "code",
      "source": [
        "text_vectorization.get_vocabulary()[32]"
      ],
      "metadata": {
        "colab": {
          "base_uri": "https://localhost:8080/",
          "height": 35
        },
        "id": "jqluseYZLcGz",
        "outputId": "87687408-502a-4a1c-ac23-dadb499d826b"
      },
      "execution_count": null,
      "outputs": [
        {
          "output_type": "execute_result",
          "data": {
            "text/plain": [
              "'selamat'"
            ],
            "application/vnd.google.colaboratory.intrinsic+json": {
              "type": "string"
            }
          },
          "metadata": {},
          "execution_count": 22
        }
      ]
    },
    {
      "cell_type": "code",
      "source": [
        "# embedding layer\n",
        "from tensorflow.keras.layers import Embedding\n",
        "\n",
        "embedding = Embedding(input_dim = max_vocab_length,\n",
        "                      output_dim = 128,    # berbanding lurus dengan jumlah vektor yang dipake(?)\n",
        "                      embeddings_initializer = 'uniform',\n",
        "                      input_length = max_length,\n",
        "                      )"
      ],
      "metadata": {
        "id": "et9cZcR_LnjG"
      },
      "execution_count": null,
      "outputs": []
    },
    {
      "cell_type": "code",
      "source": [
        "sample_sms = 'Selamat kamu udah tidak muda lagi'\n",
        "emb_res = embedding(text_vectorization([sample_sms]))\n",
        "emb_res.shape"
      ],
      "metadata": {
        "colab": {
          "base_uri": "https://localhost:8080/"
        },
        "id": "yc7DZAH9NarO",
        "outputId": "eddadbe7-d257-4617-fe4f-0cb1aa6f37c5"
      },
      "execution_count": null,
      "outputs": [
        {
          "output_type": "execute_result",
          "data": {
            "text/plain": [
              "TensorShape([1, 16, 128])"
            ]
          },
          "metadata": {},
          "execution_count": 25
        }
      ]
    },
    {
      "cell_type": "markdown",
      "source": [
        "Pemodelan"
      ],
      "metadata": {
        "id": "S5TkWZ-QRHUL"
      }
    },
    {
      "cell_type": "code",
      "source": [
        "# fully connected layer\n",
        "from tensorflow.keras.layers import Dense, GlobalAveragePooling1D, Input\n",
        "from tensorflow.keras.models import Model, Sequential\n",
        "\n",
        "# model = Sequential()\n",
        "# model.add(TextVectorization)\n",
        "# model.add(embedding)\n",
        "# model.add(GlobalAveragePooling1D())\n",
        "# model.add(Dense(32, activation='relu'))\n",
        "# model.add(Dense(3, activation='softmax'))\n",
        "\n",
        "inputs = Input(shape=(1,), dtype='string')\n",
        "x = text_vectorization(inputs)\n",
        "x = embedding(x)\n",
        "x = GlobalAveragePooling1D()(x)\n",
        "x = Dense(32, activation='relu')(x)\n",
        "out = Dense(3, activation='softmax')(x)\n",
        "\n",
        "model = Model(inputs=inputs, outputs=out) \n",
        "\n",
        "\n",
        "model.compile(loss='categorical_crossentropy',\n",
        "              optimizer = 'adam',\n",
        "              metrics = ['accuracy'])\n"
      ],
      "metadata": {
        "id": "JzTMbzemN-gQ"
      },
      "execution_count": null,
      "outputs": []
    },
    {
      "cell_type": "code",
      "source": [
        "model_1_hist = model.fit(X_train, y_train_ohe, epochs=50, validation_data=(X_val, y_val_ohe))"
      ],
      "metadata": {
        "colab": {
          "base_uri": "https://localhost:8080/"
        },
        "id": "ocqK2LSsTb4I",
        "outputId": "3b2697c7-e743-4ea3-a54e-f991b07b2c32"
      },
      "execution_count": null,
      "outputs": [
        {
          "output_type": "stream",
          "name": "stdout",
          "text": [
            "Epoch 1/50\n",
            "28/28 [==============================] - 3s 12ms/step - loss: 1.0515 - accuracy: 0.6541 - val_loss: 0.9759 - val_accuracy: 0.6837\n",
            "Epoch 2/50\n",
            "28/28 [==============================] - 0s 5ms/step - loss: 0.8420 - accuracy: 0.8190 - val_loss: 0.7112 - val_accuracy: 0.7551\n",
            "Epoch 3/50\n",
            "28/28 [==============================] - 0s 5ms/step - loss: 0.5237 - accuracy: 0.8900 - val_loss: 0.4820 - val_accuracy: 0.8163\n",
            "Epoch 4/50\n",
            "28/28 [==============================] - 0s 5ms/step - loss: 0.2908 - accuracy: 0.9485 - val_loss: 0.3867 - val_accuracy: 0.8367\n",
            "Epoch 5/50\n",
            "28/28 [==============================] - 0s 5ms/step - loss: 0.1559 - accuracy: 0.9782 - val_loss: 0.3600 - val_accuracy: 0.8571\n",
            "Epoch 6/50\n",
            "28/28 [==============================] - 0s 5ms/step - loss: 0.0839 - accuracy: 0.9874 - val_loss: 0.3249 - val_accuracy: 0.8673\n",
            "Epoch 7/50\n",
            "28/28 [==============================] - 0s 5ms/step - loss: 0.0497 - accuracy: 0.9931 - val_loss: 0.3365 - val_accuracy: 0.8776\n",
            "Epoch 8/50\n",
            "28/28 [==============================] - 0s 5ms/step - loss: 0.0309 - accuracy: 0.9977 - val_loss: 0.3365 - val_accuracy: 0.8776\n",
            "Epoch 9/50\n",
            "28/28 [==============================] - 0s 5ms/step - loss: 0.0214 - accuracy: 0.9977 - val_loss: 0.3344 - val_accuracy: 0.8878\n",
            "Epoch 10/50\n",
            "28/28 [==============================] - 0s 5ms/step - loss: 0.0150 - accuracy: 0.9989 - val_loss: 0.3504 - val_accuracy: 0.8776\n",
            "Epoch 11/50\n",
            "28/28 [==============================] - 0s 5ms/step - loss: 0.0114 - accuracy: 0.9989 - val_loss: 0.3418 - val_accuracy: 0.8878\n",
            "Epoch 12/50\n",
            "28/28 [==============================] - 0s 4ms/step - loss: 0.0089 - accuracy: 1.0000 - val_loss: 0.3443 - val_accuracy: 0.8878\n",
            "Epoch 13/50\n",
            "28/28 [==============================] - 0s 5ms/step - loss: 0.0071 - accuracy: 1.0000 - val_loss: 0.3548 - val_accuracy: 0.8776\n",
            "Epoch 14/50\n",
            "28/28 [==============================] - 0s 4ms/step - loss: 0.0058 - accuracy: 1.0000 - val_loss: 0.3589 - val_accuracy: 0.8980\n",
            "Epoch 15/50\n",
            "28/28 [==============================] - 0s 5ms/step - loss: 0.0048 - accuracy: 1.0000 - val_loss: 0.3549 - val_accuracy: 0.8980\n",
            "Epoch 16/50\n",
            "28/28 [==============================] - 0s 5ms/step - loss: 0.0040 - accuracy: 1.0000 - val_loss: 0.3608 - val_accuracy: 0.8980\n",
            "Epoch 17/50\n",
            "28/28 [==============================] - 0s 4ms/step - loss: 0.0035 - accuracy: 1.0000 - val_loss: 0.3690 - val_accuracy: 0.8878\n",
            "Epoch 18/50\n",
            "28/28 [==============================] - 0s 4ms/step - loss: 0.0030 - accuracy: 1.0000 - val_loss: 0.3674 - val_accuracy: 0.8980\n",
            "Epoch 19/50\n",
            "28/28 [==============================] - 0s 5ms/step - loss: 0.0026 - accuracy: 1.0000 - val_loss: 0.3794 - val_accuracy: 0.8878\n",
            "Epoch 20/50\n",
            "28/28 [==============================] - 0s 5ms/step - loss: 0.0023 - accuracy: 1.0000 - val_loss: 0.3770 - val_accuracy: 0.8878\n",
            "Epoch 21/50\n",
            "28/28 [==============================] - 0s 5ms/step - loss: 0.0020 - accuracy: 1.0000 - val_loss: 0.3780 - val_accuracy: 0.8878\n",
            "Epoch 22/50\n",
            "28/28 [==============================] - 0s 5ms/step - loss: 0.0018 - accuracy: 1.0000 - val_loss: 0.3758 - val_accuracy: 0.8878\n",
            "Epoch 23/50\n",
            "28/28 [==============================] - 0s 5ms/step - loss: 0.0016 - accuracy: 1.0000 - val_loss: 0.3804 - val_accuracy: 0.8878\n",
            "Epoch 24/50\n",
            "28/28 [==============================] - 0s 5ms/step - loss: 0.0015 - accuracy: 1.0000 - val_loss: 0.3816 - val_accuracy: 0.8878\n",
            "Epoch 25/50\n",
            "28/28 [==============================] - 0s 5ms/step - loss: 0.0013 - accuracy: 1.0000 - val_loss: 0.3840 - val_accuracy: 0.8878\n",
            "Epoch 26/50\n",
            "28/28 [==============================] - 0s 5ms/step - loss: 0.0012 - accuracy: 1.0000 - val_loss: 0.3866 - val_accuracy: 0.8878\n",
            "Epoch 27/50\n",
            "28/28 [==============================] - 0s 5ms/step - loss: 0.0011 - accuracy: 1.0000 - val_loss: 0.3900 - val_accuracy: 0.8878\n",
            "Epoch 28/50\n",
            "28/28 [==============================] - 0s 5ms/step - loss: 0.0010 - accuracy: 1.0000 - val_loss: 0.3914 - val_accuracy: 0.8878\n",
            "Epoch 29/50\n",
            "28/28 [==============================] - 0s 5ms/step - loss: 9.5724e-04 - accuracy: 1.0000 - val_loss: 0.3932 - val_accuracy: 0.8878\n",
            "Epoch 30/50\n",
            "28/28 [==============================] - 0s 5ms/step - loss: 8.8523e-04 - accuracy: 1.0000 - val_loss: 0.3945 - val_accuracy: 0.8878\n",
            "Epoch 31/50\n",
            "28/28 [==============================] - 0s 5ms/step - loss: 8.2427e-04 - accuracy: 1.0000 - val_loss: 0.3979 - val_accuracy: 0.8878\n",
            "Epoch 32/50\n",
            "28/28 [==============================] - 0s 5ms/step - loss: 7.6679e-04 - accuracy: 1.0000 - val_loss: 0.4003 - val_accuracy: 0.8878\n",
            "Epoch 33/50\n",
            "28/28 [==============================] - 0s 5ms/step - loss: 7.1340e-04 - accuracy: 1.0000 - val_loss: 0.4010 - val_accuracy: 0.8878\n",
            "Epoch 34/50\n",
            "28/28 [==============================] - 0s 5ms/step - loss: 6.6616e-04 - accuracy: 1.0000 - val_loss: 0.4024 - val_accuracy: 0.8878\n",
            "Epoch 35/50\n",
            "28/28 [==============================] - 0s 5ms/step - loss: 6.2246e-04 - accuracy: 1.0000 - val_loss: 0.4054 - val_accuracy: 0.8878\n",
            "Epoch 36/50\n",
            "28/28 [==============================] - 0s 5ms/step - loss: 5.8624e-04 - accuracy: 1.0000 - val_loss: 0.4074 - val_accuracy: 0.8878\n",
            "Epoch 37/50\n",
            "28/28 [==============================] - 0s 5ms/step - loss: 5.5123e-04 - accuracy: 1.0000 - val_loss: 0.4081 - val_accuracy: 0.8878\n",
            "Epoch 38/50\n",
            "28/28 [==============================] - 0s 5ms/step - loss: 5.1979e-04 - accuracy: 1.0000 - val_loss: 0.4115 - val_accuracy: 0.8878\n",
            "Epoch 39/50\n",
            "28/28 [==============================] - 0s 4ms/step - loss: 4.8878e-04 - accuracy: 1.0000 - val_loss: 0.4127 - val_accuracy: 0.8878\n",
            "Epoch 40/50\n",
            "28/28 [==============================] - 0s 5ms/step - loss: 4.6174e-04 - accuracy: 1.0000 - val_loss: 0.4141 - val_accuracy: 0.8878\n",
            "Epoch 41/50\n",
            "28/28 [==============================] - 0s 5ms/step - loss: 4.3651e-04 - accuracy: 1.0000 - val_loss: 0.4150 - val_accuracy: 0.8878\n",
            "Epoch 42/50\n",
            "28/28 [==============================] - 0s 5ms/step - loss: 4.1324e-04 - accuracy: 1.0000 - val_loss: 0.4154 - val_accuracy: 0.8878\n",
            "Epoch 43/50\n",
            "28/28 [==============================] - 0s 5ms/step - loss: 3.9228e-04 - accuracy: 1.0000 - val_loss: 0.4176 - val_accuracy: 0.8878\n",
            "Epoch 44/50\n",
            "28/28 [==============================] - 0s 5ms/step - loss: 3.7304e-04 - accuracy: 1.0000 - val_loss: 0.4210 - val_accuracy: 0.8878\n",
            "Epoch 45/50\n",
            "28/28 [==============================] - 0s 5ms/step - loss: 3.5342e-04 - accuracy: 1.0000 - val_loss: 0.4215 - val_accuracy: 0.8878\n",
            "Epoch 46/50\n",
            "28/28 [==============================] - 0s 5ms/step - loss: 3.3647e-04 - accuracy: 1.0000 - val_loss: 0.4231 - val_accuracy: 0.8878\n",
            "Epoch 47/50\n",
            "28/28 [==============================] - 0s 4ms/step - loss: 3.2156e-04 - accuracy: 1.0000 - val_loss: 0.4248 - val_accuracy: 0.8878\n",
            "Epoch 48/50\n",
            "28/28 [==============================] - 0s 5ms/step - loss: 3.0530e-04 - accuracy: 1.0000 - val_loss: 0.4243 - val_accuracy: 0.8878\n",
            "Epoch 49/50\n",
            "28/28 [==============================] - 0s 5ms/step - loss: 2.9114e-04 - accuracy: 1.0000 - val_loss: 0.4308 - val_accuracy: 0.8878\n",
            "Epoch 50/50\n",
            "28/28 [==============================] - 0s 5ms/step - loss: 2.7740e-04 - accuracy: 1.0000 - val_loss: 0.4312 - val_accuracy: 0.8878\n"
          ]
        }
      ]
    },
    {
      "cell_type": "code",
      "source": [
        "metrics = pd.DataFrame(model_1_hist.history)\n",
        "metrics[['loss', 'val_loss']].plot();"
      ],
      "metadata": {
        "colab": {
          "base_uri": "https://localhost:8080/",
          "height": 265
        },
        "id": "tn9FS-v_WfI3",
        "outputId": "94527e78-ee93-41d0-a5f2-37ace3f00fd6"
      },
      "execution_count": null,
      "outputs": [
        {
          "output_type": "display_data",
          "data": {
            "text/plain": [
              "<Figure size 432x288 with 1 Axes>"
            ],
            "image/png": "[encoded data removed]"
          },
          "metadata": {
            "needs_background": "light"
          }
        }
      ]
    },
    {
      "cell_type": "code",
      "source": [
        "from sklearn.metrics import classification_report\n",
        "\n",
        "y_pred = model.predict(X_val)\n",
        "y_pred = y_pred.argmax(axis=1)\n",
        "print(classification_report(y_val, y_pred))"
      ],
      "metadata": {
        "colab": {
          "base_uri": "https://localhost:8080/"
        },
        "id": "CvGH_DnZXCy6",
        "outputId": "38791378-34ce-4343-cb51-ba667f652698"
      },
      "execution_count": null,
      "outputs": [
        {
          "output_type": "stream",
          "name": "stdout",
          "text": [
            "              precision    recall  f1-score   support\n",
            "\n",
            "           0       1.00      0.86      0.92        49\n",
            "           1       0.76      0.90      0.83        29\n",
            "           2       0.86      0.95      0.90        20\n",
            "\n",
            "    accuracy                           0.89        98\n",
            "   macro avg       0.88      0.90      0.88        98\n",
            "weighted avg       0.90      0.89      0.89        98\n",
            "\n"
          ]
        }
      ]
    },
    {
      "cell_type": "code",
      "source": [
        "sms_baru = [\n",
        "            'hai bro gimana kabar',\n",
        "            'dapatkan kuota 1 GB hanya 1 juta rupiah',\n",
        "            'pesugihan tidak halal, lipatgandakan dosa anda'\n",
        "]\n",
        "\n",
        "hasil = model.predict(sms_baru)\n",
        "hasil.argmax(axis=1)"
      ],
      "metadata": {
        "colab": {
          "base_uri": "https://localhost:8080/"
        },
        "id": "HD1139WNX8Ed",
        "outputId": "13919d4c-68e6-4097-ceca-147f97f35426"
      },
      "execution_count": null,
      "outputs": [
        {
          "output_type": "execute_result",
          "data": {
            "text/plain": [
              "array([0, 2, 0])"
            ]
          },
          "metadata": {},
          "execution_count": 36
        }
      ]
    },
    {
      "cell_type": "code",
      "source": [
        "# model LSTM\n",
        "from tensorflow.keras.layers import LSTM, Dropout\n",
        "\n",
        "model = Sequential()\n",
        "model.add(text_vectorization)\n",
        "model.add(embedding)\n",
        "model.add(Dropout(0.4))\n",
        "model.add(LSTM(4))\n",
        "model.add(Dropout(0.3))\n",
        "model.add(Dense(16, activation='relu'))\n",
        "model.add(Dense(3, activation='softmax'))\n",
        " \n",
        "\n",
        "model.compile(loss='categorical_crossentropy',\n",
        "              optimizer = 'adam',\n",
        "              metrics = ['accuracy'])"
      ],
      "metadata": {
        "id": "9BFJNsX-YXfo"
      },
      "execution_count": null,
      "outputs": []
    },
    {
      "cell_type": "code",
      "source": [
        "model_2_hist = model.fit(X_train, y_train_ohe, epochs=50, validation_data=(X_val, y_val_ohe))"
      ],
      "metadata": {
        "colab": {
          "base_uri": "https://localhost:8080/"
        },
        "id": "ALflYp6MY_ev",
        "outputId": "d2beba3a-32b2-4b31-884c-ae9c8a5f2582"
      },
      "execution_count": null,
      "outputs": [
        {
          "output_type": "stream",
          "name": "stdout",
          "text": [
            "Epoch 1/50\n",
            "28/28 [==============================] - 3s 26ms/step - loss: 1.0022 - accuracy: 0.5487 - val_loss: 0.9056 - val_accuracy: 0.6327\n",
            "Epoch 2/50\n",
            "28/28 [==============================] - 0s 7ms/step - loss: 0.7855 - accuracy: 0.7045 - val_loss: 0.7151 - val_accuracy: 0.7449\n",
            "Epoch 3/50\n",
            "28/28 [==============================] - 0s 7ms/step - loss: 0.5753 - accuracy: 0.7881 - val_loss: 0.6171 - val_accuracy: 0.7347\n",
            "Epoch 4/50\n",
            "28/28 [==============================] - 0s 7ms/step - loss: 0.4326 - accuracy: 0.8477 - val_loss: 0.5747 - val_accuracy: 0.7245\n",
            "Epoch 5/50\n",
            "28/28 [==============================] - 0s 7ms/step - loss: 0.3251 - accuracy: 0.9118 - val_loss: 0.4091 - val_accuracy: 0.8367\n",
            "Epoch 6/50\n",
            "28/28 [==============================] - 0s 7ms/step - loss: 0.2618 - accuracy: 0.9278 - val_loss: 0.4467 - val_accuracy: 0.8367\n",
            "Epoch 7/50\n",
            "28/28 [==============================] - 0s 7ms/step - loss: 0.2166 - accuracy: 0.9324 - val_loss: 0.4539 - val_accuracy: 0.8469\n",
            "Epoch 8/50\n",
            "28/28 [==============================] - 0s 7ms/step - loss: 0.1915 - accuracy: 0.9290 - val_loss: 0.4785 - val_accuracy: 0.8673\n",
            "Epoch 9/50\n",
            "28/28 [==============================] - 0s 7ms/step - loss: 0.1679 - accuracy: 0.9393 - val_loss: 0.4516 - val_accuracy: 0.8776\n",
            "Epoch 10/50\n",
            "28/28 [==============================] - 0s 7ms/step - loss: 0.1508 - accuracy: 0.9622 - val_loss: 0.2648 - val_accuracy: 0.9184\n",
            "Epoch 11/50\n",
            "28/28 [==============================] - 0s 7ms/step - loss: 0.1105 - accuracy: 0.9702 - val_loss: 0.3962 - val_accuracy: 0.8878\n",
            "Epoch 12/50\n",
            "28/28 [==============================] - 0s 7ms/step - loss: 0.1030 - accuracy: 0.9748 - val_loss: 0.3679 - val_accuracy: 0.8980\n",
            "Epoch 13/50\n",
            "28/28 [==============================] - 0s 7ms/step - loss: 0.1029 - accuracy: 0.9805 - val_loss: 0.3953 - val_accuracy: 0.9082\n",
            "Epoch 14/50\n",
            "28/28 [==============================] - 0s 7ms/step - loss: 0.0836 - accuracy: 0.9771 - val_loss: 0.3903 - val_accuracy: 0.8980\n",
            "Epoch 15/50\n",
            "28/28 [==============================] - 0s 7ms/step - loss: 0.0902 - accuracy: 0.9771 - val_loss: 0.3569 - val_accuracy: 0.9082\n",
            "Epoch 16/50\n",
            "28/28 [==============================] - 0s 7ms/step - loss: 0.0789 - accuracy: 0.9805 - val_loss: 0.3944 - val_accuracy: 0.8980\n",
            "Epoch 17/50\n",
            "28/28 [==============================] - 0s 7ms/step - loss: 0.0745 - accuracy: 0.9771 - val_loss: 0.3690 - val_accuracy: 0.9082\n",
            "Epoch 18/50\n",
            "28/28 [==============================] - 0s 7ms/step - loss: 0.0719 - accuracy: 0.9771 - val_loss: 0.4168 - val_accuracy: 0.9082\n",
            "Epoch 19/50\n",
            "28/28 [==============================] - 0s 7ms/step - loss: 0.0734 - accuracy: 0.9748 - val_loss: 0.3281 - val_accuracy: 0.9184\n",
            "Epoch 20/50\n",
            "28/28 [==============================] - 0s 7ms/step - loss: 0.0734 - accuracy: 0.9714 - val_loss: 0.3576 - val_accuracy: 0.9082\n",
            "Epoch 21/50\n",
            "28/28 [==============================] - 0s 6ms/step - loss: 0.0577 - accuracy: 0.9840 - val_loss: 0.3708 - val_accuracy: 0.9082\n",
            "Epoch 22/50\n",
            "28/28 [==============================] - 0s 7ms/step - loss: 0.0762 - accuracy: 0.9782 - val_loss: 0.3677 - val_accuracy: 0.9184\n",
            "Epoch 23/50\n",
            "28/28 [==============================] - 0s 7ms/step - loss: 0.0601 - accuracy: 0.9840 - val_loss: 0.4130 - val_accuracy: 0.9184\n",
            "Epoch 24/50\n",
            "28/28 [==============================] - 0s 7ms/step - loss: 0.0555 - accuracy: 0.9885 - val_loss: 0.4233 - val_accuracy: 0.9184\n",
            "Epoch 25/50\n",
            "28/28 [==============================] - 0s 7ms/step - loss: 0.0602 - accuracy: 0.9805 - val_loss: 0.3724 - val_accuracy: 0.9184\n",
            "Epoch 26/50\n",
            "28/28 [==============================] - 0s 7ms/step - loss: 0.0594 - accuracy: 0.9759 - val_loss: 0.4044 - val_accuracy: 0.9184\n",
            "Epoch 27/50\n",
            "28/28 [==============================] - 0s 7ms/step - loss: 0.0574 - accuracy: 0.9817 - val_loss: 0.4153 - val_accuracy: 0.9184\n",
            "Epoch 28/50\n",
            "28/28 [==============================] - 0s 6ms/step - loss: 0.0435 - accuracy: 0.9885 - val_loss: 0.2713 - val_accuracy: 0.9286\n",
            "Epoch 29/50\n",
            "28/28 [==============================] - 0s 7ms/step - loss: 0.0589 - accuracy: 0.9759 - val_loss: 0.2105 - val_accuracy: 0.9490\n",
            "Epoch 30/50\n",
            "28/28 [==============================] - 0s 7ms/step - loss: 0.0493 - accuracy: 0.9874 - val_loss: 0.2303 - val_accuracy: 0.9388\n",
            "Epoch 31/50\n",
            "28/28 [==============================] - 0s 6ms/step - loss: 0.0546 - accuracy: 0.9748 - val_loss: 0.2718 - val_accuracy: 0.9286\n",
            "Epoch 32/50\n",
            "28/28 [==============================] - 0s 7ms/step - loss: 0.0391 - accuracy: 0.9908 - val_loss: 0.2649 - val_accuracy: 0.9388\n",
            "Epoch 33/50\n",
            "28/28 [==============================] - 0s 7ms/step - loss: 0.0524 - accuracy: 0.9794 - val_loss: 0.2650 - val_accuracy: 0.9388\n",
            "Epoch 34/50\n",
            "28/28 [==============================] - 0s 7ms/step - loss: 0.0448 - accuracy: 0.9863 - val_loss: 0.2584 - val_accuracy: 0.9286\n",
            "Epoch 35/50\n",
            "28/28 [==============================] - 0s 7ms/step - loss: 0.0619 - accuracy: 0.9794 - val_loss: 0.2674 - val_accuracy: 0.9286\n",
            "Epoch 36/50\n",
            "28/28 [==============================] - 0s 7ms/step - loss: 0.0548 - accuracy: 0.9817 - val_loss: 0.3244 - val_accuracy: 0.9184\n",
            "Epoch 37/50\n",
            "28/28 [==============================] - 0s 7ms/step - loss: 0.0402 - accuracy: 0.9863 - val_loss: 0.3003 - val_accuracy: 0.9286\n",
            "Epoch 38/50\n",
            "28/28 [==============================] - 0s 7ms/step - loss: 0.0413 - accuracy: 0.9874 - val_loss: 0.3086 - val_accuracy: 0.9286\n",
            "Epoch 39/50\n",
            "28/28 [==============================] - 0s 7ms/step - loss: 0.0463 - accuracy: 0.9817 - val_loss: 0.3324 - val_accuracy: 0.9286\n",
            "Epoch 40/50\n",
            "28/28 [==============================] - 0s 7ms/step - loss: 0.0435 - accuracy: 0.9840 - val_loss: 0.3417 - val_accuracy: 0.9184\n",
            "Epoch 41/50\n",
            "28/28 [==============================] - 0s 7ms/step - loss: 0.0548 - accuracy: 0.9771 - val_loss: 0.3973 - val_accuracy: 0.9184\n",
            "Epoch 42/50\n",
            "28/28 [==============================] - 0s 7ms/step - loss: 0.0459 - accuracy: 0.9840 - val_loss: 0.4040 - val_accuracy: 0.9286\n",
            "Epoch 43/50\n",
            "28/28 [==============================] - 0s 6ms/step - loss: 0.0441 - accuracy: 0.9874 - val_loss: 0.4074 - val_accuracy: 0.9286\n",
            "Epoch 44/50\n",
            "28/28 [==============================] - 0s 8ms/step - loss: 0.0422 - accuracy: 0.9863 - val_loss: 0.4227 - val_accuracy: 0.9286\n",
            "Epoch 45/50\n",
            "28/28 [==============================] - 0s 7ms/step - loss: 0.0553 - accuracy: 0.9794 - val_loss: 0.4200 - val_accuracy: 0.9286\n",
            "Epoch 46/50\n",
            "28/28 [==============================] - 0s 7ms/step - loss: 0.0466 - accuracy: 0.9817 - val_loss: 0.3572 - val_accuracy: 0.9184\n",
            "Epoch 47/50\n",
            "28/28 [==============================] - 0s 7ms/step - loss: 0.0414 - accuracy: 0.9828 - val_loss: 0.3528 - val_accuracy: 0.9184\n",
            "Epoch 48/50\n",
            "28/28 [==============================] - 0s 7ms/step - loss: 0.0408 - accuracy: 0.9840 - val_loss: 0.3902 - val_accuracy: 0.9184\n",
            "Epoch 49/50\n",
            "28/28 [==============================] - 0s 7ms/step - loss: 0.0568 - accuracy: 0.9748 - val_loss: 0.3681 - val_accuracy: 0.9184\n",
            "Epoch 50/50\n",
            "28/28 [==============================] - 0s 7ms/step - loss: 0.0493 - accuracy: 0.9782 - val_loss: 0.3647 - val_accuracy: 0.9184\n"
          ]
        }
      ]
    },
    {
      "cell_type": "code",
      "source": [
        "metrics = pd.DataFrame(model_2_hist.history)\n",
        "metrics[['loss', 'val_loss']].plot();"
      ],
      "metadata": {
        "colab": {
          "base_uri": "https://localhost:8080/",
          "height": 265
        },
        "id": "Cvz5jxhwZPkq",
        "outputId": "441b6622-ffe4-4418-d285-835e26468472"
      },
      "execution_count": null,
      "outputs": [
        {
          "output_type": "display_data",
          "data": {
            "text/plain": [
              "<Figure size 432x288 with 1 Axes>"
            ],
            "image/png": "[encoded data removed]"
          },
          "metadata": {
            "needs_background": "light"
          }
        }
      ]
    },
    {
      "cell_type": "code",
      "source": [
        "y_pred = model.predict(X_val)\n",
        "y_pred = y_pred.argmax(axis=1)\n",
        "print(classification_report(y_val, y_pred))"
      ],
      "metadata": {
        "colab": {
          "base_uri": "https://localhost:8080/"
        },
        "id": "UGzTUgc5ZQhz",
        "outputId": "d99acfbf-395e-4129-dab5-158348b26d57"
      },
      "execution_count": null,
      "outputs": [
        {
          "output_type": "stream",
          "name": "stdout",
          "text": [
            "              precision    recall  f1-score   support\n",
            "\n",
            "           0       1.00      0.94      0.97        49\n",
            "           1       0.86      0.86      0.86        29\n",
            "           2       0.83      0.95      0.88        20\n",
            "\n",
            "    accuracy                           0.92        98\n",
            "   macro avg       0.90      0.92      0.90        98\n",
            "weighted avg       0.92      0.92      0.92        98\n",
            "\n"
          ]
        }
      ]
    },
    {
      "cell_type": "code",
      "source": [
        "sms_baru = [\n",
        "            'hai bro gimana kabar',\n",
        "            'dapatkan kuota 1 GB hanya 1 juta rupiah',\n",
        "            'pesugihan tidak halal, lipatgandakan dosa anda'\n",
        "]\n",
        "\n",
        "hasil = model.predict(sms_baru)\n",
        "hasil.argmax(axis=1)"
      ],
      "metadata": {
        "colab": {
          "base_uri": "https://localhost:8080/"
        },
        "id": "Y7JSe7u6aRq0",
        "outputId": "970b18f4-4568-4c52-dae5-4149d5774b01"
      },
      "execution_count": null,
      "outputs": [
        {
          "output_type": "execute_result",
          "data": {
            "text/plain": [
              "array([0, 2, 0])"
            ]
          },
          "metadata": {},
          "execution_count": 54
        }
      ]
    },
    {
      "cell_type": "code",
      "source": [
        "# model GRU\n",
        "from tensorflow.keras.layers import GRU\n",
        "\n",
        "model = Sequential()\n",
        "model.add(text_vectorization)\n",
        "model.add(embedding)\n",
        "model.add(Dropout(0.4))\n",
        "model.add(GRU(2))\n",
        "model.add(Dropout(0.3))\n",
        "model.add(Dense(16, activation='relu'))\n",
        "model.add(Dense(3, activation='softmax'))\n",
        " \n",
        "\n",
        "model.compile(loss='categorical_crossentropy',\n",
        "              optimizer = 'adam',\n",
        "              metrics = ['accuracy'])"
      ],
      "metadata": {
        "id": "4iq18-IiaXFY"
      },
      "execution_count": null,
      "outputs": []
    },
    {
      "cell_type": "code",
      "source": [
        "model_3_hist = model.fit(X_train, y_train_ohe, epochs=50, validation_data=(X_val, y_val_ohe))"
      ],
      "metadata": {
        "colab": {
          "base_uri": "https://localhost:8080/"
        },
        "id": "_omWeP9eak9O",
        "outputId": "34946804-eb31-403c-a75a-1be0e81064c5"
      },
      "execution_count": null,
      "outputs": [
        {
          "output_type": "stream",
          "name": "stdout",
          "text": [
            "Epoch 1/50\n",
            "28/28 [==============================] - 3s 22ms/step - loss: 1.0696 - accuracy: 0.3047 - val_loss: 1.0321 - val_accuracy: 0.5306\n",
            "Epoch 2/50\n",
            "28/28 [==============================] - 0s 7ms/step - loss: 0.9941 - accuracy: 0.4903 - val_loss: 0.9593 - val_accuracy: 0.6122\n",
            "Epoch 3/50\n",
            "28/28 [==============================] - 0s 6ms/step - loss: 0.9000 - accuracy: 0.6300 - val_loss: 0.8700 - val_accuracy: 0.6531\n",
            "Epoch 4/50\n",
            "28/28 [==============================] - 0s 7ms/step - loss: 0.7985 - accuracy: 0.6678 - val_loss: 0.7895 - val_accuracy: 0.6735\n",
            "Epoch 5/50\n",
            "28/28 [==============================] - 0s 6ms/step - loss: 0.7103 - accuracy: 0.6747 - val_loss: 0.7405 - val_accuracy: 0.6735\n",
            "Epoch 6/50\n",
            "28/28 [==============================] - 0s 6ms/step - loss: 0.6588 - accuracy: 0.6816 - val_loss: 0.7082 - val_accuracy: 0.6735\n",
            "Epoch 7/50\n",
            "28/28 [==============================] - 0s 6ms/step - loss: 0.6145 - accuracy: 0.6816 - val_loss: 0.6748 - val_accuracy: 0.6837\n",
            "Epoch 8/50\n",
            "28/28 [==============================] - 0s 6ms/step - loss: 0.5500 - accuracy: 0.6964 - val_loss: 0.6364 - val_accuracy: 0.6837\n",
            "Epoch 9/50\n",
            "28/28 [==============================] - 0s 6ms/step - loss: 0.5087 - accuracy: 0.7033 - val_loss: 0.6092 - val_accuracy: 0.7143\n",
            "Epoch 10/50\n",
            "28/28 [==============================] - 0s 6ms/step - loss: 0.4826 - accuracy: 0.7159 - val_loss: 0.5676 - val_accuracy: 0.7653\n",
            "Epoch 11/50\n",
            "28/28 [==============================] - 0s 6ms/step - loss: 0.4518 - accuracy: 0.7847 - val_loss: 0.5327 - val_accuracy: 0.8265\n",
            "Epoch 12/50\n",
            "28/28 [==============================] - 0s 6ms/step - loss: 0.4140 - accuracy: 0.8454 - val_loss: 0.4995 - val_accuracy: 0.8367\n",
            "Epoch 13/50\n",
            "28/28 [==============================] - 0s 6ms/step - loss: 0.3669 - accuracy: 0.8969 - val_loss: 0.4598 - val_accuracy: 0.8469\n",
            "Epoch 14/50\n",
            "28/28 [==============================] - 0s 6ms/step - loss: 0.3444 - accuracy: 0.9118 - val_loss: 0.4389 - val_accuracy: 0.8265\n",
            "Epoch 15/50\n",
            "28/28 [==============================] - 0s 7ms/step - loss: 0.3087 - accuracy: 0.9393 - val_loss: 0.4130 - val_accuracy: 0.8469\n",
            "Epoch 16/50\n",
            "28/28 [==============================] - 0s 6ms/step - loss: 0.2932 - accuracy: 0.9301 - val_loss: 0.4026 - val_accuracy: 0.8469\n",
            "Epoch 17/50\n",
            "28/28 [==============================] - 0s 6ms/step - loss: 0.2965 - accuracy: 0.9255 - val_loss: 0.3931 - val_accuracy: 0.8571\n",
            "Epoch 18/50\n",
            "28/28 [==============================] - 0s 6ms/step - loss: 0.2584 - accuracy: 0.9381 - val_loss: 0.3823 - val_accuracy: 0.8571\n",
            "Epoch 19/50\n",
            "28/28 [==============================] - 0s 6ms/step - loss: 0.2485 - accuracy: 0.9381 - val_loss: 0.3831 - val_accuracy: 0.8571\n",
            "Epoch 20/50\n",
            "28/28 [==============================] - 0s 6ms/step - loss: 0.2198 - accuracy: 0.9450 - val_loss: 0.3800 - val_accuracy: 0.8571\n",
            "Epoch 21/50\n",
            "28/28 [==============================] - 0s 6ms/step - loss: 0.2321 - accuracy: 0.9359 - val_loss: 0.3852 - val_accuracy: 0.8571\n",
            "Epoch 22/50\n",
            "28/28 [==============================] - 0s 6ms/step - loss: 0.2019 - accuracy: 0.9450 - val_loss: 0.3891 - val_accuracy: 0.8571\n",
            "Epoch 23/50\n",
            "28/28 [==============================] - 0s 6ms/step - loss: 0.2162 - accuracy: 0.9347 - val_loss: 0.3883 - val_accuracy: 0.8571\n",
            "Epoch 24/50\n",
            "28/28 [==============================] - 0s 6ms/step - loss: 0.2157 - accuracy: 0.9301 - val_loss: 0.3962 - val_accuracy: 0.8571\n",
            "Epoch 25/50\n",
            "28/28 [==============================] - 0s 6ms/step - loss: 0.1986 - accuracy: 0.9404 - val_loss: 0.4036 - val_accuracy: 0.8571\n",
            "Epoch 26/50\n",
            "28/28 [==============================] - 0s 7ms/step - loss: 0.1916 - accuracy: 0.9427 - val_loss: 0.4060 - val_accuracy: 0.8571\n",
            "Epoch 27/50\n",
            "28/28 [==============================] - 0s 6ms/step - loss: 0.2081 - accuracy: 0.9301 - val_loss: 0.4146 - val_accuracy: 0.8571\n",
            "Epoch 28/50\n",
            "28/28 [==============================] - 0s 7ms/step - loss: 0.2021 - accuracy: 0.9359 - val_loss: 0.4186 - val_accuracy: 0.8571\n",
            "Epoch 29/50\n",
            "28/28 [==============================] - 0s 6ms/step - loss: 0.2110 - accuracy: 0.9301 - val_loss: 0.4271 - val_accuracy: 0.8571\n",
            "Epoch 30/50\n",
            "28/28 [==============================] - 0s 6ms/step - loss: 0.1932 - accuracy: 0.9347 - val_loss: 0.4314 - val_accuracy: 0.8571\n",
            "Epoch 31/50\n",
            "28/28 [==============================] - 0s 7ms/step - loss: 0.2102 - accuracy: 0.9210 - val_loss: 0.4307 - val_accuracy: 0.8571\n",
            "Epoch 32/50\n",
            "28/28 [==============================] - 0s 7ms/step - loss: 0.2266 - accuracy: 0.9210 - val_loss: 0.4269 - val_accuracy: 0.8571\n",
            "Epoch 33/50\n",
            "28/28 [==============================] - 0s 7ms/step - loss: 0.1874 - accuracy: 0.9381 - val_loss: 0.4251 - val_accuracy: 0.8571\n",
            "Epoch 34/50\n",
            "28/28 [==============================] - 0s 7ms/step - loss: 0.1985 - accuracy: 0.9278 - val_loss: 0.4283 - val_accuracy: 0.8571\n",
            "Epoch 35/50\n",
            "28/28 [==============================] - 0s 7ms/step - loss: 0.1894 - accuracy: 0.9347 - val_loss: 0.4330 - val_accuracy: 0.8571\n",
            "Epoch 36/50\n",
            "28/28 [==============================] - 0s 7ms/step - loss: 0.1773 - accuracy: 0.9393 - val_loss: 0.4335 - val_accuracy: 0.8571\n",
            "Epoch 37/50\n",
            "28/28 [==============================] - 0s 6ms/step - loss: 0.1698 - accuracy: 0.9416 - val_loss: 0.4382 - val_accuracy: 0.8571\n",
            "Epoch 38/50\n",
            "28/28 [==============================] - 0s 6ms/step - loss: 0.2034 - accuracy: 0.9221 - val_loss: 0.4366 - val_accuracy: 0.8571\n",
            "Epoch 39/50\n",
            "28/28 [==============================] - 0s 6ms/step - loss: 0.1790 - accuracy: 0.9324 - val_loss: 0.4417 - val_accuracy: 0.8571\n",
            "Epoch 40/50\n",
            "28/28 [==============================] - 0s 6ms/step - loss: 0.1648 - accuracy: 0.9393 - val_loss: 0.4469 - val_accuracy: 0.8571\n",
            "Epoch 41/50\n",
            "28/28 [==============================] - 0s 7ms/step - loss: 0.1695 - accuracy: 0.9393 - val_loss: 0.4441 - val_accuracy: 0.8571\n",
            "Epoch 42/50\n",
            "28/28 [==============================] - 0s 7ms/step - loss: 0.1748 - accuracy: 0.9370 - val_loss: 0.4514 - val_accuracy: 0.8571\n",
            "Epoch 43/50\n",
            "28/28 [==============================] - 0s 6ms/step - loss: 0.1645 - accuracy: 0.9404 - val_loss: 0.4566 - val_accuracy: 0.8571\n",
            "Epoch 44/50\n",
            "28/28 [==============================] - 0s 6ms/step - loss: 0.1848 - accuracy: 0.9221 - val_loss: 0.4600 - val_accuracy: 0.8571\n",
            "Epoch 45/50\n",
            "28/28 [==============================] - 0s 7ms/step - loss: 0.1672 - accuracy: 0.9404 - val_loss: 0.4580 - val_accuracy: 0.8571\n",
            "Epoch 46/50\n",
            "28/28 [==============================] - 0s 7ms/step - loss: 0.1684 - accuracy: 0.9347 - val_loss: 0.4565 - val_accuracy: 0.8571\n",
            "Epoch 47/50\n",
            "28/28 [==============================] - 0s 7ms/step - loss: 0.1544 - accuracy: 0.9439 - val_loss: 0.4624 - val_accuracy: 0.8571\n",
            "Epoch 48/50\n",
            "28/28 [==============================] - 0s 7ms/step - loss: 0.1768 - accuracy: 0.9267 - val_loss: 0.4681 - val_accuracy: 0.8469\n",
            "Epoch 49/50\n",
            "28/28 [==============================] - 0s 6ms/step - loss: 0.1625 - accuracy: 0.9381 - val_loss: 0.4747 - val_accuracy: 0.8469\n",
            "Epoch 50/50\n",
            "28/28 [==============================] - 0s 6ms/step - loss: 0.1677 - accuracy: 0.9359 - val_loss: 0.4710 - val_accuracy: 0.8469\n"
          ]
        }
      ]
    },
    {
      "cell_type": "code",
      "source": [
        "metrics = pd.DataFrame(model_3_hist.history)\n",
        "metrics[['loss', 'val_loss']].plot();"
      ],
      "metadata": {
        "colab": {
          "base_uri": "https://localhost:8080/",
          "height": 265
        },
        "id": "3kJk6fSRaltt",
        "outputId": "be9fddef-88de-452c-f597-b17d509856ad"
      },
      "execution_count": null,
      "outputs": [
        {
          "output_type": "display_data",
          "data": {
            "text/plain": [
              "<Figure size 432x288 with 1 Axes>"
            ],
            "image/png": "[encoded data removed]"
          },
          "metadata": {
            "needs_background": "light"
          }
        }
      ]
    },
    {
      "cell_type": "code",
      "source": [
        "y_pred = model.predict(X_val)\n",
        "y_pred = y_pred.argmax(axis=1)\n",
        "print(classification_report(y_val, y_pred))"
      ],
      "metadata": {
        "colab": {
          "base_uri": "https://localhost:8080/"
        },
        "id": "Gbfcetqja0er",
        "outputId": "132107c3-e4ef-4f72-87a1-4e6be470ca6b"
      },
      "execution_count": null,
      "outputs": [
        {
          "output_type": "stream",
          "name": "stdout",
          "text": [
            "              precision    recall  f1-score   support\n",
            "\n",
            "           0       0.92      0.96      0.94        49\n",
            "           1       0.79      0.66      0.72        29\n",
            "           2       0.74      0.85      0.79        20\n",
            "\n",
            "    accuracy                           0.85        98\n",
            "   macro avg       0.82      0.82      0.82        98\n",
            "weighted avg       0.85      0.85      0.84        98\n",
            "\n"
          ]
        }
      ]
    },
    {
      "cell_type": "code",
      "source": [
        "sms_baru = [\n",
        "            'hai bro gimana kabar',\n",
        "            'dapatkan kuota 1 GB hanya 1 juta rupiah',\n",
        "            'pesugihan tidak halal, lipatgandakan dosa anda'\n",
        "]\n",
        "\n",
        "hasil = model.predict(sms_baru)\n",
        "hasil.argmax(axis=1)"
      ],
      "metadata": {
        "colab": {
          "base_uri": "https://localhost:8080/"
        },
        "id": "HRoFFk5Ja3lr",
        "outputId": "7befe2c5-280e-4018-8ca5-7fdf13a62f4c"
      },
      "execution_count": null,
      "outputs": [
        {
          "output_type": "execute_result",
          "data": {
            "text/plain": [
              "array([0, 2, 0])"
            ]
          },
          "metadata": {},
          "execution_count": 65
        }
      ]
    }
  ]
}