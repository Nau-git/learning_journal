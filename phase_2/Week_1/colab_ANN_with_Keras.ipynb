{
  "cells": [
    {
      "cell_type": "markdown",
      "metadata": {
        "id": "n8ztY17Mz-0e"
      },
      "source": [
        "# Neural Network with TensorFlow\n",
        "\n",
        "Langkah membuat Neural Network:\n",
        "\n",
        "- Siapkan Data -> Fitur\n",
        "  - Open/gather data\n",
        "  - Preprocessing\n",
        "  - Feature engineering\n",
        "- Buat arsitektur NN\n",
        "  - Sequential API\n",
        "  - Functional API\n",
        "- Compile (proses translate dari python ke bahasa mesin) model NN \n",
        "  - Tentukan Loss yang digunakan\n",
        "  - Tentukan Optimizer\n",
        "  - Tentukan metric yang ingin dimonitor\n",
        "  - Callback\n",
        "- Training"
      ]
    },
    {
      "cell_type": "markdown",
      "metadata": {
        "id": "fHASxrT31rTI"
      },
      "source": [
        "# Modeling with Titanic Data"
      ]
    },
    {
      "cell_type": "code",
      "execution_count": 1,
      "metadata": {
        "colab": {
          "base_uri": "https://localhost:8080/",
          "height": 238
        },
        "id": "o5IC3qJY1VhI",
        "outputId": "626b9430-822f-4412-dee7-e72992e2af6a"
      },
      "outputs": [
        {
          "data": {
            "text/html": [
              "<div>\n",
              "<style scoped>\n",
              "    .dataframe tbody tr th:only-of-type {\n",
              "        vertical-align: middle;\n",
              "    }\n",
              "\n",
              "    .dataframe tbody tr th {\n",
              "        vertical-align: top;\n",
              "    }\n",
              "\n",
              "    .dataframe thead th {\n",
              "        text-align: right;\n",
              "    }\n",
              "</style>\n",
              "<table border=\"1\" class=\"dataframe\">\n",
              "  <thead>\n",
              "    <tr style=\"text-align: right;\">\n",
              "      <th></th>\n",
              "      <th>Survived</th>\n",
              "      <th>Pclass</th>\n",
              "      <th>Name</th>\n",
              "      <th>Sex</th>\n",
              "      <th>Age</th>\n",
              "      <th>SibSp</th>\n",
              "      <th>Parch</th>\n",
              "      <th>Ticket</th>\n",
              "      <th>Fare</th>\n",
              "      <th>Cabin</th>\n",
              "      <th>Embarked</th>\n",
              "    </tr>\n",
              "    <tr>\n",
              "      <th>PassengerId</th>\n",
              "      <th></th>\n",
              "      <th></th>\n",
              "      <th></th>\n",
              "      <th></th>\n",
              "      <th></th>\n",
              "      <th></th>\n",
              "      <th></th>\n",
              "      <th></th>\n",
              "      <th></th>\n",
              "      <th></th>\n",
              "      <th></th>\n",
              "    </tr>\n",
              "  </thead>\n",
              "  <tbody>\n",
              "    <tr>\n",
              "      <th>1</th>\n",
              "      <td>0</td>\n",
              "      <td>3</td>\n",
              "      <td>Braund, Mr. Owen Harris</td>\n",
              "      <td>male</td>\n",
              "      <td>22.0</td>\n",
              "      <td>1</td>\n",
              "      <td>0</td>\n",
              "      <td>A/5 21171</td>\n",
              "      <td>7.2500</td>\n",
              "      <td>NaN</td>\n",
              "      <td>S</td>\n",
              "    </tr>\n",
              "    <tr>\n",
              "      <th>2</th>\n",
              "      <td>1</td>\n",
              "      <td>1</td>\n",
              "      <td>Cumings, Mrs. John Bradley (Florence Briggs Th...</td>\n",
              "      <td>female</td>\n",
              "      <td>38.0</td>\n",
              "      <td>1</td>\n",
              "      <td>0</td>\n",
              "      <td>PC 17599</td>\n",
              "      <td>71.2833</td>\n",
              "      <td>C85</td>\n",
              "      <td>C</td>\n",
              "    </tr>\n",
              "    <tr>\n",
              "      <th>3</th>\n",
              "      <td>1</td>\n",
              "      <td>3</td>\n",
              "      <td>Heikkinen, Miss. Laina</td>\n",
              "      <td>female</td>\n",
              "      <td>26.0</td>\n",
              "      <td>0</td>\n",
              "      <td>0</td>\n",
              "      <td>STON/O2. 3101282</td>\n",
              "      <td>7.9250</td>\n",
              "      <td>NaN</td>\n",
              "      <td>S</td>\n",
              "    </tr>\n",
              "    <tr>\n",
              "      <th>4</th>\n",
              "      <td>1</td>\n",
              "      <td>1</td>\n",
              "      <td>Futrelle, Mrs. Jacques Heath (Lily May Peel)</td>\n",
              "      <td>female</td>\n",
              "      <td>35.0</td>\n",
              "      <td>1</td>\n",
              "      <td>0</td>\n",
              "      <td>113803</td>\n",
              "      <td>53.1000</td>\n",
              "      <td>C123</td>\n",
              "      <td>S</td>\n",
              "    </tr>\n",
              "    <tr>\n",
              "      <th>5</th>\n",
              "      <td>0</td>\n",
              "      <td>3</td>\n",
              "      <td>Allen, Mr. William Henry</td>\n",
              "      <td>male</td>\n",
              "      <td>35.0</td>\n",
              "      <td>0</td>\n",
              "      <td>0</td>\n",
              "      <td>373450</td>\n",
              "      <td>8.0500</td>\n",
              "      <td>NaN</td>\n",
              "      <td>S</td>\n",
              "    </tr>\n",
              "  </tbody>\n",
              "</table>\n",
              "</div>"
            ],
            "text/plain": [
              "             Survived  Pclass  \\\n",
              "PassengerId                     \n",
              "1                   0       3   \n",
              "2                   1       1   \n",
              "3                   1       3   \n",
              "4                   1       1   \n",
              "5                   0       3   \n",
              "\n",
              "                                                          Name     Sex   Age  \\\n",
              "PassengerId                                                                    \n",
              "1                                      Braund, Mr. Owen Harris    male  22.0   \n",
              "2            Cumings, Mrs. John Bradley (Florence Briggs Th...  female  38.0   \n",
              "3                                       Heikkinen, Miss. Laina  female  26.0   \n",
              "4                 Futrelle, Mrs. Jacques Heath (Lily May Peel)  female  35.0   \n",
              "5                                     Allen, Mr. William Henry    male  35.0   \n",
              "\n",
              "             SibSp  Parch            Ticket     Fare Cabin Embarked  \n",
              "PassengerId                                                          \n",
              "1                1      0         A/5 21171   7.2500   NaN        S  \n",
              "2                1      0          PC 17599  71.2833   C85        C  \n",
              "3                0      0  STON/O2. 3101282   7.9250   NaN        S  \n",
              "4                1      0            113803  53.1000  C123        S  \n",
              "5                0      0            373450   8.0500   NaN        S  "
            ]
          },
          "execution_count": 1,
          "metadata": {},
          "output_type": "execute_result"
        }
      ],
      "source": [
        "import pandas as pd\n",
        "\n",
        "df = pd.read_csv(\"https://raw.githubusercontent.com/afifai/pelatihan_machinelearning/master/data/train.csv\", index_col=0)\n",
        "df.head()"
      ]
    },
    {
      "cell_type": "code",
      "execution_count": 2,
      "metadata": {
        "id": "synXhuv613Eo"
      },
      "outputs": [],
      "source": [
        "df.drop(['Name', 'Ticket', 'Cabin', 'Embarked'], axis=1, inplace=True)"
      ]
    },
    {
      "cell_type": "code",
      "execution_count": 3,
      "metadata": {
        "id": "b58DK-Hm2BxB"
      },
      "outputs": [],
      "source": [
        "from sklearn.model_selection import train_test_split\n",
        "\n",
        "X = df.drop('Survived', axis=1)\n",
        "y = df['Survived']\n",
        "\n",
        "X_train, X_test, y_train, y_test = train_test_split(X, y, test_size=0.15, random_state=46)\n",
        "X_train, X_val, y_train, y_val = train_test_split(X_train, y_train, test_size=0.1, random_state=46)"
      ]
    },
    {
      "cell_type": "code",
      "execution_count": null,
      "metadata": {
        "id": "8km9PJVX2juw"
      },
      "outputs": [],
      "source": [
        "from sklearn.pipeline import Pipeline, make_pipeline\n",
        "from sklearn.compose import ColumnTransformer\n",
        "from sklearn.preprocessing import OneHotEncoder, StandardScaler\n",
        "from sklearn.impute import SimpleImputer\n",
        "\n",
        "num_col = ['Pclass', 'Age', 'SibSp', 'Parch', 'Fare']\n",
        "cat_col = ['Sex']\n",
        "\n",
        "num_pipeline = make_pipeline(SimpleImputer(strategy='median'),\n",
        "                             StandardScaler())\n",
        "\n",
        "cat_pipeline = make_pipeline(OneHotEncoder())\n",
        "\n",
        "data_pipeline = ColumnTransformer([\n",
        "    ('pipe_num', num_pipeline, num_col),\n",
        "    ('pipe_cat', cat_pipeline, cat_col)\n",
        "])"
      ]
    },
    {
      "cell_type": "code",
      "execution_count": null,
      "metadata": {
        "id": "Lsejk7w44FM6"
      },
      "outputs": [],
      "source": [
        "# ekstrak fiture\n",
        "X_train = data_pipeline.fit_transform(X_train)\n",
        "X_val = data_pipeline.transform(X_val)\n",
        "X_test = data_pipeline.transform(X_test)"
      ]
    },
    {
      "cell_type": "code",
      "execution_count": null,
      "metadata": {
        "colab": {
          "base_uri": "https://localhost:8080/"
        },
        "id": "Df1NwW095Rj2",
        "outputId": "34a4b4ef-f4f3-411c-d7d4-46843089c3bb"
      },
      "outputs": [
        {
          "name": "stdout",
          "output_type": "stream",
          "text": [
            "(681, 7)\n",
            "(76, 7)\n",
            "(134, 7)\n"
          ]
        }
      ],
      "source": [
        "print(X_train.shape)\n",
        "print(X_val.shape)\n",
        "print(X_test.shape)"
      ]
    },
    {
      "cell_type": "markdown",
      "metadata": {
        "id": "mrOnCU8-5oRs"
      },
      "source": [
        "## Buat Arsitektur NN"
      ]
    },
    {
      "cell_type": "markdown",
      "metadata": {
        "id": "R-wjQ3aUoN8_"
      },
      "source": [
        "### Sequential API"
      ]
    },
    {
      "cell_type": "code",
      "execution_count": null,
      "metadata": {
        "colab": {
          "base_uri": "https://localhost:8080/"
        },
        "id": "14EzMIhA5Wng",
        "outputId": "c2f79f9b-a147-474e-d0ea-2b9ec5ad0fe9"
      },
      "outputs": [
        {
          "name": "stdout",
          "output_type": "stream",
          "text": [
            "Epoch 1/300\n",
            "22/22 [==============================] - 4s 10ms/step - loss: 0.9613 - accuracy: 0.3113 - val_loss: 0.7953 - val_accuracy: 0.4474\n",
            "Epoch 2/300\n",
            "22/22 [==============================] - 0s 4ms/step - loss: 0.9217 - accuracy: 0.3216 - val_loss: 0.7661 - val_accuracy: 0.4737\n",
            "Epoch 3/300\n",
            "22/22 [==============================] - 0s 4ms/step - loss: 0.8849 - accuracy: 0.3289 - val_loss: 0.7399 - val_accuracy: 0.4737\n",
            "Epoch 4/300\n",
            "22/22 [==============================] - 0s 3ms/step - loss: 0.8527 - accuracy: 0.3421 - val_loss: 0.7174 - val_accuracy: 0.5000\n",
            "Epoch 5/300\n",
            "22/22 [==============================] - 0s 3ms/step - loss: 0.8242 - accuracy: 0.3612 - val_loss: 0.6970 - val_accuracy: 0.4737\n",
            "Epoch 6/300\n",
            "22/22 [==============================] - 0s 4ms/step - loss: 0.7990 - accuracy: 0.3862 - val_loss: 0.6785 - val_accuracy: 0.5000\n",
            "Epoch 7/300\n",
            "22/22 [==============================] - 0s 4ms/step - loss: 0.7770 - accuracy: 0.4537 - val_loss: 0.6625 - val_accuracy: 0.6053\n",
            "Epoch 8/300\n",
            "22/22 [==============================] - 0s 3ms/step - loss: 0.7574 - accuracy: 0.4993 - val_loss: 0.6486 - val_accuracy: 0.6184\n",
            "Epoch 9/300\n",
            "22/22 [==============================] - 0s 3ms/step - loss: 0.7405 - accuracy: 0.5242 - val_loss: 0.6361 - val_accuracy: 0.6711\n",
            "Epoch 10/300\n",
            "22/22 [==============================] - 0s 4ms/step - loss: 0.7249 - accuracy: 0.5609 - val_loss: 0.6259 - val_accuracy: 0.7105\n",
            "Epoch 11/300\n",
            "22/22 [==============================] - 0s 4ms/step - loss: 0.7114 - accuracy: 0.6021 - val_loss: 0.6171 - val_accuracy: 0.7500\n",
            "Epoch 12/300\n",
            "22/22 [==============================] - 0s 4ms/step - loss: 0.6985 - accuracy: 0.6182 - val_loss: 0.6094 - val_accuracy: 0.7368\n",
            "Epoch 13/300\n",
            "22/22 [==============================] - 0s 3ms/step - loss: 0.6871 - accuracy: 0.6285 - val_loss: 0.6030 - val_accuracy: 0.7368\n",
            "Epoch 14/300\n",
            "22/22 [==============================] - 0s 4ms/step - loss: 0.6784 - accuracy: 0.6300 - val_loss: 0.5979 - val_accuracy: 0.7368\n",
            "Epoch 15/300\n",
            "22/22 [==============================] - 0s 4ms/step - loss: 0.6706 - accuracy: 0.6344 - val_loss: 0.5941 - val_accuracy: 0.7368\n",
            "Epoch 16/300\n",
            "22/22 [==============================] - 0s 4ms/step - loss: 0.6640 - accuracy: 0.6373 - val_loss: 0.5904 - val_accuracy: 0.7237\n",
            "Epoch 17/300\n",
            "22/22 [==============================] - 0s 4ms/step - loss: 0.6576 - accuracy: 0.6476 - val_loss: 0.5869 - val_accuracy: 0.7237\n",
            "Epoch 18/300\n",
            "22/22 [==============================] - 0s 4ms/step - loss: 0.6515 - accuracy: 0.6490 - val_loss: 0.5835 - val_accuracy: 0.7237\n",
            "Epoch 19/300\n",
            "22/22 [==============================] - 0s 4ms/step - loss: 0.6459 - accuracy: 0.6476 - val_loss: 0.5801 - val_accuracy: 0.7105\n",
            "Epoch 20/300\n",
            "22/22 [==============================] - 0s 4ms/step - loss: 0.6406 - accuracy: 0.6476 - val_loss: 0.5770 - val_accuracy: 0.6974\n",
            "Epoch 21/300\n",
            "22/22 [==============================] - 0s 4ms/step - loss: 0.6352 - accuracy: 0.6608 - val_loss: 0.5739 - val_accuracy: 0.6974\n",
            "Epoch 22/300\n",
            "22/22 [==============================] - 0s 4ms/step - loss: 0.6300 - accuracy: 0.6623 - val_loss: 0.5709 - val_accuracy: 0.6974\n",
            "Epoch 23/300\n",
            "22/22 [==============================] - 0s 4ms/step - loss: 0.6250 - accuracy: 0.6637 - val_loss: 0.5681 - val_accuracy: 0.6974\n",
            "Epoch 24/300\n",
            "22/22 [==============================] - 0s 4ms/step - loss: 0.6203 - accuracy: 0.6681 - val_loss: 0.5656 - val_accuracy: 0.6974\n",
            "Epoch 25/300\n",
            "22/22 [==============================] - 0s 4ms/step - loss: 0.6158 - accuracy: 0.6681 - val_loss: 0.5631 - val_accuracy: 0.6842\n",
            "Epoch 26/300\n",
            "22/22 [==============================] - 0s 4ms/step - loss: 0.6113 - accuracy: 0.6725 - val_loss: 0.5605 - val_accuracy: 0.6842\n",
            "Epoch 27/300\n",
            "22/22 [==============================] - 0s 4ms/step - loss: 0.6070 - accuracy: 0.6725 - val_loss: 0.5579 - val_accuracy: 0.6842\n",
            "Epoch 28/300\n",
            "22/22 [==============================] - 0s 4ms/step - loss: 0.6029 - accuracy: 0.6799 - val_loss: 0.5553 - val_accuracy: 0.6842\n",
            "Epoch 29/300\n",
            "22/22 [==============================] - 0s 4ms/step - loss: 0.5990 - accuracy: 0.6828 - val_loss: 0.5529 - val_accuracy: 0.6842\n",
            "Epoch 30/300\n",
            "22/22 [==============================] - 0s 4ms/step - loss: 0.5954 - accuracy: 0.6843 - val_loss: 0.5506 - val_accuracy: 0.6842\n",
            "Epoch 31/300\n",
            "22/22 [==============================] - 0s 3ms/step - loss: 0.5918 - accuracy: 0.6858 - val_loss: 0.5482 - val_accuracy: 0.6974\n",
            "Epoch 32/300\n",
            "22/22 [==============================] - 0s 4ms/step - loss: 0.5885 - accuracy: 0.6872 - val_loss: 0.5459 - val_accuracy: 0.6974\n",
            "Epoch 33/300\n",
            "22/22 [==============================] - 0s 4ms/step - loss: 0.5854 - accuracy: 0.6887 - val_loss: 0.5432 - val_accuracy: 0.7105\n",
            "Epoch 34/300\n",
            "22/22 [==============================] - 0s 4ms/step - loss: 0.5820 - accuracy: 0.6902 - val_loss: 0.5415 - val_accuracy: 0.7105\n",
            "Epoch 35/300\n",
            "22/22 [==============================] - 0s 4ms/step - loss: 0.5791 - accuracy: 0.6931 - val_loss: 0.5400 - val_accuracy: 0.6974\n",
            "Epoch 36/300\n",
            "22/22 [==============================] - 0s 4ms/step - loss: 0.5759 - accuracy: 0.6975 - val_loss: 0.5379 - val_accuracy: 0.6974\n",
            "Epoch 37/300\n",
            "22/22 [==============================] - 0s 4ms/step - loss: 0.5729 - accuracy: 0.6990 - val_loss: 0.5362 - val_accuracy: 0.6974\n",
            "Epoch 38/300\n",
            "22/22 [==============================] - 0s 4ms/step - loss: 0.5699 - accuracy: 0.6990 - val_loss: 0.5340 - val_accuracy: 0.6974\n",
            "Epoch 39/300\n",
            "22/22 [==============================] - 0s 4ms/step - loss: 0.5666 - accuracy: 0.7004 - val_loss: 0.5321 - val_accuracy: 0.7105\n",
            "Epoch 40/300\n",
            "22/22 [==============================] - 0s 4ms/step - loss: 0.5636 - accuracy: 0.6975 - val_loss: 0.5302 - val_accuracy: 0.7105\n",
            "Epoch 41/300\n",
            "22/22 [==============================] - 0s 4ms/step - loss: 0.5605 - accuracy: 0.7019 - val_loss: 0.5276 - val_accuracy: 0.7105\n",
            "Epoch 42/300\n",
            "22/22 [==============================] - 0s 5ms/step - loss: 0.5572 - accuracy: 0.7034 - val_loss: 0.5253 - val_accuracy: 0.7237\n",
            "Epoch 43/300\n",
            "22/22 [==============================] - 0s 4ms/step - loss: 0.5536 - accuracy: 0.7078 - val_loss: 0.5229 - val_accuracy: 0.7500\n",
            "Epoch 44/300\n",
            "22/22 [==============================] - 0s 4ms/step - loss: 0.5503 - accuracy: 0.7151 - val_loss: 0.5205 - val_accuracy: 0.7500\n",
            "Epoch 45/300\n",
            "22/22 [==============================] - 0s 4ms/step - loss: 0.5465 - accuracy: 0.7195 - val_loss: 0.5185 - val_accuracy: 0.7500\n",
            "Epoch 46/300\n",
            "22/22 [==============================] - 0s 5ms/step - loss: 0.5428 - accuracy: 0.7313 - val_loss: 0.5161 - val_accuracy: 0.7500\n",
            "Epoch 47/300\n",
            "22/22 [==============================] - 0s 4ms/step - loss: 0.5392 - accuracy: 0.7372 - val_loss: 0.5137 - val_accuracy: 0.7632\n",
            "Epoch 48/300\n",
            "22/22 [==============================] - 0s 4ms/step - loss: 0.5357 - accuracy: 0.7401 - val_loss: 0.5111 - val_accuracy: 0.7632\n",
            "Epoch 49/300\n",
            "22/22 [==============================] - 0s 5ms/step - loss: 0.5320 - accuracy: 0.7474 - val_loss: 0.5089 - val_accuracy: 0.7632\n",
            "Epoch 50/300\n",
            "22/22 [==============================] - 0s 5ms/step - loss: 0.5279 - accuracy: 0.7548 - val_loss: 0.5064 - val_accuracy: 0.7632\n",
            "Epoch 51/300\n",
            "22/22 [==============================] - 0s 4ms/step - loss: 0.5240 - accuracy: 0.7592 - val_loss: 0.5042 - val_accuracy: 0.7632\n",
            "Epoch 52/300\n",
            "22/22 [==============================] - 0s 5ms/step - loss: 0.5205 - accuracy: 0.7651 - val_loss: 0.5019 - val_accuracy: 0.7763\n",
            "Epoch 53/300\n",
            "22/22 [==============================] - 0s 4ms/step - loss: 0.5165 - accuracy: 0.7651 - val_loss: 0.4997 - val_accuracy: 0.7763\n",
            "Epoch 54/300\n",
            "22/22 [==============================] - 0s 5ms/step - loss: 0.5128 - accuracy: 0.7665 - val_loss: 0.4974 - val_accuracy: 0.7895\n",
            "Epoch 55/300\n",
            "22/22 [==============================] - 0s 4ms/step - loss: 0.5089 - accuracy: 0.7812 - val_loss: 0.4960 - val_accuracy: 0.7763\n",
            "Epoch 56/300\n",
            "22/22 [==============================] - 0s 4ms/step - loss: 0.5050 - accuracy: 0.7797 - val_loss: 0.4937 - val_accuracy: 0.7632\n",
            "Epoch 57/300\n",
            "22/22 [==============================] - 0s 4ms/step - loss: 0.5011 - accuracy: 0.7885 - val_loss: 0.4920 - val_accuracy: 0.7763\n",
            "Epoch 58/300\n",
            "22/22 [==============================] - 0s 4ms/step - loss: 0.4973 - accuracy: 0.7856 - val_loss: 0.4900 - val_accuracy: 0.7763\n",
            "Epoch 59/300\n",
            "22/22 [==============================] - 0s 4ms/step - loss: 0.4935 - accuracy: 0.7930 - val_loss: 0.4877 - val_accuracy: 0.7763\n",
            "Epoch 60/300\n",
            "22/22 [==============================] - 0s 4ms/step - loss: 0.4901 - accuracy: 0.7856 - val_loss: 0.4848 - val_accuracy: 0.7763\n",
            "Epoch 61/300\n",
            "22/22 [==============================] - 0s 4ms/step - loss: 0.4864 - accuracy: 0.7915 - val_loss: 0.4823 - val_accuracy: 0.7763\n",
            "Epoch 62/300\n",
            "22/22 [==============================] - 0s 4ms/step - loss: 0.4832 - accuracy: 0.7915 - val_loss: 0.4801 - val_accuracy: 0.7763\n",
            "Epoch 63/300\n",
            "22/22 [==============================] - 0s 4ms/step - loss: 0.4801 - accuracy: 0.7959 - val_loss: 0.4780 - val_accuracy: 0.7895\n",
            "Epoch 64/300\n",
            "22/22 [==============================] - 0s 4ms/step - loss: 0.4775 - accuracy: 0.7944 - val_loss: 0.4762 - val_accuracy: 0.7763\n",
            "Epoch 65/300\n",
            "22/22 [==============================] - 0s 3ms/step - loss: 0.4746 - accuracy: 0.7959 - val_loss: 0.4754 - val_accuracy: 0.7763\n",
            "Epoch 66/300\n",
            "22/22 [==============================] - 0s 4ms/step - loss: 0.4725 - accuracy: 0.7959 - val_loss: 0.4734 - val_accuracy: 0.7763\n",
            "Epoch 67/300\n",
            "22/22 [==============================] - 0s 4ms/step - loss: 0.4705 - accuracy: 0.7988 - val_loss: 0.4708 - val_accuracy: 0.7763\n",
            "Epoch 68/300\n",
            "22/22 [==============================] - 0s 4ms/step - loss: 0.4684 - accuracy: 0.8091 - val_loss: 0.4699 - val_accuracy: 0.7763\n",
            "Epoch 69/300\n",
            "22/22 [==============================] - 0s 4ms/step - loss: 0.4666 - accuracy: 0.8164 - val_loss: 0.4693 - val_accuracy: 0.7763\n",
            "Epoch 70/300\n",
            "22/22 [==============================] - 0s 4ms/step - loss: 0.4650 - accuracy: 0.8179 - val_loss: 0.4677 - val_accuracy: 0.7763\n",
            "Epoch 71/300\n",
            "22/22 [==============================] - 0s 4ms/step - loss: 0.4632 - accuracy: 0.8179 - val_loss: 0.4681 - val_accuracy: 0.7763\n",
            "Epoch 72/300\n",
            "22/22 [==============================] - 0s 4ms/step - loss: 0.4618 - accuracy: 0.8164 - val_loss: 0.4669 - val_accuracy: 0.7763\n",
            "Epoch 73/300\n",
            "22/22 [==============================] - 0s 4ms/step - loss: 0.4606 - accuracy: 0.8164 - val_loss: 0.4650 - val_accuracy: 0.7763\n",
            "Epoch 74/300\n",
            "22/22 [==============================] - 0s 4ms/step - loss: 0.4594 - accuracy: 0.8150 - val_loss: 0.4659 - val_accuracy: 0.7763\n",
            "Epoch 75/300\n",
            "22/22 [==============================] - 0s 4ms/step - loss: 0.4586 - accuracy: 0.8164 - val_loss: 0.4653 - val_accuracy: 0.7763\n",
            "Epoch 76/300\n",
            "22/22 [==============================] - 0s 4ms/step - loss: 0.4574 - accuracy: 0.8135 - val_loss: 0.4648 - val_accuracy: 0.7763\n",
            "Epoch 77/300\n",
            "22/22 [==============================] - 0s 4ms/step - loss: 0.4568 - accuracy: 0.8135 - val_loss: 0.4636 - val_accuracy: 0.7763\n",
            "Epoch 78/300\n",
            "22/22 [==============================] - 0s 4ms/step - loss: 0.4559 - accuracy: 0.8135 - val_loss: 0.4659 - val_accuracy: 0.7763\n",
            "Epoch 79/300\n",
            "22/22 [==============================] - 0s 4ms/step - loss: 0.4551 - accuracy: 0.8120 - val_loss: 0.4640 - val_accuracy: 0.7763\n",
            "Epoch 80/300\n",
            "22/22 [==============================] - 0s 4ms/step - loss: 0.4544 - accuracy: 0.8135 - val_loss: 0.4642 - val_accuracy: 0.7763\n",
            "Epoch 81/300\n",
            "22/22 [==============================] - 0s 4ms/step - loss: 0.4543 - accuracy: 0.8120 - val_loss: 0.4612 - val_accuracy: 0.7763\n",
            "Epoch 82/300\n",
            "22/22 [==============================] - 0s 4ms/step - loss: 0.4531 - accuracy: 0.8120 - val_loss: 0.4624 - val_accuracy: 0.7763\n",
            "Epoch 83/300\n",
            "22/22 [==============================] - 0s 4ms/step - loss: 0.4526 - accuracy: 0.8120 - val_loss: 0.4601 - val_accuracy: 0.7763\n",
            "Epoch 84/300\n",
            "22/22 [==============================] - 0s 4ms/step - loss: 0.4520 - accuracy: 0.8106 - val_loss: 0.4621 - val_accuracy: 0.7763\n",
            "Epoch 85/300\n",
            "22/22 [==============================] - 0s 4ms/step - loss: 0.4514 - accuracy: 0.8106 - val_loss: 0.4616 - val_accuracy: 0.7763\n",
            "Epoch 86/300\n",
            "22/22 [==============================] - 0s 4ms/step - loss: 0.4511 - accuracy: 0.8120 - val_loss: 0.4613 - val_accuracy: 0.7763\n",
            "Epoch 87/300\n",
            "22/22 [==============================] - 0s 4ms/step - loss: 0.4504 - accuracy: 0.8076 - val_loss: 0.4623 - val_accuracy: 0.7763\n",
            "Epoch 88/300\n",
            "22/22 [==============================] - 0s 4ms/step - loss: 0.4500 - accuracy: 0.8106 - val_loss: 0.4608 - val_accuracy: 0.7763\n",
            "Epoch 89/300\n",
            "22/22 [==============================] - 0s 4ms/step - loss: 0.4496 - accuracy: 0.8106 - val_loss: 0.4598 - val_accuracy: 0.7763\n",
            "Epoch 90/300\n",
            "22/22 [==============================] - 0s 4ms/step - loss: 0.4491 - accuracy: 0.8120 - val_loss: 0.4616 - val_accuracy: 0.7763\n",
            "Epoch 91/300\n",
            "22/22 [==============================] - 0s 4ms/step - loss: 0.4487 - accuracy: 0.8120 - val_loss: 0.4619 - val_accuracy: 0.7763\n",
            "Epoch 92/300\n",
            "22/22 [==============================] - 0s 4ms/step - loss: 0.4483 - accuracy: 0.8091 - val_loss: 0.4613 - val_accuracy: 0.7763\n",
            "Epoch 93/300\n",
            "22/22 [==============================] - 0s 4ms/step - loss: 0.4479 - accuracy: 0.8106 - val_loss: 0.4605 - val_accuracy: 0.7763\n",
            "Epoch 94/300\n",
            "22/22 [==============================] - 0s 4ms/step - loss: 0.4474 - accuracy: 0.8091 - val_loss: 0.4611 - val_accuracy: 0.7763\n",
            "Epoch 95/300\n",
            "22/22 [==============================] - 0s 4ms/step - loss: 0.4470 - accuracy: 0.8091 - val_loss: 0.4622 - val_accuracy: 0.7763\n",
            "Epoch 96/300\n",
            "22/22 [==============================] - 0s 4ms/step - loss: 0.4466 - accuracy: 0.8091 - val_loss: 0.4624 - val_accuracy: 0.7763\n",
            "Epoch 97/300\n",
            "22/22 [==============================] - 0s 3ms/step - loss: 0.4463 - accuracy: 0.8076 - val_loss: 0.4616 - val_accuracy: 0.7763\n",
            "Epoch 98/300\n",
            "22/22 [==============================] - 0s 4ms/step - loss: 0.4460 - accuracy: 0.8076 - val_loss: 0.4618 - val_accuracy: 0.7763\n",
            "Epoch 99/300\n",
            "22/22 [==============================] - 0s 4ms/step - loss: 0.4457 - accuracy: 0.8091 - val_loss: 0.4620 - val_accuracy: 0.7763\n",
            "Epoch 100/300\n",
            "22/22 [==============================] - 0s 4ms/step - loss: 0.4455 - accuracy: 0.8091 - val_loss: 0.4600 - val_accuracy: 0.7763\n",
            "Epoch 101/300\n",
            "22/22 [==============================] - 0s 4ms/step - loss: 0.4452 - accuracy: 0.8091 - val_loss: 0.4619 - val_accuracy: 0.7763\n",
            "Epoch 102/300\n",
            "22/22 [==============================] - 0s 4ms/step - loss: 0.4447 - accuracy: 0.8076 - val_loss: 0.4595 - val_accuracy: 0.7763\n",
            "Epoch 103/300\n",
            "22/22 [==============================] - 0s 4ms/step - loss: 0.4442 - accuracy: 0.8091 - val_loss: 0.4604 - val_accuracy: 0.7763\n",
            "Epoch 104/300\n",
            "22/22 [==============================] - 0s 4ms/step - loss: 0.4440 - accuracy: 0.8091 - val_loss: 0.4586 - val_accuracy: 0.7763\n",
            "Epoch 105/300\n",
            "22/22 [==============================] - 0s 4ms/step - loss: 0.4438 - accuracy: 0.8076 - val_loss: 0.4580 - val_accuracy: 0.7763\n",
            "Epoch 106/300\n",
            "22/22 [==============================] - 0s 4ms/step - loss: 0.4435 - accuracy: 0.8091 - val_loss: 0.4585 - val_accuracy: 0.7763\n",
            "Epoch 107/300\n",
            "22/22 [==============================] - 0s 4ms/step - loss: 0.4430 - accuracy: 0.8091 - val_loss: 0.4585 - val_accuracy: 0.7763\n",
            "Epoch 108/300\n",
            "22/22 [==============================] - 0s 4ms/step - loss: 0.4422 - accuracy: 0.8091 - val_loss: 0.4573 - val_accuracy: 0.7763\n",
            "Epoch 109/300\n",
            "22/22 [==============================] - 0s 4ms/step - loss: 0.4407 - accuracy: 0.8091 - val_loss: 0.4553 - val_accuracy: 0.7763\n",
            "Epoch 110/300\n",
            "22/22 [==============================] - 0s 4ms/step - loss: 0.4393 - accuracy: 0.8106 - val_loss: 0.4523 - val_accuracy: 0.7763\n",
            "Epoch 111/300\n",
            "22/22 [==============================] - 0s 4ms/step - loss: 0.4379 - accuracy: 0.8091 - val_loss: 0.4497 - val_accuracy: 0.7763\n",
            "Epoch 112/300\n",
            "22/22 [==============================] - 0s 4ms/step - loss: 0.4359 - accuracy: 0.8091 - val_loss: 0.4483 - val_accuracy: 0.7763\n",
            "Epoch 113/300\n",
            "22/22 [==============================] - 0s 4ms/step - loss: 0.4341 - accuracy: 0.8106 - val_loss: 0.4454 - val_accuracy: 0.7763\n",
            "Epoch 114/300\n",
            "22/22 [==============================] - 0s 4ms/step - loss: 0.4327 - accuracy: 0.8106 - val_loss: 0.4434 - val_accuracy: 0.7763\n",
            "Epoch 115/300\n",
            "22/22 [==============================] - 0s 5ms/step - loss: 0.4316 - accuracy: 0.8106 - val_loss: 0.4417 - val_accuracy: 0.7763\n",
            "Epoch 116/300\n",
            "22/22 [==============================] - 0s 4ms/step - loss: 0.4307 - accuracy: 0.8106 - val_loss: 0.4412 - val_accuracy: 0.7763\n",
            "Epoch 117/300\n",
            "22/22 [==============================] - 0s 4ms/step - loss: 0.4297 - accuracy: 0.8106 - val_loss: 0.4411 - val_accuracy: 0.7763\n",
            "Epoch 118/300\n",
            "22/22 [==============================] - 0s 4ms/step - loss: 0.4291 - accuracy: 0.8120 - val_loss: 0.4413 - val_accuracy: 0.7763\n",
            "Epoch 119/300\n",
            "22/22 [==============================] - 0s 4ms/step - loss: 0.4285 - accuracy: 0.8120 - val_loss: 0.4399 - val_accuracy: 0.7895\n",
            "Epoch 120/300\n",
            "22/22 [==============================] - 0s 4ms/step - loss: 0.4280 - accuracy: 0.8120 - val_loss: 0.4401 - val_accuracy: 0.7895\n",
            "Epoch 121/300\n",
            "22/22 [==============================] - 0s 4ms/step - loss: 0.4277 - accuracy: 0.8106 - val_loss: 0.4393 - val_accuracy: 0.7895\n",
            "Epoch 122/300\n",
            "22/22 [==============================] - 0s 4ms/step - loss: 0.4270 - accuracy: 0.8120 - val_loss: 0.4376 - val_accuracy: 0.7895\n",
            "Epoch 123/300\n",
            "22/22 [==============================] - 0s 4ms/step - loss: 0.4267 - accuracy: 0.8150 - val_loss: 0.4375 - val_accuracy: 0.7895\n",
            "Epoch 124/300\n",
            "22/22 [==============================] - 0s 4ms/step - loss: 0.4261 - accuracy: 0.8164 - val_loss: 0.4375 - val_accuracy: 0.7895\n",
            "Epoch 125/300\n",
            "22/22 [==============================] - 0s 4ms/step - loss: 0.4258 - accuracy: 0.8164 - val_loss: 0.4370 - val_accuracy: 0.7895\n",
            "Epoch 126/300\n",
            "22/22 [==============================] - 0s 4ms/step - loss: 0.4256 - accuracy: 0.8179 - val_loss: 0.4350 - val_accuracy: 0.7895\n",
            "Epoch 127/300\n",
            "22/22 [==============================] - 0s 4ms/step - loss: 0.4254 - accuracy: 0.8179 - val_loss: 0.4349 - val_accuracy: 0.7895\n",
            "Epoch 128/300\n",
            "22/22 [==============================] - 0s 4ms/step - loss: 0.4249 - accuracy: 0.8179 - val_loss: 0.4358 - val_accuracy: 0.7895\n",
            "Epoch 129/300\n",
            "22/22 [==============================] - 0s 4ms/step - loss: 0.4248 - accuracy: 0.8209 - val_loss: 0.4369 - val_accuracy: 0.7895\n",
            "Epoch 130/300\n",
            "22/22 [==============================] - 0s 4ms/step - loss: 0.4245 - accuracy: 0.8194 - val_loss: 0.4371 - val_accuracy: 0.7895\n",
            "Epoch 131/300\n",
            "22/22 [==============================] - 0s 4ms/step - loss: 0.4242 - accuracy: 0.8194 - val_loss: 0.4378 - val_accuracy: 0.7895\n",
            "Epoch 132/300\n",
            "22/22 [==============================] - 0s 4ms/step - loss: 0.4239 - accuracy: 0.8179 - val_loss: 0.4375 - val_accuracy: 0.7763\n",
            "Epoch 133/300\n",
            "22/22 [==============================] - 0s 4ms/step - loss: 0.4237 - accuracy: 0.8179 - val_loss: 0.4373 - val_accuracy: 0.7763\n",
            "Epoch 134/300\n",
            "22/22 [==============================] - 0s 4ms/step - loss: 0.4235 - accuracy: 0.8194 - val_loss: 0.4369 - val_accuracy: 0.7895\n",
            "Epoch 135/300\n",
            "22/22 [==============================] - 0s 4ms/step - loss: 0.4235 - accuracy: 0.8194 - val_loss: 0.4374 - val_accuracy: 0.7895\n",
            "Epoch 136/300\n",
            "22/22 [==============================] - 0s 3ms/step - loss: 0.4231 - accuracy: 0.8194 - val_loss: 0.4365 - val_accuracy: 0.7895\n",
            "Epoch 137/300\n",
            "22/22 [==============================] - 0s 4ms/step - loss: 0.4228 - accuracy: 0.8223 - val_loss: 0.4365 - val_accuracy: 0.8026\n",
            "Epoch 138/300\n",
            "22/22 [==============================] - 0s 4ms/step - loss: 0.4225 - accuracy: 0.8209 - val_loss: 0.4364 - val_accuracy: 0.7895\n",
            "Epoch 139/300\n",
            "22/22 [==============================] - 0s 4ms/step - loss: 0.4226 - accuracy: 0.8209 - val_loss: 0.4363 - val_accuracy: 0.7895\n",
            "Epoch 140/300\n",
            "22/22 [==============================] - 0s 4ms/step - loss: 0.4224 - accuracy: 0.8223 - val_loss: 0.4350 - val_accuracy: 0.8026\n",
            "Epoch 141/300\n",
            "22/22 [==============================] - 0s 4ms/step - loss: 0.4218 - accuracy: 0.8223 - val_loss: 0.4361 - val_accuracy: 0.8026\n",
            "Epoch 142/300\n",
            "22/22 [==============================] - 0s 4ms/step - loss: 0.4216 - accuracy: 0.8209 - val_loss: 0.4365 - val_accuracy: 0.7895\n",
            "Epoch 143/300\n",
            "22/22 [==============================] - 0s 4ms/step - loss: 0.4215 - accuracy: 0.8209 - val_loss: 0.4361 - val_accuracy: 0.8026\n",
            "Epoch 144/300\n",
            "22/22 [==============================] - 0s 4ms/step - loss: 0.4212 - accuracy: 0.8209 - val_loss: 0.4365 - val_accuracy: 0.8026\n",
            "Epoch 145/300\n",
            "22/22 [==============================] - 0s 4ms/step - loss: 0.4210 - accuracy: 0.8194 - val_loss: 0.4368 - val_accuracy: 0.8026\n",
            "Epoch 146/300\n",
            "22/22 [==============================] - 0s 4ms/step - loss: 0.4209 - accuracy: 0.8194 - val_loss: 0.4372 - val_accuracy: 0.8026\n",
            "Epoch 147/300\n",
            "22/22 [==============================] - 0s 4ms/step - loss: 0.4206 - accuracy: 0.8194 - val_loss: 0.4363 - val_accuracy: 0.8026\n",
            "Epoch 148/300\n",
            "22/22 [==============================] - 0s 4ms/step - loss: 0.4205 - accuracy: 0.8194 - val_loss: 0.4365 - val_accuracy: 0.8026\n",
            "Epoch 149/300\n",
            "22/22 [==============================] - 0s 4ms/step - loss: 0.4202 - accuracy: 0.8209 - val_loss: 0.4346 - val_accuracy: 0.7895\n",
            "Epoch 150/300\n",
            "22/22 [==============================] - 0s 4ms/step - loss: 0.4198 - accuracy: 0.8223 - val_loss: 0.4360 - val_accuracy: 0.7895\n",
            "Epoch 151/300\n",
            "22/22 [==============================] - 0s 4ms/step - loss: 0.4196 - accuracy: 0.8209 - val_loss: 0.4357 - val_accuracy: 0.7895\n",
            "Epoch 152/300\n",
            "22/22 [==============================] - 0s 4ms/step - loss: 0.4193 - accuracy: 0.8209 - val_loss: 0.4361 - val_accuracy: 0.7895\n",
            "Epoch 153/300\n",
            "22/22 [==============================] - 0s 4ms/step - loss: 0.4191 - accuracy: 0.8223 - val_loss: 0.4372 - val_accuracy: 0.7895\n",
            "Epoch 154/300\n",
            "22/22 [==============================] - 0s 4ms/step - loss: 0.4194 - accuracy: 0.8223 - val_loss: 0.4375 - val_accuracy: 0.7895\n",
            "Epoch 155/300\n",
            "22/22 [==============================] - 0s 4ms/step - loss: 0.4192 - accuracy: 0.8223 - val_loss: 0.4370 - val_accuracy: 0.7895\n",
            "Epoch 156/300\n",
            "22/22 [==============================] - 0s 4ms/step - loss: 0.4184 - accuracy: 0.8223 - val_loss: 0.4348 - val_accuracy: 0.7895\n",
            "Epoch 157/300\n",
            "22/22 [==============================] - 0s 4ms/step - loss: 0.4183 - accuracy: 0.8223 - val_loss: 0.4344 - val_accuracy: 0.7895\n",
            "Epoch 158/300\n",
            "22/22 [==============================] - 0s 4ms/step - loss: 0.4182 - accuracy: 0.8223 - val_loss: 0.4353 - val_accuracy: 0.7895\n",
            "Epoch 159/300\n",
            "22/22 [==============================] - 0s 4ms/step - loss: 0.4180 - accuracy: 0.8223 - val_loss: 0.4357 - val_accuracy: 0.7895\n",
            "Epoch 160/300\n",
            "22/22 [==============================] - 0s 4ms/step - loss: 0.4180 - accuracy: 0.8223 - val_loss: 0.4348 - val_accuracy: 0.7895\n",
            "Epoch 161/300\n",
            "22/22 [==============================] - 0s 4ms/step - loss: 0.4176 - accuracy: 0.8209 - val_loss: 0.4341 - val_accuracy: 0.7895\n",
            "Epoch 162/300\n",
            "22/22 [==============================] - 0s 4ms/step - loss: 0.4175 - accuracy: 0.8223 - val_loss: 0.4343 - val_accuracy: 0.7895\n",
            "Epoch 163/300\n",
            "22/22 [==============================] - 0s 4ms/step - loss: 0.4173 - accuracy: 0.8223 - val_loss: 0.4349 - val_accuracy: 0.7895\n",
            "Epoch 164/300\n",
            "22/22 [==============================] - 0s 4ms/step - loss: 0.4175 - accuracy: 0.8223 - val_loss: 0.4348 - val_accuracy: 0.7895\n",
            "Epoch 165/300\n",
            "22/22 [==============================] - 0s 4ms/step - loss: 0.4172 - accuracy: 0.8223 - val_loss: 0.4333 - val_accuracy: 0.7895\n",
            "Epoch 166/300\n",
            "22/22 [==============================] - 0s 4ms/step - loss: 0.4174 - accuracy: 0.8223 - val_loss: 0.4347 - val_accuracy: 0.7895\n",
            "Epoch 167/300\n",
            "22/22 [==============================] - 0s 4ms/step - loss: 0.4166 - accuracy: 0.8223 - val_loss: 0.4315 - val_accuracy: 0.7895\n",
            "Epoch 168/300\n",
            "22/22 [==============================] - 0s 4ms/step - loss: 0.4166 - accuracy: 0.8223 - val_loss: 0.4319 - val_accuracy: 0.7895\n",
            "Epoch 169/300\n",
            "22/22 [==============================] - 0s 4ms/step - loss: 0.4166 - accuracy: 0.8238 - val_loss: 0.4331 - val_accuracy: 0.7895\n",
            "Epoch 170/300\n",
            "22/22 [==============================] - 0s 4ms/step - loss: 0.4163 - accuracy: 0.8238 - val_loss: 0.4324 - val_accuracy: 0.7895\n",
            "Epoch 171/300\n",
            "22/22 [==============================] - 0s 5ms/step - loss: 0.4164 - accuracy: 0.8238 - val_loss: 0.4323 - val_accuracy: 0.7895\n",
            "Epoch 172/300\n",
            "22/22 [==============================] - 0s 4ms/step - loss: 0.4164 - accuracy: 0.8223 - val_loss: 0.4339 - val_accuracy: 0.7895\n",
            "Epoch 173/300\n",
            "22/22 [==============================] - 0s 4ms/step - loss: 0.4160 - accuracy: 0.8223 - val_loss: 0.4335 - val_accuracy: 0.7895\n",
            "Epoch 174/300\n",
            "22/22 [==============================] - 0s 4ms/step - loss: 0.4158 - accuracy: 0.8223 - val_loss: 0.4328 - val_accuracy: 0.7895\n",
            "Epoch 175/300\n",
            "22/22 [==============================] - 0s 4ms/step - loss: 0.4156 - accuracy: 0.8223 - val_loss: 0.4331 - val_accuracy: 0.7895\n",
            "Epoch 176/300\n",
            "22/22 [==============================] - 0s 4ms/step - loss: 0.4158 - accuracy: 0.8223 - val_loss: 0.4346 - val_accuracy: 0.7895\n",
            "Epoch 177/300\n",
            "22/22 [==============================] - 0s 4ms/step - loss: 0.4155 - accuracy: 0.8223 - val_loss: 0.4342 - val_accuracy: 0.7895\n",
            "Epoch 178/300\n",
            "22/22 [==============================] - 0s 4ms/step - loss: 0.4152 - accuracy: 0.8223 - val_loss: 0.4327 - val_accuracy: 0.7895\n",
            "Epoch 179/300\n",
            "22/22 [==============================] - 0s 4ms/step - loss: 0.4152 - accuracy: 0.8223 - val_loss: 0.4311 - val_accuracy: 0.7895\n",
            "Epoch 180/300\n",
            "22/22 [==============================] - 0s 4ms/step - loss: 0.4151 - accuracy: 0.8223 - val_loss: 0.4319 - val_accuracy: 0.7895\n",
            "Epoch 181/300\n",
            "22/22 [==============================] - 0s 4ms/step - loss: 0.4151 - accuracy: 0.8223 - val_loss: 0.4316 - val_accuracy: 0.7895\n",
            "Epoch 182/300\n",
            "22/22 [==============================] - 0s 4ms/step - loss: 0.4149 - accuracy: 0.8223 - val_loss: 0.4315 - val_accuracy: 0.7895\n",
            "Epoch 183/300\n",
            "22/22 [==============================] - 0s 4ms/step - loss: 0.4148 - accuracy: 0.8209 - val_loss: 0.4293 - val_accuracy: 0.7895\n",
            "Epoch 184/300\n",
            "22/22 [==============================] - 0s 4ms/step - loss: 0.4148 - accuracy: 0.8238 - val_loss: 0.4298 - val_accuracy: 0.7895\n",
            "Epoch 185/300\n",
            "22/22 [==============================] - 0s 4ms/step - loss: 0.4148 - accuracy: 0.8223 - val_loss: 0.4309 - val_accuracy: 0.7895\n",
            "Epoch 186/300\n",
            "22/22 [==============================] - 0s 4ms/step - loss: 0.4146 - accuracy: 0.8223 - val_loss: 0.4320 - val_accuracy: 0.7895\n",
            "Epoch 187/300\n",
            "22/22 [==============================] - 0s 4ms/step - loss: 0.4143 - accuracy: 0.8223 - val_loss: 0.4320 - val_accuracy: 0.7895\n",
            "Epoch 188/300\n",
            "22/22 [==============================] - 0s 4ms/step - loss: 0.4143 - accuracy: 0.8209 - val_loss: 0.4306 - val_accuracy: 0.7895\n",
            "Epoch 189/300\n",
            "22/22 [==============================] - 0s 4ms/step - loss: 0.4144 - accuracy: 0.8209 - val_loss: 0.4322 - val_accuracy: 0.7895\n",
            "Epoch 190/300\n",
            "22/22 [==============================] - 0s 4ms/step - loss: 0.4142 - accuracy: 0.8223 - val_loss: 0.4327 - val_accuracy: 0.7895\n",
            "Epoch 191/300\n",
            "22/22 [==============================] - 0s 4ms/step - loss: 0.4139 - accuracy: 0.8209 - val_loss: 0.4337 - val_accuracy: 0.7895\n",
            "Epoch 192/300\n",
            "22/22 [==============================] - 0s 3ms/step - loss: 0.4137 - accuracy: 0.8223 - val_loss: 0.4336 - val_accuracy: 0.7895\n",
            "Epoch 193/300\n",
            "22/22 [==============================] - 0s 4ms/step - loss: 0.4137 - accuracy: 0.8223 - val_loss: 0.4310 - val_accuracy: 0.8026\n",
            "Epoch 194/300\n",
            "22/22 [==============================] - 0s 4ms/step - loss: 0.4137 - accuracy: 0.8209 - val_loss: 0.4324 - val_accuracy: 0.8026\n",
            "Epoch 195/300\n",
            "22/22 [==============================] - 0s 4ms/step - loss: 0.4134 - accuracy: 0.8209 - val_loss: 0.4315 - val_accuracy: 0.8026\n",
            "Epoch 196/300\n",
            "22/22 [==============================] - 0s 4ms/step - loss: 0.4133 - accuracy: 0.8209 - val_loss: 0.4301 - val_accuracy: 0.8026\n",
            "Epoch 197/300\n",
            "22/22 [==============================] - 0s 4ms/step - loss: 0.4130 - accuracy: 0.8223 - val_loss: 0.4306 - val_accuracy: 0.8026\n",
            "Epoch 198/300\n",
            "22/22 [==============================] - 0s 4ms/step - loss: 0.4130 - accuracy: 0.8223 - val_loss: 0.4301 - val_accuracy: 0.8026\n",
            "Epoch 199/300\n",
            "22/22 [==============================] - 0s 5ms/step - loss: 0.4129 - accuracy: 0.8209 - val_loss: 0.4311 - val_accuracy: 0.8026\n",
            "Epoch 200/300\n",
            "22/22 [==============================] - 0s 4ms/step - loss: 0.4127 - accuracy: 0.8209 - val_loss: 0.4309 - val_accuracy: 0.8026\n",
            "Epoch 201/300\n",
            "22/22 [==============================] - 0s 4ms/step - loss: 0.4125 - accuracy: 0.8209 - val_loss: 0.4302 - val_accuracy: 0.8026\n",
            "Epoch 202/300\n",
            "22/22 [==============================] - 0s 4ms/step - loss: 0.4125 - accuracy: 0.8209 - val_loss: 0.4307 - val_accuracy: 0.8026\n",
            "Epoch 203/300\n",
            "22/22 [==============================] - 0s 4ms/step - loss: 0.4123 - accuracy: 0.8223 - val_loss: 0.4313 - val_accuracy: 0.8026\n",
            "Epoch 204/300\n",
            "22/22 [==============================] - 0s 4ms/step - loss: 0.4122 - accuracy: 0.8209 - val_loss: 0.4304 - val_accuracy: 0.8026\n",
            "Epoch 205/300\n",
            "22/22 [==============================] - 0s 4ms/step - loss: 0.4122 - accuracy: 0.8223 - val_loss: 0.4304 - val_accuracy: 0.8026\n",
            "Epoch 206/300\n",
            "22/22 [==============================] - 0s 4ms/step - loss: 0.4125 - accuracy: 0.8209 - val_loss: 0.4277 - val_accuracy: 0.8026\n",
            "Epoch 207/300\n",
            "22/22 [==============================] - 0s 4ms/step - loss: 0.4121 - accuracy: 0.8223 - val_loss: 0.4310 - val_accuracy: 0.8026\n",
            "Epoch 208/300\n",
            "22/22 [==============================] - 0s 4ms/step - loss: 0.4121 - accuracy: 0.8238 - val_loss: 0.4302 - val_accuracy: 0.8026\n",
            "Epoch 209/300\n",
            "22/22 [==============================] - 0s 4ms/step - loss: 0.4117 - accuracy: 0.8223 - val_loss: 0.4296 - val_accuracy: 0.8158\n",
            "Epoch 210/300\n",
            "22/22 [==============================] - 0s 4ms/step - loss: 0.4117 - accuracy: 0.8223 - val_loss: 0.4298 - val_accuracy: 0.8158\n",
            "Epoch 211/300\n",
            "22/22 [==============================] - 0s 4ms/step - loss: 0.4117 - accuracy: 0.8223 - val_loss: 0.4285 - val_accuracy: 0.8158\n",
            "Epoch 212/300\n",
            "22/22 [==============================] - 0s 4ms/step - loss: 0.4116 - accuracy: 0.8209 - val_loss: 0.4301 - val_accuracy: 0.8158\n",
            "Epoch 213/300\n",
            "22/22 [==============================] - 0s 4ms/step - loss: 0.4115 - accuracy: 0.8223 - val_loss: 0.4301 - val_accuracy: 0.8158\n",
            "Epoch 214/300\n",
            "22/22 [==============================] - 0s 4ms/step - loss: 0.4116 - accuracy: 0.8194 - val_loss: 0.4287 - val_accuracy: 0.8158\n",
            "Epoch 215/300\n",
            "22/22 [==============================] - 0s 4ms/step - loss: 0.4113 - accuracy: 0.8209 - val_loss: 0.4300 - val_accuracy: 0.8158\n",
            "Epoch 216/300\n",
            "22/22 [==============================] - 0s 4ms/step - loss: 0.4113 - accuracy: 0.8194 - val_loss: 0.4314 - val_accuracy: 0.8158\n",
            "Epoch 217/300\n",
            "22/22 [==============================] - 0s 4ms/step - loss: 0.4113 - accuracy: 0.8209 - val_loss: 0.4316 - val_accuracy: 0.8158\n",
            "Epoch 218/300\n",
            "22/22 [==============================] - 0s 4ms/step - loss: 0.4115 - accuracy: 0.8209 - val_loss: 0.4294 - val_accuracy: 0.8158\n",
            "Epoch 219/300\n",
            "22/22 [==============================] - 0s 4ms/step - loss: 0.4111 - accuracy: 0.8238 - val_loss: 0.4318 - val_accuracy: 0.8158\n",
            "Epoch 220/300\n",
            "22/22 [==============================] - 0s 4ms/step - loss: 0.4111 - accuracy: 0.8223 - val_loss: 0.4316 - val_accuracy: 0.8158\n",
            "Epoch 221/300\n",
            "22/22 [==============================] - 0s 4ms/step - loss: 0.4109 - accuracy: 0.8209 - val_loss: 0.4312 - val_accuracy: 0.8158\n",
            "Epoch 222/300\n",
            "22/22 [==============================] - 0s 4ms/step - loss: 0.4108 - accuracy: 0.8223 - val_loss: 0.4315 - val_accuracy: 0.8158\n",
            "Epoch 223/300\n",
            "22/22 [==============================] - 0s 4ms/step - loss: 0.4109 - accuracy: 0.8209 - val_loss: 0.4320 - val_accuracy: 0.8158\n",
            "Epoch 224/300\n",
            "22/22 [==============================] - 0s 4ms/step - loss: 0.4106 - accuracy: 0.8223 - val_loss: 0.4297 - val_accuracy: 0.8158\n",
            "Epoch 225/300\n",
            "22/22 [==============================] - 0s 4ms/step - loss: 0.4106 - accuracy: 0.8238 - val_loss: 0.4284 - val_accuracy: 0.8158\n",
            "Epoch 226/300\n",
            "22/22 [==============================] - 0s 4ms/step - loss: 0.4106 - accuracy: 0.8238 - val_loss: 0.4295 - val_accuracy: 0.8158\n",
            "Epoch 227/300\n",
            "22/22 [==============================] - 0s 4ms/step - loss: 0.4107 - accuracy: 0.8209 - val_loss: 0.4299 - val_accuracy: 0.8158\n",
            "Epoch 228/300\n",
            "22/22 [==============================] - 0s 4ms/step - loss: 0.4104 - accuracy: 0.8209 - val_loss: 0.4314 - val_accuracy: 0.8158\n",
            "Epoch 229/300\n",
            "22/22 [==============================] - 0s 4ms/step - loss: 0.4105 - accuracy: 0.8209 - val_loss: 0.4311 - val_accuracy: 0.8158\n",
            "Epoch 230/300\n",
            "22/22 [==============================] - 0s 4ms/step - loss: 0.4105 - accuracy: 0.8223 - val_loss: 0.4300 - val_accuracy: 0.8158\n",
            "Epoch 231/300\n",
            "22/22 [==============================] - 0s 4ms/step - loss: 0.4104 - accuracy: 0.8223 - val_loss: 0.4298 - val_accuracy: 0.8158\n",
            "Epoch 232/300\n",
            "22/22 [==============================] - 0s 4ms/step - loss: 0.4103 - accuracy: 0.8238 - val_loss: 0.4288 - val_accuracy: 0.8158\n",
            "Epoch 233/300\n",
            "22/22 [==============================] - 0s 4ms/step - loss: 0.4105 - accuracy: 0.8238 - val_loss: 0.4283 - val_accuracy: 0.8158\n",
            "Epoch 234/300\n",
            "22/22 [==============================] - 0s 4ms/step - loss: 0.4102 - accuracy: 0.8238 - val_loss: 0.4296 - val_accuracy: 0.8158\n",
            "Epoch 235/300\n",
            "22/22 [==============================] - 0s 4ms/step - loss: 0.4102 - accuracy: 0.8238 - val_loss: 0.4287 - val_accuracy: 0.8158\n",
            "Epoch 236/300\n",
            "22/22 [==============================] - 0s 4ms/step - loss: 0.4101 - accuracy: 0.8238 - val_loss: 0.4286 - val_accuracy: 0.8158\n",
            "Epoch 237/300\n",
            "22/22 [==============================] - 0s 4ms/step - loss: 0.4105 - accuracy: 0.8238 - val_loss: 0.4278 - val_accuracy: 0.8158\n",
            "Epoch 238/300\n",
            "22/22 [==============================] - 0s 4ms/step - loss: 0.4101 - accuracy: 0.8238 - val_loss: 0.4280 - val_accuracy: 0.8158\n",
            "Epoch 239/300\n",
            "22/22 [==============================] - 0s 4ms/step - loss: 0.4099 - accuracy: 0.8238 - val_loss: 0.4290 - val_accuracy: 0.8158\n",
            "Epoch 240/300\n",
            "22/22 [==============================] - 0s 4ms/step - loss: 0.4100 - accuracy: 0.8253 - val_loss: 0.4297 - val_accuracy: 0.8158\n",
            "Epoch 241/300\n",
            "22/22 [==============================] - 0s 4ms/step - loss: 0.4099 - accuracy: 0.8238 - val_loss: 0.4288 - val_accuracy: 0.8158\n",
            "Epoch 242/300\n",
            "22/22 [==============================] - 0s 4ms/step - loss: 0.4099 - accuracy: 0.8238 - val_loss: 0.4289 - val_accuracy: 0.8158\n",
            "Epoch 243/300\n",
            "22/22 [==============================] - 0s 4ms/step - loss: 0.4098 - accuracy: 0.8238 - val_loss: 0.4280 - val_accuracy: 0.8158\n",
            "Epoch 244/300\n",
            "22/22 [==============================] - 0s 4ms/step - loss: 0.4096 - accuracy: 0.8238 - val_loss: 0.4298 - val_accuracy: 0.8158\n",
            "Epoch 245/300\n",
            "22/22 [==============================] - 0s 4ms/step - loss: 0.4097 - accuracy: 0.8238 - val_loss: 0.4291 - val_accuracy: 0.8158\n",
            "Epoch 246/300\n",
            "22/22 [==============================] - 0s 4ms/step - loss: 0.4096 - accuracy: 0.8238 - val_loss: 0.4293 - val_accuracy: 0.8158\n",
            "Epoch 247/300\n",
            "22/22 [==============================] - 0s 4ms/step - loss: 0.4097 - accuracy: 0.8223 - val_loss: 0.4291 - val_accuracy: 0.8158\n",
            "Epoch 248/300\n",
            "22/22 [==============================] - 0s 4ms/step - loss: 0.4097 - accuracy: 0.8223 - val_loss: 0.4294 - val_accuracy: 0.8158\n",
            "Epoch 249/300\n",
            "22/22 [==============================] - 0s 4ms/step - loss: 0.4096 - accuracy: 0.8223 - val_loss: 0.4298 - val_accuracy: 0.8158\n",
            "Epoch 250/300\n",
            "22/22 [==============================] - 0s 4ms/step - loss: 0.4096 - accuracy: 0.8223 - val_loss: 0.4284 - val_accuracy: 0.8158\n",
            "Epoch 251/300\n",
            "22/22 [==============================] - 0s 4ms/step - loss: 0.4095 - accuracy: 0.8223 - val_loss: 0.4286 - val_accuracy: 0.8158\n",
            "Epoch 252/300\n",
            "22/22 [==============================] - 0s 4ms/step - loss: 0.4096 - accuracy: 0.8223 - val_loss: 0.4279 - val_accuracy: 0.8158\n",
            "Epoch 253/300\n",
            "22/22 [==============================] - 0s 5ms/step - loss: 0.4095 - accuracy: 0.8238 - val_loss: 0.4282 - val_accuracy: 0.8158\n",
            "Epoch 254/300\n",
            "22/22 [==============================] - 0s 4ms/step - loss: 0.4094 - accuracy: 0.8223 - val_loss: 0.4287 - val_accuracy: 0.8158\n",
            "Epoch 255/300\n",
            "22/22 [==============================] - 0s 5ms/step - loss: 0.4093 - accuracy: 0.8238 - val_loss: 0.4284 - val_accuracy: 0.8158\n",
            "Epoch 256/300\n",
            "22/22 [==============================] - 0s 4ms/step - loss: 0.4096 - accuracy: 0.8253 - val_loss: 0.4279 - val_accuracy: 0.8158\n",
            "Epoch 257/300\n",
            "22/22 [==============================] - 0s 4ms/step - loss: 0.4092 - accuracy: 0.8267 - val_loss: 0.4270 - val_accuracy: 0.8158\n",
            "Epoch 258/300\n",
            "22/22 [==============================] - 0s 4ms/step - loss: 0.4094 - accuracy: 0.8267 - val_loss: 0.4261 - val_accuracy: 0.8158\n",
            "Epoch 259/300\n",
            "22/22 [==============================] - 0s 5ms/step - loss: 0.4090 - accuracy: 0.8253 - val_loss: 0.4269 - val_accuracy: 0.8158\n",
            "Epoch 260/300\n",
            "22/22 [==============================] - 0s 4ms/step - loss: 0.4090 - accuracy: 0.8253 - val_loss: 0.4272 - val_accuracy: 0.8158\n",
            "Epoch 261/300\n",
            "22/22 [==============================] - 0s 4ms/step - loss: 0.4091 - accuracy: 0.8253 - val_loss: 0.4276 - val_accuracy: 0.8158\n",
            "Epoch 262/300\n",
            "22/22 [==============================] - 0s 5ms/step - loss: 0.4090 - accuracy: 0.8267 - val_loss: 0.4273 - val_accuracy: 0.8158\n",
            "Epoch 263/300\n",
            "22/22 [==============================] - 0s 5ms/step - loss: 0.4090 - accuracy: 0.8267 - val_loss: 0.4275 - val_accuracy: 0.8158\n",
            "Epoch 264/300\n",
            "22/22 [==============================] - 0s 4ms/step - loss: 0.4091 - accuracy: 0.8253 - val_loss: 0.4268 - val_accuracy: 0.8289\n",
            "Epoch 265/300\n",
            "22/22 [==============================] - 0s 4ms/step - loss: 0.4089 - accuracy: 0.8267 - val_loss: 0.4268 - val_accuracy: 0.8289\n",
            "Epoch 266/300\n",
            "22/22 [==============================] - 0s 4ms/step - loss: 0.4089 - accuracy: 0.8267 - val_loss: 0.4262 - val_accuracy: 0.8289\n",
            "Epoch 267/300\n",
            "22/22 [==============================] - 0s 4ms/step - loss: 0.4088 - accuracy: 0.8267 - val_loss: 0.4264 - val_accuracy: 0.8158\n",
            "Epoch 268/300\n",
            "22/22 [==============================] - 0s 4ms/step - loss: 0.4089 - accuracy: 0.8267 - val_loss: 0.4258 - val_accuracy: 0.8289\n",
            "Epoch 269/300\n",
            "22/22 [==============================] - 0s 4ms/step - loss: 0.4088 - accuracy: 0.8253 - val_loss: 0.4281 - val_accuracy: 0.8289\n",
            "Epoch 270/300\n",
            "22/22 [==============================] - 0s 4ms/step - loss: 0.4088 - accuracy: 0.8253 - val_loss: 0.4264 - val_accuracy: 0.8289\n",
            "Epoch 271/300\n",
            "22/22 [==============================] - 0s 4ms/step - loss: 0.4089 - accuracy: 0.8253 - val_loss: 0.4257 - val_accuracy: 0.8289\n",
            "Epoch 272/300\n",
            "22/22 [==============================] - 0s 4ms/step - loss: 0.4087 - accuracy: 0.8238 - val_loss: 0.4273 - val_accuracy: 0.8289\n",
            "Epoch 273/300\n",
            "22/22 [==============================] - 0s 4ms/step - loss: 0.4088 - accuracy: 0.8253 - val_loss: 0.4270 - val_accuracy: 0.8289\n",
            "Epoch 274/300\n",
            "22/22 [==============================] - 0s 5ms/step - loss: 0.4087 - accuracy: 0.8253 - val_loss: 0.4279 - val_accuracy: 0.8289\n",
            "Epoch 275/300\n",
            "22/22 [==============================] - 0s 4ms/step - loss: 0.4087 - accuracy: 0.8267 - val_loss: 0.4273 - val_accuracy: 0.8289\n",
            "Epoch 276/300\n",
            "22/22 [==============================] - 0s 4ms/step - loss: 0.4090 - accuracy: 0.8253 - val_loss: 0.4284 - val_accuracy: 0.8289\n",
            "Epoch 277/300\n",
            "22/22 [==============================] - 0s 4ms/step - loss: 0.4088 - accuracy: 0.8267 - val_loss: 0.4258 - val_accuracy: 0.8289\n",
            "Epoch 278/300\n",
            "22/22 [==============================] - 0s 4ms/step - loss: 0.4086 - accuracy: 0.8267 - val_loss: 0.4258 - val_accuracy: 0.8289\n",
            "Epoch 279/300\n",
            "22/22 [==============================] - 0s 4ms/step - loss: 0.4085 - accuracy: 0.8238 - val_loss: 0.4239 - val_accuracy: 0.8289\n",
            "Epoch 280/300\n",
            "22/22 [==============================] - 0s 4ms/step - loss: 0.4091 - accuracy: 0.8238 - val_loss: 0.4251 - val_accuracy: 0.8289\n",
            "Epoch 281/300\n",
            "22/22 [==============================] - 0s 4ms/step - loss: 0.4085 - accuracy: 0.8253 - val_loss: 0.4248 - val_accuracy: 0.8289\n",
            "Epoch 282/300\n",
            "22/22 [==============================] - 0s 4ms/step - loss: 0.4086 - accuracy: 0.8267 - val_loss: 0.4260 - val_accuracy: 0.8289\n",
            "Epoch 283/300\n",
            "22/22 [==============================] - 0s 4ms/step - loss: 0.4086 - accuracy: 0.8253 - val_loss: 0.4262 - val_accuracy: 0.8289\n",
            "Epoch 284/300\n",
            "22/22 [==============================] - 0s 4ms/step - loss: 0.4087 - accuracy: 0.8267 - val_loss: 0.4268 - val_accuracy: 0.8289\n",
            "Epoch 285/300\n",
            "22/22 [==============================] - 0s 4ms/step - loss: 0.4085 - accuracy: 0.8267 - val_loss: 0.4284 - val_accuracy: 0.8289\n",
            "Epoch 286/300\n",
            "22/22 [==============================] - 0s 4ms/step - loss: 0.4084 - accuracy: 0.8267 - val_loss: 0.4267 - val_accuracy: 0.8289\n",
            "Epoch 287/300\n",
            "22/22 [==============================] - 0s 4ms/step - loss: 0.4086 - accuracy: 0.8267 - val_loss: 0.4271 - val_accuracy: 0.8289\n",
            "Epoch 288/300\n",
            "22/22 [==============================] - 0s 4ms/step - loss: 0.4083 - accuracy: 0.8267 - val_loss: 0.4253 - val_accuracy: 0.8289\n",
            "Epoch 289/300\n",
            "22/22 [==============================] - 0s 4ms/step - loss: 0.4083 - accuracy: 0.8267 - val_loss: 0.4270 - val_accuracy: 0.8289\n",
            "Epoch 290/300\n",
            "22/22 [==============================] - 0s 4ms/step - loss: 0.4086 - accuracy: 0.8253 - val_loss: 0.4279 - val_accuracy: 0.8289\n",
            "Epoch 291/300\n",
            "22/22 [==============================] - 0s 4ms/step - loss: 0.4081 - accuracy: 0.8282 - val_loss: 0.4261 - val_accuracy: 0.8289\n",
            "Epoch 292/300\n",
            "22/22 [==============================] - 0s 4ms/step - loss: 0.4084 - accuracy: 0.8282 - val_loss: 0.4244 - val_accuracy: 0.8289\n",
            "Epoch 293/300\n",
            "22/22 [==============================] - 0s 4ms/step - loss: 0.4084 - accuracy: 0.8267 - val_loss: 0.4264 - val_accuracy: 0.8289\n",
            "Epoch 294/300\n",
            "22/22 [==============================] - 0s 4ms/step - loss: 0.4084 - accuracy: 0.8282 - val_loss: 0.4257 - val_accuracy: 0.8289\n",
            "Epoch 295/300\n",
            "22/22 [==============================] - 0s 4ms/step - loss: 0.4082 - accuracy: 0.8282 - val_loss: 0.4254 - val_accuracy: 0.8289\n",
            "Epoch 296/300\n",
            "22/22 [==============================] - 0s 4ms/step - loss: 0.4083 - accuracy: 0.8282 - val_loss: 0.4261 - val_accuracy: 0.8289\n",
            "Epoch 297/300\n",
            "22/22 [==============================] - 0s 4ms/step - loss: 0.4083 - accuracy: 0.8267 - val_loss: 0.4271 - val_accuracy: 0.8289\n",
            "Epoch 298/300\n",
            "22/22 [==============================] - 0s 4ms/step - loss: 0.4082 - accuracy: 0.8267 - val_loss: 0.4279 - val_accuracy: 0.8289\n",
            "Epoch 299/300\n",
            "22/22 [==============================] - 0s 4ms/step - loss: 0.4081 - accuracy: 0.8282 - val_loss: 0.4268 - val_accuracy: 0.8289\n",
            "Epoch 300/300\n",
            "22/22 [==============================] - 0s 4ms/step - loss: 0.4084 - accuracy: 0.8267 - val_loss: 0.4274 - val_accuracy: 0.8289\n"
          ]
        },
        {
          "data": {
            "text/plain": [
              "<keras.callbacks.History at 0x7fe3c00e2f50>"
            ]
          },
          "execution_count": 14,
          "metadata": {},
          "output_type": "execute_result"
        }
      ],
      "source": [
        "# Sequential API\n",
        "from tensorflow.keras.models import Sequential\n",
        "from tensorflow.keras.layers import Dense\n",
        "\n",
        "\n",
        "\"\"\"\n",
        "dengan FUNCTIONAL API\n",
        "data_in = Input(shape=(7,1))\n",
        "hidden_1 = Dense(4, activation='relu')(data_in)\n",
        "out = Dense(1, activation='sigmoid')(hidden_1)\n",
        "\n",
        "model = Model(inputs=data_in, outputs=out)\n",
        "\"\"\"\n",
        "\n",
        "# buat arsitekturnya\n",
        "model = Sequential()\n",
        "model.add(Dense(4, activation='relu', input_shape=(7,)))  # Hidden layer 1\n",
        "model.add(Dense(1, activation='sigmoid'))  # Output layer\n",
        "\n",
        "# compile\n",
        "model.compile(loss='binary_crossentropy',\n",
        "              optimizer = 'adam',           # adam adalah optimizer paling modern\n",
        "              metrics =['accuracy'])\n",
        "\n",
        "# train\n",
        "model.fit(X_train, y_train, epochs=300, validation_data=(X_val, y_val))  "
      ]
    },
    {
      "cell_type": "code",
      "execution_count": null,
      "metadata": {
        "colab": {
          "base_uri": "https://localhost:8080/"
        },
        "id": "fXt5S9jeCGLg",
        "outputId": "f72c4d29-3c33-425c-b01a-1273d33df62f"
      },
      "outputs": [
        {
          "name": "stdout",
          "output_type": "stream",
          "text": [
            "Epoch 1/300\n",
            "22/22 [==============================] - 0s 5ms/step - loss: 0.4080 - accuracy: 0.8282 - val_loss: 0.4261 - val_accuracy: 0.8289\n",
            "Epoch 2/300\n",
            "22/22 [==============================] - 0s 3ms/step - loss: 0.4082 - accuracy: 0.8297 - val_loss: 0.4244 - val_accuracy: 0.8289\n",
            "Epoch 3/300\n",
            "22/22 [==============================] - 0s 3ms/step - loss: 0.4082 - accuracy: 0.8297 - val_loss: 0.4266 - val_accuracy: 0.8289\n",
            "Epoch 4/300\n",
            "22/22 [==============================] - 0s 11ms/step - loss: 0.4081 - accuracy: 0.8297 - val_loss: 0.4264 - val_accuracy: 0.8289\n",
            "Epoch 5/300\n",
            "22/22 [==============================] - 0s 4ms/step - loss: 0.4080 - accuracy: 0.8282 - val_loss: 0.4261 - val_accuracy: 0.8289\n",
            "Epoch 6/300\n",
            "22/22 [==============================] - 0s 4ms/step - loss: 0.4082 - accuracy: 0.8297 - val_loss: 0.4261 - val_accuracy: 0.8289\n",
            "Epoch 7/300\n",
            "22/22 [==============================] - 0s 4ms/step - loss: 0.4080 - accuracy: 0.8297 - val_loss: 0.4265 - val_accuracy: 0.8289\n",
            "Epoch 8/300\n",
            "22/22 [==============================] - 0s 4ms/step - loss: 0.4082 - accuracy: 0.8267 - val_loss: 0.4281 - val_accuracy: 0.8289\n",
            "Epoch 9/300\n",
            "22/22 [==============================] - 0s 3ms/step - loss: 0.4081 - accuracy: 0.8297 - val_loss: 0.4256 - val_accuracy: 0.8289\n",
            "Epoch 10/300\n",
            "22/22 [==============================] - 0s 4ms/step - loss: 0.4080 - accuracy: 0.8297 - val_loss: 0.4253 - val_accuracy: 0.8289\n",
            "Epoch 11/300\n",
            "22/22 [==============================] - 0s 4ms/step - loss: 0.4079 - accuracy: 0.8297 - val_loss: 0.4237 - val_accuracy: 0.8289\n",
            "Epoch 12/300\n",
            "22/22 [==============================] - 0s 4ms/step - loss: 0.4080 - accuracy: 0.8297 - val_loss: 0.4250 - val_accuracy: 0.8289\n",
            "Epoch 13/300\n",
            "22/22 [==============================] - 0s 4ms/step - loss: 0.4082 - accuracy: 0.8297 - val_loss: 0.4249 - val_accuracy: 0.8289\n",
            "Epoch 14/300\n",
            "22/22 [==============================] - 0s 4ms/step - loss: 0.4078 - accuracy: 0.8297 - val_loss: 0.4263 - val_accuracy: 0.8289\n",
            "Epoch 15/300\n",
            "22/22 [==============================] - 0s 4ms/step - loss: 0.4077 - accuracy: 0.8297 - val_loss: 0.4260 - val_accuracy: 0.8289\n",
            "Epoch 16/300\n",
            "22/22 [==============================] - 0s 4ms/step - loss: 0.4079 - accuracy: 0.8297 - val_loss: 0.4231 - val_accuracy: 0.8289\n",
            "Epoch 17/300\n",
            "22/22 [==============================] - 0s 4ms/step - loss: 0.4078 - accuracy: 0.8297 - val_loss: 0.4237 - val_accuracy: 0.8289\n",
            "Epoch 18/300\n",
            "22/22 [==============================] - 0s 4ms/step - loss: 0.4080 - accuracy: 0.8297 - val_loss: 0.4248 - val_accuracy: 0.8289\n",
            "Epoch 19/300\n",
            "22/22 [==============================] - 0s 4ms/step - loss: 0.4077 - accuracy: 0.8297 - val_loss: 0.4244 - val_accuracy: 0.8289\n",
            "Epoch 20/300\n",
            "22/22 [==============================] - 0s 4ms/step - loss: 0.4078 - accuracy: 0.8297 - val_loss: 0.4230 - val_accuracy: 0.8289\n",
            "Epoch 21/300\n",
            "22/22 [==============================] - 0s 4ms/step - loss: 0.4078 - accuracy: 0.8297 - val_loss: 0.4256 - val_accuracy: 0.8289\n",
            "Epoch 22/300\n",
            "22/22 [==============================] - 0s 4ms/step - loss: 0.4077 - accuracy: 0.8297 - val_loss: 0.4260 - val_accuracy: 0.8289\n",
            "Epoch 23/300\n",
            "22/22 [==============================] - 0s 4ms/step - loss: 0.4077 - accuracy: 0.8297 - val_loss: 0.4263 - val_accuracy: 0.8289\n",
            "Epoch 24/300\n",
            "22/22 [==============================] - 0s 4ms/step - loss: 0.4077 - accuracy: 0.8297 - val_loss: 0.4258 - val_accuracy: 0.8289\n",
            "Epoch 25/300\n",
            "22/22 [==============================] - 0s 3ms/step - loss: 0.4077 - accuracy: 0.8297 - val_loss: 0.4258 - val_accuracy: 0.8289\n",
            "Epoch 26/300\n",
            "22/22 [==============================] - 0s 4ms/step - loss: 0.4076 - accuracy: 0.8297 - val_loss: 0.4258 - val_accuracy: 0.8289\n",
            "Epoch 27/300\n",
            "22/22 [==============================] - 0s 4ms/step - loss: 0.4076 - accuracy: 0.8297 - val_loss: 0.4248 - val_accuracy: 0.8289\n",
            "Epoch 28/300\n",
            "22/22 [==============================] - 0s 4ms/step - loss: 0.4076 - accuracy: 0.8297 - val_loss: 0.4253 - val_accuracy: 0.8289\n",
            "Epoch 29/300\n",
            "22/22 [==============================] - 0s 4ms/step - loss: 0.4077 - accuracy: 0.8282 - val_loss: 0.4273 - val_accuracy: 0.8289\n",
            "Epoch 30/300\n",
            "22/22 [==============================] - 0s 4ms/step - loss: 0.4077 - accuracy: 0.8297 - val_loss: 0.4258 - val_accuracy: 0.8289\n",
            "Epoch 31/300\n",
            "22/22 [==============================] - 0s 4ms/step - loss: 0.4076 - accuracy: 0.8297 - val_loss: 0.4258 - val_accuracy: 0.8289\n",
            "Epoch 32/300\n",
            "22/22 [==============================] - 0s 3ms/step - loss: 0.4074 - accuracy: 0.8297 - val_loss: 0.4255 - val_accuracy: 0.8289\n",
            "Epoch 33/300\n",
            "22/22 [==============================] - 0s 3ms/step - loss: 0.4076 - accuracy: 0.8297 - val_loss: 0.4262 - val_accuracy: 0.8289\n",
            "Epoch 34/300\n",
            "22/22 [==============================] - 0s 4ms/step - loss: 0.4075 - accuracy: 0.8282 - val_loss: 0.4255 - val_accuracy: 0.8289\n",
            "Epoch 35/300\n",
            "22/22 [==============================] - 0s 4ms/step - loss: 0.4077 - accuracy: 0.8282 - val_loss: 0.4270 - val_accuracy: 0.8289\n",
            "Epoch 36/300\n",
            "22/22 [==============================] - 0s 4ms/step - loss: 0.4075 - accuracy: 0.8282 - val_loss: 0.4264 - val_accuracy: 0.8289\n",
            "Epoch 37/300\n",
            "22/22 [==============================] - 0s 4ms/step - loss: 0.4074 - accuracy: 0.8282 - val_loss: 0.4259 - val_accuracy: 0.8289\n",
            "Epoch 38/300\n",
            "22/22 [==============================] - 0s 4ms/step - loss: 0.4074 - accuracy: 0.8282 - val_loss: 0.4258 - val_accuracy: 0.8289\n",
            "Epoch 39/300\n",
            "22/22 [==============================] - 0s 4ms/step - loss: 0.4076 - accuracy: 0.8282 - val_loss: 0.4259 - val_accuracy: 0.8289\n",
            "Epoch 40/300\n",
            "22/22 [==============================] - 0s 4ms/step - loss: 0.4078 - accuracy: 0.8297 - val_loss: 0.4233 - val_accuracy: 0.8289\n",
            "Epoch 41/300\n",
            "22/22 [==============================] - 0s 4ms/step - loss: 0.4075 - accuracy: 0.8297 - val_loss: 0.4251 - val_accuracy: 0.8289\n",
            "Epoch 42/300\n",
            "22/22 [==============================] - 0s 4ms/step - loss: 0.4074 - accuracy: 0.8297 - val_loss: 0.4251 - val_accuracy: 0.8289\n",
            "Epoch 43/300\n",
            "22/22 [==============================] - 0s 4ms/step - loss: 0.4074 - accuracy: 0.8297 - val_loss: 0.4255 - val_accuracy: 0.8289\n",
            "Epoch 44/300\n",
            "22/22 [==============================] - 0s 4ms/step - loss: 0.4075 - accuracy: 0.8282 - val_loss: 0.4248 - val_accuracy: 0.8289\n",
            "Epoch 45/300\n",
            "22/22 [==============================] - 0s 4ms/step - loss: 0.4073 - accuracy: 0.8282 - val_loss: 0.4278 - val_accuracy: 0.8289\n",
            "Epoch 46/300\n",
            "22/22 [==============================] - 0s 4ms/step - loss: 0.4074 - accuracy: 0.8282 - val_loss: 0.4283 - val_accuracy: 0.8289\n",
            "Epoch 47/300\n",
            "22/22 [==============================] - 0s 4ms/step - loss: 0.4073 - accuracy: 0.8282 - val_loss: 0.4266 - val_accuracy: 0.8289\n",
            "Epoch 48/300\n",
            "22/22 [==============================] - 0s 4ms/step - loss: 0.4074 - accuracy: 0.8267 - val_loss: 0.4273 - val_accuracy: 0.8289\n",
            "Epoch 49/300\n",
            "22/22 [==============================] - 0s 4ms/step - loss: 0.4075 - accuracy: 0.8282 - val_loss: 0.4235 - val_accuracy: 0.8289\n",
            "Epoch 50/300\n",
            "22/22 [==============================] - 0s 4ms/step - loss: 0.4074 - accuracy: 0.8297 - val_loss: 0.4248 - val_accuracy: 0.8289\n",
            "Epoch 51/300\n",
            "22/22 [==============================] - 0s 4ms/step - loss: 0.4074 - accuracy: 0.8297 - val_loss: 0.4248 - val_accuracy: 0.8289\n",
            "Epoch 52/300\n",
            "22/22 [==============================] - 0s 4ms/step - loss: 0.4075 - accuracy: 0.8297 - val_loss: 0.4250 - val_accuracy: 0.8289\n",
            "Epoch 53/300\n",
            "22/22 [==============================] - 0s 4ms/step - loss: 0.4073 - accuracy: 0.8282 - val_loss: 0.4251 - val_accuracy: 0.8289\n",
            "Epoch 54/300\n",
            "22/22 [==============================] - 0s 4ms/step - loss: 0.4073 - accuracy: 0.8297 - val_loss: 0.4232 - val_accuracy: 0.8289\n",
            "Epoch 55/300\n",
            "22/22 [==============================] - 0s 4ms/step - loss: 0.4075 - accuracy: 0.8282 - val_loss: 0.4245 - val_accuracy: 0.8289\n",
            "Epoch 56/300\n",
            "22/22 [==============================] - 0s 4ms/step - loss: 0.4072 - accuracy: 0.8297 - val_loss: 0.4242 - val_accuracy: 0.8289\n",
            "Epoch 57/300\n",
            "22/22 [==============================] - 0s 4ms/step - loss: 0.4076 - accuracy: 0.8282 - val_loss: 0.4253 - val_accuracy: 0.8289\n",
            "Epoch 58/300\n",
            "22/22 [==============================] - 0s 4ms/step - loss: 0.4076 - accuracy: 0.8297 - val_loss: 0.4240 - val_accuracy: 0.8289\n",
            "Epoch 59/300\n",
            "22/22 [==============================] - 0s 4ms/step - loss: 0.4073 - accuracy: 0.8297 - val_loss: 0.4241 - val_accuracy: 0.8289\n",
            "Epoch 60/300\n",
            "22/22 [==============================] - 0s 4ms/step - loss: 0.4074 - accuracy: 0.8282 - val_loss: 0.4254 - val_accuracy: 0.8289\n",
            "Epoch 61/300\n",
            "22/22 [==============================] - 0s 4ms/step - loss: 0.4073 - accuracy: 0.8282 - val_loss: 0.4249 - val_accuracy: 0.8289\n",
            "Epoch 62/300\n",
            "22/22 [==============================] - 0s 4ms/step - loss: 0.4072 - accuracy: 0.8282 - val_loss: 0.4252 - val_accuracy: 0.8289\n",
            "Epoch 63/300\n",
            "22/22 [==============================] - 0s 5ms/step - loss: 0.4072 - accuracy: 0.8297 - val_loss: 0.4231 - val_accuracy: 0.8289\n",
            "Epoch 64/300\n",
            "22/22 [==============================] - 0s 4ms/step - loss: 0.4073 - accuracy: 0.8297 - val_loss: 0.4237 - val_accuracy: 0.8289\n",
            "Epoch 65/300\n",
            "22/22 [==============================] - 0s 4ms/step - loss: 0.4072 - accuracy: 0.8297 - val_loss: 0.4222 - val_accuracy: 0.8289\n",
            "Epoch 66/300\n",
            "22/22 [==============================] - 0s 4ms/step - loss: 0.4072 - accuracy: 0.8297 - val_loss: 0.4235 - val_accuracy: 0.8289\n",
            "Epoch 67/300\n",
            "22/22 [==============================] - 0s 4ms/step - loss: 0.4072 - accuracy: 0.8297 - val_loss: 0.4237 - val_accuracy: 0.8289\n",
            "Epoch 68/300\n",
            "22/22 [==============================] - 0s 4ms/step - loss: 0.4074 - accuracy: 0.8297 - val_loss: 0.4248 - val_accuracy: 0.8289\n",
            "Epoch 69/300\n",
            "22/22 [==============================] - 0s 4ms/step - loss: 0.4071 - accuracy: 0.8282 - val_loss: 0.4237 - val_accuracy: 0.8289\n",
            "Epoch 70/300\n",
            "22/22 [==============================] - 0s 4ms/step - loss: 0.4074 - accuracy: 0.8297 - val_loss: 0.4238 - val_accuracy: 0.8289\n",
            "Epoch 71/300\n",
            "22/22 [==============================] - 0s 4ms/step - loss: 0.4073 - accuracy: 0.8297 - val_loss: 0.4227 - val_accuracy: 0.8289\n",
            "Epoch 72/300\n",
            "22/22 [==============================] - 0s 4ms/step - loss: 0.4069 - accuracy: 0.8297 - val_loss: 0.4247 - val_accuracy: 0.8289\n",
            "Epoch 73/300\n",
            "22/22 [==============================] - 0s 4ms/step - loss: 0.4072 - accuracy: 0.8297 - val_loss: 0.4235 - val_accuracy: 0.8289\n",
            "Epoch 74/300\n",
            "22/22 [==============================] - 0s 4ms/step - loss: 0.4071 - accuracy: 0.8297 - val_loss: 0.4248 - val_accuracy: 0.8289\n",
            "Epoch 75/300\n",
            "22/22 [==============================] - 0s 4ms/step - loss: 0.4072 - accuracy: 0.8282 - val_loss: 0.4255 - val_accuracy: 0.8289\n",
            "Epoch 76/300\n",
            "22/22 [==============================] - 0s 4ms/step - loss: 0.4071 - accuracy: 0.8297 - val_loss: 0.4237 - val_accuracy: 0.8289\n",
            "Epoch 77/300\n",
            "22/22 [==============================] - 0s 4ms/step - loss: 0.4072 - accuracy: 0.8282 - val_loss: 0.4243 - val_accuracy: 0.8289\n",
            "Epoch 78/300\n",
            "22/22 [==============================] - 0s 4ms/step - loss: 0.4072 - accuracy: 0.8282 - val_loss: 0.4232 - val_accuracy: 0.8289\n",
            "Epoch 79/300\n",
            "22/22 [==============================] - 0s 4ms/step - loss: 0.4070 - accuracy: 0.8297 - val_loss: 0.4229 - val_accuracy: 0.8289\n",
            "Epoch 80/300\n",
            "22/22 [==============================] - 0s 5ms/step - loss: 0.4071 - accuracy: 0.8297 - val_loss: 0.4227 - val_accuracy: 0.8289\n",
            "Epoch 81/300\n",
            "22/22 [==============================] - 0s 7ms/step - loss: 0.4069 - accuracy: 0.8297 - val_loss: 0.4231 - val_accuracy: 0.8289\n",
            "Epoch 82/300\n",
            "22/22 [==============================] - 0s 7ms/step - loss: 0.4070 - accuracy: 0.8297 - val_loss: 0.4232 - val_accuracy: 0.8289\n",
            "Epoch 83/300\n",
            "22/22 [==============================] - 0s 7ms/step - loss: 0.4071 - accuracy: 0.8297 - val_loss: 0.4244 - val_accuracy: 0.8289\n",
            "Epoch 84/300\n",
            "22/22 [==============================] - 0s 4ms/step - loss: 0.4070 - accuracy: 0.8297 - val_loss: 0.4239 - val_accuracy: 0.8289\n",
            "Epoch 85/300\n",
            "22/22 [==============================] - 0s 4ms/step - loss: 0.4070 - accuracy: 0.8297 - val_loss: 0.4241 - val_accuracy: 0.8289\n",
            "Epoch 86/300\n",
            "22/22 [==============================] - 0s 8ms/step - loss: 0.4070 - accuracy: 0.8297 - val_loss: 0.4237 - val_accuracy: 0.8289\n",
            "Epoch 87/300\n",
            "22/22 [==============================] - 0s 4ms/step - loss: 0.4069 - accuracy: 0.8282 - val_loss: 0.4237 - val_accuracy: 0.8289\n",
            "Epoch 88/300\n",
            "22/22 [==============================] - 0s 4ms/step - loss: 0.4071 - accuracy: 0.8297 - val_loss: 0.4251 - val_accuracy: 0.8289\n",
            "Epoch 89/300\n",
            "22/22 [==============================] - 0s 6ms/step - loss: 0.4072 - accuracy: 0.8297 - val_loss: 0.4218 - val_accuracy: 0.8289\n",
            "Epoch 90/300\n",
            "22/22 [==============================] - 0s 4ms/step - loss: 0.4070 - accuracy: 0.8297 - val_loss: 0.4248 - val_accuracy: 0.8289\n",
            "Epoch 91/300\n",
            "22/22 [==============================] - 0s 4ms/step - loss: 0.4070 - accuracy: 0.8297 - val_loss: 0.4231 - val_accuracy: 0.8289\n",
            "Epoch 92/300\n",
            "22/22 [==============================] - 0s 5ms/step - loss: 0.4069 - accuracy: 0.8311 - val_loss: 0.4244 - val_accuracy: 0.8289\n",
            "Epoch 93/300\n",
            "22/22 [==============================] - 0s 5ms/step - loss: 0.4070 - accuracy: 0.8311 - val_loss: 0.4251 - val_accuracy: 0.8289\n",
            "Epoch 94/300\n",
            "22/22 [==============================] - 0s 4ms/step - loss: 0.4068 - accuracy: 0.8297 - val_loss: 0.4241 - val_accuracy: 0.8289\n",
            "Epoch 95/300\n",
            "22/22 [==============================] - 0s 4ms/step - loss: 0.4070 - accuracy: 0.8297 - val_loss: 0.4250 - val_accuracy: 0.8289\n",
            "Epoch 96/300\n",
            "22/22 [==============================] - 0s 6ms/step - loss: 0.4068 - accuracy: 0.8297 - val_loss: 0.4241 - val_accuracy: 0.8289\n",
            "Epoch 97/300\n",
            "22/22 [==============================] - 0s 4ms/step - loss: 0.4068 - accuracy: 0.8297 - val_loss: 0.4233 - val_accuracy: 0.8289\n",
            "Epoch 98/300\n",
            "22/22 [==============================] - 0s 4ms/step - loss: 0.4069 - accuracy: 0.8297 - val_loss: 0.4233 - val_accuracy: 0.8289\n",
            "Epoch 99/300\n",
            "22/22 [==============================] - 0s 6ms/step - loss: 0.4069 - accuracy: 0.8297 - val_loss: 0.4235 - val_accuracy: 0.8289\n",
            "Epoch 100/300\n",
            "22/22 [==============================] - 0s 5ms/step - loss: 0.4069 - accuracy: 0.8297 - val_loss: 0.4218 - val_accuracy: 0.8289\n",
            "Epoch 101/300\n",
            "22/22 [==============================] - 0s 4ms/step - loss: 0.4068 - accuracy: 0.8297 - val_loss: 0.4224 - val_accuracy: 0.8289\n",
            "Epoch 102/300\n",
            "22/22 [==============================] - 0s 5ms/step - loss: 0.4069 - accuracy: 0.8297 - val_loss: 0.4231 - val_accuracy: 0.8289\n",
            "Epoch 103/300\n",
            "22/22 [==============================] - 0s 8ms/step - loss: 0.4071 - accuracy: 0.8282 - val_loss: 0.4240 - val_accuracy: 0.8289\n",
            "Epoch 104/300\n",
            "22/22 [==============================] - 0s 5ms/step - loss: 0.4069 - accuracy: 0.8282 - val_loss: 0.4230 - val_accuracy: 0.8289\n",
            "Epoch 105/300\n",
            "22/22 [==============================] - 0s 6ms/step - loss: 0.4068 - accuracy: 0.8311 - val_loss: 0.4240 - val_accuracy: 0.8289\n",
            "Epoch 106/300\n",
            "22/22 [==============================] - 0s 5ms/step - loss: 0.4068 - accuracy: 0.8282 - val_loss: 0.4249 - val_accuracy: 0.8289\n",
            "Epoch 107/300\n",
            "22/22 [==============================] - 0s 7ms/step - loss: 0.4069 - accuracy: 0.8297 - val_loss: 0.4245 - val_accuracy: 0.8289\n",
            "Epoch 108/300\n",
            "22/22 [==============================] - 0s 5ms/step - loss: 0.4066 - accuracy: 0.8282 - val_loss: 0.4239 - val_accuracy: 0.8289\n",
            "Epoch 109/300\n",
            "22/22 [==============================] - 0s 4ms/step - loss: 0.4069 - accuracy: 0.8311 - val_loss: 0.4225 - val_accuracy: 0.8289\n",
            "Epoch 110/300\n",
            "22/22 [==============================] - 0s 4ms/step - loss: 0.4067 - accuracy: 0.8311 - val_loss: 0.4226 - val_accuracy: 0.8289\n",
            "Epoch 111/300\n",
            "22/22 [==============================] - 0s 6ms/step - loss: 0.4067 - accuracy: 0.8297 - val_loss: 0.4215 - val_accuracy: 0.8289\n",
            "Epoch 112/300\n",
            "22/22 [==============================] - 0s 6ms/step - loss: 0.4066 - accuracy: 0.8311 - val_loss: 0.4222 - val_accuracy: 0.8289\n",
            "Epoch 113/300\n",
            "22/22 [==============================] - 0s 6ms/step - loss: 0.4068 - accuracy: 0.8282 - val_loss: 0.4206 - val_accuracy: 0.8289\n",
            "Epoch 114/300\n",
            "22/22 [==============================] - 0s 6ms/step - loss: 0.4068 - accuracy: 0.8297 - val_loss: 0.4225 - val_accuracy: 0.8289\n",
            "Epoch 115/300\n",
            "22/22 [==============================] - 0s 6ms/step - loss: 0.4067 - accuracy: 0.8297 - val_loss: 0.4229 - val_accuracy: 0.8289\n",
            "Epoch 116/300\n",
            "22/22 [==============================] - 0s 6ms/step - loss: 0.4065 - accuracy: 0.8297 - val_loss: 0.4223 - val_accuracy: 0.8289\n",
            "Epoch 117/300\n",
            "22/22 [==============================] - 0s 6ms/step - loss: 0.4066 - accuracy: 0.8282 - val_loss: 0.4232 - val_accuracy: 0.8289\n",
            "Epoch 118/300\n",
            "22/22 [==============================] - 0s 7ms/step - loss: 0.4065 - accuracy: 0.8311 - val_loss: 0.4219 - val_accuracy: 0.8289\n",
            "Epoch 119/300\n",
            "22/22 [==============================] - 0s 6ms/step - loss: 0.4066 - accuracy: 0.8297 - val_loss: 0.4207 - val_accuracy: 0.8289\n",
            "Epoch 120/300\n",
            "22/22 [==============================] - 0s 6ms/step - loss: 0.4065 - accuracy: 0.8282 - val_loss: 0.4209 - val_accuracy: 0.8289\n",
            "Epoch 121/300\n",
            "22/22 [==============================] - 0s 8ms/step - loss: 0.4065 - accuracy: 0.8297 - val_loss: 0.4184 - val_accuracy: 0.8289\n",
            "Epoch 122/300\n",
            "22/22 [==============================] - 0s 6ms/step - loss: 0.4067 - accuracy: 0.8282 - val_loss: 0.4199 - val_accuracy: 0.8289\n",
            "Epoch 123/300\n",
            "22/22 [==============================] - 0s 7ms/step - loss: 0.4065 - accuracy: 0.8282 - val_loss: 0.4183 - val_accuracy: 0.8289\n",
            "Epoch 124/300\n",
            "22/22 [==============================] - 0s 6ms/step - loss: 0.4064 - accuracy: 0.8282 - val_loss: 0.4186 - val_accuracy: 0.8289\n",
            "Epoch 125/300\n",
            "22/22 [==============================] - 0s 5ms/step - loss: 0.4064 - accuracy: 0.8282 - val_loss: 0.4182 - val_accuracy: 0.8289\n",
            "Epoch 126/300\n",
            "22/22 [==============================] - 0s 4ms/step - loss: 0.4064 - accuracy: 0.8282 - val_loss: 0.4178 - val_accuracy: 0.8289\n",
            "Epoch 127/300\n",
            "22/22 [==============================] - 0s 4ms/step - loss: 0.4065 - accuracy: 0.8282 - val_loss: 0.4182 - val_accuracy: 0.8289\n",
            "Epoch 128/300\n",
            "22/22 [==============================] - 0s 6ms/step - loss: 0.4065 - accuracy: 0.8282 - val_loss: 0.4176 - val_accuracy: 0.8289\n",
            "Epoch 129/300\n",
            "22/22 [==============================] - 0s 5ms/step - loss: 0.4067 - accuracy: 0.8282 - val_loss: 0.4186 - val_accuracy: 0.8289\n",
            "Epoch 130/300\n",
            "22/22 [==============================] - 0s 4ms/step - loss: 0.4062 - accuracy: 0.8282 - val_loss: 0.4204 - val_accuracy: 0.8289\n",
            "Epoch 131/300\n",
            "22/22 [==============================] - 0s 4ms/step - loss: 0.4064 - accuracy: 0.8297 - val_loss: 0.4208 - val_accuracy: 0.8289\n",
            "Epoch 132/300\n",
            "22/22 [==============================] - 0s 5ms/step - loss: 0.4063 - accuracy: 0.8297 - val_loss: 0.4202 - val_accuracy: 0.8289\n",
            "Epoch 133/300\n",
            "22/22 [==============================] - 0s 5ms/step - loss: 0.4064 - accuracy: 0.8297 - val_loss: 0.4189 - val_accuracy: 0.8289\n",
            "Epoch 134/300\n",
            "22/22 [==============================] - 0s 4ms/step - loss: 0.4064 - accuracy: 0.8297 - val_loss: 0.4206 - val_accuracy: 0.8289\n",
            "Epoch 135/300\n",
            "22/22 [==============================] - 0s 5ms/step - loss: 0.4064 - accuracy: 0.8297 - val_loss: 0.4196 - val_accuracy: 0.8289\n",
            "Epoch 136/300\n",
            "22/22 [==============================] - 0s 4ms/step - loss: 0.4063 - accuracy: 0.8297 - val_loss: 0.4191 - val_accuracy: 0.8289\n",
            "Epoch 137/300\n",
            "22/22 [==============================] - 0s 4ms/step - loss: 0.4063 - accuracy: 0.8297 - val_loss: 0.4191 - val_accuracy: 0.8289\n",
            "Epoch 138/300\n",
            "22/22 [==============================] - 0s 4ms/step - loss: 0.4063 - accuracy: 0.8282 - val_loss: 0.4182 - val_accuracy: 0.8289\n",
            "Epoch 139/300\n",
            "22/22 [==============================] - 0s 6ms/step - loss: 0.4063 - accuracy: 0.8297 - val_loss: 0.4192 - val_accuracy: 0.8289\n",
            "Epoch 140/300\n",
            "22/22 [==============================] - 0s 5ms/step - loss: 0.4062 - accuracy: 0.8282 - val_loss: 0.4177 - val_accuracy: 0.8289\n",
            "Epoch 141/300\n",
            "22/22 [==============================] - 0s 4ms/step - loss: 0.4064 - accuracy: 0.8282 - val_loss: 0.4181 - val_accuracy: 0.8289\n",
            "Epoch 142/300\n",
            "22/22 [==============================] - 0s 5ms/step - loss: 0.4065 - accuracy: 0.8267 - val_loss: 0.4195 - val_accuracy: 0.8289\n",
            "Epoch 143/300\n",
            "22/22 [==============================] - 0s 6ms/step - loss: 0.4062 - accuracy: 0.8282 - val_loss: 0.4178 - val_accuracy: 0.8289\n",
            "Epoch 144/300\n",
            "22/22 [==============================] - 0s 6ms/step - loss: 0.4062 - accuracy: 0.8282 - val_loss: 0.4182 - val_accuracy: 0.8289\n",
            "Epoch 145/300\n",
            "22/22 [==============================] - 0s 6ms/step - loss: 0.4062 - accuracy: 0.8282 - val_loss: 0.4182 - val_accuracy: 0.8289\n",
            "Epoch 146/300\n",
            "22/22 [==============================] - 0s 7ms/step - loss: 0.4062 - accuracy: 0.8297 - val_loss: 0.4195 - val_accuracy: 0.8289\n",
            "Epoch 147/300\n",
            "22/22 [==============================] - 0s 6ms/step - loss: 0.4061 - accuracy: 0.8297 - val_loss: 0.4180 - val_accuracy: 0.8289\n",
            "Epoch 148/300\n",
            "22/22 [==============================] - 0s 6ms/step - loss: 0.4060 - accuracy: 0.8297 - val_loss: 0.4180 - val_accuracy: 0.8289\n",
            "Epoch 149/300\n",
            "22/22 [==============================] - 0s 6ms/step - loss: 0.4061 - accuracy: 0.8297 - val_loss: 0.4196 - val_accuracy: 0.8289\n",
            "Epoch 150/300\n",
            "22/22 [==============================] - 0s 6ms/step - loss: 0.4062 - accuracy: 0.8282 - val_loss: 0.4209 - val_accuracy: 0.8289\n",
            "Epoch 151/300\n",
            "22/22 [==============================] - 0s 6ms/step - loss: 0.4059 - accuracy: 0.8282 - val_loss: 0.4201 - val_accuracy: 0.8289\n",
            "Epoch 152/300\n",
            "22/22 [==============================] - 0s 6ms/step - loss: 0.4059 - accuracy: 0.8282 - val_loss: 0.4199 - val_accuracy: 0.8289\n",
            "Epoch 153/300\n",
            "22/22 [==============================] - 0s 7ms/step - loss: 0.4060 - accuracy: 0.8282 - val_loss: 0.4201 - val_accuracy: 0.8289\n",
            "Epoch 154/300\n",
            "22/22 [==============================] - 0s 7ms/step - loss: 0.4059 - accuracy: 0.8282 - val_loss: 0.4199 - val_accuracy: 0.8289\n",
            "Epoch 155/300\n",
            "22/22 [==============================] - 0s 6ms/step - loss: 0.4060 - accuracy: 0.8267 - val_loss: 0.4204 - val_accuracy: 0.8289\n",
            "Epoch 156/300\n",
            "22/22 [==============================] - 0s 6ms/step - loss: 0.4059 - accuracy: 0.8297 - val_loss: 0.4185 - val_accuracy: 0.8289\n",
            "Epoch 157/300\n",
            "22/22 [==============================] - 0s 6ms/step - loss: 0.4059 - accuracy: 0.8297 - val_loss: 0.4184 - val_accuracy: 0.8289\n",
            "Epoch 158/300\n",
            "22/22 [==============================] - 0s 7ms/step - loss: 0.4058 - accuracy: 0.8297 - val_loss: 0.4183 - val_accuracy: 0.8289\n",
            "Epoch 159/300\n",
            "22/22 [==============================] - 0s 4ms/step - loss: 0.4060 - accuracy: 0.8297 - val_loss: 0.4183 - val_accuracy: 0.8289\n",
            "Epoch 160/300\n",
            "22/22 [==============================] - 0s 4ms/step - loss: 0.4057 - accuracy: 0.8297 - val_loss: 0.4188 - val_accuracy: 0.8289\n",
            "Epoch 161/300\n",
            "22/22 [==============================] - 0s 4ms/step - loss: 0.4058 - accuracy: 0.8282 - val_loss: 0.4195 - val_accuracy: 0.8289\n",
            "Epoch 162/300\n",
            "22/22 [==============================] - 0s 4ms/step - loss: 0.4057 - accuracy: 0.8297 - val_loss: 0.4176 - val_accuracy: 0.8289\n",
            "Epoch 163/300\n",
            "22/22 [==============================] - 0s 4ms/step - loss: 0.4057 - accuracy: 0.8297 - val_loss: 0.4186 - val_accuracy: 0.8289\n",
            "Epoch 164/300\n",
            "22/22 [==============================] - 0s 4ms/step - loss: 0.4057 - accuracy: 0.8297 - val_loss: 0.4182 - val_accuracy: 0.8289\n",
            "Epoch 165/300\n",
            "22/22 [==============================] - 0s 4ms/step - loss: 0.4056 - accuracy: 0.8297 - val_loss: 0.4184 - val_accuracy: 0.8289\n",
            "Epoch 166/300\n",
            "22/22 [==============================] - 0s 5ms/step - loss: 0.4057 - accuracy: 0.8282 - val_loss: 0.4202 - val_accuracy: 0.8289\n",
            "Epoch 167/300\n",
            "22/22 [==============================] - 0s 4ms/step - loss: 0.4056 - accuracy: 0.8282 - val_loss: 0.4200 - val_accuracy: 0.8289\n",
            "Epoch 168/300\n",
            "22/22 [==============================] - 0s 4ms/step - loss: 0.4055 - accuracy: 0.8282 - val_loss: 0.4191 - val_accuracy: 0.8289\n",
            "Epoch 169/300\n",
            "22/22 [==============================] - 0s 4ms/step - loss: 0.4058 - accuracy: 0.8297 - val_loss: 0.4178 - val_accuracy: 0.8289\n",
            "Epoch 170/300\n",
            "22/22 [==============================] - 0s 4ms/step - loss: 0.4056 - accuracy: 0.8297 - val_loss: 0.4175 - val_accuracy: 0.8289\n",
            "Epoch 171/300\n",
            "22/22 [==============================] - 0s 4ms/step - loss: 0.4055 - accuracy: 0.8297 - val_loss: 0.4181 - val_accuracy: 0.8289\n",
            "Epoch 172/300\n",
            "22/22 [==============================] - 0s 4ms/step - loss: 0.4055 - accuracy: 0.8282 - val_loss: 0.4194 - val_accuracy: 0.8289\n",
            "Epoch 173/300\n",
            "22/22 [==============================] - 0s 4ms/step - loss: 0.4056 - accuracy: 0.8282 - val_loss: 0.4183 - val_accuracy: 0.8289\n",
            "Epoch 174/300\n",
            "22/22 [==============================] - 0s 4ms/step - loss: 0.4054 - accuracy: 0.8282 - val_loss: 0.4173 - val_accuracy: 0.8289\n",
            "Epoch 175/300\n",
            "22/22 [==============================] - 0s 4ms/step - loss: 0.4056 - accuracy: 0.8297 - val_loss: 0.4153 - val_accuracy: 0.8289\n",
            "Epoch 176/300\n",
            "22/22 [==============================] - 0s 4ms/step - loss: 0.4054 - accuracy: 0.8297 - val_loss: 0.4172 - val_accuracy: 0.8289\n",
            "Epoch 177/300\n",
            "22/22 [==============================] - 0s 4ms/step - loss: 0.4054 - accuracy: 0.8297 - val_loss: 0.4157 - val_accuracy: 0.8289\n",
            "Epoch 178/300\n",
            "22/22 [==============================] - 0s 4ms/step - loss: 0.4056 - accuracy: 0.8297 - val_loss: 0.4180 - val_accuracy: 0.8289\n",
            "Epoch 179/300\n",
            "22/22 [==============================] - 0s 4ms/step - loss: 0.4056 - accuracy: 0.8297 - val_loss: 0.4164 - val_accuracy: 0.8289\n",
            "Epoch 180/300\n",
            "22/22 [==============================] - 0s 5ms/step - loss: 0.4053 - accuracy: 0.8297 - val_loss: 0.4159 - val_accuracy: 0.8289\n",
            "Epoch 181/300\n",
            "22/22 [==============================] - 0s 4ms/step - loss: 0.4053 - accuracy: 0.8297 - val_loss: 0.4173 - val_accuracy: 0.8289\n",
            "Epoch 182/300\n",
            "22/22 [==============================] - 0s 4ms/step - loss: 0.4054 - accuracy: 0.8297 - val_loss: 0.4156 - val_accuracy: 0.8289\n",
            "Epoch 183/300\n",
            "22/22 [==============================] - 0s 4ms/step - loss: 0.4053 - accuracy: 0.8297 - val_loss: 0.4175 - val_accuracy: 0.8289\n",
            "Epoch 184/300\n",
            "22/22 [==============================] - 0s 4ms/step - loss: 0.4052 - accuracy: 0.8282 - val_loss: 0.4177 - val_accuracy: 0.8289\n",
            "Epoch 185/300\n",
            "22/22 [==============================] - 0s 4ms/step - loss: 0.4052 - accuracy: 0.8297 - val_loss: 0.4179 - val_accuracy: 0.8289\n",
            "Epoch 186/300\n",
            "22/22 [==============================] - 0s 4ms/step - loss: 0.4052 - accuracy: 0.8282 - val_loss: 0.4182 - val_accuracy: 0.8289\n",
            "Epoch 187/300\n",
            "22/22 [==============================] - 0s 4ms/step - loss: 0.4050 - accuracy: 0.8297 - val_loss: 0.4167 - val_accuracy: 0.8289\n",
            "Epoch 188/300\n",
            "22/22 [==============================] - 0s 4ms/step - loss: 0.4051 - accuracy: 0.8297 - val_loss: 0.4146 - val_accuracy: 0.8289\n",
            "Epoch 189/300\n",
            "22/22 [==============================] - 0s 4ms/step - loss: 0.4050 - accuracy: 0.8311 - val_loss: 0.4149 - val_accuracy: 0.8289\n",
            "Epoch 190/300\n",
            "22/22 [==============================] - 0s 4ms/step - loss: 0.4049 - accuracy: 0.8311 - val_loss: 0.4154 - val_accuracy: 0.8289\n",
            "Epoch 191/300\n",
            "22/22 [==============================] - 0s 4ms/step - loss: 0.4050 - accuracy: 0.8311 - val_loss: 0.4163 - val_accuracy: 0.8289\n",
            "Epoch 192/300\n",
            "22/22 [==============================] - 0s 4ms/step - loss: 0.4050 - accuracy: 0.8297 - val_loss: 0.4159 - val_accuracy: 0.8289\n",
            "Epoch 193/300\n",
            "22/22 [==============================] - 0s 4ms/step - loss: 0.4050 - accuracy: 0.8297 - val_loss: 0.4133 - val_accuracy: 0.8289\n",
            "Epoch 194/300\n",
            "22/22 [==============================] - 0s 4ms/step - loss: 0.4049 - accuracy: 0.8297 - val_loss: 0.4120 - val_accuracy: 0.8289\n",
            "Epoch 195/300\n",
            "22/22 [==============================] - 0s 4ms/step - loss: 0.4049 - accuracy: 0.8297 - val_loss: 0.4146 - val_accuracy: 0.8289\n",
            "Epoch 196/300\n",
            "22/22 [==============================] - 0s 4ms/step - loss: 0.4048 - accuracy: 0.8297 - val_loss: 0.4145 - val_accuracy: 0.8289\n",
            "Epoch 197/300\n",
            "22/22 [==============================] - 0s 4ms/step - loss: 0.4049 - accuracy: 0.8297 - val_loss: 0.4164 - val_accuracy: 0.8289\n",
            "Epoch 198/300\n",
            "22/22 [==============================] - 0s 4ms/step - loss: 0.4048 - accuracy: 0.8282 - val_loss: 0.4145 - val_accuracy: 0.8289\n",
            "Epoch 199/300\n",
            "22/22 [==============================] - 0s 4ms/step - loss: 0.4047 - accuracy: 0.8297 - val_loss: 0.4149 - val_accuracy: 0.8289\n",
            "Epoch 200/300\n",
            "22/22 [==============================] - 0s 4ms/step - loss: 0.4047 - accuracy: 0.8282 - val_loss: 0.4160 - val_accuracy: 0.8289\n",
            "Epoch 201/300\n",
            "22/22 [==============================] - 0s 4ms/step - loss: 0.4046 - accuracy: 0.8282 - val_loss: 0.4173 - val_accuracy: 0.8289\n",
            "Epoch 202/300\n",
            "22/22 [==============================] - 0s 4ms/step - loss: 0.4047 - accuracy: 0.8282 - val_loss: 0.4150 - val_accuracy: 0.8289\n",
            "Epoch 203/300\n",
            "22/22 [==============================] - 0s 4ms/step - loss: 0.4046 - accuracy: 0.8297 - val_loss: 0.4154 - val_accuracy: 0.8289\n",
            "Epoch 204/300\n",
            "22/22 [==============================] - 0s 4ms/step - loss: 0.4046 - accuracy: 0.8297 - val_loss: 0.4141 - val_accuracy: 0.8289\n",
            "Epoch 205/300\n",
            "22/22 [==============================] - 0s 4ms/step - loss: 0.4050 - accuracy: 0.8297 - val_loss: 0.4123 - val_accuracy: 0.8289\n",
            "Epoch 206/300\n",
            "22/22 [==============================] - 0s 4ms/step - loss: 0.4044 - accuracy: 0.8311 - val_loss: 0.4144 - val_accuracy: 0.8289\n",
            "Epoch 207/300\n",
            "22/22 [==============================] - 0s 4ms/step - loss: 0.4047 - accuracy: 0.8297 - val_loss: 0.4149 - val_accuracy: 0.8289\n",
            "Epoch 208/300\n",
            "22/22 [==============================] - 0s 4ms/step - loss: 0.4044 - accuracy: 0.8282 - val_loss: 0.4166 - val_accuracy: 0.8289\n",
            "Epoch 209/300\n",
            "22/22 [==============================] - 0s 4ms/step - loss: 0.4045 - accuracy: 0.8297 - val_loss: 0.4157 - val_accuracy: 0.8289\n",
            "Epoch 210/300\n",
            "22/22 [==============================] - 0s 4ms/step - loss: 0.4045 - accuracy: 0.8282 - val_loss: 0.4164 - val_accuracy: 0.8289\n",
            "Epoch 211/300\n",
            "22/22 [==============================] - 0s 4ms/step - loss: 0.4043 - accuracy: 0.8282 - val_loss: 0.4169 - val_accuracy: 0.8289\n",
            "Epoch 212/300\n",
            "22/22 [==============================] - 0s 4ms/step - loss: 0.4043 - accuracy: 0.8282 - val_loss: 0.4145 - val_accuracy: 0.8289\n",
            "Epoch 213/300\n",
            "22/22 [==============================] - 0s 4ms/step - loss: 0.4043 - accuracy: 0.8297 - val_loss: 0.4136 - val_accuracy: 0.8289\n",
            "Epoch 214/300\n",
            "22/22 [==============================] - 0s 4ms/step - loss: 0.4048 - accuracy: 0.8311 - val_loss: 0.4117 - val_accuracy: 0.8289\n",
            "Epoch 215/300\n",
            "22/22 [==============================] - 0s 4ms/step - loss: 0.4041 - accuracy: 0.8311 - val_loss: 0.4145 - val_accuracy: 0.8289\n",
            "Epoch 216/300\n",
            "22/22 [==============================] - 0s 4ms/step - loss: 0.4043 - accuracy: 0.8297 - val_loss: 0.4168 - val_accuracy: 0.8289\n",
            "Epoch 217/300\n",
            "22/22 [==============================] - 0s 4ms/step - loss: 0.4043 - accuracy: 0.8282 - val_loss: 0.4187 - val_accuracy: 0.8289\n",
            "Epoch 218/300\n",
            "22/22 [==============================] - 0s 4ms/step - loss: 0.4043 - accuracy: 0.8282 - val_loss: 0.4162 - val_accuracy: 0.8289\n",
            "Epoch 219/300\n",
            "22/22 [==============================] - 0s 4ms/step - loss: 0.4040 - accuracy: 0.8297 - val_loss: 0.4152 - val_accuracy: 0.8289\n",
            "Epoch 220/300\n",
            "22/22 [==============================] - 0s 4ms/step - loss: 0.4041 - accuracy: 0.8311 - val_loss: 0.4152 - val_accuracy: 0.8289\n",
            "Epoch 221/300\n",
            "22/22 [==============================] - 0s 5ms/step - loss: 0.4042 - accuracy: 0.8297 - val_loss: 0.4150 - val_accuracy: 0.8289\n",
            "Epoch 222/300\n",
            "22/22 [==============================] - 0s 4ms/step - loss: 0.4039 - accuracy: 0.8311 - val_loss: 0.4170 - val_accuracy: 0.8289\n",
            "Epoch 223/300\n",
            "22/22 [==============================] - 0s 4ms/step - loss: 0.4041 - accuracy: 0.8297 - val_loss: 0.4177 - val_accuracy: 0.8289\n",
            "Epoch 224/300\n",
            "22/22 [==============================] - 0s 4ms/step - loss: 0.4040 - accuracy: 0.8297 - val_loss: 0.4171 - val_accuracy: 0.8289\n",
            "Epoch 225/300\n",
            "22/22 [==============================] - 0s 4ms/step - loss: 0.4041 - accuracy: 0.8311 - val_loss: 0.4169 - val_accuracy: 0.8289\n",
            "Epoch 226/300\n",
            "22/22 [==============================] - 0s 4ms/step - loss: 0.4039 - accuracy: 0.8311 - val_loss: 0.4170 - val_accuracy: 0.8289\n",
            "Epoch 227/300\n",
            "22/22 [==============================] - 0s 4ms/step - loss: 0.4040 - accuracy: 0.8311 - val_loss: 0.4159 - val_accuracy: 0.8289\n",
            "Epoch 228/300\n",
            "22/22 [==============================] - 0s 4ms/step - loss: 0.4041 - accuracy: 0.8311 - val_loss: 0.4160 - val_accuracy: 0.8158\n",
            "Epoch 229/300\n",
            "22/22 [==============================] - 0s 4ms/step - loss: 0.4042 - accuracy: 0.8311 - val_loss: 0.4197 - val_accuracy: 0.8289\n",
            "Epoch 230/300\n",
            "22/22 [==============================] - 0s 4ms/step - loss: 0.4037 - accuracy: 0.8311 - val_loss: 0.4170 - val_accuracy: 0.8158\n",
            "Epoch 231/300\n",
            "22/22 [==============================] - 0s 4ms/step - loss: 0.4038 - accuracy: 0.8311 - val_loss: 0.4169 - val_accuracy: 0.8158\n",
            "Epoch 232/300\n",
            "22/22 [==============================] - 0s 4ms/step - loss: 0.4039 - accuracy: 0.8311 - val_loss: 0.4170 - val_accuracy: 0.8289\n",
            "Epoch 233/300\n",
            "22/22 [==============================] - 0s 4ms/step - loss: 0.4038 - accuracy: 0.8311 - val_loss: 0.4155 - val_accuracy: 0.8158\n",
            "Epoch 234/300\n",
            "22/22 [==============================] - 0s 4ms/step - loss: 0.4038 - accuracy: 0.8311 - val_loss: 0.4160 - val_accuracy: 0.8289\n",
            "Epoch 235/300\n",
            "22/22 [==============================] - 0s 4ms/step - loss: 0.4041 - accuracy: 0.8311 - val_loss: 0.4159 - val_accuracy: 0.8158\n",
            "Epoch 236/300\n",
            "22/22 [==============================] - 0s 4ms/step - loss: 0.4037 - accuracy: 0.8311 - val_loss: 0.4151 - val_accuracy: 0.8289\n",
            "Epoch 237/300\n",
            "22/22 [==============================] - 0s 4ms/step - loss: 0.4038 - accuracy: 0.8311 - val_loss: 0.4158 - val_accuracy: 0.8158\n",
            "Epoch 238/300\n",
            "22/22 [==============================] - 0s 4ms/step - loss: 0.4037 - accuracy: 0.8311 - val_loss: 0.4148 - val_accuracy: 0.8158\n",
            "Epoch 239/300\n",
            "22/22 [==============================] - 0s 4ms/step - loss: 0.4039 - accuracy: 0.8311 - val_loss: 0.4171 - val_accuracy: 0.8158\n",
            "Epoch 240/300\n",
            "22/22 [==============================] - 0s 4ms/step - loss: 0.4037 - accuracy: 0.8311 - val_loss: 0.4171 - val_accuracy: 0.8158\n",
            "Epoch 241/300\n",
            "22/22 [==============================] - 0s 4ms/step - loss: 0.4037 - accuracy: 0.8311 - val_loss: 0.4181 - val_accuracy: 0.8158\n",
            "Epoch 242/300\n",
            "22/22 [==============================] - 0s 4ms/step - loss: 0.4035 - accuracy: 0.8311 - val_loss: 0.4169 - val_accuracy: 0.8158\n",
            "Epoch 243/300\n",
            "22/22 [==============================] - 0s 4ms/step - loss: 0.4037 - accuracy: 0.8311 - val_loss: 0.4167 - val_accuracy: 0.8289\n",
            "Epoch 244/300\n",
            "22/22 [==============================] - 0s 4ms/step - loss: 0.4035 - accuracy: 0.8311 - val_loss: 0.4157 - val_accuracy: 0.8158\n",
            "Epoch 245/300\n",
            "22/22 [==============================] - 0s 4ms/step - loss: 0.4035 - accuracy: 0.8311 - val_loss: 0.4156 - val_accuracy: 0.8158\n",
            "Epoch 246/300\n",
            "22/22 [==============================] - 0s 4ms/step - loss: 0.4034 - accuracy: 0.8326 - val_loss: 0.4158 - val_accuracy: 0.8158\n",
            "Epoch 247/300\n",
            "22/22 [==============================] - 0s 4ms/step - loss: 0.4035 - accuracy: 0.8311 - val_loss: 0.4167 - val_accuracy: 0.8158\n",
            "Epoch 248/300\n",
            "22/22 [==============================] - 0s 4ms/step - loss: 0.4037 - accuracy: 0.8326 - val_loss: 0.4165 - val_accuracy: 0.8158\n",
            "Epoch 249/300\n",
            "22/22 [==============================] - 0s 4ms/step - loss: 0.4035 - accuracy: 0.8326 - val_loss: 0.4184 - val_accuracy: 0.8158\n",
            "Epoch 250/300\n",
            "22/22 [==============================] - 0s 4ms/step - loss: 0.4034 - accuracy: 0.8326 - val_loss: 0.4174 - val_accuracy: 0.8158\n",
            "Epoch 251/300\n",
            "22/22 [==============================] - 0s 4ms/step - loss: 0.4035 - accuracy: 0.8326 - val_loss: 0.4179 - val_accuracy: 0.8158\n",
            "Epoch 252/300\n",
            "22/22 [==============================] - 0s 4ms/step - loss: 0.4034 - accuracy: 0.8311 - val_loss: 0.4171 - val_accuracy: 0.8158\n",
            "Epoch 253/300\n",
            "22/22 [==============================] - 0s 4ms/step - loss: 0.4035 - accuracy: 0.8311 - val_loss: 0.4156 - val_accuracy: 0.8158\n",
            "Epoch 254/300\n",
            "22/22 [==============================] - 0s 4ms/step - loss: 0.4033 - accuracy: 0.8311 - val_loss: 0.4153 - val_accuracy: 0.8158\n",
            "Epoch 255/300\n",
            "22/22 [==============================] - 0s 4ms/step - loss: 0.4034 - accuracy: 0.8326 - val_loss: 0.4169 - val_accuracy: 0.8158\n",
            "Epoch 256/300\n",
            "22/22 [==============================] - 0s 4ms/step - loss: 0.4034 - accuracy: 0.8326 - val_loss: 0.4161 - val_accuracy: 0.8158\n",
            "Epoch 257/300\n",
            "22/22 [==============================] - 0s 4ms/step - loss: 0.4033 - accuracy: 0.8326 - val_loss: 0.4149 - val_accuracy: 0.8158\n",
            "Epoch 258/300\n",
            "22/22 [==============================] - 0s 4ms/step - loss: 0.4033 - accuracy: 0.8311 - val_loss: 0.4149 - val_accuracy: 0.8158\n",
            "Epoch 259/300\n",
            "22/22 [==============================] - 0s 5ms/step - loss: 0.4032 - accuracy: 0.8326 - val_loss: 0.4174 - val_accuracy: 0.8158\n",
            "Epoch 260/300\n",
            "22/22 [==============================] - 0s 4ms/step - loss: 0.4033 - accuracy: 0.8326 - val_loss: 0.4172 - val_accuracy: 0.8158\n",
            "Epoch 261/300\n",
            "22/22 [==============================] - 0s 4ms/step - loss: 0.4033 - accuracy: 0.8326 - val_loss: 0.4168 - val_accuracy: 0.8158\n",
            "Epoch 262/300\n",
            "22/22 [==============================] - 0s 4ms/step - loss: 0.4032 - accuracy: 0.8326 - val_loss: 0.4176 - val_accuracy: 0.8158\n",
            "Epoch 263/300\n",
            "22/22 [==============================] - 0s 4ms/step - loss: 0.4031 - accuracy: 0.8311 - val_loss: 0.4171 - val_accuracy: 0.8158\n",
            "Epoch 264/300\n",
            "22/22 [==============================] - 0s 4ms/step - loss: 0.4032 - accuracy: 0.8311 - val_loss: 0.4172 - val_accuracy: 0.8158\n",
            "Epoch 265/300\n",
            "22/22 [==============================] - 0s 4ms/step - loss: 0.4032 - accuracy: 0.8311 - val_loss: 0.4160 - val_accuracy: 0.8158\n",
            "Epoch 266/300\n",
            "22/22 [==============================] - 0s 4ms/step - loss: 0.4032 - accuracy: 0.8311 - val_loss: 0.4143 - val_accuracy: 0.8158\n",
            "Epoch 267/300\n",
            "22/22 [==============================] - 0s 4ms/step - loss: 0.4032 - accuracy: 0.8311 - val_loss: 0.4166 - val_accuracy: 0.8158\n",
            "Epoch 268/300\n",
            "22/22 [==============================] - 0s 4ms/step - loss: 0.4031 - accuracy: 0.8311 - val_loss: 0.4175 - val_accuracy: 0.8158\n",
            "Epoch 269/300\n",
            "22/22 [==============================] - 0s 4ms/step - loss: 0.4032 - accuracy: 0.8326 - val_loss: 0.4169 - val_accuracy: 0.8158\n",
            "Epoch 270/300\n",
            "22/22 [==============================] - 0s 4ms/step - loss: 0.4030 - accuracy: 0.8311 - val_loss: 0.4153 - val_accuracy: 0.8158\n",
            "Epoch 271/300\n",
            "22/22 [==============================] - 0s 4ms/step - loss: 0.4034 - accuracy: 0.8311 - val_loss: 0.4130 - val_accuracy: 0.8158\n",
            "Epoch 272/300\n",
            "22/22 [==============================] - 0s 4ms/step - loss: 0.4031 - accuracy: 0.8311 - val_loss: 0.4141 - val_accuracy: 0.8158\n",
            "Epoch 273/300\n",
            "22/22 [==============================] - 0s 4ms/step - loss: 0.4032 - accuracy: 0.8311 - val_loss: 0.4154 - val_accuracy: 0.8158\n",
            "Epoch 274/300\n",
            "22/22 [==============================] - 0s 4ms/step - loss: 0.4033 - accuracy: 0.8311 - val_loss: 0.4150 - val_accuracy: 0.8158\n",
            "Epoch 275/300\n",
            "22/22 [==============================] - 0s 4ms/step - loss: 0.4031 - accuracy: 0.8311 - val_loss: 0.4145 - val_accuracy: 0.8158\n",
            "Epoch 276/300\n",
            "22/22 [==============================] - 0s 4ms/step - loss: 0.4031 - accuracy: 0.8311 - val_loss: 0.4139 - val_accuracy: 0.8158\n",
            "Epoch 277/300\n",
            "22/22 [==============================] - 0s 4ms/step - loss: 0.4031 - accuracy: 0.8311 - val_loss: 0.4152 - val_accuracy: 0.8158\n",
            "Epoch 278/300\n",
            "22/22 [==============================] - 0s 4ms/step - loss: 0.4029 - accuracy: 0.8311 - val_loss: 0.4151 - val_accuracy: 0.8158\n",
            "Epoch 279/300\n",
            "22/22 [==============================] - 0s 4ms/step - loss: 0.4028 - accuracy: 0.8326 - val_loss: 0.4162 - val_accuracy: 0.8158\n",
            "Epoch 280/300\n",
            "22/22 [==============================] - 0s 4ms/step - loss: 0.4029 - accuracy: 0.8326 - val_loss: 0.4163 - val_accuracy: 0.8158\n",
            "Epoch 281/300\n",
            "22/22 [==============================] - 0s 4ms/step - loss: 0.4030 - accuracy: 0.8326 - val_loss: 0.4178 - val_accuracy: 0.8158\n",
            "Epoch 282/300\n",
            "22/22 [==============================] - 0s 4ms/step - loss: 0.4029 - accuracy: 0.8326 - val_loss: 0.4176 - val_accuracy: 0.8158\n",
            "Epoch 283/300\n",
            "22/22 [==============================] - 0s 4ms/step - loss: 0.4030 - accuracy: 0.8326 - val_loss: 0.4171 - val_accuracy: 0.8158\n",
            "Epoch 284/300\n",
            "22/22 [==============================] - 0s 4ms/step - loss: 0.4028 - accuracy: 0.8326 - val_loss: 0.4172 - val_accuracy: 0.8158\n",
            "Epoch 285/300\n",
            "22/22 [==============================] - 0s 5ms/step - loss: 0.4029 - accuracy: 0.8311 - val_loss: 0.4179 - val_accuracy: 0.8158\n",
            "Epoch 286/300\n",
            "22/22 [==============================] - 0s 4ms/step - loss: 0.4027 - accuracy: 0.8311 - val_loss: 0.4180 - val_accuracy: 0.8158\n",
            "Epoch 287/300\n",
            "22/22 [==============================] - 0s 4ms/step - loss: 0.4029 - accuracy: 0.8311 - val_loss: 0.4187 - val_accuracy: 0.8158\n",
            "Epoch 288/300\n",
            "22/22 [==============================] - 0s 4ms/step - loss: 0.4027 - accuracy: 0.8311 - val_loss: 0.4187 - val_accuracy: 0.8158\n",
            "Epoch 289/300\n",
            "22/22 [==============================] - 0s 4ms/step - loss: 0.4027 - accuracy: 0.8311 - val_loss: 0.4181 - val_accuracy: 0.8158\n",
            "Epoch 290/300\n",
            "22/22 [==============================] - 0s 4ms/step - loss: 0.4027 - accuracy: 0.8297 - val_loss: 0.4163 - val_accuracy: 0.8158\n",
            "Epoch 291/300\n",
            "22/22 [==============================] - 0s 4ms/step - loss: 0.4029 - accuracy: 0.8311 - val_loss: 0.4160 - val_accuracy: 0.8158\n",
            "Epoch 292/300\n",
            "22/22 [==============================] - 0s 4ms/step - loss: 0.4029 - accuracy: 0.8297 - val_loss: 0.4178 - val_accuracy: 0.8158\n",
            "Epoch 293/300\n",
            "22/22 [==============================] - 0s 4ms/step - loss: 0.4027 - accuracy: 0.8311 - val_loss: 0.4159 - val_accuracy: 0.8289\n",
            "Epoch 294/300\n",
            "22/22 [==============================] - 0s 4ms/step - loss: 0.4031 - accuracy: 0.8311 - val_loss: 0.4138 - val_accuracy: 0.8158\n",
            "Epoch 295/300\n",
            "22/22 [==============================] - 0s 4ms/step - loss: 0.4027 - accuracy: 0.8311 - val_loss: 0.4156 - val_accuracy: 0.8158\n",
            "Epoch 296/300\n",
            "22/22 [==============================] - 0s 4ms/step - loss: 0.4027 - accuracy: 0.8311 - val_loss: 0.4161 - val_accuracy: 0.8158\n",
            "Epoch 297/300\n",
            "22/22 [==============================] - 0s 4ms/step - loss: 0.4027 - accuracy: 0.8311 - val_loss: 0.4171 - val_accuracy: 0.8158\n",
            "Epoch 298/300\n",
            "22/22 [==============================] - 0s 4ms/step - loss: 0.4028 - accuracy: 0.8297 - val_loss: 0.4159 - val_accuracy: 0.8158\n",
            "Epoch 299/300\n",
            "22/22 [==============================] - 0s 4ms/step - loss: 0.4027 - accuracy: 0.8311 - val_loss: 0.4162 - val_accuracy: 0.8158\n",
            "Epoch 300/300\n",
            "22/22 [==============================] - 0s 4ms/step - loss: 0.4025 - accuracy: 0.8311 - val_loss: 0.4138 - val_accuracy: 0.8158\n"
          ]
        }
      ],
      "source": [
        "history = model.fit(X_train, y_train, epochs=300, validation_data=(X_val, y_val))  # untuk menyimpan nilai metric ke sebuah variable dengan bentuk dictionary"
      ]
    },
    {
      "cell_type": "code",
      "execution_count": null,
      "metadata": {
        "colab": {
          "base_uri": "https://localhost:8080/",
          "height": 206
        },
        "id": "M125xzjiCZIF",
        "outputId": "f8c3611c-541e-4015-ef28-7deda50c4507"
      },
      "outputs": [
        {
          "data": {
            "text/html": [
              "\n",
              "  <div id=\"df-4adb2bd6-0ba1-4b4e-a995-3f3f2761379a\">\n",
              "    <div class=\"colab-df-container\">\n",
              "      <div>\n",
              "<style scoped>\n",
              "    .dataframe tbody tr th:only-of-type {\n",
              "        vertical-align: middle;\n",
              "    }\n",
              "\n",
              "    .dataframe tbody tr th {\n",
              "        vertical-align: top;\n",
              "    }\n",
              "\n",
              "    .dataframe thead th {\n",
              "        text-align: right;\n",
              "    }\n",
              "</style>\n",
              "<table border=\"1\" class=\"dataframe\">\n",
              "  <thead>\n",
              "    <tr style=\"text-align: right;\">\n",
              "      <th></th>\n",
              "      <th>loss</th>\n",
              "      <th>accuracy</th>\n",
              "      <th>val_loss</th>\n",
              "      <th>val_accuracy</th>\n",
              "    </tr>\n",
              "  </thead>\n",
              "  <tbody>\n",
              "    <tr>\n",
              "      <th>295</th>\n",
              "      <td>0.402725</td>\n",
              "      <td>0.831131</td>\n",
              "      <td>0.416068</td>\n",
              "      <td>0.815789</td>\n",
              "    </tr>\n",
              "    <tr>\n",
              "      <th>296</th>\n",
              "      <td>0.402678</td>\n",
              "      <td>0.831131</td>\n",
              "      <td>0.417132</td>\n",
              "      <td>0.815789</td>\n",
              "    </tr>\n",
              "    <tr>\n",
              "      <th>297</th>\n",
              "      <td>0.402840</td>\n",
              "      <td>0.829662</td>\n",
              "      <td>0.415852</td>\n",
              "      <td>0.815789</td>\n",
              "    </tr>\n",
              "    <tr>\n",
              "      <th>298</th>\n",
              "      <td>0.402675</td>\n",
              "      <td>0.831131</td>\n",
              "      <td>0.416191</td>\n",
              "      <td>0.815789</td>\n",
              "    </tr>\n",
              "    <tr>\n",
              "      <th>299</th>\n",
              "      <td>0.402506</td>\n",
              "      <td>0.831131</td>\n",
              "      <td>0.413778</td>\n",
              "      <td>0.815789</td>\n",
              "    </tr>\n",
              "  </tbody>\n",
              "</table>\n",
              "</div>\n",
              "      <button class=\"colab-df-convert\" onclick=\"convertToInteractive('df-4adb2bd6-0ba1-4b4e-a995-3f3f2761379a')\"\n",
              "              title=\"Convert this dataframe to an interactive table.\"\n",
              "              style=\"display:none;\">\n",
              "        \n",
              "  <svg xmlns=\"http://www.w3.org/2000/svg\" height=\"24px\"viewBox=\"0 0 24 24\"\n",
              "       width=\"24px\">\n",
              "    <path d=\"M0 0h24v24H0V0z\" fill=\"none\"/>\n",
              "    <path d=\"M18.56 5.44l.94 2.06.94-2.06 2.06-.94-2.06-.94-.94-2.06-.94 2.06-2.06.94zm-11 1L8.5 8.5l.94-2.06 2.06-.94-2.06-.94L8.5 2.5l-.94 2.06-2.06.94zm10 10l.94 2.06.94-2.06 2.06-.94-2.06-.94-.94-2.06-.94 2.06-2.06.94z\"/><path d=\"M17.41 7.96l-1.37-1.37c-.4-.4-.92-.59-1.43-.59-.52 0-1.04.2-1.43.59L10.3 9.45l-7.72 7.72c-.78.78-.78 2.05 0 2.83L4 21.41c.39.39.9.59 1.41.59.51 0 1.02-.2 1.41-.59l7.78-7.78 2.81-2.81c.8-.78.8-2.07 0-2.86zM5.41 20L4 18.59l7.72-7.72 1.47 1.35L5.41 20z\"/>\n",
              "  </svg>\n",
              "      </button>\n",
              "      \n",
              "  <style>\n",
              "    .colab-df-container {\n",
              "      display:flex;\n",
              "      flex-wrap:wrap;\n",
              "      gap: 12px;\n",
              "    }\n",
              "\n",
              "    .colab-df-convert {\n",
              "      background-color: #E8F0FE;\n",
              "      border: none;\n",
              "      border-radius: 50%;\n",
              "      cursor: pointer;\n",
              "      display: none;\n",
              "      fill: #1967D2;\n",
              "      height: 32px;\n",
              "      padding: 0 0 0 0;\n",
              "      width: 32px;\n",
              "    }\n",
              "\n",
              "    .colab-df-convert:hover {\n",
              "      background-color: #E2EBFA;\n",
              "      box-shadow: 0px 1px 2px rgba(60, 64, 67, 0.3), 0px 1px 3px 1px rgba(60, 64, 67, 0.15);\n",
              "      fill: #174EA6;\n",
              "    }\n",
              "\n",
              "    [theme=dark] .colab-df-convert {\n",
              "      background-color: #3B4455;\n",
              "      fill: #D2E3FC;\n",
              "    }\n",
              "\n",
              "    [theme=dark] .colab-df-convert:hover {\n",
              "      background-color: #434B5C;\n",
              "      box-shadow: 0px 1px 3px 1px rgba(0, 0, 0, 0.15);\n",
              "      filter: drop-shadow(0px 1px 2px rgba(0, 0, 0, 0.3));\n",
              "      fill: #FFFFFF;\n",
              "    }\n",
              "  </style>\n",
              "\n",
              "      <script>\n",
              "        const buttonEl =\n",
              "          document.querySelector('#df-4adb2bd6-0ba1-4b4e-a995-3f3f2761379a button.colab-df-convert');\n",
              "        buttonEl.style.display =\n",
              "          google.colab.kernel.accessAllowed ? 'block' : 'none';\n",
              "\n",
              "        async function convertToInteractive(key) {\n",
              "          const element = document.querySelector('#df-4adb2bd6-0ba1-4b4e-a995-3f3f2761379a');\n",
              "          const dataTable =\n",
              "            await google.colab.kernel.invokeFunction('convertToInteractive',\n",
              "                                                     [key], {});\n",
              "          if (!dataTable) return;\n",
              "\n",
              "          const docLinkHtml = 'Like what you see? Visit the ' +\n",
              "            '<a target=\"_blank\" href=https://colab.research.google.com/notebooks/data_table.ipynb>data table notebook</a>'\n",
              "            + ' to learn more about interactive tables.';\n",
              "          element.innerHTML = '';\n",
              "          dataTable['output_type'] = 'display_data';\n",
              "          await google.colab.output.renderOutput(dataTable, element);\n",
              "          const docLink = document.createElement('div');\n",
              "          docLink.innerHTML = docLinkHtml;\n",
              "          element.appendChild(docLink);\n",
              "        }\n",
              "      </script>\n",
              "    </div>\n",
              "  </div>\n",
              "  "
            ],
            "text/plain": [
              "         loss  accuracy  val_loss  val_accuracy\n",
              "295  0.402725  0.831131  0.416068      0.815789\n",
              "296  0.402678  0.831131  0.417132      0.815789\n",
              "297  0.402840  0.829662  0.415852      0.815789\n",
              "298  0.402675  0.831131  0.416191      0.815789\n",
              "299  0.402506  0.831131  0.413778      0.815789"
            ]
          },
          "execution_count": 21,
          "metadata": {},
          "output_type": "execute_result"
        }
      ],
      "source": [
        "import pandas as pd\n",
        "metrics = pd.DataFrame(history.history)   # di-convert ke dataframe\n",
        "metrics.tail()"
      ]
    },
    {
      "cell_type": "code",
      "execution_count": null,
      "metadata": {
        "colab": {
          "base_uri": "https://localhost:8080/",
          "height": 265
        },
        "id": "LvZgO240CcwK",
        "outputId": "12e3fa6d-56a2-4991-bc5b-6c97cb2a3334"
      },
      "outputs": [
        {
          "data": {
            "image/png": "[encoded data removed]",
            "text/plain": [
              "<Figure size 432x288 with 1 Axes>"
            ]
          },
          "metadata": {
            "needs_background": "light"
          },
          "output_type": "display_data"
        }
      ],
      "source": [
        "metrics[['loss', 'val_loss']].plot();"
      ]
    },
    {
      "cell_type": "code",
      "execution_count": null,
      "metadata": {
        "colab": {
          "base_uri": "https://localhost:8080/"
        },
        "id": "VCvJmhOeDP13",
        "outputId": "6b26570d-c8c5-4a13-972f-85324fd9242f"
      },
      "outputs": [
        {
          "data": {
            "text/plain": [
              "(134, 1)"
            ]
          },
          "execution_count": 27,
          "metadata": {},
          "output_type": "execute_result"
        }
      ],
      "source": [
        "from sklearn.metrics import classification_report\n",
        "import numpy as np\n",
        "\n",
        "y_pred = model.predict(X_test)\n",
        "y_pred = np.where(y_pred >= 0.5,1,0)  # untuk mengubah hasil ke 0 atau 1.    Cara baca np.where seperti if pada excel. Jika memenuhi kondisi 0.5, maka diganti jadi 1, kalau tidak maka 0\n",
        "y_pred.shape"
      ]
    },
    {
      "cell_type": "code",
      "execution_count": null,
      "metadata": {
        "colab": {
          "base_uri": "https://localhost:8080/"
        },
        "id": "eIeSdP-2FIB4",
        "outputId": "f8b964da-fb41-44c4-9bc8-a8d799b51da2"
      },
      "outputs": [
        {
          "name": "stdout",
          "output_type": "stream",
          "text": [
            "              precision    recall  f1-score   support\n",
            "\n",
            "           0       0.84      0.91      0.87        76\n",
            "           1       0.87      0.78      0.82        58\n",
            "\n",
            "    accuracy                           0.85       134\n",
            "   macro avg       0.85      0.84      0.85       134\n",
            "weighted avg       0.85      0.85      0.85       134\n",
            "\n"
          ]
        }
      ],
      "source": [
        "print(classification_report(y_test, y_pred))"
      ]
    },
    {
      "cell_type": "code",
      "execution_count": null,
      "metadata": {
        "colab": {
          "base_uri": "https://localhost:8080/"
        },
        "id": "Yd2gswWPGE09",
        "outputId": "3873497a-8fe2-4048-966b-4fd3f34ac112"
      },
      "outputs": [
        {
          "data": {
            "text/plain": [
              "[PhysicalDevice(name='/physical_device:GPU:0', device_type='GPU')]"
            ]
          },
          "execution_count": 30,
          "metadata": {},
          "output_type": "execute_result"
        }
      ],
      "source": [
        "# to check GPU availability\n",
        "import tensorflow as tf\n",
        "tf.config.list_physical_devices('GPU')  "
      ]
    },
    {
      "cell_type": "code",
      "execution_count": null,
      "metadata": {
        "colab": {
          "base_uri": "https://localhost:8080/"
        },
        "id": "ANmggOd_ICK3",
        "outputId": "9c4fd567-4494-42a3-f1f4-1ae6a496c67d"
      },
      "outputs": [
        {
          "name": "stdout",
          "output_type": "stream",
          "text": [
            "INFO:tensorflow:Assets written to: nn_titanic/assets\n"
          ]
        }
      ],
      "source": [
        "# save model\n",
        "model.save('nn_titanic')"
      ]
    },
    {
      "cell_type": "code",
      "execution_count": null,
      "metadata": {
        "id": "-oNz2TXAIGXb"
      },
      "outputs": [],
      "source": [
        "# load model\n",
        "from tensorflow.keras.models import load_model\n",
        "\n",
        "model_titanic = load_model('nn_titanic')"
      ]
    },
    {
      "cell_type": "code",
      "execution_count": null,
      "metadata": {
        "id": "KI5H2wozIQV-"
      },
      "outputs": [],
      "source": [
        "res_model = model_titanic.predict(X_test)"
      ]
    },
    {
      "cell_type": "code",
      "execution_count": null,
      "metadata": {
        "colab": {
          "base_uri": "https://localhost:8080/"
        },
        "id": "QeS3lbKfI4lV",
        "outputId": "bde5fd3c-153c-48eb-e88e-1518b95ce414"
      },
      "outputs": [
        {
          "name": "stdout",
          "output_type": "stream",
          "text": [
            "Model: \"sequential_1\"\n",
            "_________________________________________________________________\n",
            " Layer (type)                Output Shape              Param #   \n",
            "=================================================================\n",
            " dense_2 (Dense)             (None, 4)                 32        \n",
            "                                                                 \n",
            " dense_3 (Dense)             (None, 1)                 5         \n",
            "                                                                 \n",
            "=================================================================\n",
            "Total params: 37\n",
            "Trainable params: 37\n",
            "Non-trainable params: 0\n",
            "_________________________________________________________________\n"
          ]
        }
      ],
      "source": [
        "model_titanic.summary()"
      ]
    },
    {
      "cell_type": "markdown",
      "metadata": {
        "id": "UlJ0GCiYJMfk"
      },
      "source": [
        "param = jumlah neuron di satu layer dikali jumlah neuron setelahnya\n",
        "\n",
        "32 = neuron di input layer (7 + 1 bias) dikali neuron di hidden layer (4)"
      ]
    },
    {
      "cell_type": "markdown",
      "metadata": {
        "id": "_EV9L6WAn1li"
      },
      "source": [
        "# Modeling with MNIST data"
      ]
    },
    {
      "cell_type": "code",
      "execution_count": null,
      "metadata": {
        "colab": {
          "base_uri": "https://localhost:8080/"
        },
        "id": "_LySVbCRJwkl",
        "outputId": "df536fbd-8300-451a-95bd-8ed7ae05caca"
      },
      "outputs": [
        {
          "name": "stdout",
          "output_type": "stream",
          "text": [
            "Downloading data from https://storage.googleapis.com/tensorflow/tf-keras-datasets/mnist.npz\n",
            "11493376/11490434 [==============================] - 0s 0us/step\n",
            "11501568/11490434 [==============================] - 0s 0us/step\n"
          ]
        }
      ],
      "source": [
        "from tensorflow.keras.datasets import mnist\n",
        "\n",
        "(X_train, y_train), (X_test, y_test) = mnist.load_data()\n",
        "\n",
        "# 0 - 255    --> scaling pixel. karena max pixel itu 255\n",
        "X_train = X_train / 255\n",
        "X_test = X_test / 255"
      ]
    },
    {
      "cell_type": "code",
      "execution_count": null,
      "metadata": {
        "id": "X4kKFXfKKUvg"
      },
      "outputs": [],
      "source": [
        "import matplotlib.pyplot as plt\n",
        "\n",
        "def show_image(image):\n",
        "  plt.imshow(image, cmap='binary')"
      ]
    },
    {
      "cell_type": "code",
      "execution_count": null,
      "metadata": {
        "colab": {
          "base_uri": "https://localhost:8080/",
          "height": 283
        },
        "id": "tzAT0R0YKdMv",
        "outputId": "38777771-308e-4d28-c55a-d5defa580290"
      },
      "outputs": [
        {
          "name": "stdout",
          "output_type": "stream",
          "text": [
            "5\n"
          ]
        },
        {
          "data": {
            "image/png": "[encoded data removed]",
            "text/plain": [
              "<Figure size 432x288 with 1 Axes>"
            ]
          },
          "metadata": {
            "needs_background": "light"
          },
          "output_type": "display_data"
        }
      ],
      "source": [
        "show_image(X_train[100])\n",
        "print(y_train[100])"
      ]
    },
    {
      "cell_type": "code",
      "execution_count": null,
      "metadata": {
        "id": "471J-PQPKu_E"
      },
      "outputs": [],
      "source": [
        "from sklearn.model_selection import train_test_split\n",
        "\n",
        "X_train, X_val, y_train, y_val = train_test_split(X_train, y_train, test_size=0.1, random_state=46)"
      ]
    },
    {
      "cell_type": "code",
      "execution_count": null,
      "metadata": {
        "colab": {
          "base_uri": "https://localhost:8080/"
        },
        "id": "ZYlo7HcUK-1T",
        "outputId": "d6f2a18b-ecb8-4c82-dc3b-5349c85d8100"
      },
      "outputs": [
        {
          "data": {
            "text/plain": [
              "{0, 1, 2, 3, 4, 5, 6, 7, 8, 9}"
            ]
          },
          "execution_count": 40,
          "metadata": {},
          "output_type": "execute_result"
        }
      ],
      "source": [
        "set(y_train)"
      ]
    },
    {
      "cell_type": "code",
      "execution_count": null,
      "metadata": {
        "id": "A-zJi5_kLh_V"
      },
      "outputs": [],
      "source": [
        "# siapkan label dengan One Hot Encoding\n",
        "from tensorflow.keras.utils import to_categorical\n",
        "\n",
        "y_train_ohe = to_categorical(y_train)\n",
        "y_val_ohe = to_categorical(y_val)\n",
        "y_test_ohe = to_categorical(y_test)"
      ]
    },
    {
      "cell_type": "code",
      "execution_count": null,
      "metadata": {
        "colab": {
          "base_uri": "https://localhost:8080/"
        },
        "id": "_HtlDHDRNFQx",
        "outputId": "7064612c-323d-49f7-f342-d5a4f25a89ac"
      },
      "outputs": [
        {
          "data": {
            "text/plain": [
              "(54000, 28, 28)"
            ]
          },
          "execution_count": 45,
          "metadata": {},
          "output_type": "execute_result"
        }
      ],
      "source": [
        "X_train.shape"
      ]
    },
    {
      "cell_type": "markdown",
      "metadata": {
        "id": "BTWealHPRal_"
      },
      "source": [
        "Ada 54,000 data/gambar/entri dengan ukuran 28x28"
      ]
    },
    {
      "cell_type": "markdown",
      "metadata": {
        "id": "DvQxAsY3od2o"
      },
      "source": [
        "## Functional API"
      ]
    },
    {
      "cell_type": "code",
      "execution_count": null,
      "metadata": {
        "colab": {
          "base_uri": "https://localhost:8080/"
        },
        "id": "jghCbXY2L2bW",
        "outputId": "4e340b6f-9610-418b-dfcf-c1093d915b51"
      },
      "outputs": [
        {
          "name": "stdout",
          "output_type": "stream",
          "text": [
            "Epoch 1/30\n",
            "1688/1688 [==============================] - 6s 3ms/step - loss: 0.2669 - accuracy: 0.9214 - val_loss: 0.1406 - val_accuracy: 0.9580\n",
            "Epoch 2/30\n",
            "1688/1688 [==============================] - 5s 3ms/step - loss: 0.1271 - accuracy: 0.9611 - val_loss: 0.1016 - val_accuracy: 0.9698\n",
            "Epoch 3/30\n",
            "1688/1688 [==============================] - 5s 3ms/step - loss: 0.0853 - accuracy: 0.9733 - val_loss: 0.0805 - val_accuracy: 0.9752\n",
            "Epoch 4/30\n",
            "1688/1688 [==============================] - 5s 3ms/step - loss: 0.0634 - accuracy: 0.9800 - val_loss: 0.0728 - val_accuracy: 0.9798\n",
            "Epoch 5/30\n",
            "1688/1688 [==============================] - 5s 3ms/step - loss: 0.0483 - accuracy: 0.9846 - val_loss: 0.0683 - val_accuracy: 0.9793\n",
            "Epoch 6/30\n",
            "1688/1688 [==============================] - 5s 3ms/step - loss: 0.0372 - accuracy: 0.9882 - val_loss: 0.0746 - val_accuracy: 0.9787\n",
            "Epoch 7/30\n",
            "1688/1688 [==============================] - 5s 3ms/step - loss: 0.0308 - accuracy: 0.9898 - val_loss: 0.0805 - val_accuracy: 0.9772\n",
            "Epoch 8/30\n",
            "1688/1688 [==============================] - 5s 3ms/step - loss: 0.0257 - accuracy: 0.9915 - val_loss: 0.0718 - val_accuracy: 0.9817\n",
            "Epoch 9/30\n",
            "1688/1688 [==============================] - 5s 3ms/step - loss: 0.0219 - accuracy: 0.9925 - val_loss: 0.0723 - val_accuracy: 0.9810\n",
            "Epoch 10/30\n",
            "1688/1688 [==============================] - 5s 3ms/step - loss: 0.0177 - accuracy: 0.9939 - val_loss: 0.0811 - val_accuracy: 0.9792\n",
            "Epoch 11/30\n",
            "1688/1688 [==============================] - 5s 3ms/step - loss: 0.0166 - accuracy: 0.9943 - val_loss: 0.0743 - val_accuracy: 0.9828\n",
            "Epoch 12/30\n",
            "1688/1688 [==============================] - 5s 3ms/step - loss: 0.0136 - accuracy: 0.9952 - val_loss: 0.0869 - val_accuracy: 0.9808\n",
            "Epoch 13/30\n",
            "1688/1688 [==============================] - 5s 3ms/step - loss: 0.0157 - accuracy: 0.9945 - val_loss: 0.0862 - val_accuracy: 0.9827\n",
            "Epoch 14/30\n",
            "1688/1688 [==============================] - 5s 3ms/step - loss: 0.0114 - accuracy: 0.9959 - val_loss: 0.1225 - val_accuracy: 0.9745\n",
            "Epoch 15/30\n",
            "1688/1688 [==============================] - 5s 3ms/step - loss: 0.0116 - accuracy: 0.9959 - val_loss: 0.0945 - val_accuracy: 0.9825\n",
            "Epoch 16/30\n",
            "1688/1688 [==============================] - 5s 3ms/step - loss: 0.0106 - accuracy: 0.9962 - val_loss: 0.0877 - val_accuracy: 0.9828\n",
            "Epoch 17/30\n",
            "1688/1688 [==============================] - 5s 3ms/step - loss: 0.0100 - accuracy: 0.9968 - val_loss: 0.1080 - val_accuracy: 0.9798\n",
            "Epoch 18/30\n",
            "1688/1688 [==============================] - 5s 3ms/step - loss: 0.0125 - accuracy: 0.9961 - val_loss: 0.1195 - val_accuracy: 0.9795\n",
            "Epoch 19/30\n",
            "1688/1688 [==============================] - 5s 3ms/step - loss: 0.0056 - accuracy: 0.9981 - val_loss: 0.0835 - val_accuracy: 0.9833\n",
            "Epoch 20/30\n",
            "1688/1688 [==============================] - 5s 3ms/step - loss: 0.0105 - accuracy: 0.9962 - val_loss: 0.0959 - val_accuracy: 0.9835\n",
            "Epoch 21/30\n",
            "1688/1688 [==============================] - 5s 3ms/step - loss: 0.0083 - accuracy: 0.9972 - val_loss: 0.1186 - val_accuracy: 0.9808\n",
            "Epoch 22/30\n",
            "1688/1688 [==============================] - 5s 3ms/step - loss: 0.0090 - accuracy: 0.9971 - val_loss: 0.1068 - val_accuracy: 0.9813\n",
            "Epoch 23/30\n",
            "1688/1688 [==============================] - 5s 3ms/step - loss: 0.0071 - accuracy: 0.9976 - val_loss: 0.0902 - val_accuracy: 0.9862\n",
            "Epoch 24/30\n",
            "1688/1688 [==============================] - 5s 3ms/step - loss: 0.0085 - accuracy: 0.9972 - val_loss: 0.1033 - val_accuracy: 0.9845\n",
            "Epoch 25/30\n",
            "1688/1688 [==============================] - 5s 3ms/step - loss: 0.0073 - accuracy: 0.9976 - val_loss: 0.1156 - val_accuracy: 0.9823\n",
            "Epoch 26/30\n",
            "1688/1688 [==============================] - 5s 3ms/step - loss: 0.0077 - accuracy: 0.9976 - val_loss: 0.1245 - val_accuracy: 0.9837\n",
            "Epoch 27/30\n",
            "1688/1688 [==============================] - 5s 3ms/step - loss: 0.0069 - accuracy: 0.9981 - val_loss: 0.1428 - val_accuracy: 0.9815\n",
            "Epoch 28/30\n",
            "1688/1688 [==============================] - 5s 3ms/step - loss: 0.0085 - accuracy: 0.9975 - val_loss: 0.1250 - val_accuracy: 0.9822\n",
            "Epoch 29/30\n",
            "1688/1688 [==============================] - 5s 3ms/step - loss: 0.0085 - accuracy: 0.9975 - val_loss: 0.1213 - val_accuracy: 0.9837\n",
            "Epoch 30/30\n",
            "1688/1688 [==============================] - 5s 3ms/step - loss: 0.0063 - accuracy: 0.9981 - val_loss: 0.1202 - val_accuracy: 0.9827\n"
          ]
        },
        {
          "data": {
            "text/plain": [
              "<keras.callbacks.History at 0x7fe33f379110>"
            ]
          },
          "execution_count": 59,
          "metadata": {},
          "output_type": "execute_result"
        }
      ],
      "source": [
        "# membuat model dengan Functional API\n",
        "from tensorflow.keras.models import Model\n",
        "from tensorflow.keras.layers import Input, Dense, Flatten, Dropout\n",
        "\n",
        "\"\"\"\n",
        "contoh model sequential dengan arsiterktur yang sama\n",
        "\n",
        "model = Sequential()\n",
        "model.add(Flatten(input_shape=(28,28)))\n",
        "model.add(Dense(256, activation='elu'))\n",
        "model.add(Dense(32, activation='elu'))\n",
        "model.add(Dense(10, activation='softmax'))\n",
        "\"\"\"\n",
        "\n",
        "# deklarasi arsitektur\n",
        "data_in = Input(shape=(28,28))\n",
        "data_flat = Flatten()(data_in)     # mem-Flatten data yg tadinya 28x28 menjadi 784. ---- 784 dari 28 dikali 28\n",
        "data_drop = Dropout(0.25)(data_flat)\n",
        "hidden_1 = Dense(256, activation='elu')(data_flat)   # yg masuk ke hidden layer 1 adalah data_flat\n",
        "hidden_drop_1 = Dropout(0.25)(hidden_1)\n",
        "hidden_2 = Dense(32, activation='elu')(hidden_1)   # yg masuk ke hidden layer 2 adalah hidden_1\n",
        "hidden_drop_2 = Dropout(0.25)(hidden_2)\n",
        "out = Dense(10, activation='softmax')(hidden_2)    # yg masuk ke outer layer adalah hidden_2\n",
        "\n",
        "model = Model(inputs=data_in, outputs=out)\n",
        "\n",
        "\n",
        "# compile\n",
        "model.compile(loss='categorical_crossentropy',\n",
        "              optimizer = 'adam',               # adam adalah optimizer paling modern\n",
        "              metrics =['accuracy'])\n",
        "\n",
        "# train\n",
        "model.fit(X_train, y_train_ohe, epochs=30, validation_data=(X_val, y_val_ohe)) "
      ]
    },
    {
      "cell_type": "code",
      "execution_count": null,
      "metadata": {
        "colab": {
          "base_uri": "https://localhost:8080/"
        },
        "id": "VfDOygKOOtZk",
        "outputId": "66814c90-9f2c-49b3-fc62-1c0ba0245790"
      },
      "outputs": [
        {
          "name": "stdout",
          "output_type": "stream",
          "text": [
            "Model: \"model_3\"\n",
            "_________________________________________________________________\n",
            " Layer (type)                Output Shape              Param #   \n",
            "=================================================================\n",
            " input_4 (InputLayer)        [(None, 28, 28)]          0         \n",
            "                                                                 \n",
            " flatten_3 (Flatten)         (None, 784)               0         \n",
            "                                                                 \n",
            " dense_13 (Dense)            (None, 256)               200960    \n",
            "                                                                 \n",
            " dense_14 (Dense)            (None, 32)                8224      \n",
            "                                                                 \n",
            " dense_15 (Dense)            (None, 10)                330       \n",
            "                                                                 \n",
            "=================================================================\n",
            "Total params: 209,514\n",
            "Trainable params: 209,514\n",
            "Non-trainable params: 0\n",
            "_________________________________________________________________\n"
          ]
        }
      ],
      "source": [
        "model.summary()"
      ]
    },
    {
      "cell_type": "code",
      "execution_count": null,
      "metadata": {
        "colab": {
          "base_uri": "https://localhost:8080/",
          "height": 265
        },
        "id": "Vry04mDjUq4W",
        "outputId": "d0748183-550f-436b-9f5a-e19d7d044536"
      },
      "outputs": [
        {
          "data": {
            "image/png": "[encoded data removed]",
            "text/plain": [
              "<Figure size 432x288 with 1 Axes>"
            ]
          },
          "metadata": {
            "needs_background": "light"
          },
          "output_type": "display_data"
        }
      ],
      "source": [
        "metrics = pd.DataFrame(history.history)\n",
        "metrics[['loss','val_loss']].plot();"
      ]
    },
    {
      "cell_type": "code",
      "execution_count": null,
      "metadata": {
        "colab": {
          "base_uri": "https://localhost:8080/",
          "height": 265
        },
        "id": "2LtFnHWyTHKu",
        "outputId": "ce5e19b5-0c11-459e-db79-c9767ddd1398"
      },
      "outputs": [
        {
          "data": {
            "image/png": "[encoded data removed]",
            "text/plain": [
              "<Figure size 432x288 with 1 Axes>"
            ]
          },
          "metadata": {
            "needs_background": "light"
          },
          "output_type": "display_data"
        }
      ],
      "source": [
        "new_data = X_test[200]\n",
        "\n",
        "show_image(new_data)"
      ]
    },
    {
      "cell_type": "code",
      "execution_count": null,
      "metadata": {
        "colab": {
          "base_uri": "https://localhost:8080/"
        },
        "id": "_f7ePiOJTi4H",
        "outputId": "d00bdd6d-271d-4bcf-9279-c908a8a8eaa3"
      },
      "outputs": [
        {
          "data": {
            "text/plain": [
              "(28, 28)"
            ]
          },
          "execution_count": 53,
          "metadata": {},
          "output_type": "execute_result"
        }
      ],
      "source": [
        "new_data.shape"
      ]
    },
    {
      "cell_type": "code",
      "execution_count": null,
      "metadata": {
        "colab": {
          "base_uri": "https://localhost:8080/"
        },
        "id": "61kjb1emTU8y",
        "outputId": "92c43047-88fb-41e1-dc7c-5bf28500d690"
      },
      "outputs": [
        {
          "data": {
            "text/plain": [
              "3"
            ]
          },
          "execution_count": 63,
          "metadata": {},
          "output_type": "execute_result"
        }
      ],
      "source": [
        "# prediksi new data\n",
        "res = model.predict(new_data.reshape(1, 28, 28))   # new data harus di-reshape dahulu menjadi tensor\n",
        "res.argmax()"
      ]
    },
    {
      "cell_type": "code",
      "execution_count": null,
      "metadata": {
        "colab": {
          "base_uri": "https://localhost:8080/"
        },
        "id": "JTV5cmbmUJCg",
        "outputId": "24a77122-6fde-4e10-c3a5-459645b064eb"
      },
      "outputs": [
        {
          "name": "stdout",
          "output_type": "stream",
          "text": [
            "              precision    recall  f1-score   support\n",
            "\n",
            "           0       0.98      0.99      0.99       980\n",
            "           1       0.99      0.99      0.99      1135\n",
            "           2       0.97      0.99      0.98      1032\n",
            "           3       0.96      0.98      0.97      1010\n",
            "           4       0.98      0.98      0.98       982\n",
            "           5       0.99      0.97      0.98       892\n",
            "           6       0.99      0.98      0.99       958\n",
            "           7       0.97      0.97      0.97      1028\n",
            "           8       0.97      0.96      0.97       974\n",
            "           9       0.97      0.96      0.96      1009\n",
            "\n",
            "    accuracy                           0.98     10000\n",
            "   macro avg       0.98      0.98      0.98     10000\n",
            "weighted avg       0.98      0.98      0.98     10000\n",
            "\n"
          ]
        }
      ],
      "source": [
        "from sklearn.metrics import classification_report\n",
        "\n",
        "y_pred = model.predict(X_test)\n",
        "y_pred = y_pred.argmax(axis=1)\n",
        "print(classification_report(y_test, y_pred))"
      ]
    },
    {
      "cell_type": "markdown",
      "metadata": {
        "id": "YFIhCj2dYnz5"
      },
      "source": [
        "# Regression MLP // Regression Neural Network"
      ]
    },
    {
      "cell_type": "code",
      "execution_count": null,
      "metadata": {
        "id": "axSz5UfygZjs"
      },
      "outputs": [],
      "source": [
        "from sklearn.datasets import fetch_california_housing\n",
        "from sklearn.model_selection import train_test_split\n",
        "from sklearn.preprocessing import StandardScaler\n",
        "\n",
        "housing = fetch_california_housing()\n",
        "\n",
        "X_train_full, X_test, y_train_full, y_test = train_test_split(housing.data, housing.target, random_state=42)\n",
        "X_train, X_valid, y_train, y_valid = train_test_split(X_train_full, y_train_full, random_state=42)\n",
        "\n",
        "scaler = StandardScaler()\n",
        "X_train = scaler.fit_transform(X_train)\n",
        "X_valid = scaler.transform(X_valid)\n",
        "X_test = scaler.transform(X_test)"
      ]
    },
    {
      "cell_type": "code",
      "execution_count": null,
      "metadata": {
        "id": "K14MwaNDhrOa"
      },
      "outputs": [],
      "source": [
        "np.random.seed(42)\n",
        "tf.random.set_seed(42)"
      ]
    },
    {
      "cell_type": "markdown",
      "metadata": {
        "id": "CT1hhtMCgoCX"
      },
      "source": [
        "## Sequential API"
      ]
    },
    {
      "cell_type": "code",
      "execution_count": null,
      "metadata": {
        "colab": {
          "base_uri": "https://localhost:8080/"
        },
        "id": "ashoR4JQgmdr",
        "outputId": "e7de0cea-fc9b-4b1c-c897-a124b6be3609"
      },
      "outputs": [
        {
          "name": "stdout",
          "output_type": "stream",
          "text": [
            "Epoch 1/20\n",
            "363/363 [==============================] - 1s 3ms/step - loss: 0.7670 - accuracy: 0.0029 - val_loss: 11.2070 - val_accuracy: 0.0044\n",
            "Epoch 2/20\n",
            "363/363 [==============================] - 1s 3ms/step - loss: 0.6124 - accuracy: 0.0029 - val_loss: 0.4569 - val_accuracy: 0.0044\n",
            "Epoch 3/20\n",
            "363/363 [==============================] - 1s 3ms/step - loss: 0.4449 - accuracy: 0.0029 - val_loss: 0.4050 - val_accuracy: 0.0044\n",
            "Epoch 4/20\n",
            "363/363 [==============================] - 1s 3ms/step - loss: 0.4096 - accuracy: 0.0029 - val_loss: 0.4149 - val_accuracy: 0.0044\n",
            "Epoch 5/20\n",
            "363/363 [==============================] - 1s 3ms/step - loss: 0.4024 - accuracy: 0.0029 - val_loss: 0.3886 - val_accuracy: 0.0044\n",
            "Epoch 6/20\n",
            "363/363 [==============================] - 1s 3ms/step - loss: 0.3925 - accuracy: 0.0029 - val_loss: 0.3905 - val_accuracy: 0.0044\n",
            "Epoch 7/20\n",
            "363/363 [==============================] - 1s 3ms/step - loss: 0.3964 - accuracy: 0.0029 - val_loss: 0.3910 - val_accuracy: 0.0044\n",
            "Epoch 8/20\n",
            "363/363 [==============================] - 1s 3ms/step - loss: 0.3868 - accuracy: 0.0029 - val_loss: 0.3968 - val_accuracy: 0.0044\n",
            "Epoch 9/20\n",
            "363/363 [==============================] - 1s 3ms/step - loss: 0.3796 - accuracy: 0.0028 - val_loss: 0.3809 - val_accuracy: 0.0044\n",
            "Epoch 10/20\n",
            "363/363 [==============================] - 1s 3ms/step - loss: 0.3777 - accuracy: 0.0028 - val_loss: 0.3934 - val_accuracy: 0.0044\n",
            "Epoch 11/20\n",
            "363/363 [==============================] - 1s 3ms/step - loss: 0.3827 - accuracy: 0.0028 - val_loss: 0.3895 - val_accuracy: 0.0044\n",
            "Epoch 12/20\n",
            "363/363 [==============================] - 1s 3ms/step - loss: 0.3765 - accuracy: 0.0029 - val_loss: 0.3924 - val_accuracy: 0.0044\n",
            "Epoch 13/20\n",
            "363/363 [==============================] - 1s 3ms/step - loss: 0.3726 - accuracy: 0.0029 - val_loss: 0.3942 - val_accuracy: 0.0044\n",
            "Epoch 14/20\n",
            "363/363 [==============================] - 1s 3ms/step - loss: 0.3681 - accuracy: 0.0028 - val_loss: 0.3871 - val_accuracy: 0.0044\n",
            "Epoch 15/20\n",
            "363/363 [==============================] - 1s 3ms/step - loss: 0.3701 - accuracy: 0.0028 - val_loss: 0.3675 - val_accuracy: 0.0044\n",
            "Epoch 16/20\n",
            "363/363 [==============================] - 1s 3ms/step - loss: 0.3603 - accuracy: 0.0029 - val_loss: 0.3603 - val_accuracy: 0.0044\n",
            "Epoch 17/20\n",
            "363/363 [==============================] - 1s 3ms/step - loss: 0.3590 - accuracy: 0.0029 - val_loss: 0.4048 - val_accuracy: 0.0044\n",
            "Epoch 18/20\n",
            "363/363 [==============================] - 1s 3ms/step - loss: 0.3575 - accuracy: 0.0029 - val_loss: 0.3920 - val_accuracy: 0.0044\n",
            "Epoch 19/20\n",
            "363/363 [==============================] - 1s 3ms/step - loss: 0.3826 - accuracy: 0.0029 - val_loss: 0.4098 - val_accuracy: 0.0044\n",
            "Epoch 20/20\n",
            "363/363 [==============================] - 1s 3ms/step - loss: 0.3551 - accuracy: 0.0028 - val_loss: 0.3895 - val_accuracy: 0.0044\n"
          ]
        }
      ],
      "source": [
        "# sequential\n",
        "from tensorflow.keras.models import Sequential\n",
        "from tensorflow.keras.layers import Dense\n",
        "from tensorflow.keras.optimizers import SGD\n",
        "\n",
        "\n",
        "# buat arsitektur\n",
        "model = Sequential()\n",
        "model.add(Dense(30, activation='relu', input_shape=X_train.shape[1:]))\n",
        "model.add(Dense(1))\n",
        "\n",
        "# compile\n",
        "model.compile(loss='mean_squared_error',\n",
        "              optimizer = 'SGD',\n",
        "              metrics = ['accuracy'])\n",
        "\n",
        "# train\n",
        "history = model.fit(X_train, y_train, epochs=20, validation_data=(X_valid, y_valid))"
      ]
    },
    {
      "cell_type": "code",
      "execution_count": null,
      "metadata": {
        "colab": {
          "base_uri": "https://localhost:8080/"
        },
        "id": "9M0H07hwjFmg",
        "outputId": "27eebc0a-4056-4abb-ab55-009498b32b1b"
      },
      "outputs": [
        {
          "name": "stdout",
          "output_type": "stream",
          "text": [
            "Model: \"sequential_3\"\n",
            "_________________________________________________________________\n",
            " Layer (type)                Output Shape              Param #   \n",
            "=================================================================\n",
            " dense_18 (Dense)            (None, 30)                270       \n",
            "                                                                 \n",
            " dense_19 (Dense)            (None, 1)                 31        \n",
            "                                                                 \n",
            "=================================================================\n",
            "Total params: 301\n",
            "Trainable params: 301\n",
            "Non-trainable params: 0\n",
            "_________________________________________________________________\n"
          ]
        }
      ],
      "source": [
        "model.summary()"
      ]
    },
    {
      "cell_type": "code",
      "execution_count": null,
      "metadata": {
        "colab": {
          "base_uri": "https://localhost:8080/",
          "height": 265
        },
        "id": "7cmIU-NgjMxD",
        "outputId": "413d62a3-be07-4725-80a8-1f7dbc498d99"
      },
      "outputs": [
        {
          "data": {
            "image/png": "[encoded data removed]",
            "text/plain": [
              "<Figure size 432x288 with 1 Axes>"
            ]
          },
          "metadata": {
            "needs_background": "light"
          },
          "output_type": "display_data"
        }
      ],
      "source": [
        "metrics = pd.DataFrame(history.history)\n",
        "metrics[['loss','val_loss']].plot();"
      ]
    },
    {
      "cell_type": "code",
      "execution_count": null,
      "metadata": {
        "colab": {
          "base_uri": "https://localhost:8080/",
          "height": 354
        },
        "id": "2urA5ADckQjG",
        "outputId": "a14210f7-9e1b-4b11-fcf0-b75b9ec0be84"
      },
      "outputs": [
        {
          "ename": "ValueError",
          "evalue": "ignored",
          "output_type": "error",
          "traceback": [
            "\u001b[0;31m---------------------------------------------------------------------------\u001b[0m",
            "\u001b[0;31mValueError\u001b[0m                                Traceback (most recent call last)",
            "\u001b[0;32m<ipython-input-76-8c10d1f508b1>\u001b[0m in \u001b[0;36m<module>\u001b[0;34m()\u001b[0m\n\u001b[1;32m      5\u001b[0m \u001b[0my_pred\u001b[0m \u001b[0;34m=\u001b[0m \u001b[0mnp\u001b[0m\u001b[0;34m.\u001b[0m\u001b[0mwhere\u001b[0m\u001b[0;34m(\u001b[0m\u001b[0my_pred\u001b[0m \u001b[0;34m>=\u001b[0m \u001b[0;36m0.5\u001b[0m\u001b[0;34m,\u001b[0m\u001b[0;36m1\u001b[0m\u001b[0;34m,\u001b[0m\u001b[0;36m0\u001b[0m\u001b[0;34m)\u001b[0m  \u001b[0;31m# untuk mengubah hasil ke 0 atau 1.    Cara baca np.where seperti if pada excel. Jika memenuhi kondisi 0.5, maka diganti jadi 1, kalau tidak maka 0\u001b[0m\u001b[0;34m\u001b[0m\u001b[0;34m\u001b[0m\u001b[0m\n\u001b[1;32m      6\u001b[0m \u001b[0;34m\u001b[0m\u001b[0m\n\u001b[0;32m----> 7\u001b[0;31m \u001b[0mprint\u001b[0m\u001b[0;34m(\u001b[0m\u001b[0mclassification_report\u001b[0m\u001b[0;34m(\u001b[0m\u001b[0my_test\u001b[0m\u001b[0;34m,\u001b[0m \u001b[0my_pred\u001b[0m\u001b[0;34m)\u001b[0m\u001b[0;34m)\u001b[0m\u001b[0;34m\u001b[0m\u001b[0;34m\u001b[0m\u001b[0m\n\u001b[0m",
            "\u001b[0;32m/usr/local/lib/python3.7/dist-packages/sklearn/metrics/_classification.py\u001b[0m in \u001b[0;36mclassification_report\u001b[0;34m(y_true, y_pred, labels, target_names, sample_weight, digits, output_dict, zero_division)\u001b[0m\n\u001b[1;32m   2108\u001b[0m     \"\"\"\n\u001b[1;32m   2109\u001b[0m \u001b[0;34m\u001b[0m\u001b[0m\n\u001b[0;32m-> 2110\u001b[0;31m     \u001b[0my_type\u001b[0m\u001b[0;34m,\u001b[0m \u001b[0my_true\u001b[0m\u001b[0;34m,\u001b[0m \u001b[0my_pred\u001b[0m \u001b[0;34m=\u001b[0m \u001b[0m_check_targets\u001b[0m\u001b[0;34m(\u001b[0m\u001b[0my_true\u001b[0m\u001b[0;34m,\u001b[0m \u001b[0my_pred\u001b[0m\u001b[0;34m)\u001b[0m\u001b[0;34m\u001b[0m\u001b[0;34m\u001b[0m\u001b[0m\n\u001b[0m\u001b[1;32m   2111\u001b[0m \u001b[0;34m\u001b[0m\u001b[0m\n\u001b[1;32m   2112\u001b[0m     \u001b[0;32mif\u001b[0m \u001b[0mlabels\u001b[0m \u001b[0;32mis\u001b[0m \u001b[0;32mNone\u001b[0m\u001b[0;34m:\u001b[0m\u001b[0;34m\u001b[0m\u001b[0;34m\u001b[0m\u001b[0m\n",
            "\u001b[0;32m/usr/local/lib/python3.7/dist-packages/sklearn/metrics/_classification.py\u001b[0m in \u001b[0;36m_check_targets\u001b[0;34m(y_true, y_pred)\u001b[0m\n\u001b[1;32m     93\u001b[0m         raise ValueError(\n\u001b[1;32m     94\u001b[0m             \"Classification metrics can't handle a mix of {0} and {1} targets\".format(\n\u001b[0;32m---> 95\u001b[0;31m                 \u001b[0mtype_true\u001b[0m\u001b[0;34m,\u001b[0m \u001b[0mtype_pred\u001b[0m\u001b[0;34m\u001b[0m\u001b[0;34m\u001b[0m\u001b[0m\n\u001b[0m\u001b[1;32m     96\u001b[0m             )\n\u001b[1;32m     97\u001b[0m         )\n",
            "\u001b[0;31mValueError\u001b[0m: Classification metrics can't handle a mix of continuous and binary targets"
          ]
        }
      ],
      "source": [
        "from sklearn.metrics import classification_report\n",
        "import numpy as np\n",
        "\n",
        "y_pred = model.predict(X_test)\n",
        "y_pred = np.where(y_pred >= 0.5,1,0)  # untuk mengubah hasil ke 0 atau 1.    Cara baca np.where seperti if pada excel. Jika memenuhi kondisi 0.5, maka diganti jadi 1, kalau tidak maka 0\n",
        "\n",
        "print(classification_report(y_test, y_pred))"
      ]
    },
    {
      "cell_type": "markdown",
      "metadata": {
        "id": "jwwBPREugIAt"
      },
      "source": []
    }
  ],
  "metadata": {
    "accelerator": "GPU",
    "colab": {
      "name": "ANN_with_Keras.ipynb",
      "provenance": [],
      "toc_visible": true
    },
    "interpreter": {
      "hash": "f7c97302e4b4594ca75996a8da4638e90f26baf6fd49d76b89217181551e7aab"
    },
    "kernelspec": {
      "display_name": "Python 3.9.11 ('streamlit_envi')",
      "language": "python",
      "name": "python3"
    },
    "language_info": {
      "codemirror_mode": {
        "name": "ipython",
        "version": 3
      },
      "file_extension": ".py",
      "mimetype": "text/x-python",
      "name": "python",
      "nbconvert_exporter": "python",
      "pygments_lexer": "ipython3",
      "version": "3.9.11"
    }
  },
  "nbformat": 4,
  "nbformat_minor": 0
}
