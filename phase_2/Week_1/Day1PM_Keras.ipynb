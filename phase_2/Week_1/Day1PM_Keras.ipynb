{
 "cells": [
  {
   "cell_type": "code",
   "execution_count": 26,
   "metadata": {},
   "outputs": [
    {
     "data": {
      "text/plain": [
       "[PhysicalDevice(name='/physical_device:GPU:0', device_type='GPU')]"
      ]
     },
     "execution_count": 26,
     "metadata": {},
     "output_type": "execute_result"
    }
   ],
   "source": [
    "import tensorflow as tf\n",
    "tf.config.list_physical_devices('GPU')  "
   ]
  },
  {
   "cell_type": "code",
   "execution_count": 27,
   "metadata": {},
   "outputs": [
    {
     "name": "stdout",
     "output_type": "stream",
     "text": [
      "Num GPUs Available:  1\n"
     ]
    }
   ],
   "source": [
    "print(\"Num GPUs Available: \", len(tf.config.list_physical_devices('GPU')))"
   ]
  },
  {
   "cell_type": "code",
   "execution_count": 28,
   "metadata": {},
   "outputs": [
    {
     "data": {
      "text/plain": [
       "True"
      ]
     },
     "execution_count": 28,
     "metadata": {},
     "output_type": "execute_result"
    }
   ],
   "source": [
    "tf.test.is_gpu_available()"
   ]
  },
  {
   "cell_type": "markdown",
   "metadata": {},
   "source": [
    "---"
   ]
  },
  {
   "cell_type": "code",
   "execution_count": 1,
   "metadata": {},
   "outputs": [
    {
     "name": "stdout",
     "output_type": "stream",
     "text": [
      "2.9.0\n",
      "[PhysicalDevice(name='/physical_device:CPU:0', device_type='CPU'), PhysicalDevice(name='/physical_device:GPU:0', device_type='GPU')]\n"
     ]
    }
   ],
   "source": [
    "import tensorflow as tf\n",
    "print(tf.__version__)\n",
    "print(tf.config.list_physical_devices())"
   ]
  },
  {
   "cell_type": "code",
   "execution_count": 11,
   "metadata": {},
   "outputs": [
    {
     "data": {
      "text/plain": [
       "'/device:GPU:0'"
      ]
     },
     "execution_count": 11,
     "metadata": {},
     "output_type": "execute_result"
    }
   ],
   "source": [
    "tf.test.gpu_device_name()"
   ]
  },
  {
   "cell_type": "code",
   "execution_count": 13,
   "metadata": {},
   "outputs": [
    {
     "name": "stdout",
     "output_type": "stream",
     "text": [
      "[name: \"/device:CPU:0\"\n",
      "device_type: \"CPU\"\n",
      "memory_limit: 268435456\n",
      "locality {\n",
      "}\n",
      "incarnation: 3675386014209189698\n",
      "xla_global_id: -1\n",
      ", name: \"/device:GPU:0\"\n",
      "device_type: \"GPU\"\n",
      "memory_limit: 4183621632\n",
      "locality {\n",
      "  bus_id: 1\n",
      "  links {\n",
      "  }\n",
      "}\n",
      "incarnation: 16289748858677906448\n",
      "physical_device_desc: \"device: 0, name: NVIDIA GeForce GTX 1660 Ti, pci bus id: 0000:01:00.0, compute capability: 7.5\"\n",
      "xla_global_id: 416903419\n",
      "]\n"
     ]
    }
   ],
   "source": [
    "from tensorflow.python.client import device_lib\n",
    "print(device_lib.list_local_devices())"
   ]
  },
  {
   "cell_type": "markdown",
   "metadata": {},
   "source": [
    "---"
   ]
  },
  {
   "cell_type": "markdown",
   "metadata": {},
   "source": [
    "---\n",
    "# GPU performance test"
   ]
  },
  {
   "cell_type": "markdown",
   "metadata": {},
   "source": [
    "## Modeling with MNIST"
   ]
  },
  {
   "cell_type": "code",
   "execution_count": 5,
   "metadata": {},
   "outputs": [
    {
     "name": "stdout",
     "output_type": "stream",
     "text": [
      "Downloading data from https://storage.googleapis.com/tensorflow/tf-keras-datasets/mnist.npz\n",
      "11490434/11490434 [==============================] - 3s 0us/step\n"
     ]
    }
   ],
   "source": [
    "from tensorflow.keras.datasets import mnist\n",
    "\n",
    "(X_train, y_train), (X_test, y_test) = mnist.load_data()\n",
    "\n",
    "# 0 - 255    --> scaling pixel. karena max pixel itu 255\n",
    "X_train = X_train / 255\n",
    "X_test = X_test / 255"
   ]
  },
  {
   "cell_type": "code",
   "execution_count": 6,
   "metadata": {},
   "outputs": [],
   "source": [
    "import matplotlib.pyplot as plt\n",
    "\n",
    "def show_image(image):\n",
    "  plt.imshow(image, cmap='binary')"
   ]
  },
  {
   "cell_type": "code",
   "execution_count": 7,
   "metadata": {},
   "outputs": [
    {
     "name": "stdout",
     "output_type": "stream",
     "text": [
      "5\n"
     ]
    },
    {
     "data": {
      "image/png": "[encoded data removed]",
      "text/plain": [
       "<Figure size 432x288 with 1 Axes>"
      ]
     },
     "metadata": {
      "needs_background": "light"
     },
     "output_type": "display_data"
    }
   ],
   "source": [
    "show_image(X_train[100])\n",
    "print(y_train[100])"
   ]
  },
  {
   "cell_type": "code",
   "execution_count": 8,
   "metadata": {},
   "outputs": [],
   "source": [
    "from sklearn.model_selection import train_test_split\n",
    "\n",
    "X_train, X_val, y_train, y_val = train_test_split(X_train, y_train, test_size=0.1, random_state=46)"
   ]
  },
  {
   "cell_type": "code",
   "execution_count": 9,
   "metadata": {},
   "outputs": [],
   "source": [
    "# siapkan label dengan One Hot Encoding\n",
    "from tensorflow.keras.utils import to_categorical\n",
    "\n",
    "y_train_ohe = to_categorical(y_train)\n",
    "y_val_ohe = to_categorical(y_val)\n",
    "y_test_ohe = to_categorical(y_test)"
   ]
  },
  {
   "cell_type": "code",
   "execution_count": 19,
   "metadata": {},
   "outputs": [
    {
     "name": "stdout",
     "output_type": "stream",
     "text": [
      "Epoch 1/30\n",
      "1688/1688 [==============================] - 10s 6ms/step - loss: 0.2660 - accuracy: 0.9213 - val_loss: 0.1324 - val_accuracy: 0.9607\n",
      "Epoch 2/30\n",
      "1688/1688 [==============================] - 10s 6ms/step - loss: 0.1259 - accuracy: 0.9626 - val_loss: 0.0966 - val_accuracy: 0.9700\n",
      "Epoch 3/30\n",
      "1688/1688 [==============================] - 10s 6ms/step - loss: 0.0869 - accuracy: 0.9732 - val_loss: 0.1079 - val_accuracy: 0.9672\n",
      "Epoch 4/30\n",
      "1688/1688 [==============================] - 10s 6ms/step - loss: 0.0641 - accuracy: 0.9790 - val_loss: 0.0762 - val_accuracy: 0.9770\n",
      "Epoch 5/30\n",
      "1688/1688 [==============================] - 10s 6ms/step - loss: 0.0485 - accuracy: 0.9847 - val_loss: 0.0839 - val_accuracy: 0.9762\n",
      "Epoch 6/30\n",
      "1688/1688 [==============================] - 10s 6ms/step - loss: 0.0380 - accuracy: 0.9875 - val_loss: 0.0861 - val_accuracy: 0.9775\n",
      "Epoch 7/30\n",
      "1688/1688 [==============================] - 10s 6ms/step - loss: 0.0308 - accuracy: 0.9900 - val_loss: 0.0842 - val_accuracy: 0.9772\n",
      "Epoch 8/30\n",
      "1688/1688 [==============================] - 10s 6ms/step - loss: 0.0261 - accuracy: 0.9912 - val_loss: 0.0840 - val_accuracy: 0.9798\n",
      "Epoch 9/30\n",
      "1688/1688 [==============================] - 11s 6ms/step - loss: 0.0200 - accuracy: 0.9929 - val_loss: 0.0901 - val_accuracy: 0.9795\n",
      "Epoch 10/30\n",
      "1688/1688 [==============================] - 10s 6ms/step - loss: 0.0190 - accuracy: 0.9934 - val_loss: 0.0835 - val_accuracy: 0.9808\n",
      "Epoch 11/30\n",
      "1688/1688 [==============================] - 10s 6ms/step - loss: 0.0161 - accuracy: 0.9948 - val_loss: 0.1079 - val_accuracy: 0.9767\n",
      "Epoch 12/30\n",
      "1688/1688 [==============================] - 11s 6ms/step - loss: 0.0144 - accuracy: 0.9951 - val_loss: 0.0993 - val_accuracy: 0.9792\n",
      "Epoch 13/30\n",
      "1688/1688 [==============================] - 10s 6ms/step - loss: 0.0142 - accuracy: 0.9953 - val_loss: 0.0983 - val_accuracy: 0.9805\n",
      "Epoch 14/30\n",
      "1688/1688 [==============================] - 10s 6ms/step - loss: 0.0118 - accuracy: 0.9960 - val_loss: 0.1022 - val_accuracy: 0.9793\n",
      "Epoch 15/30\n",
      "1688/1688 [==============================] - 10s 6ms/step - loss: 0.0137 - accuracy: 0.9952 - val_loss: 0.1183 - val_accuracy: 0.9785\n",
      "Epoch 16/30\n",
      "1688/1688 [==============================] - 10s 6ms/step - loss: 0.0104 - accuracy: 0.9964 - val_loss: 0.1184 - val_accuracy: 0.9782\n",
      "Epoch 17/30\n",
      "1688/1688 [==============================] - 11s 6ms/step - loss: 0.0103 - accuracy: 0.9964 - val_loss: 0.1046 - val_accuracy: 0.9798\n",
      "Epoch 18/30\n",
      "1688/1688 [==============================] - 10s 6ms/step - loss: 0.0089 - accuracy: 0.9967 - val_loss: 0.0966 - val_accuracy: 0.9825\n",
      "Epoch 19/30\n",
      "1688/1688 [==============================] - 11s 6ms/step - loss: 0.0106 - accuracy: 0.9963 - val_loss: 0.1062 - val_accuracy: 0.9827\n",
      "Epoch 20/30\n",
      "1688/1688 [==============================] - 11s 6ms/step - loss: 0.0108 - accuracy: 0.9966 - val_loss: 0.1122 - val_accuracy: 0.9812\n",
      "Epoch 21/30\n",
      "1688/1688 [==============================] - 10s 6ms/step - loss: 0.0081 - accuracy: 0.9976 - val_loss: 0.1419 - val_accuracy: 0.9797\n",
      "Epoch 22/30\n",
      "1688/1688 [==============================] - 10s 6ms/step - loss: 0.0092 - accuracy: 0.9969 - val_loss: 0.1274 - val_accuracy: 0.9802\n",
      "Epoch 23/30\n",
      "1688/1688 [==============================] - 11s 6ms/step - loss: 0.0096 - accuracy: 0.9969 - val_loss: 0.1178 - val_accuracy: 0.9800\n",
      "Epoch 24/30\n",
      "1688/1688 [==============================] - 10s 6ms/step - loss: 0.0080 - accuracy: 0.9975 - val_loss: 0.1230 - val_accuracy: 0.9823\n",
      "Epoch 25/30\n",
      "1688/1688 [==============================] - 10s 6ms/step - loss: 0.0091 - accuracy: 0.9971 - val_loss: 0.1229 - val_accuracy: 0.9815\n",
      "Epoch 26/30\n",
      "1688/1688 [==============================] - 10s 6ms/step - loss: 0.0059 - accuracy: 0.9980 - val_loss: 0.1388 - val_accuracy: 0.9820\n",
      "Epoch 27/30\n",
      "1688/1688 [==============================] - 10s 6ms/step - loss: 0.0088 - accuracy: 0.9973 - val_loss: 0.1188 - val_accuracy: 0.9833\n",
      "Epoch 28/30\n",
      "1688/1688 [==============================] - 10s 6ms/step - loss: 0.0075 - accuracy: 0.9978 - val_loss: 0.1359 - val_accuracy: 0.9827\n",
      "Epoch 29/30\n",
      "1688/1688 [==============================] - 10s 6ms/step - loss: 0.0061 - accuracy: 0.9981 - val_loss: 0.1377 - val_accuracy: 0.9817\n",
      "Epoch 30/30\n",
      "1688/1688 [==============================] - 10s 6ms/step - loss: 0.0075 - accuracy: 0.9979 - val_loss: 0.1561 - val_accuracy: 0.9810\n"
     ]
    }
   ],
   "source": [
    "# membuat model dengan Functional API\n",
    "from tensorflow.keras.models import Model\n",
    "from tensorflow.keras.layers import Input, Dense, Flatten, Dropout\n",
    "\n",
    "# deklarasi arsitektur\n",
    "data_in = Input(shape=(28,28))\n",
    "data_flat = Flatten()(data_in)     # mem-Flatten data yg tadinya 28x28 menjadi 784. ---- 784 dari 28 dikali 28\n",
    "data_drop = Dropout(0.25)(data_flat)\n",
    "hidden_1 = Dense(256, activation='elu')(data_flat)   # yg masuk ke hidden layer 1 adalah data_flat\n",
    "hidden_drop_1 = Dropout(0.25)(hidden_1)\n",
    "hidden_2 = Dense(32, activation='elu')(hidden_1)   # yg masuk ke hidden layer 2 adalah hidden_1\n",
    "hidden_drop_2 = Dropout(0.25)(hidden_2)\n",
    "out = Dense(10, activation='softmax')(hidden_2)    # yg masuk ke outer layer adalah hidden_2\n",
    "\n",
    "model = Model(inputs=data_in, outputs=out)\n",
    "\n",
    "\n",
    "# compile\n",
    "model.compile(loss='categorical_crossentropy',\n",
    "              optimizer = 'adam',               # adam adalah optimizer paling modern\n",
    "              metrics =['accuracy'])\n",
    "\n",
    "# train\n",
    "history = model.fit(X_train, y_train_ohe, epochs=30, validation_data=(X_val, y_val_ohe))"
   ]
  },
  {
   "cell_type": "code",
   "execution_count": 20,
   "metadata": {},
   "outputs": [
    {
     "name": "stdout",
     "output_type": "stream",
     "text": [
      "Model: \"model_1\"\n",
      "_________________________________________________________________\n",
      " Layer (type)                Output Shape              Param #   \n",
      "=================================================================\n",
      " input_2 (InputLayer)        [(None, 28, 28)]          0         \n",
      "                                                                 \n",
      " flatten_1 (Flatten)         (None, 784)               0         \n",
      "                                                                 \n",
      " dense_3 (Dense)             (None, 256)               200960    \n",
      "                                                                 \n",
      " dense_4 (Dense)             (None, 32)                8224      \n",
      "                                                                 \n",
      " dense_5 (Dense)             (None, 10)                330       \n",
      "                                                                 \n",
      "=================================================================\n",
      "Total params: 209,514\n",
      "Trainable params: 209,514\n",
      "Non-trainable params: 0\n",
      "_________________________________________________________________\n"
     ]
    }
   ],
   "source": [
    "model.summary()"
   ]
  },
  {
   "cell_type": "code",
   "execution_count": 21,
   "metadata": {},
   "outputs": [
    {
     "data": {
      "image/png": "[encoded data removed]",
      "text/plain": [
       "<Figure size 432x288 with 1 Axes>"
      ]
     },
     "metadata": {
      "needs_background": "light"
     },
     "output_type": "display_data"
    }
   ],
   "source": [
    "import pandas as pd\n",
    "metrics = pd.DataFrame(history.history)\n",
    "metrics[['loss','val_loss']].plot();"
   ]
  },
  {
   "cell_type": "code",
   "execution_count": 22,
   "metadata": {},
   "outputs": [
    {
     "data": {
      "text/html": [
       "<div>\n",
       "<style scoped>\n",
       "    .dataframe tbody tr th:only-of-type {\n",
       "        vertical-align: middle;\n",
       "    }\n",
       "\n",
       "    .dataframe tbody tr th {\n",
       "        vertical-align: top;\n",
       "    }\n",
       "\n",
       "    .dataframe thead th {\n",
       "        text-align: right;\n",
       "    }\n",
       "</style>\n",
       "<table border=\"1\" class=\"dataframe\">\n",
       "  <thead>\n",
       "    <tr style=\"text-align: right;\">\n",
       "      <th></th>\n",
       "      <th>loss</th>\n",
       "      <th>accuracy</th>\n",
       "      <th>val_loss</th>\n",
       "      <th>val_accuracy</th>\n",
       "    </tr>\n",
       "  </thead>\n",
       "  <tbody>\n",
       "    <tr>\n",
       "      <th>25</th>\n",
       "      <td>0.005946</td>\n",
       "      <td>0.997981</td>\n",
       "      <td>0.138792</td>\n",
       "      <td>0.982000</td>\n",
       "    </tr>\n",
       "    <tr>\n",
       "      <th>26</th>\n",
       "      <td>0.008783</td>\n",
       "      <td>0.997315</td>\n",
       "      <td>0.118758</td>\n",
       "      <td>0.983333</td>\n",
       "    </tr>\n",
       "    <tr>\n",
       "      <th>27</th>\n",
       "      <td>0.007493</td>\n",
       "      <td>0.997778</td>\n",
       "      <td>0.135934</td>\n",
       "      <td>0.982667</td>\n",
       "    </tr>\n",
       "    <tr>\n",
       "      <th>28</th>\n",
       "      <td>0.006077</td>\n",
       "      <td>0.998130</td>\n",
       "      <td>0.137690</td>\n",
       "      <td>0.981667</td>\n",
       "    </tr>\n",
       "    <tr>\n",
       "      <th>29</th>\n",
       "      <td>0.007549</td>\n",
       "      <td>0.997852</td>\n",
       "      <td>0.156123</td>\n",
       "      <td>0.981000</td>\n",
       "    </tr>\n",
       "  </tbody>\n",
       "</table>\n",
       "</div>"
      ],
      "text/plain": [
       "        loss  accuracy  val_loss  val_accuracy\n",
       "25  0.005946  0.997981  0.138792      0.982000\n",
       "26  0.008783  0.997315  0.118758      0.983333\n",
       "27  0.007493  0.997778  0.135934      0.982667\n",
       "28  0.006077  0.998130  0.137690      0.981667\n",
       "29  0.007549  0.997852  0.156123      0.981000"
      ]
     },
     "execution_count": 22,
     "metadata": {},
     "output_type": "execute_result"
    }
   ],
   "source": [
    "metrics = pd.DataFrame(history.history)   # di-convert ke dataframe\n",
    "metrics.tail()"
   ]
  },
  {
   "cell_type": "code",
   "execution_count": 25,
   "metadata": {},
   "outputs": [
    {
     "name": "stdout",
     "output_type": "stream",
     "text": [
      "313/313 [==============================] - 1s 3ms/step\n",
      "              precision    recall  f1-score   support\n",
      "\n",
      "           0       0.99      0.98      0.98       980\n",
      "           1       0.99      0.99      0.99      1135\n",
      "           2       0.97      0.98      0.97      1032\n",
      "           3       0.98      0.98      0.98      1010\n",
      "           4       0.98      0.98      0.98       982\n",
      "           5       0.98      0.97      0.97       892\n",
      "           6       0.98      0.98      0.98       958\n",
      "           7       0.97      0.98      0.98      1028\n",
      "           8       0.98      0.97      0.97       974\n",
      "           9       0.98      0.97      0.98      1009\n",
      "\n",
      "    accuracy                           0.98     10000\n",
      "   macro avg       0.98      0.98      0.98     10000\n",
      "weighted avg       0.98      0.98      0.98     10000\n",
      "\n"
     ]
    }
   ],
   "source": [
    "from sklearn.metrics import classification_report\n",
    "import numpy as np\n",
    "\n",
    "y_pred = model.predict(X_test)\n",
    "y_pred = y_pred.argmax(axis=1)\n",
    "print(classification_report(y_test, y_pred))"
   ]
  }
 ],
 "metadata": {
  "interpreter": {
   "hash": "f7c97302e4b4594ca75996a8da4638e90f26baf6fd49d76b89217181551e7aab"
  },
  "kernelspec": {
   "display_name": "Python 3.9.11 ('streamlit_envi')",
   "language": "python",
   "name": "python3"
  },
  "language_info": {
   "codemirror_mode": {
    "name": "ipython",
    "version": 3
   },
   "file_extension": ".py",
   "mimetype": "text/x-python",
   "name": "python",
   "nbconvert_exporter": "python",
   "pygments_lexer": "ipython3",
   "version": "3.9.11"
  },
  "orig_nbformat": 4
 },
 "nbformat": 4,
 "nbformat_minor": 2
}
