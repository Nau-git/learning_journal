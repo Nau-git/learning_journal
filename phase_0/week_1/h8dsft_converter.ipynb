{
 "cells": [
  {
   "cell_type": "code",
   "execution_count": 112,
   "metadata": {},
   "outputs": [],
   "source": [
    "# fungsi konversi Celsius ke Kelvin dan vice versa\n",
    "def tem():\n",
    "    a=input('Input value here (example: 21C, 19K) : ')\n",
    "    if 'C' in a: # kalau inputnya Celsius\n",
    "        a1 = int(a[:-1])\n",
    "        kelvin = a1 + 273.15\n",
    "        print(f'{a} is {kelvin} in Kelvin')\n",
    "    elif 'K' in a: # kalau inputnya Kelvin\n",
    "        a1 = int(a[:-1])\n",
    "        celsius = a1 - 273.15\n",
    "        print(f'{a} is {celsius} in degree Celsius')\n",
    "    else:\n",
    "        print('Invalid input. Please specify the unit.')"
   ]
  },
  {
   "cell_type": "code",
   "execution_count": 114,
   "metadata": {},
   "outputs": [
    {
     "name": "stdout",
     "output_type": "stream",
     "text": [
      "33K is -240.14999999999998 in degree Celsius\n"
     ]
    }
   ],
   "source": [
    "tem()"
   ]
  },
  {
   "cell_type": "code",
   "execution_count": 115,
   "metadata": {},
   "outputs": [],
   "source": [
    "# fungsi konversi Celsius atau Kelvin ke Fahrenheit\n",
    "def tem_f():\n",
    "    a=input('Input value here (example: 21C, 19K) : ')\n",
    "    if 'C' in a: # kalau inputnya Celsius\n",
    "        a1 = int(a[:-1])\n",
    "        kelvin = a1 + 273.15 \n",
    "        fahren = (kelvin - 273.15) * 9/5 + 32\n",
    "        print(f'{a} is {fahren} in degree Fahrenheit')\n",
    "    elif 'K' in a: # kalau inputnya Kelvin\n",
    "        a1 = int(a[:-1])\n",
    "        celsius = a1 - 273.15\n",
    "        fahren = (celsius * 9/5) + 32\n",
    "        print(f'{a} is {fahren} in degree Fahrenheit')\n",
    "    else:\n",
    "        print('Invalid input. Please specify the unit.')"
   ]
  },
  {
   "cell_type": "code",
   "execution_count": 118,
   "metadata": {},
   "outputs": [
    {
     "name": "stdout",
     "output_type": "stream",
     "text": [
      "1K is -457.87 in degree Fahrenheit\n"
     ]
    }
   ],
   "source": [
    "tem_f()"
   ]
  },
  {
   "cell_type": "code",
   "execution_count": 7,
   "metadata": {},
   "outputs": [],
   "source": [
    "# fungsi konversi Fahrenheit ke Celsius atau Kelvin \n",
    "def tem_CK():\n",
    "    a=input('Input value here (example: 21F) : ')\n",
    "    if 'F' in a:\n",
    "        b=input('Choose target conversion (C/K) : ') #target decider\n",
    "        if 'C' in b: # konversi F ke C\n",
    "            a1 = int(a[:-1])\n",
    "            celsius = ( a1 - 32) * 5/9\n",
    "            print(f'{a} is {celsius} in degree Celsius')\n",
    "        elif 'K' in b: # kalau F ke K\n",
    "            a1 = int(a[:-1])\n",
    "            kelvin = ( a1 - 32) * 5/9 + 273.15\n",
    "            print(f'{a} is {kelvin} in Kelvin')\n",
    "        else:\n",
    "            print('Invalid input. Please specify the target conversion (C/K).')\n",
    "    else:\n",
    "        print('Invalid input. Please refer to example (example: 21F)')"
   ]
  },
  {
   "cell_type": "code",
   "execution_count": 10,
   "metadata": {},
   "outputs": [
    {
     "name": "stdout",
     "output_type": "stream",
     "text": [
      "22F is 267.59444444444443 in Kelvin\n"
     ]
    }
   ],
   "source": [
    "tem_CK()"
   ]
  }
 ],
 "metadata": {
  "interpreter": {
   "hash": "1fa0a762e4a5fa149b305d9c31b7e6e75204ddcc0688d7e1540ad3781b1bcb3f"
  },
  "kernelspec": {
   "display_name": "Python 3.9.7 ('base')",
   "language": "python",
   "name": "python3"
  },
  "language_info": {
   "codemirror_mode": {
    "name": "ipython",
    "version": 3
   },
   "file_extension": ".py",
   "mimetype": "text/x-python",
   "name": "python",
   "nbconvert_exporter": "python",
   "pygments_lexer": "ipython3",
   "version": "3.9.7"
  },
  "orig_nbformat": 4
 },
 "nbformat": 4,
 "nbformat_minor": 2
}
