{
  "nbformat": 4,
  "nbformat_minor": 0,
  "metadata": {
    "kernelspec": {
      "display_name": "Python 3",
      "language": "python",
      "name": "python3"
    },
    "language_info": {
      "codemirror_mode": {
        "name": "ipython",
        "version": 3
      },
      "file_extension": ".py",
      "mimetype": "text/x-python",
      "name": "python",
      "nbconvert_exporter": "python",
      "pygments_lexer": "ipython3",
      "version": "3.8.2"
    },
    "toc": {
      "base_numbering": 1,
      "nav_menu": {},
      "number_sections": true,
      "sideBar": true,
      "skip_h1_title": false,
      "title_cell": "Table of Contents",
      "title_sidebar": "Contents",
      "toc_cell": false,
      "toc_position": {},
      "toc_section_display": true,
      "toc_window_display": false
    },
    "colab": {
      "name": "revisi_d3pm.ipynb",
      "provenance": [],
      "collapsed_sections": [
        "bvriZgC4rqRS",
        "dnG6RsRXrqRu",
        "vGxAiK3zrqR0",
        "V4tMkQTYrqR7",
        "kAxyKPCFrqR-",
        "ggAwqSb7tn5G",
        "JhUtjUU5tn6H"
      ]
    }
  },
  "cells": [
    {
      "cell_type": "markdown",
      "metadata": {
        "id": "ETljywDzrqRL"
      },
      "source": [
        "# Week 1: Day 3 PM // Numpy"
      ]
    },
    {
      "cell_type": "markdown",
      "metadata": {
        "id": "bvriZgC4rqRS"
      },
      "source": [
        "# Numpy Introduction\n",
        "\n",
        "NumPy (**Num**erical **Py**thon) is an open-source Python library that’s used in almost every field of science and engineering. It’s the universal standard for working with numerical data in Python, and it’s at the core of the scientific Python and PyData ecosystems. NumPy users include everyone from beginning coders to experienced researchers doing state-of-the-art scientific and industrial research and development. \n",
        "\n",
        "The NumPy API is used extensively in Pandas, SciPy, Matplotlib, scikit-learn, scikit-image and most other data science and scientific Python packages.\n",
        "\n",
        "The NumPy library contains multidimensional array and matrix data structures (you’ll find more information about this in later sections). It provides ndarray, a homogeneous n-dimensional array object, with methods to efficiently operate on it. NumPy can be used to perform a wide variety of mathematical operations on arrays. It adds powerful data structures to Python that guarantee efficient calculations with arrays and matrices and it supplies an enormous library of high-level mathematical functions that operate on these arrays and matrices.\n",
        "\n",
        "**Installing NumPy**\n",
        "\n",
        "If you already have Python, you can install NumPy with:\n",
        "\n",
        "`conda install numpy`\n",
        "\n",
        "or\n",
        "\n",
        "`pip install numpy`\n",
        "\n",
        "**How to import NumPy**\n",
        "\n",
        "Any time you want to use a package or library in your code, you first need to make it accessible.\n",
        "\n",
        "In order to start using NumPy and all of the functions available in NumPy, you’ll need to import it. This can be easily done with this import statement:\n",
        "\n",
        "> **`import numpy as np`**\n",
        "\n",
        "(We shorten “numpy” to “np” in order to save time and also to keep code standardized so that anyone working with your code can easily understand and run it.)\n",
        "\n",
        "**Why use NumPy?**\n",
        "\n",
        "NumPy arrays are faster and more compact than Python lists. An array consumes less memory and is far more convenient to use. NumPy uses much less memory to store data and it provides a mechanism of specifying the data types, which allows the code to be optimized even further."
      ]
    },
    {
      "cell_type": "markdown",
      "metadata": {
        "id": "6z4efogjrqRU"
      },
      "source": [
        "## Terminology\n",
        "\n",
        "**What is an array?**\n",
        "\n",
        "An array is a central data structure of the NumPy library. It’s a grid of values and it contains information about the raw data, how to locate an element, and how to interpret an element. It has a grid of elements that can be indexed in various ways. The elements are all of the same type, referred to as the array dtype (data type).\n",
        "\n",
        "An array can be indexed by a tuple of nonnegative integers, by booleans, by another array, or by integers. The rank of the array is the number of dimensions. The shape of the array is a tuple of integers giving the size of the array along each dimension.\n",
        "\n",
        "One way we can initialize NumPy arrays is from nested Python lists.\n",
        "\n",
        "`a = np.array([[1 , 2, 3, 4], [5, 6, 7, 8], [9, 10, 11, 12]])`\n",
        "\n",
        "We can access the elements in the array using square brackets. When you’re accessing elements, remember that indexing in NumPy starts at 0. That means that if you want to access the first element in your array, you’ll be accessing element “0”.\n",
        "\n",
        "`print(a[0])`\n",
        "\n",
        "Output:\n",
        "\n",
        "`[1 2 3 4]`\n",
        "\n",
        "More information about arrays\n",
        "\n",
        "> 1D array, 2D array, ndarray, vector, matrix\n",
        "\n",
        "You might occasionally hear an array referred to as a “ndarray,” which is shorthand for “N-dimensional array.” An N-dimensional array is simply an array with any number of dimensions. You might also hear 1-D, or one-dimensional array, 2-D, or two-dimensional array, and so on. The NumPy ndarray class is used to represent both matrices and vectors. A vector is an array with a single column, while a matrix refers to an array with multiple columns.\n",
        "\n",
        "**What are the attributes of an array?**\n",
        "\n",
        "An array is usually a fixed-size container of items of the same type and size. The number of dimensions and items in an array is defined by its shape. The shape of an array is a tuple of non-negative integers that specify the sizes of each dimension.\n",
        "\n",
        "In NumPy, dimensions are called axes. This means that if you have a 2D array that looks like this:\n",
        "\n",
        "```py\n",
        "[[0., 0., 0.],\n",
        " [1., 1., 1.]]\n",
        "```\n",
        "\n",
        "Your array has 2 axes. The first axis has a length of 2 and the second axis has a length of 3.\n",
        "\n",
        "Just like in other Python container objects, the contents of an array can be accessed and modified by indexing or slicing the array. Different arrays can share the same data, so changes made on one array might be visible in another.\n",
        "\n",
        "Array attributes reflect information intrinsic to the array itself. If you need to get, or even set, properties of an array without creating a new array, you can often access an array through its attributes.\n",
        "\n",
        "**What’s the difference between a Python list and a NumPy array?**\n",
        "\n",
        "NumPy gives you an enormous range of fast and efficient numerically-related options. While a Python list can contain different data types within a single list, all of the elements in a NumPy array should be homogenous. The mathematical operations that are meant to be performed on arrays wouldn’t be possible if the arrays weren’t homogenous."
      ]
    },
    {
      "cell_type": "markdown",
      "metadata": {
        "id": "T8Gm1DXorqRW"
      },
      "source": [
        "## Array\n",
        "\n",
        "### Creating Array\n",
        "\n",
        "```py\n",
        "np.array()\n",
        "np.zeros()\n",
        "np.ones()\n",
        "np.empty()\n",
        "np.arange()\n",
        "```\n",
        "\n",
        "To create a NumPy array, you can use the function `np.array()`.\n",
        "\n",
        "All you need to do to create a simple array is pass a list to it. If you choose to, you can also specify the type of data in your list.\n"
      ]
    },
    {
      "cell_type": "code",
      "metadata": {
        "id": "AdhSa6NFrqRY"
      },
      "source": [
        "import numpy as np\n",
        "\n",
        "a = np.array([1, 2, 3])"
      ],
      "execution_count": null,
      "outputs": []
    },
    {
      "cell_type": "code",
      "metadata": {
        "id": "pAvh8Nj-rqRb",
        "outputId": "41f18d2d-3206-4903-ed77-8a4b061fd59e"
      },
      "source": [
        "a"
      ],
      "execution_count": null,
      "outputs": [
        {
          "data": {
            "text/plain": [
              "array([1, 2, 3])"
            ]
          },
          "execution_count": 2,
          "metadata": {},
          "output_type": "execute_result"
        }
      ]
    },
    {
      "cell_type": "markdown",
      "metadata": {
        "id": "wQ8oC0GQrqRf"
      },
      "source": [
        "There are often cases when we want NumPy to initialize the values of the array for us. NumPy provides methods like ones(), zeros(), and etc for these cases. We just pass them the number of elements we want it to generate:"
      ]
    },
    {
      "cell_type": "code",
      "metadata": {
        "id": "xJoMrGfnrqRh",
        "outputId": "6240f868-7cd6-4d6b-8160-f10485a5da13"
      },
      "source": [
        "# you can easily create an array filled with 0s:\n",
        "\n",
        "np.zeros(6)"
      ],
      "execution_count": null,
      "outputs": [
        {
          "data": {
            "text/plain": [
              "array([0., 0., 0., 0., 0., 0.])"
            ]
          },
          "execution_count": 3,
          "metadata": {},
          "output_type": "execute_result"
        }
      ]
    },
    {
      "cell_type": "code",
      "metadata": {
        "id": "penQmNMKrqRj",
        "outputId": "007d7960-88f1-445c-d3fb-257b01543d29"
      },
      "source": [
        "# Or an array filled with 1s:\n",
        "\n",
        "np.ones(6)"
      ],
      "execution_count": null,
      "outputs": [
        {
          "data": {
            "text/plain": [
              "array([1., 1., 1., 1., 1., 1.])"
            ]
          },
          "execution_count": 4,
          "metadata": {},
          "output_type": "execute_result"
        }
      ]
    },
    {
      "cell_type": "code",
      "metadata": {
        "id": "UHi5GezXrqRk",
        "outputId": "74cf64b0-b81c-48b3-8048-97ad47e03101"
      },
      "source": [
        "# Or even an empty array!\n",
        "# The function empty creates an array whose initial content is random and depends on the state of the memory.\n",
        "\n",
        "np.empty(6)"
      ],
      "execution_count": null,
      "outputs": [
        {
          "data": {
            "text/plain": [
              "array([1., 1., 1., 1., 1., 1.])"
            ]
          },
          "execution_count": 5,
          "metadata": {},
          "output_type": "execute_result"
        }
      ]
    },
    {
      "cell_type": "code",
      "metadata": {
        "id": "nqYaihkrrqRm",
        "outputId": "8e215144-744c-42cb-ee09-5a5e6dd4c815"
      },
      "source": [
        "# You can create an array with a range of elements\n",
        "\n",
        "print(np.arange(4))\n",
        "print(np.arange(0,10,2)) # (start, stop, step)"
      ],
      "execution_count": null,
      "outputs": [
        {
          "name": "stdout",
          "output_type": "stream",
          "text": [
            "[0 1 2 3]\n",
            "[0 2 4 6 8]\n"
          ]
        }
      ]
    },
    {
      "cell_type": "markdown",
      "metadata": {
        "id": "61G-9GRNrqRn"
      },
      "source": [
        "What `arange([start],stop,[step])` does is that it arranges numbers from starting to stop, in steps of step. Here is what it means for `np.arange(0,10,2)`:\n",
        "\n",
        "return an np list starting from 0 all the way upto 10 but don’t include 10 and increment numbers by 2 each time.\n",
        "\n",
        "important thing remember here is that the stopping number is not going to be included in the list.\n",
        "another example:\n",
        "\n",
        "```py\n",
        "np.arange(2,29,5)\n",
        "\n",
        ">>> array([ 2,  7, 12, 17, 22, 27])\n",
        "```"
      ]
    },
    {
      "cell_type": "markdown",
      "metadata": {
        "id": "apKXlyZeASPm"
      },
      "source": [
        "### List Vs Numpy"
      ]
    },
    {
      "cell_type": "code",
      "metadata": {
        "colab": {
          "base_uri": "https://localhost:8080/",
          "height": 195
        },
        "id": "1XtZTcJWAY2-",
        "outputId": "534ecd26-8991-48aa-9fa9-de96e354437d"
      },
      "source": [
        "height= [1.73, 1.68, 1.71, 1.86, 1.87]\n",
        "weight= [65.4, 59.2, 63.2, 88.4, 68.7]\n",
        "\n",
        "#Body Mass Index (BMI)\n",
        "weight/height **2   # error"
      ],
      "execution_count": null,
      "outputs": [
        {
          "output_type": "error",
          "ename": "TypeError",
          "evalue": "ignored",
          "traceback": [
            "\u001b[0;31m---------------------------------------------------------------------------\u001b[0m",
            "\u001b[0;31mTypeError\u001b[0m                                 Traceback (most recent call last)",
            "\u001b[0;32m<ipython-input-2-ec0b55479873>\u001b[0m in \u001b[0;36m<module>\u001b[0;34m()\u001b[0m\n\u001b[1;32m      3\u001b[0m \u001b[0;34m\u001b[0m\u001b[0m\n\u001b[1;32m      4\u001b[0m \u001b[0;31m#Body Mass Index (BMI)\u001b[0m\u001b[0;34m\u001b[0m\u001b[0;34m\u001b[0m\u001b[0;34m\u001b[0m\u001b[0m\n\u001b[0;32m----> 5\u001b[0;31m \u001b[0mweight\u001b[0m\u001b[0;34m/\u001b[0m\u001b[0mheight\u001b[0m \u001b[0;34m**\u001b[0m\u001b[0;36m2\u001b[0m   \u001b[0;31m# error\u001b[0m\u001b[0;34m\u001b[0m\u001b[0;34m\u001b[0m\u001b[0m\n\u001b[0m",
            "\u001b[0;31mTypeError\u001b[0m: unsupported operand type(s) for ** or pow(): 'list' and 'int'"
          ]
        }
      ]
    },
    {
      "cell_type": "code",
      "metadata": {
        "colab": {
          "base_uri": "https://localhost:8080/"
        },
        "id": "Y16c_4eCAgKN",
        "outputId": "6917758c-f0ee-429c-b4d0-b7bdcd476605"
      },
      "source": [
        "import numpy as np\n",
        "height= [1.73, 1.68, 1.71, 1.86, 1.87]\n",
        "weight= [65.4, 59.2, 63.2, 88.4, 68.7]\n",
        "np_height= np.array(height)\n",
        "np_weight= np.array(weight)\n",
        "\n",
        "np_weight/np_height **2  "
      ],
      "execution_count": null,
      "outputs": [
        {
          "output_type": "execute_result",
          "data": {
            "text/plain": [
              "array([21.85171573, 20.97505669, 21.61348791, 25.55208695, 19.64597215])"
            ]
          },
          "metadata": {},
          "execution_count": 1
        }
      ]
    },
    {
      "cell_type": "markdown",
      "metadata": {
        "id": "phy6tapFrqRo"
      },
      "source": [
        "### Add, Remove, and Sort\n",
        "\n",
        "```py\n",
        "np.append()\n",
        "np.delete()\n",
        "np.sort()\n",
        "```\n",
        "\n",
        "If you start with this array:\n",
        "\n",
        "`arr = np.array([1, 2, 3, 4, 5, 6, 7, 8])`\n",
        "\n",
        "You can add elements to your array any time with `np.append()`. Make sure to specify the array and the elements you want to include."
      ]
    },
    {
      "cell_type": "code",
      "metadata": {
        "id": "bpSDCugFrqRo"
      },
      "source": [
        "arr = np.array([1, 2, 3, 4, 5, 6, 7, 8])"
      ],
      "execution_count": null,
      "outputs": []
    },
    {
      "cell_type": "code",
      "metadata": {
        "id": "2gm3mRckrqRp",
        "outputId": "d9dfa2e8-1313-4278-8ece-78656fd3e740"
      },
      "source": [
        "np.append(arr, [1,2])"
      ],
      "execution_count": null,
      "outputs": [
        {
          "data": {
            "text/plain": [
              "array([1, 2, 3, 4, 5, 6, 7, 8, 1, 2])"
            ]
          },
          "execution_count": 8,
          "metadata": {},
          "output_type": "execute_result"
        }
      ]
    },
    {
      "cell_type": "markdown",
      "metadata": {
        "id": "8257M2DZrqRq"
      },
      "source": [
        "You can delete an element with `np.delete()`. If you want to delete the element in position 1 of your array, you can run:"
      ]
    },
    {
      "cell_type": "code",
      "metadata": {
        "id": "-pM_Lh90rqRs",
        "outputId": "2bc86ca0-facc-4002-b0bb-1e7b619c1974"
      },
      "source": [
        "np.delete(arr, 1)"
      ],
      "execution_count": null,
      "outputs": [
        {
          "data": {
            "text/plain": [
              "array([1, 3, 4, 5, 6, 7, 8])"
            ]
          },
          "execution_count": 9,
          "metadata": {},
          "output_type": "execute_result"
        }
      ]
    },
    {
      "cell_type": "markdown",
      "metadata": {
        "id": "GzLsDunUrqRs"
      },
      "source": [
        "Sorting an element is simple with `np.sort()`. You can specify the axis, kind, and order when you call the function.\n",
        "\n",
        "If you start with this array:"
      ]
    },
    {
      "cell_type": "code",
      "metadata": {
        "id": "Q5eOvBNRrqRt"
      },
      "source": [
        "arr = np.array([2, 1, 5, 3, 7, 4, 6, 8])"
      ],
      "execution_count": null,
      "outputs": []
    },
    {
      "cell_type": "markdown",
      "metadata": {
        "id": "qcWntKsnrqRt"
      },
      "source": [
        "You can quickly sort the numbers in ascending order with:"
      ]
    },
    {
      "cell_type": "code",
      "metadata": {
        "id": "OtbckS7IrqRu",
        "outputId": "8135bdbe-b3c0-42c2-f72b-52c27afb4b03"
      },
      "source": [
        "np.sort(arr)"
      ],
      "execution_count": null,
      "outputs": [
        {
          "data": {
            "text/plain": [
              "array([1, 2, 3, 4, 5, 6, 7, 8])"
            ]
          },
          "execution_count": 11,
          "metadata": {},
          "output_type": "execute_result"
        }
      ]
    },
    {
      "cell_type": "markdown",
      "metadata": {
        "id": "dnG6RsRXrqRu"
      },
      "source": [
        "### Shape and Size\n",
        "\n",
        "```py\n",
        "ndarray.ndim()\n",
        "ndarray.size()\n",
        "ndarray.shape()\n",
        "```\n",
        "\n",
        "`ndarray.ndim` will tell you the number of axes, or dimensions, of the array.\n",
        "\n",
        "`ndarray.size` will tell you the total number of elements of the array. This is the product of the elements of the array’s shape.\n",
        "\n",
        "`ndarray.shape` will display a tuple of integers that indicate the number of elements stored along each dimension of the array. If, for example, you have a 2D array with 2 rows and 3 columns, the shape of your array is (2,3)."
      ]
    },
    {
      "cell_type": "code",
      "metadata": {
        "id": "XW7PmzcKrqRv",
        "outputId": "1107eb5c-fa1c-400a-8730-bf1fe791f3f7"
      },
      "source": [
        "array_example = np.array([[[0, 1, 2, 3],\n",
        "                           [4, 5, 6, 7]],\n",
        "\n",
        "                          [[0, 1, 2, 3],\n",
        "                           [4, 5, 6, 7]],\n",
        "\n",
        "                          [[0, 1, 2, 3],\n",
        "                           [4, 5, 6, 7]]])\n",
        "\n",
        "print(array_example)"
      ],
      "execution_count": null,
      "outputs": [
        {
          "name": "stdout",
          "output_type": "stream",
          "text": [
            "[[[0 1 2 3]\n",
            "  [4 5 6 7]]\n",
            "\n",
            " [[0 1 2 3]\n",
            "  [4 5 6 7]]\n",
            "\n",
            " [[0 1 2 3]\n",
            "  [4 5 6 7]]]\n"
          ]
        }
      ]
    },
    {
      "cell_type": "code",
      "metadata": {
        "id": "oC2j2A9xrqRw",
        "outputId": "c05235d7-539c-4dcc-a2a9-0c6c1f772df4"
      },
      "source": [
        "array_example.ndim"
      ],
      "execution_count": null,
      "outputs": [
        {
          "data": {
            "text/plain": [
              "3"
            ]
          },
          "execution_count": 13,
          "metadata": {},
          "output_type": "execute_result"
        }
      ]
    },
    {
      "cell_type": "code",
      "metadata": {
        "id": "Gq6lGc7FrqRw",
        "outputId": "23c8a4d3-3774-47d5-8c78-a621156ee9d0"
      },
      "source": [
        "array_example.size"
      ],
      "execution_count": null,
      "outputs": [
        {
          "data": {
            "text/plain": [
              "24"
            ]
          },
          "execution_count": 14,
          "metadata": {},
          "output_type": "execute_result"
        }
      ]
    },
    {
      "cell_type": "code",
      "metadata": {
        "id": "47hHYhFarqRx",
        "outputId": "6e570acd-b1b1-4f91-9cd7-2d9c192949e8"
      },
      "source": [
        "array_example.shape"
      ],
      "execution_count": null,
      "outputs": [
        {
          "data": {
            "text/plain": [
              "(3, 2, 4)"
            ]
          },
          "execution_count": 15,
          "metadata": {},
          "output_type": "execute_result"
        }
      ]
    },
    {
      "cell_type": "code",
      "metadata": {
        "id": "8QcSEF5ZrqRy"
      },
      "source": [
        "arr_one = np.array([[1, 2, 3, 4, 5]])"
      ],
      "execution_count": null,
      "outputs": []
    },
    {
      "cell_type": "code",
      "metadata": {
        "id": "z9twt1rarqRz",
        "outputId": "ddee0216-5ec9-4458-e04a-285974f6f004"
      },
      "source": [
        "arr_one.ndim"
      ],
      "execution_count": null,
      "outputs": [
        {
          "data": {
            "text/plain": [
              "2"
            ]
          },
          "execution_count": 16,
          "metadata": {},
          "output_type": "execute_result"
        }
      ]
    },
    {
      "cell_type": "code",
      "metadata": {
        "id": "_-qP2Nl2rqRz",
        "outputId": "3508f087-e148-4aab-9a8e-77fb62c8218d"
      },
      "source": [
        "arr_one.size"
      ],
      "execution_count": null,
      "outputs": [
        {
          "data": {
            "text/plain": [
              "5"
            ]
          },
          "execution_count": 17,
          "metadata": {},
          "output_type": "execute_result"
        }
      ]
    },
    {
      "cell_type": "code",
      "metadata": {
        "id": "W2lMm5EIrqRz",
        "outputId": "7ad8c470-ef31-48f3-f78d-b3513ac10d79"
      },
      "source": [
        "arr_one.shape"
      ],
      "execution_count": null,
      "outputs": [
        {
          "data": {
            "text/plain": [
              "(1, 5)"
            ]
          },
          "execution_count": 18,
          "metadata": {},
          "output_type": "execute_result"
        }
      ]
    },
    {
      "cell_type": "markdown",
      "metadata": {
        "id": "vGxAiK3zrqR0"
      },
      "source": [
        "### Reshape\n",
        "\n",
        "```py\n",
        "np.reshape()\n",
        "```\n",
        "\n",
        "Using `np.reshape()` will give a new shape to an array without changing the data. Just remember that when you use the reshape method, the array you want to produce needs to have the same number of elements as the original array. If you start with an array with 12 elements, you’ll need to make sure that your new array also has a total of 12 elements.\n",
        "\n",
        "If you start with this array:"
      ]
    },
    {
      "cell_type": "code",
      "metadata": {
        "id": "7OkVJoGNrqR0",
        "outputId": "9e351ea9-5486-4d60-a057-3b6d5eb3aef5"
      },
      "source": [
        "a = np.arange(6)\n",
        "\n",
        "print(a)"
      ],
      "execution_count": null,
      "outputs": [
        {
          "name": "stdout",
          "output_type": "stream",
          "text": [
            "[0 1 2 3 4 5]\n"
          ]
        }
      ]
    },
    {
      "cell_type": "markdown",
      "metadata": {
        "id": "kbRkKvP4rqR0"
      },
      "source": [
        "You can use reshape() to reshape your array. For example, you can reshape this array to an array with three rows and two columns:"
      ]
    },
    {
      "cell_type": "code",
      "metadata": {
        "id": "kXVvwwp4rqR0",
        "outputId": "d5722607-fc5c-4d92-d3ba-8cadd1e8e263"
      },
      "source": [
        "b = a.reshape(3,2)\n",
        "\n",
        "print(b)"
      ],
      "execution_count": null,
      "outputs": [
        {
          "name": "stdout",
          "output_type": "stream",
          "text": [
            "[[0 1]\n",
            " [2 3]\n",
            " [4 5]]\n"
          ]
        }
      ]
    },
    {
      "cell_type": "code",
      "metadata": {
        "id": "5qJxtglrrqR0",
        "outputId": "e6b94423-ab88-4933-9356-92faf3af66d9"
      },
      "source": [
        "a.reshape(6,1)"
      ],
      "execution_count": null,
      "outputs": [
        {
          "data": {
            "text/plain": [
              "array([[0],\n",
              "       [1],\n",
              "       [2],\n",
              "       [3],\n",
              "       [4],\n",
              "       [5]])"
            ]
          },
          "execution_count": 22,
          "metadata": {},
          "output_type": "execute_result"
        }
      ]
    },
    {
      "cell_type": "markdown",
      "metadata": {
        "id": "AENCEq5crqR1"
      },
      "source": [
        "With np.reshape, you can specify a few optional parameters:\n",
        "\n",
        "`numpy.reshape(a, newshape, order)`\n",
        "\n",
        "- **a** is the array to be reshaped.\n",
        "- **newshape** is the new shape you want. You can specify an integer or a tuple of integers. If you specify an integer, the result will be an array of that length. The shape should be compatible with the original shape.\n",
        "- **order**: ‘C’ means to read/write the elements using C-like index order, ‘F’ means to read/write the elements using Fortran-like index order, ‘A’ means to read/write the elements in Fortran-like index order if a is Fortran contiguous in memory, C-like order otherwise. (This is an optional parameter and doesn’t need to be specified.)"
      ]
    },
    {
      "cell_type": "markdown",
      "metadata": {
        "id": "HA6ydwN7rqR1"
      },
      "source": [
        "### Convert 1D to 2D\n",
        "\n",
        "```py\n",
        "np.newaxis\n",
        "np.expand_dims\n",
        "```\n",
        "\n",
        "You can use `np.newaxis` and `np.expand_dims` to increase the dimensions of your existing array.\n",
        "\n",
        "Using `np.newaxis` will increase the dimensions of your array by one dimension when used once. This means that a 1D array will become a 2D array, a 2D array will become a 3D array, and so on.\n",
        "\n",
        "For example, if you start with this array:"
      ]
    },
    {
      "cell_type": "code",
      "metadata": {
        "id": "A67h6GCorqR1",
        "outputId": "2153a289-79ae-49aa-d16c-166a1abc6648"
      },
      "source": [
        "a = np.array([1, 2, 3, 4, 5, 6])\n",
        "a.shape"
      ],
      "execution_count": null,
      "outputs": [
        {
          "data": {
            "text/plain": [
              "(6,)"
            ]
          },
          "execution_count": 23,
          "metadata": {},
          "output_type": "execute_result"
        }
      ]
    },
    {
      "cell_type": "code",
      "metadata": {
        "id": "Qeg3ZuTprqR2",
        "outputId": "9fb5007f-2a24-4404-fbdf-6520d0dce5b1"
      },
      "source": [
        "# You can use np.newaxis to add a new axis:\n",
        "\n",
        "a2 = a[np.newaxis]\n",
        "print(a2.shape)\n",
        "print(a2)"
      ],
      "execution_count": null,
      "outputs": [
        {
          "name": "stdout",
          "output_type": "stream",
          "text": [
            "(1, 6)\n",
            "[[1 2 3 4 5 6]]\n"
          ]
        }
      ]
    },
    {
      "cell_type": "code",
      "metadata": {
        "id": "KE0sRGWbrqR2",
        "outputId": "a62a412b-8538-4182-a323-3d15049ba310"
      },
      "source": [
        "# You can convert a 1D array to a row vector by inserting an axis along the first dimension\n",
        "\n",
        "row_vector = a[np.newaxis, :]\n",
        "print(row_vector.shape)\n",
        "print(row_vector)"
      ],
      "execution_count": null,
      "outputs": [
        {
          "name": "stdout",
          "output_type": "stream",
          "text": [
            "(1, 6)\n",
            "[[1 2 3 4 5 6]]\n"
          ]
        }
      ]
    },
    {
      "cell_type": "code",
      "metadata": {
        "id": "2stNWLR8rqR3",
        "outputId": "467d6417-4ed3-4c7c-dbd5-1276b10494bf"
      },
      "source": [
        "# for a column vector, You can insert an axis along the second dimension\n",
        "\n",
        "col_vector = a[:, np.newaxis]\n",
        "print(col_vector.shape)\n",
        "print(col_vector)"
      ],
      "execution_count": null,
      "outputs": [
        {
          "name": "stdout",
          "output_type": "stream",
          "text": [
            "(6, 1)\n",
            "[[1]\n",
            " [2]\n",
            " [3]\n",
            " [4]\n",
            " [5]\n",
            " [6]]\n"
          ]
        }
      ]
    },
    {
      "cell_type": "markdown",
      "metadata": {
        "id": "0EIQstlJrqR4"
      },
      "source": [
        "You can also expand an array by inserting a new axis at a specified position with np.expand_dims.\n",
        "\n",
        "For example, if you start with this array:"
      ]
    },
    {
      "cell_type": "code",
      "metadata": {
        "id": "s6zkV1NbrqR5",
        "outputId": "06a5c5b7-1bad-464e-9426-b31101cd736f"
      },
      "source": [
        "a = np.array([1, 2, 3, 4, 5, 6])\n",
        "a.shape"
      ],
      "execution_count": null,
      "outputs": [
        {
          "data": {
            "text/plain": [
              "(6,)"
            ]
          },
          "execution_count": 27,
          "metadata": {},
          "output_type": "execute_result"
        }
      ]
    },
    {
      "cell_type": "code",
      "metadata": {
        "id": "3MzE83J-rqR5",
        "outputId": "12d21388-51e1-41d7-cd47-44c8f31bc8ba"
      },
      "source": [
        "# You can use np.expand_dims to add an axis at index position 1 with:\n",
        "\n",
        "b = np.expand_dims(a, axis=1)\n",
        "b.shape"
      ],
      "execution_count": null,
      "outputs": [
        {
          "data": {
            "text/plain": [
              "(6, 1)"
            ]
          },
          "execution_count": 28,
          "metadata": {},
          "output_type": "execute_result"
        }
      ]
    },
    {
      "cell_type": "code",
      "metadata": {
        "id": "vr5UtvigrqR6",
        "outputId": "e3119af4-ffa9-450c-f904-7578e2ee7567"
      },
      "source": [
        "# You can add an axis at index position 0 with:\n",
        "\n",
        "c = np.expand_dims(a, axis=0)\n",
        "c.shape"
      ],
      "execution_count": null,
      "outputs": [
        {
          "data": {
            "text/plain": [
              "(1, 6)"
            ]
          },
          "execution_count": 29,
          "metadata": {},
          "output_type": "execute_result"
        }
      ]
    },
    {
      "cell_type": "markdown",
      "metadata": {
        "id": "V4tMkQTYrqR7"
      },
      "source": [
        "### Indexing and Slicing\n",
        "\n",
        "You can index and slice NumPy arrays in the same ways you can slice Python lists."
      ]
    },
    {
      "cell_type": "code",
      "metadata": {
        "id": "UpxKDPxMrqR7",
        "outputId": "bfcc9b8f-5041-4850-fbfd-3b980601c350"
      },
      "source": [
        "data = np.array([1,2,3])\n",
        "\n",
        "print(data)\n",
        "print(data[0])\n",
        "print(data[1])\n",
        "print(data[0:2])\n",
        "print(data[1:])\n",
        "print(data[-2:])"
      ],
      "execution_count": null,
      "outputs": [
        {
          "name": "stdout",
          "output_type": "stream",
          "text": [
            "[1 2 3]\n",
            "1\n",
            "2\n",
            "[1 2]\n",
            "[2 3]\n",
            "[2 3]\n"
          ]
        }
      ]
    },
    {
      "cell_type": "markdown",
      "metadata": {
        "id": "YBhxDkVDrqR8"
      },
      "source": [
        "You may want to take a section of your array or specific array elements to use in further analysis or additional operations. To do that, you’ll need to subset, slice, and/or index your arrays.\n",
        "\n",
        "If you want to select values from your array that fulfill certain conditions, it’s straightforward with NumPy.\n",
        "\n",
        "For example, if you start with this array:"
      ]
    },
    {
      "cell_type": "code",
      "metadata": {
        "id": "kWK7pjDvrqR8",
        "outputId": "88ee1d4d-f57a-439e-cb49-036dc24f9a5c"
      },
      "source": [
        "a = np.array([[1 , 2, 3, 4], [5, 6, 7, 8], [9, 10, 11, 12]])\n",
        "a"
      ],
      "execution_count": null,
      "outputs": [
        {
          "data": {
            "text/plain": [
              "array([[ 1,  2,  3,  4],\n",
              "       [ 5,  6,  7,  8],\n",
              "       [ 9, 10, 11, 12]])"
            ]
          },
          "execution_count": 24,
          "metadata": {},
          "output_type": "execute_result"
        }
      ]
    },
    {
      "cell_type": "code",
      "metadata": {
        "id": "a3k_QBLHrqR8",
        "outputId": "b059aec0-b409-4019-b70e-a9508c62342f"
      },
      "source": [
        "# You can easily print all of the values in the array that are less than 5\n",
        "\n",
        "print(a[a>=5])"
      ],
      "execution_count": null,
      "outputs": [
        {
          "name": "stdout",
          "output_type": "stream",
          "text": [
            "[ 5  6  7  8  9 10 11 12]\n"
          ]
        }
      ]
    },
    {
      "cell_type": "markdown",
      "metadata": {
        "id": "2Wrw7EGzrqR8"
      },
      "source": [
        "You can also select, for example, numbers that are equal to or greater than 5, and use that condition to index an array."
      ]
    },
    {
      "cell_type": "code",
      "metadata": {
        "id": "K2qX72GKrqR9",
        "outputId": "c7a31c16-4506-4e30-82e8-d8126f3c5823"
      },
      "source": [
        "five_up = (a >= 5)\n",
        "\n",
        "print(a[five_up])\n",
        "print(a[a>=5])"
      ],
      "execution_count": null,
      "outputs": [
        {
          "name": "stdout",
          "output_type": "stream",
          "text": [
            "[ 5  6  7  8  9 10 11 12]\n",
            "[ 5  6  7  8  9 10 11 12]\n"
          ]
        }
      ]
    },
    {
      "cell_type": "code",
      "metadata": {
        "id": "wJl-4Dp-rqR9",
        "outputId": "03b15c00-49d2-4fe0-f4aa-f0bfbd17f87b"
      },
      "source": [
        "# You can select elements that are divisible by 2\n",
        "\n",
        "divisible_by_2 = a[a%2==0]\n",
        "\n",
        "print(divisible_by_2)"
      ],
      "execution_count": null,
      "outputs": [
        {
          "name": "stdout",
          "output_type": "stream",
          "text": [
            "[ 2  4  6  8 10 12]\n"
          ]
        }
      ]
    },
    {
      "cell_type": "code",
      "metadata": {
        "id": "t9er4Z10rqR-",
        "outputId": "1e7e364a-6b5f-4dc5-c4d0-fc4fff5e12f5"
      },
      "source": [
        "# you can select elements that satisfy two conditions using the & and | operators\n",
        "\n",
        "c = a[(a > 2) & (a < 11)]\n",
        "\n",
        "print(c)"
      ],
      "execution_count": null,
      "outputs": [
        {
          "name": "stdout",
          "output_type": "stream",
          "text": [
            "[ 3  4  5  6  7  8  9 10]\n"
          ]
        }
      ]
    },
    {
      "cell_type": "markdown",
      "metadata": {
        "id": "kAxyKPCFrqR-"
      },
      "source": [
        "### Creating Array from Existing Data\n",
        "\n",
        "```py\n",
        "slicing indexing\n",
        "np.vstack()\n",
        "np.hstack()\n",
        "np.hsplit()\n",
        ".view()\n",
        ".copy()\n",
        "```\n",
        "\n",
        "You can easily use create a new array from a section of an existing array. Let’s say you have this array:\n",
        "\n",
        "`array([ 1,  2,  3,  4,  5,  6,  7,  8,  9, 10])`\n",
        "\n",
        "You can create a new array from a section of your array any time by specifying where you want to slice your array.\n"
      ]
    },
    {
      "cell_type": "code",
      "metadata": {
        "id": "r3sFsnbirqSA"
      },
      "source": [
        "arr = np.array([ 1,  2,  3,  4,  5,  6,  7,  8,  9, 10])"
      ],
      "execution_count": null,
      "outputs": []
    },
    {
      "cell_type": "code",
      "metadata": {
        "id": "OLcE7TV6rqSB",
        "outputId": "3263ba32-63cf-4e5c-c270-10e8b95600f1"
      },
      "source": [
        "arr1 = arr[3:8]\n",
        "arr1"
      ],
      "execution_count": null,
      "outputs": [
        {
          "data": {
            "text/plain": [
              "array([4, 5, 6, 7, 8])"
            ]
          },
          "execution_count": 37,
          "metadata": {},
          "output_type": "execute_result"
        }
      ]
    },
    {
      "cell_type": "markdown",
      "metadata": {
        "id": "ky6LfBgprqSB"
      },
      "source": [
        "You can also stack two existing arrays, both vertically and horizontally. Let’s say you have two arrays:\n",
        "\n",
        "a_1:\n",
        "\n",
        "```py\n",
        "array([[1, 1],\n",
        "     [2, 2]])\n",
        "```\n",
        "and a_2:\n",
        "\n",
        "```py\n",
        "array([[3, 3],\n",
        "     [4, 4]])\n",
        "```\n",
        "\n",
        "You can stack them vertically with `vstack`"
      ]
    },
    {
      "cell_type": "code",
      "metadata": {
        "id": "Z9eo-NXnrqSC"
      },
      "source": [
        "a_1 = np.array([[1, 1],\n",
        "                [2, 2]])"
      ],
      "execution_count": null,
      "outputs": []
    },
    {
      "cell_type": "code",
      "metadata": {
        "id": "0legLV4grqSC"
      },
      "source": [
        "a_2 = np.array([[3, 3],\n",
        "                [4, 4]])"
      ],
      "execution_count": null,
      "outputs": []
    },
    {
      "cell_type": "code",
      "metadata": {
        "id": "6B7I1Dv6rqSC",
        "outputId": "a50d4ae8-f590-471c-8517-25599128d3d5"
      },
      "source": [
        "np.vstack((a_1, a_2))"
      ],
      "execution_count": null,
      "outputs": [
        {
          "data": {
            "text/plain": [
              "array([[1, 1],\n",
              "       [2, 2],\n",
              "       [3, 3],\n",
              "       [4, 4]])"
            ]
          },
          "execution_count": 40,
          "metadata": {},
          "output_type": "execute_result"
        }
      ]
    },
    {
      "cell_type": "code",
      "metadata": {
        "id": "Nc4eh_yprqSC",
        "outputId": "0992d34a-8bb9-40bb-f72b-007e98cd1279"
      },
      "source": [
        "# Or stack them horizontally with hstack\n",
        "\n",
        "np.hstack((a_1, a_2))"
      ],
      "execution_count": null,
      "outputs": [
        {
          "data": {
            "text/plain": [
              "array([[1, 1, 3, 3],\n",
              "       [2, 2, 4, 4]])"
            ]
          },
          "execution_count": 41,
          "metadata": {},
          "output_type": "execute_result"
        }
      ]
    },
    {
      "cell_type": "markdown",
      "metadata": {
        "id": "i4wttXzBrqSD"
      },
      "source": [
        "You can split an array into several smaller arrays using hsplit. You can specify either the number of equally shaped arrays to return or the columns after which the division should occur.\n",
        "\n",
        "Let’s say you have this array:\n",
        "\n",
        "```py\n",
        "array([[ 1,  2,  3,  4,  5,  6,  7,  8,  9, 10, 11, 12],\n",
        "     [13, 14, 15, 16, 17, 18, 19, 20, 21, 22, 23, 24]])\n",
        "```"
      ]
    },
    {
      "cell_type": "code",
      "metadata": {
        "id": "0K8U8nAmrqSD",
        "outputId": "1793e6c6-4508-4bc2-a299-5bd66d0cdbc1"
      },
      "source": [
        "arrsplit = np.array([[1,  2,  3,  4,  5,  6,  7,  8,  9, 10, 11, 12],\n",
        "                     [13, 14, 15, 16, 17, 18, 19, 20, 21, 22, 23, 24]])\n",
        "\n",
        "print(arrsplit)"
      ],
      "execution_count": null,
      "outputs": [
        {
          "name": "stdout",
          "output_type": "stream",
          "text": [
            "[[ 1  2  3  4  5  6  7  8  9 10 11 12]\n",
            " [13 14 15 16 17 18 19 20 21 22 23 24]]\n"
          ]
        }
      ]
    },
    {
      "cell_type": "code",
      "metadata": {
        "id": "heFPPjnOrqSD",
        "outputId": "f2d53024-069b-404f-f282-333f8fdd26bd"
      },
      "source": [
        "# If you wanted to split this array into three equally shaped arrays\n",
        "\n",
        "np.hsplit(arrsplit,3)"
      ],
      "execution_count": null,
      "outputs": [
        {
          "data": {
            "text/plain": [
              "[array([[ 1,  2,  3,  4],\n",
              "        [13, 14, 15, 16]]), array([[ 5,  6,  7,  8],\n",
              "        [17, 18, 19, 20]]), array([[ 9, 10, 11, 12],\n",
              "        [21, 22, 23, 24]])]"
            ]
          },
          "execution_count": 43,
          "metadata": {},
          "output_type": "execute_result"
        }
      ]
    },
    {
      "cell_type": "markdown",
      "metadata": {
        "id": "yBQ87l9orqSD"
      },
      "source": [
        "You can use the view method to create a new array object that looks at the same data as the original array (a shallow copy)"
      ]
    },
    {
      "cell_type": "code",
      "metadata": {
        "id": "tAeGQ5N2rqSE",
        "outputId": "0030d3de-e6f0-4958-b482-7f929f71a873"
      },
      "source": [
        "a = np.array([[1 , 2, 3, 4], [5, 6, 7, 8], [9, 10, 11, 12]])\n",
        "a"
      ],
      "execution_count": null,
      "outputs": [
        {
          "data": {
            "text/plain": [
              "array([[ 1,  2,  3,  4],\n",
              "       [ 5,  6,  7,  8],\n",
              "       [ 9, 10, 11, 12]])"
            ]
          },
          "execution_count": 27,
          "metadata": {},
          "output_type": "execute_result"
        }
      ]
    },
    {
      "cell_type": "code",
      "metadata": {
        "id": "eQ3dA5WQrqSE",
        "outputId": "07a8efb3-0a6c-418a-9167-8a2966113187"
      },
      "source": [
        "# You can create a new array object that looks at the same data\n",
        "\n",
        "b = a.view()\n",
        "b"
      ],
      "execution_count": null,
      "outputs": [
        {
          "data": {
            "text/plain": [
              "array([[ 1,  2,  3,  4],\n",
              "       [ 5,  6,  7,  8],\n",
              "       [ 9, 10, 11, 12]])"
            ]
          },
          "execution_count": 28,
          "metadata": {},
          "output_type": "execute_result"
        }
      ]
    },
    {
      "cell_type": "code",
      "metadata": {
        "id": "6zYLlJV1rqSE",
        "outputId": "0ba8ba2b-102a-4f43-e96e-a495e5b52f1a"
      },
      "source": [
        "# Using the copy method will make a complete copy of the array and its data (a deep copy).\n",
        "\n",
        "c = a.copy()\n",
        "c"
      ],
      "execution_count": null,
      "outputs": [
        {
          "data": {
            "text/plain": [
              "array([[ 1,  2,  3,  4],\n",
              "       [ 5,  6,  7,  8],\n",
              "       [ 9, 10, 11, 12]])"
            ]
          },
          "execution_count": 29,
          "metadata": {},
          "output_type": "execute_result"
        }
      ]
    },
    {
      "cell_type": "markdown",
      "metadata": {
        "id": "u84ny79BrqSE"
      },
      "source": [
        "### Basic array operations\n",
        "\n",
        "`Addition, subtraction, multiplication, division, and more`\n",
        "\n",
        "Once you’ve created your arrays, you can start to work with them. Let’s say, for example, that you’ve created two arrays, one called “data” and one called “ones”.\n",
        "\n",
        "You can add the arrays together with the plus sign.\n",
        "\n",
        "`data + ones`\n",
        "\n",
        "You can, of course, do more than just addition.\n",
        "\n",
        "```py\n",
        "data - ones\n",
        "data * data\n",
        "data / data\n",
        "```\n",
        "\n",
        "Basic operations are simple with NumPy. If you want to find the sum of the elements in an array, you’d use sum(). This works for 1D arrays, 2D arrays, and arrays in higher dimensions."
      ]
    },
    {
      "cell_type": "code",
      "metadata": {
        "id": "5DMxLClbrqSF",
        "outputId": "0690a011-a819-47bd-8f44-f409fb77afbb"
      },
      "source": [
        "a = np.array([1, 2, 3, 4])\n",
        "\n",
        "# Add all of the elements in the array\n",
        "a.sum()"
      ],
      "execution_count": null,
      "outputs": [
        {
          "data": {
            "text/plain": [
              "10"
            ]
          },
          "execution_count": 47,
          "metadata": {},
          "output_type": "execute_result"
        }
      ]
    },
    {
      "cell_type": "markdown",
      "metadata": {
        "id": "W38CTuBnrqSF"
      },
      "source": [
        "To add the rows or the columns in a 2D array, you would specify the axis.\n",
        "\n",
        "If you start with this array:"
      ]
    },
    {
      "cell_type": "code",
      "metadata": {
        "id": "Lrc7RM63rqSF",
        "outputId": "b6499d80-3ad4-4476-a57a-801a7ae1658d"
      },
      "source": [
        "b = np.array([[1, 1], [2, 2]])\n",
        "b"
      ],
      "execution_count": null,
      "outputs": [
        {
          "data": {
            "text/plain": [
              "array([[1, 1],\n",
              "       [2, 2]])"
            ]
          },
          "execution_count": 48,
          "metadata": {},
          "output_type": "execute_result"
        }
      ]
    },
    {
      "cell_type": "code",
      "metadata": {
        "id": "iDhf65BarqSG",
        "outputId": "04809532-e5bb-4b16-f489-e1cdb2d180e8"
      },
      "source": [
        "# You can sum the rows\n",
        "\n",
        "b.sum(axis=0)"
      ],
      "execution_count": null,
      "outputs": [
        {
          "data": {
            "text/plain": [
              "array([3, 3])"
            ]
          },
          "execution_count": 49,
          "metadata": {},
          "output_type": "execute_result"
        }
      ]
    },
    {
      "cell_type": "code",
      "metadata": {
        "id": "29kQ5buFrqSG",
        "outputId": "d59d61e3-b5c8-4f9a-917d-d183e43f4648"
      },
      "source": [
        "# You can sum the columns\n",
        "\n",
        "b.sum(axis=1)"
      ],
      "execution_count": null,
      "outputs": [
        {
          "data": {
            "text/plain": [
              "array([2, 4])"
            ]
          },
          "execution_count": 50,
          "metadata": {},
          "output_type": "execute_result"
        }
      ]
    },
    {
      "cell_type": "code",
      "metadata": {
        "id": "8MH9oqzqrqSG",
        "outputId": "0a526e2e-a628-49b1-a0be-d4d5a8151df5"
      },
      "source": [
        "data = np.array([1, 2])\n",
        "data"
      ],
      "execution_count": null,
      "outputs": [
        {
          "data": {
            "text/plain": [
              "array([1, 2])"
            ]
          },
          "execution_count": 51,
          "metadata": {},
          "output_type": "execute_result"
        }
      ]
    },
    {
      "cell_type": "code",
      "metadata": {
        "id": "3skAMtq5rqSH",
        "outputId": "5fd46735-d715-4a8b-d470-8c87cc79c464"
      },
      "source": [
        "ones = np.ones(2)\n",
        "ones"
      ],
      "execution_count": null,
      "outputs": [
        {
          "data": {
            "text/plain": [
              "array([1., 1.])"
            ]
          },
          "execution_count": 52,
          "metadata": {},
          "output_type": "execute_result"
        }
      ]
    },
    {
      "cell_type": "code",
      "metadata": {
        "id": "vGb3FaZIrqSH",
        "outputId": "15109089-7afe-476d-8521-c57b8eb5112a"
      },
      "source": [
        "data + ones"
      ],
      "execution_count": null,
      "outputs": [
        {
          "data": {
            "text/plain": [
              "array([2., 3.])"
            ]
          },
          "execution_count": 53,
          "metadata": {},
          "output_type": "execute_result"
        }
      ]
    },
    {
      "cell_type": "code",
      "metadata": {
        "id": "7w4BhnXvrqSH",
        "outputId": "a151ecd6-e52c-49fd-ae33-74e2710a72e8"
      },
      "source": [
        "data * data"
      ],
      "execution_count": null,
      "outputs": [
        {
          "data": {
            "text/plain": [
              "array([1, 4])"
            ]
          },
          "execution_count": 54,
          "metadata": {},
          "output_type": "execute_result"
        }
      ]
    },
    {
      "cell_type": "code",
      "metadata": {
        "id": "LZ2t_W9orqSH",
        "outputId": "dc7e3620-374b-4f8b-dc13-f2c279fe009a"
      },
      "source": [
        "data / data"
      ],
      "execution_count": null,
      "outputs": [
        {
          "data": {
            "text/plain": [
              "array([1., 1.])"
            ]
          },
          "execution_count": 55,
          "metadata": {},
          "output_type": "execute_result"
        }
      ]
    },
    {
      "cell_type": "markdown",
      "metadata": {
        "id": "WrSYdmsSrqSI"
      },
      "source": [
        "### More Array Operations\n",
        "\n",
        "`Maximum, minimum, sum, mean, product, standard deviation, and more`\n",
        "\n",
        "NumPy also performs aggregation functions. In addition to `min`, `max`, and `sum`, you can easily run `mean` to get the average, `prod` to get the result of multiplying the elements together, `std` to get the standard deviation, and more.\n",
        "\n",
        "```py\n",
        "data.max()\n",
        "data.min()\n",
        "data.sum()\n",
        "```\n"
      ]
    },
    {
      "cell_type": "code",
      "metadata": {
        "id": "B0Nso4HyrqSI",
        "outputId": "b439aa7c-1509-498c-e6aa-39d8c8ab050c"
      },
      "source": [
        "A = np.array([[0.45053314, 0.17296777, 0.34376245, 0.5510652],\n",
        "              [0.54627315, 0.05093587, 0.40067661, 0.55645993],\n",
        "              [0.12697628, 0.82485143, 0.26590556, 0.56917101]])\n",
        "\n",
        "print(A)"
      ],
      "execution_count": null,
      "outputs": [
        {
          "name": "stdout",
          "output_type": "stream",
          "text": [
            "[[0.45053314 0.17296777 0.34376245 0.5510652 ]\n",
            " [0.54627315 0.05093587 0.40067661 0.55645993]\n",
            " [0.12697628 0.82485143 0.26590556 0.56917101]]\n"
          ]
        }
      ]
    },
    {
      "cell_type": "markdown",
      "metadata": {
        "id": "8fK0Q7kWrqSI"
      },
      "source": [
        "It’s very common to want to aggregate along a row or column. By default, every NumPy aggregation function will return the aggregate of the entire array."
      ]
    },
    {
      "cell_type": "code",
      "metadata": {
        "id": "YesmhyLbrqSI",
        "outputId": "0d791c4b-b79a-4dce-f506-0c4880a9e497"
      },
      "source": [
        "A.sum()"
      ],
      "execution_count": null,
      "outputs": [
        {
          "data": {
            "text/plain": [
              "4.8595784"
            ]
          },
          "execution_count": 58,
          "metadata": {},
          "output_type": "execute_result"
        }
      ]
    },
    {
      "cell_type": "code",
      "metadata": {
        "id": "gQb5EW3ErqSI",
        "outputId": "2a3df4f6-2fd1-45c8-c81c-b1683ee842be"
      },
      "source": [
        "A.min()"
      ],
      "execution_count": null,
      "outputs": [
        {
          "data": {
            "text/plain": [
              "0.05093587"
            ]
          },
          "execution_count": 59,
          "metadata": {},
          "output_type": "execute_result"
        }
      ]
    },
    {
      "cell_type": "code",
      "metadata": {
        "id": "bO8N6bUErqSJ",
        "outputId": "77f7d1ca-c31a-42f8-cdb2-9ad23c282411"
      },
      "source": [
        "A.min(axis=0)"
      ],
      "execution_count": null,
      "outputs": [
        {
          "data": {
            "text/plain": [
              "array([0.12697628, 0.05093587, 0.26590556, 0.5510652 ])"
            ]
          },
          "execution_count": 60,
          "metadata": {},
          "output_type": "execute_result"
        }
      ]
    },
    {
      "cell_type": "code",
      "metadata": {
        "id": "HeMEtkrzrqSJ",
        "outputId": "9777e4f8-84af-4403-cde3-becba9b989d3"
      },
      "source": [
        "A.max()"
      ],
      "execution_count": null,
      "outputs": [
        {
          "data": {
            "text/plain": [
              "0.82485143"
            ]
          },
          "execution_count": 61,
          "metadata": {},
          "output_type": "execute_result"
        }
      ]
    },
    {
      "cell_type": "code",
      "metadata": {
        "id": "Fm1BuC5-rqSJ",
        "outputId": "afeb0928-37c1-4bf6-a5fe-3fd48f6e5407"
      },
      "source": [
        "A.max(axis=1)"
      ],
      "execution_count": null,
      "outputs": [
        {
          "data": {
            "text/plain": [
              "array([0.5510652 , 0.55645993, 0.82485143])"
            ]
          },
          "execution_count": 62,
          "metadata": {},
          "output_type": "execute_result"
        }
      ]
    },
    {
      "cell_type": "code",
      "metadata": {
        "id": "ofaxjcVBrqSJ",
        "outputId": "8b248bb8-7b1b-4270-8d42-fd6cd81ac1d4"
      },
      "source": [
        "A.std()"
      ],
      "execution_count": null,
      "outputs": [
        {
          "data": {
            "text/plain": [
              "0.21392120766089617"
            ]
          },
          "execution_count": 63,
          "metadata": {},
          "output_type": "execute_result"
        }
      ]
    },
    {
      "cell_type": "markdown",
      "metadata": {
        "id": "D9UFM_M4rqSJ"
      },
      "source": [
        "The four values listed above correspond to the number of columns in your array. With a four-column array, you will get four values as your result."
      ]
    }
  ]
}