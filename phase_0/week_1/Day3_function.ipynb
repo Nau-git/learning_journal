{
 "cells": [
  {
   "cell_type": "markdown",
   "metadata": {},
   "source": [
    "# FUNCTION\n",
    "You can define functions to provide the required functionality. Here are simple rules to define a function in Python.\n",
    "\n",
    "* Function blocks begin with the keyword `def` followed by the function name and parentheses ( `( )` ).\n",
    "* Any input parameters or arguments should be placed within these parentheses. You can also define parameters inside these parentheses.\n",
    "* The first statement of a function can be an optional statement - the documentation string of the function or docstring.\n",
    "* The code block within every function starts with a colon (`:`) and is indented.\n",
    "* The statement return `[expression]` exits a function, optionally passing back an expression to the caller. A return statement with no arguments is the same as return None"
   ]
  },
  {
   "cell_type": "code",
   "execution_count": 1,
   "metadata": {},
   "outputs": [],
   "source": [
    "# The syntax\n",
    "\n",
    "def function_name (parameter):\n",
    "    'docstring'\n",
    "    statement(s)"
   ]
  },
  {
   "cell_type": "code",
   "execution_count": 5,
   "metadata": {},
   "outputs": [
    {
     "name": "stdout",
     "output_type": "stream",
     "text": [
      "first sentence\n",
      "second sentence\n"
     ]
    }
   ],
   "source": [
    "def printme(str_input):\n",
    "    '''this prints a passed string into this function'''\n",
    "    print(str_input)\n",
    "\n",
    "printme('first sentence')\n",
    "printme('second sentence')"
   ]
  },
  {
   "cell_type": "markdown",
   "metadata": {},
   "source": [
    "### Pass by reference vs value"
   ]
  },
  {
   "cell_type": "code",
   "execution_count": 96,
   "metadata": {},
   "outputs": [
    {
     "name": "stdout",
     "output_type": "stream",
     "text": [
      "\n",
      "Values outside the function - before :  [100, 200, 300]\n",
      "\n",
      "Values inside function :  [100, 200, 300, 1, 2, 3, 4]\n",
      "Values outside the function - after :  [100, 200, 300, 1, 2, 3, 4]\n"
     ]
    }
   ],
   "source": [
    "def replaceme(mylist):\n",
    "    mylist=mylist+[1,2,3,4]\n",
    "    print('\\nValues inside function : ', mylist)\n",
    "    return mylist\n",
    "\n",
    "mylist=[100,200,300]\n",
    "print('\\nValues outside the function - before : ', mylist)\n",
    "mylist=replaceme(mylist)\n",
    "print('Values outside the function - after : ', mylist)"
   ]
  },
  {
   "cell_type": "markdown",
   "metadata": {},
   "source": [
    "### Function Arguments\n",
    "\n",
    "You can call a function by using the following types of formal arguments −\n",
    "\n",
    "- Required arguments\n",
    "- Keyword arguments\n",
    "- Default arguments\n",
    "- Variable-length arguments"
   ]
  },
  {
   "cell_type": "markdown",
   "metadata": {},
   "source": [
    "1. Required argument\n",
    "\n",
    "the arguments passed to a function in correct positional order. Here, the number of arguments in the function call should match exactly with the function definition"
   ]
  },
  {
   "cell_type": "code",
   "execution_count": 91,
   "metadata": {},
   "outputs": [
    {
     "name": "stdout",
     "output_type": "stream",
     "text": [
      "example #1\n",
      "Hei 1\n",
      "\n",
      "example #2\n",
      "Area =  35\n"
     ]
    }
   ],
   "source": [
    "# example 1\n",
    "def perin(input):\n",
    "    print(input)\n",
    "\n",
    "print('example #1')\n",
    "perin('Hei 1')\n",
    "\n",
    "# example 2\n",
    "def cal_rect (length, width):\n",
    "    print('Area = ', length*width)\n",
    "\n",
    "length = 5\n",
    "width = 7\n",
    "\n",
    "print('\\nexample #2')\n",
    "cal_rect(length, width)"
   ]
  },
  {
   "cell_type": "markdown",
   "metadata": {},
   "source": [
    "2. Keyword arguments\n",
    "\n",
    "are related to the function calls. When you use keyword arguments in a function call, the caller identifies the arguments by the parameter name.\n",
    "\n",
    "allows skip arguments or place them out of order."
   ]
  },
  {
   "cell_type": "code",
   "execution_count": 92,
   "metadata": {},
   "outputs": [
    {
     "name": "stdout",
     "output_type": "stream",
     "text": [
      "hahachoo\n"
     ]
    }
   ],
   "source": [
    "def printer(input):\n",
    "    print(input)\n",
    "\n",
    "printer(input = 'hahachoo')"
   ]
  },
  {
   "cell_type": "code",
   "execution_count": 93,
   "metadata": {},
   "outputs": [
    {
     "name": "stdout",
     "output_type": "stream",
     "text": [
      "Name =  bbb\n",
      "Age =  4\n"
     ]
    }
   ],
   "source": [
    "def printinfo(name, age):\n",
    "    print('Name = ', name)\n",
    "    print('Age = ', age)\n",
    "\n",
    "printinfo(age=4, name='bbb')"
   ]
  },
  {
   "cell_type": "markdown",
   "metadata": {},
   "source": [
    "3. Default argument\n",
    "\n",
    "an argument that assumes a default value if a value is not provided in the function call for that argument."
   ]
  },
  {
   "cell_type": "code",
   "execution_count": 95,
   "metadata": {},
   "outputs": [
    {
     "name": "stdout",
     "output_type": "stream",
     "text": [
      "Name =  ccc\n",
      "Age =  40\n",
      "\n",
      "Name =  ddd\n",
      "Age =  16\n",
      "\n"
     ]
    }
   ],
   "source": [
    "def printinfo(name, age = 16):\n",
    "    print('Name = ', name)\n",
    "    print('Age = ', age)\n",
    "    print('')\n",
    "\n",
    "printinfo(age=40, name='ccc')\n",
    "printinfo(name='ddd')"
   ]
  },
  {
   "cell_type": "code",
   "execution_count": null,
   "metadata": {},
   "outputs": [],
   "source": [
    "# restriction: must write default-arg *after* required-arg\n",
    "\n",
    "# example:\n",
    "# def printinfo(name, age=22):\n",
    "\n",
    "# NOT like this:\n",
    "# def printinfo(age=26, name):"
   ]
  },
  {
   "cell_type": "markdown",
   "metadata": {},
   "source": [
    "4. Variable-length arguments\n",
    "\n",
    "You may need to process a function for more arguments than you specified while defining the function. These arguments are called variable-length arguments and are not named in the function definition, unlike required and default arguments."
   ]
  },
  {
   "cell_type": "code",
   "execution_count": null,
   "metadata": {},
   "outputs": [],
   "source": [
    "# JARANG DIGUNAKAN"
   ]
  },
  {
   "cell_type": "code",
   "execution_count": null,
   "metadata": {},
   "outputs": [],
   "source": []
  },
  {
   "cell_type": "markdown",
   "metadata": {},
   "source": [
    "#### Return vs no return"
   ]
  },
  {
   "cell_type": "code",
   "execution_count": 12,
   "metadata": {},
   "outputs": [
    {
     "data": {
      "text/plain": [
       "6"
      ]
     },
     "execution_count": 12,
     "metadata": {},
     "output_type": "execute_result"
    }
   ],
   "source": [
    "def area(alas, tinggi):\n",
    "    luas = alas * tinggi\n",
    "    return luas    # pake return\n",
    "\n",
    "area(2,3)"
   ]
  },
  {
   "cell_type": "code",
   "execution_count": 13,
   "metadata": {},
   "outputs": [],
   "source": [
    "def area1(alas, tinggi):\n",
    "    luas = alas * tinggi\n",
    "                            #ga pake return = no output\n",
    "area1(2,3)"
   ]
  },
  {
   "cell_type": "code",
   "execution_count": 19,
   "metadata": {},
   "outputs": [
    {
     "name": "stdout",
     "output_type": "stream",
     "text": [
      "(6, 4)\n",
      "6\n",
      "4\n"
     ]
    }
   ],
   "source": [
    "def area3(alas, tinggi):\n",
    "    luas = alas * tinggi\n",
    "    luas2 = alas * 2\n",
    "    return luas, luas2    \n",
    "\n",
    "print(area3(2,3))\n",
    "print(area3(2,3)[0])\n",
    "print(area3(2,3)[1])"
   ]
  },
  {
   "cell_type": "markdown",
   "metadata": {},
   "source": [
    "### Anonymous function\n",
    "\n",
    "`Lambda`\n",
    "\n",
    "- `lambda` forms can take any number of arguments but return just one value in the form of an expression. They cannot contain commands or multiple expressions.\n",
    "- An anonymous function cannot be a direct call to `print` because `lambda` requires an expression\n",
    "- `lambda` functions have their own local namespace and cannot access variables other than those in their parameter list and those in the global namespace.\n",
    "\n",
    "The syntax of `lambda` functions contains only a single statement, which is as follows −\n",
    "\n",
    "`lambda [arg1 [,arg2,.....argn]]:expression`"
   ]
  },
  {
   "cell_type": "code",
   "execution_count": 97,
   "metadata": {},
   "outputs": [
    {
     "name": "stdout",
     "output_type": "stream",
     "text": [
      "Value of total :  30\n",
      "Value of total :  40\n"
     ]
    }
   ],
   "source": [
    "# Function definition is here\n",
    "sum = lambda arg1, arg2: arg1 + arg2\n",
    "\n",
    "# That lambda function will be equal to :\n",
    "# def sum(arg1, arg2):\n",
    "#     return arg1+arg2\n",
    "\n",
    "# Now you can call sum as a function\n",
    "print(\"Value of total : \", sum( 10, 20 ))\n",
    "print(\"Value of total : \", sum( 20, 20 ))"
   ]
  },
  {
   "cell_type": "code",
   "execution_count": 20,
   "metadata": {},
   "outputs": [
    {
     "name": "stdout",
     "output_type": "stream",
     "text": [
      "Values inside the function  :  [1, 2, 3, 4]\n",
      "Values outside the function :  [10, 20, 30]\n"
     ]
    }
   ],
   "source": [
    "# Function definition is here\n",
    "def changeme( mylist ):\n",
    "   '''This changes a passed list into this function'''\n",
    "   mylist = [1, 2, 3, 4] # This would assign new reference in mylist\n",
    "   print(\"Values inside the function  : \", mylist)\n",
    "\n",
    "# Now you can call changeme function\n",
    "mylist = [10, 20, 30]\n",
    "changeme( mylist )\n",
    "print(\"Values outside the function : \", mylist)"
   ]
  },
  {
   "cell_type": "code",
   "execution_count": 28,
   "metadata": {},
   "outputs": [
    {
     "name": "stdout",
     "output_type": "stream",
     "text": [
      "4\n"
     ]
    }
   ],
   "source": [
    "sum = lambda arg1, arg2 : arg1 + arg2 \n",
    "\n",
    "print(sum(1,3))"
   ]
  },
  {
   "cell_type": "markdown",
   "metadata": {},
   "source": [
    "### Return statement"
   ]
  },
  {
   "cell_type": "code",
   "execution_count": 29,
   "metadata": {},
   "outputs": [
    {
     "name": "stdout",
     "output_type": "stream",
     "text": [
      "before <function <lambda> at 0x000002A42E226940>\n",
      "after <function <lambda> at 0x000002A42E226940>\n"
     ]
    }
   ],
   "source": [
    "tambah = 1\n",
    "tambah = lambda arg1, arg2 : arg1+arg2\n",
    "\n",
    "print('before', tambah)\n",
    "tambah(5,2)\n",
    "print('after',tambah)"
   ]
  },
  {
   "cell_type": "markdown",
   "metadata": {},
   "source": [
    "# Module n Package"
   ]
  },
  {
   "cell_type": "code",
   "execution_count": 14,
   "metadata": {},
   "outputs": [
    {
     "name": "stdout",
     "output_type": "stream",
     "text": [
      "zack\n",
      "<module 'person' from 'c:\\\\Users\\\\Naufal\\\\Documents\\\\hacktiv8\\\\learning_journal\\\\phase_0\\\\week_1\\\\person.py'>\n",
      "['laptop', 'smartphone', 'tablet']\n",
      "['laptop', 'smartphone']\n",
      "arg = ahah\n"
     ]
    },
    {
     "ename": "NameError",
     "evalue": "name 'ahah' is not defined",
     "output_type": "error",
     "traceback": [
      "\u001b[1;31m---------------------------------------------------------------------------\u001b[0m",
      "\u001b[1;31mNameError\u001b[0m                                 Traceback (most recent call last)",
      "\u001b[1;32mc:\\Users\\Naufal\\Documents\\hacktiv8\\learning_journal\\phase_0\\week_1\\Day3_function.ipynb Cell 12'\u001b[0m in \u001b[0;36m<cell line: 7>\u001b[1;34m()\u001b[0m\n\u001b[0;32m      <a href='vscode-notebook-cell:/c%3A/Users/Naufal/Documents/hacktiv8/learning_journal/phase_0/week_1/Day3_function.ipynb#ch0000011?line=4'>5</a>\u001b[0m \u001b[39mprint\u001b[39m(ps\u001b[39m.\u001b[39mdevices[\u001b[39m0\u001b[39m:\u001b[39m2\u001b[39m])\n\u001b[0;32m      <a href='vscode-notebook-cell:/c%3A/Users/Naufal/Documents/hacktiv8/learning_journal/phase_0/week_1/Day3_function.ipynb#ch0000011?line=5'>6</a>\u001b[0m ps\u001b[39m.\u001b[39mdisplay(\u001b[39m'\u001b[39m\u001b[39mahah\u001b[39m\u001b[39m'\u001b[39m)\n\u001b[1;32m----> <a href='vscode-notebook-cell:/c%3A/Users/Naufal/Documents/hacktiv8/learning_journal/phase_0/week_1/Day3_function.ipynb#ch0000011?line=6'>7</a>\u001b[0m ps\u001b[39m.\u001b[39mdisplay(ahah)\n",
      "\u001b[1;31mNameError\u001b[0m: name 'ahah' is not defined"
     ]
    }
   ],
   "source": [
    "import person as ps\n",
    "print(ps.name)\n",
    "print(ps)\n",
    "print(ps.devices)\n",
    "print(ps.devices[0:2])\n",
    "ps.display('ahah')\n",
    "ps.display(ahah)"
   ]
  }
 ],
 "metadata": {
  "interpreter": {
   "hash": "d2e7e06b526110c95c80c641bd1e8cb72e2a40ad44dc93107b19ce85df71c180"
  },
  "kernelspec": {
   "display_name": "Python 3.9.10 64-bit (windows store)",
   "language": "python",
   "name": "python3"
  },
  "language_info": {
   "codemirror_mode": {
    "name": "ipython",
    "version": 3
   },
   "file_extension": ".py",
   "mimetype": "text/x-python",
   "name": "python",
   "nbconvert_exporter": "python",
   "pygments_lexer": "ipython3",
   "version": "3.9.10"
  },
  "orig_nbformat": 4
 },
 "nbformat": 4,
 "nbformat_minor": 2
}
