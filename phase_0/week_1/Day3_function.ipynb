{
 "cells": [
  {
   "cell_type": "markdown",
   "metadata": {},
   "source": [
    "# FUNCTION\n",
    "You can define functions to provide the required functionality. Here are simple rules to define a function in Python.\n",
    "\n",
    "* Function blocks begin with the keyword `def` followed by the function name and parentheses ( `( )` ).\n",
    "* Any input parameters or arguments should be placed within these parentheses. You can also define parameters inside these parentheses.\n",
    "* The first statement of a function can be an optional statement - the documentation string of the function or docstring.\n",
    "* The code block within every function starts with a colon (`:`) and is indented.\n",
    "* The statement return `[expression]` exits a function, optionally passing back an expression to the caller. A return statement with no arguments is the same as return None"
   ]
  },
  {
   "cell_type": "code",
   "execution_count": 1,
   "metadata": {},
   "outputs": [],
   "source": [
    "# The syntax\n",
    "\n",
    "def function_name (parameter):\n",
    "    'docstring'\n",
    "    statement(s)"
   ]
  },
  {
   "cell_type": "code",
   "execution_count": 5,
   "metadata": {},
   "outputs": [
    {
     "name": "stdout",
     "output_type": "stream",
     "text": [
      "first sentence\n",
      "second sentence\n"
     ]
    }
   ],
   "source": [
    "def printme(str_input):\n",
    "    '''this prints a passed string into this function'''\n",
    "    print(str_input)\n",
    "\n",
    "printme('first sentence')\n",
    "printme('second sentence')"
   ]
  },
  {
   "cell_type": "markdown",
   "metadata": {},
   "source": [
    "### Pass by reference vs value"
   ]
  },
  {
   "cell_type": "code",
   "execution_count": 96,
   "metadata": {},
   "outputs": [
    {
     "name": "stdout",
     "output_type": "stream",
     "text": [
      "\n",
      "Values outside the function - before :  [100, 200, 300]\n",
      "\n",
      "Values inside function :  [100, 200, 300, 1, 2, 3, 4]\n",
      "Values outside the function - after :  [100, 200, 300, 1, 2, 3, 4]\n"
     ]
    }
   ],
   "source": [
    "def replaceme(mylist):\n",
    "    mylist=mylist+[1,2,3,4]\n",
    "    print('\\nValues inside function : ', mylist)\n",
    "    return mylist\n",
    "\n",
    "mylist=[100,200,300]\n",
    "print('\\nValues outside the function - before : ', mylist)\n",
    "mylist=replaceme(mylist)\n",
    "print('Values outside the function - after : ', mylist)"
   ]
  },
  {
   "cell_type": "markdown",
   "metadata": {},
   "source": [
    "### Function Arguments\n",
    "\n",
    "You can call a function by using the following types of formal arguments −\n",
    "\n",
    "- Required arguments\n",
    "- Keyword arguments\n",
    "- Default arguments\n",
    "- Variable-length arguments"
   ]
  },
  {
   "cell_type": "markdown",
   "metadata": {},
   "source": [
    "1. Required argument\n",
    "\n",
    "the arguments passed to a function in correct positional order. Here, the number of arguments in the function call should match exactly with the function definition"
   ]
  },
  {
   "cell_type": "code",
   "execution_count": 91,
   "metadata": {},
   "outputs": [
    {
     "name": "stdout",
     "output_type": "stream",
     "text": [
      "example #1\n",
      "Hei 1\n",
      "\n",
      "example #2\n",
      "Area =  35\n"
     ]
    }
   ],
   "source": [
    "# example 1\n",
    "def perin(input):\n",
    "    print(input)\n",
    "\n",
    "print('example #1')\n",
    "perin('Hei 1')\n",
    "\n",
    "# example 2\n",
    "def cal_rect (length, width):\n",
    "    print('Area = ', length*width)\n",
    "\n",
    "length = 5\n",
    "width = 7\n",
    "\n",
    "print('\\nexample #2')\n",
    "cal_rect(length, width)"
   ]
  },
  {
   "cell_type": "markdown",
   "metadata": {},
   "source": [
    "2. Keyword arguments\n",
    "\n",
    "are related to the function calls. When you use keyword arguments in a function call, the caller identifies the arguments by the parameter name.\n",
    "\n",
    "allows skip arguments or place them out of order."
   ]
  },
  {
   "cell_type": "code",
   "execution_count": 92,
   "metadata": {},
   "outputs": [
    {
     "name": "stdout",
     "output_type": "stream",
     "text": [
      "hahachoo\n"
     ]
    }
   ],
   "source": [
    "def printer(input):\n",
    "    print(input)\n",
    "\n",
    "printer(input = 'hahachoo')"
   ]
  },
  {
   "cell_type": "code",
   "execution_count": 93,
   "metadata": {},
   "outputs": [
    {
     "name": "stdout",
     "output_type": "stream",
     "text": [
      "Name =  bbb\n",
      "Age =  4\n"
     ]
    }
   ],
   "source": [
    "def printinfo(name, age):\n",
    "    print('Name = ', name)\n",
    "    print('Age = ', age)\n",
    "\n",
    "printinfo(age=4, name='bbb')"
   ]
  },
  {
   "cell_type": "markdown",
   "metadata": {},
   "source": [
    "3. Default argument\n",
    "\n",
    "an argument that assumes a default value if a value is not provided in the function call for that argument."
   ]
  },
  {
   "cell_type": "code",
   "execution_count": 95,
   "metadata": {},
   "outputs": [
    {
     "name": "stdout",
     "output_type": "stream",
     "text": [
      "Name =  ccc\n",
      "Age =  40\n",
      "\n",
      "Name =  ddd\n",
      "Age =  16\n",
      "\n"
     ]
    }
   ],
   "source": [
    "def printinfo(name, age = 16):\n",
    "    print('Name = ', name)\n",
    "    print('Age = ', age)\n",
    "    print('')\n",
    "\n",
    "printinfo(age=40, name='ccc')\n",
    "printinfo(name='ddd')"
   ]
  },
  {
   "cell_type": "code",
   "execution_count": null,
   "metadata": {},
   "outputs": [],
   "source": [
    "# restriction: must write default-arg *after* required-arg\n",
    "\n",
    "# example:\n",
    "# def printinfo(name, age=22):\n",
    "\n",
    "# NOT like this:\n",
    "# def printinfo(age=26, name):"
   ]
  },
  {
   "cell_type": "markdown",
   "metadata": {},
   "source": [
    "4. Variable-length arguments\n",
    "\n",
    "You may need to process a function for more arguments than you specified while defining the function. These arguments are called variable-length arguments and are not named in the function definition, unlike required and default arguments."
   ]
  },
  {
   "cell_type": "code",
   "execution_count": null,
   "metadata": {},
   "outputs": [],
   "source": [
    "# JARANG DIGUNAKAN"
   ]
  },
  {
   "cell_type": "code",
   "execution_count": null,
   "metadata": {},
   "outputs": [],
   "source": []
  },
  {
   "cell_type": "markdown",
   "metadata": {},
   "source": [
    "#### Return vs no return"
   ]
  },
  {
   "cell_type": "code",
   "execution_count": 12,
   "metadata": {},
   "outputs": [
    {
     "data": {
      "text/plain": [
       "6"
      ]
     },
     "execution_count": 12,
     "metadata": {},
     "output_type": "execute_result"
    }
   ],
   "source": [
    "def area(alas, tinggi):\n",
    "    luas = alas * tinggi\n",
    "    return luas    # pake return\n",
    "\n",
    "area(2,3)"
   ]
  },
  {
   "cell_type": "code",
   "execution_count": 13,
   "metadata": {},
   "outputs": [],
   "source": [
    "def area1(alas, tinggi):\n",
    "    luas = alas * tinggi\n",
    "                            #ga pake return = no output\n",
    "area1(2,3)"
   ]
  },
  {
   "cell_type": "code",
   "execution_count": 19,
   "metadata": {},
   "outputs": [
    {
     "name": "stdout",
     "output_type": "stream",
     "text": [
      "(6, 4)\n",
      "6\n",
      "4\n"
     ]
    }
   ],
   "source": [
    "def area3(alas, tinggi):\n",
    "    luas = alas * tinggi\n",
    "    luas2 = alas * 2\n",
    "    return luas, luas2    \n",
    "\n",
    "print(area3(2,3))\n",
    "print(area3(2,3)[0])\n",
    "print(area3(2,3)[1])"
   ]
  },
  {
   "cell_type": "code",
   "execution_count": 20,
   "metadata": {},
   "outputs": [
    {
     "name": "stdout",
     "output_type": "stream",
     "text": [
      "Values inside the function  :  [1, 2, 3, 4]\n",
      "Values outside the function :  [10, 20, 30]\n"
     ]
    }
   ],
   "source": [
    "# Function definition is here\n",
    "def changeme( mylist ):\n",
    "   '''This changes a passed list into this function'''\n",
    "   mylist = [1, 2, 3, 4] # This would assign new reference in mylist\n",
    "   print(\"Values inside the function  : \", mylist)\n",
    "\n",
    "# Now you can call changeme function\n",
    "mylist = [10, 20, 30]\n",
    "changeme( mylist )\n",
    "print(\"Values outside the function : \", mylist)"
   ]
  },
  {
   "cell_type": "code",
   "execution_count": 28,
   "metadata": {},
   "outputs": [
    {
     "name": "stdout",
     "output_type": "stream",
     "text": [
      "4\n"
     ]
    }
   ],
   "source": [
    "sum = lambda arg1, arg2 : arg1 + arg2 \n",
    "\n",
    "print(sum(1,3))"
   ]
  },
  {
   "cell_type": "code",
   "execution_count": 29,
   "metadata": {},
   "outputs": [
    {
     "name": "stdout",
     "output_type": "stream",
     "text": [
      "before <function <lambda> at 0x000002A42E226940>\n",
      "after <function <lambda> at 0x000002A42E226940>\n"
     ]
    }
   ],
   "source": [
    "tambah = 1\n",
    "tambah = lambda arg1, arg2 : arg1+arg2\n",
    "\n",
    "print('before', tambah)\n",
    "tambah(5,2)\n",
    "print('after',tambah)"
   ]
  },
  {
   "cell_type": "markdown",
   "metadata": {},
   "source": [
    "# Module n Package"
   ]
  },
  {
   "cell_type": "code",
   "execution_count": 14,
   "metadata": {},
   "outputs": [
    {
     "name": "stdout",
     "output_type": "stream",
     "text": [
      "zack\n",
      "<module 'person' from 'c:\\\\Users\\\\Naufal\\\\Documents\\\\hacktiv8\\\\learning_journal\\\\phase_0\\\\week_1\\\\person.py'>\n",
      "['laptop', 'smartphone', 'tablet']\n",
      "['laptop', 'smartphone']\n",
      "arg = ahah\n"
     ]
    },
    {
     "ename": "NameError",
     "evalue": "name 'ahah' is not defined",
     "output_type": "error",
     "traceback": [
      "\u001b[1;31m---------------------------------------------------------------------------\u001b[0m",
      "\u001b[1;31mNameError\u001b[0m                                 Traceback (most recent call last)",
      "\u001b[1;32mc:\\Users\\Naufal\\Documents\\hacktiv8\\learning_journal\\phase_0\\week_1\\Day3_function.ipynb Cell 12'\u001b[0m in \u001b[0;36m<cell line: 7>\u001b[1;34m()\u001b[0m\n\u001b[0;32m      <a href='vscode-notebook-cell:/c%3A/Users/Naufal/Documents/hacktiv8/learning_journal/phase_0/week_1/Day3_function.ipynb#ch0000011?line=4'>5</a>\u001b[0m \u001b[39mprint\u001b[39m(ps\u001b[39m.\u001b[39mdevices[\u001b[39m0\u001b[39m:\u001b[39m2\u001b[39m])\n\u001b[0;32m      <a href='vscode-notebook-cell:/c%3A/Users/Naufal/Documents/hacktiv8/learning_journal/phase_0/week_1/Day3_function.ipynb#ch0000011?line=5'>6</a>\u001b[0m ps\u001b[39m.\u001b[39mdisplay(\u001b[39m'\u001b[39m\u001b[39mahah\u001b[39m\u001b[39m'\u001b[39m)\n\u001b[1;32m----> <a href='vscode-notebook-cell:/c%3A/Users/Naufal/Documents/hacktiv8/learning_journal/phase_0/week_1/Day3_function.ipynb#ch0000011?line=6'>7</a>\u001b[0m ps\u001b[39m.\u001b[39mdisplay(ahah)\n",
      "\u001b[1;31mNameError\u001b[0m: name 'ahah' is not defined"
     ]
    }
   ],
   "source": [
    "import person as ps\n",
    "print(ps.name)\n",
    "print(ps)\n",
    "print(ps.devices)\n",
    "print(ps.devices[0:2])\n",
    "ps.display('ahah')\n",
    "ps.display(ahah)"
   ]
  },
  {
   "cell_type": "markdown",
   "metadata": {},
   "source": [
    "# NUMPY"
   ]
  },
  {
   "cell_type": "code",
   "execution_count": 20,
   "metadata": {},
   "outputs": [],
   "source": [
    "import numpy as np"
   ]
  },
  {
   "cell_type": "code",
   "execution_count": null,
   "metadata": {},
   "outputs": [],
   "source": [
    "height = [1.7, 1.8, 1.9, 1.10, 1.11, 1.12]\n",
    "weight = [60.5, 61.5, 62.5, 63.5, 64.5, 65.5]"
   ]
  },
  {
   "cell_type": "code",
   "execution_count": 21,
   "metadata": {},
   "outputs": [
    {
     "data": {
      "text/plain": [
       "array([0, 1, 2, 3, 4])"
      ]
     },
     "execution_count": 21,
     "metadata": {},
     "output_type": "execute_result"
    }
   ],
   "source": [
    "np.arange(5) # array range?"
   ]
  },
  {
   "cell_type": "code",
   "execution_count": 28,
   "metadata": {},
   "outputs": [
    {
     "name": "stdout",
     "output_type": "stream",
     "text": [
      "[1 2 3 4]\n",
      "[ 1  2  3  4  9 10 11]\n"
     ]
    },
    {
     "data": {
      "text/plain": [
       "array([ 1,  2,  3,  9, 10, 11])"
      ]
     },
     "execution_count": 28,
     "metadata": {},
     "output_type": "execute_result"
    }
   ],
   "source": [
    "arr=np.array([1,2,3,4])\n",
    "arr_new=np.append(arr,[9, 10, 11])\n",
    "\n",
    "print(arr)\n",
    "print(arr_new)\n",
    "np.delete(arr_new,3)"
   ]
  },
  {
   "cell_type": "markdown",
   "metadata": {},
   "source": [
    "### Zero dimension / scalar"
   ]
  },
  {
   "cell_type": "code",
   "execution_count": null,
   "metadata": {},
   "outputs": [],
   "source": []
  },
  {
   "cell_type": "markdown",
   "metadata": {},
   "source": [
    "### 1 D / vector"
   ]
  },
  {
   "cell_type": "code",
   "execution_count": null,
   "metadata": {},
   "outputs": [],
   "source": []
  },
  {
   "cell_type": "markdown",
   "metadata": {},
   "source": [
    "### 2 D / matrix"
   ]
  },
  {
   "cell_type": "code",
   "execution_count": 36,
   "metadata": {},
   "outputs": [
    {
     "name": "stdout",
     "output_type": "stream",
     "text": [
      "[[1 2 3 4]\n",
      " [5 6 7 8]]\n"
     ]
    }
   ],
   "source": [
    "arr=np.array([[1,2,3,4], [5,6,7,8]])\n",
    "print(arr)"
   ]
  },
  {
   "cell_type": "code",
   "execution_count": 37,
   "metadata": {},
   "outputs": [
    {
     "data": {
      "text/plain": [
       "2"
      ]
     },
     "execution_count": 37,
     "metadata": {},
     "output_type": "execute_result"
    }
   ],
   "source": [
    "arr.ndim"
   ]
  },
  {
   "cell_type": "code",
   "execution_count": 35,
   "metadata": {},
   "outputs": [
    {
     "data": {
      "text/plain": [
       "(2, 4)"
      ]
     },
     "execution_count": 35,
     "metadata": {},
     "output_type": "execute_result"
    }
   ],
   "source": [
    "arr.shape"
   ]
  },
  {
   "cell_type": "code",
   "execution_count": 38,
   "metadata": {},
   "outputs": [
    {
     "data": {
      "text/plain": [
       "8"
      ]
     },
     "execution_count": 38,
     "metadata": {},
     "output_type": "execute_result"
    }
   ],
   "source": [
    "arr.size"
   ]
  },
  {
   "cell_type": "markdown",
   "metadata": {},
   "source": [
    "#### more"
   ]
  },
  {
   "cell_type": "code",
   "execution_count": 42,
   "metadata": {},
   "outputs": [
    {
     "data": {
      "text/plain": [
       "array([3, 4])"
      ]
     },
     "execution_count": 42,
     "metadata": {},
     "output_type": "execute_result"
    }
   ],
   "source": [
    "np.arange(3, 5)  # how??"
   ]
  },
  {
   "cell_type": "code",
   "execution_count": 44,
   "metadata": {},
   "outputs": [
    {
     "name": "stdout",
     "output_type": "stream",
     "text": [
      "[[1 2 3 4]\n",
      " [5 6 7 8]]\n"
     ]
    }
   ],
   "source": [
    "arr_2d=np.array([[1,2,3,4], [5,6,7,8]])\n",
    "print(arr_2d)"
   ]
  },
  {
   "cell_type": "code",
   "execution_count": 46,
   "metadata": {},
   "outputs": [
    {
     "data": {
      "text/plain": [
       "(2, 4)"
      ]
     },
     "execution_count": 46,
     "metadata": {},
     "output_type": "execute_result"
    }
   ],
   "source": [
    "arr_2d.shape"
   ]
  },
  {
   "cell_type": "code",
   "execution_count": 53,
   "metadata": {},
   "outputs": [
    {
     "data": {
      "text/plain": [
       "(1, 2, 4)"
      ]
     },
     "execution_count": 53,
     "metadata": {},
     "output_type": "execute_result"
    }
   ],
   "source": [
    "a2=np.expand_dims(arr_2d, axis=0)\n",
    "a2.shape"
   ]
  },
  {
   "cell_type": "markdown",
   "metadata": {},
   "source": [
    "#### soal"
   ]
  },
  {
   "cell_type": "code",
   "execution_count": 59,
   "metadata": {},
   "outputs": [
    {
     "name": "stdout",
     "output_type": "stream",
     "text": [
      "[ 7  4 10  5 13]\n",
      "[ 1  4 13]\n"
     ]
    }
   ],
   "source": [
    "arr=np.array([1,2,7,4,10,5,13,11])\n",
    "print(arr[2:7])\n",
    "print(arr[:8:3])"
   ]
  },
  {
   "cell_type": "code",
   "execution_count": 61,
   "metadata": {},
   "outputs": [
    {
     "name": "stdout",
     "output_type": "stream",
     "text": [
      "3\n",
      "7\n"
     ]
    }
   ],
   "source": [
    "arr=np.array([[1,2,3,4], [5,6,7,8], [9,10,11,12]])\n",
    "print(arr[0,2])\n",
    "print(arr[1,2])"
   ]
  },
  {
   "cell_type": "code",
   "execution_count": 64,
   "metadata": {},
   "outputs": [
    {
     "name": "stdout",
     "output_type": "stream",
     "text": [
      "[2 3]\n",
      "[7 8]\n",
      "[3]\n"
     ]
    }
   ],
   "source": [
    "print(arr[0,1:3])\n",
    "print(arr[1,2:4])\n",
    "print(arr[0,2:3])"
   ]
  },
  {
   "cell_type": "code",
   "execution_count": 68,
   "metadata": {},
   "outputs": [
    {
     "name": "stdout",
     "output_type": "stream",
     "text": [
      "[11]\n",
      "[12]\n",
      "[ 7 11]\n"
     ]
    },
    {
     "ename": "IndexError",
     "evalue": "index 4 is out of bounds for axis 1 with size 4",
     "output_type": "error",
     "traceback": [
      "\u001b[1;31m---------------------------------------------------------------------------\u001b[0m",
      "\u001b[1;31mIndexError\u001b[0m                                Traceback (most recent call last)",
      "\u001b[1;32mc:\\Users\\Naufal\\Documents\\hacktiv8\\learning_journal\\phase_0\\week_1\\Day3_function.ipynb Cell 40'\u001b[0m in \u001b[0;36m<cell line: 4>\u001b[1;34m()\u001b[0m\n\u001b[0;32m      <a href='vscode-notebook-cell:/c%3A/Users/Naufal/Documents/hacktiv8/learning_journal/phase_0/week_1/Day3_function.ipynb#ch0000041?line=1'>2</a>\u001b[0m \u001b[39mprint\u001b[39m(arr[\u001b[39m2\u001b[39m:\u001b[39m3\u001b[39m,\u001b[39m3\u001b[39m])\n\u001b[0;32m      <a href='vscode-notebook-cell:/c%3A/Users/Naufal/Documents/hacktiv8/learning_journal/phase_0/week_1/Day3_function.ipynb#ch0000041?line=2'>3</a>\u001b[0m \u001b[39mprint\u001b[39m(arr[\u001b[39m1\u001b[39m:\u001b[39m3\u001b[39m,\u001b[39m2\u001b[39m])\n\u001b[1;32m----> <a href='vscode-notebook-cell:/c%3A/Users/Naufal/Documents/hacktiv8/learning_journal/phase_0/week_1/Day3_function.ipynb#ch0000041?line=3'>4</a>\u001b[0m \u001b[39mprint\u001b[39m(arr[\u001b[39m2\u001b[39;49m:\u001b[39m4\u001b[39;49m,\u001b[39m4\u001b[39;49m])\n",
      "\u001b[1;31mIndexError\u001b[0m: index 4 is out of bounds for axis 1 with size 4"
     ]
    }
   ],
   "source": [
    "print(arr[2:4,2])\n",
    "print(arr[2:3,3])\n",
    "print(arr[1:3,2])\n",
    "print(arr[2:4,4])"
   ]
  },
  {
   "cell_type": "code",
   "execution_count": 72,
   "metadata": {},
   "outputs": [
    {
     "name": "stdout",
     "output_type": "stream",
     "text": [
      "[ 3 11]\n",
      "[[7]]\n",
      "[[7 8]]\n",
      "[[ 7  8]\n",
      " [11 12]]\n"
     ]
    }
   ],
   "source": [
    "arr=np.array([[1,2,3,4, 8, 10], [5,6,7,8, 7, 10], [9,10,11,12, 11, 12]])\n",
    "print(arr[:4:2,2])\n",
    "print(arr[1:2,2:3])\n",
    "print(arr[1:2,2:4])\n",
    "print(arr[1:3,2:4])"
   ]
  },
  {
   "cell_type": "markdown",
   "metadata": {},
   "source": [
    "### latihan"
   ]
  },
  {
   "cell_type": "code",
   "execution_count": 73,
   "metadata": {},
   "outputs": [
    {
     "name": "stdout",
     "output_type": "stream",
     "text": [
      "[ 3  4  8 10  5  6  7  8  7 10  9 10 11 12 11 12]\n"
     ]
    }
   ],
   "source": [
    "print(arr[arr>=3])"
   ]
  },
  {
   "cell_type": "markdown",
   "metadata": {},
   "source": [
    "#### moreover"
   ]
  },
  {
   "cell_type": "code",
   "execution_count": 79,
   "metadata": {},
   "outputs": [
    {
     "data": {
      "text/plain": [
       "array([[1, 1],\n",
       "       [2, 2],\n",
       "       [3, 3],\n",
       "       [4, 4]])"
      ]
     },
     "execution_count": 79,
     "metadata": {},
     "output_type": "execute_result"
    }
   ],
   "source": [
    "a_1 = np.array([[1,1], \n",
    "                [2,2]])\n",
    "a_2 = np.array([[3,3], \n",
    "                [4,4]])\n",
    "\n",
    "np.vstack((a_1, a_2))"
   ]
  },
  {
   "cell_type": "code",
   "execution_count": 78,
   "metadata": {},
   "outputs": [
    {
     "data": {
      "text/plain": [
       "array([[1, 1, 3, 3],\n",
       "       [2, 2, 4, 4]])"
      ]
     },
     "execution_count": 78,
     "metadata": {},
     "output_type": "execute_result"
    }
   ],
   "source": [
    "np.hstack((a_1, a_2))"
   ]
  },
  {
   "cell_type": "code",
   "execution_count": 82,
   "metadata": {},
   "outputs": [
    {
     "name": "stdout",
     "output_type": "stream",
     "text": [
      "(2, 3, 2)\n",
      "[[[ 1  2]\n",
      "  [ 3  4]\n",
      "  [ 5  6]]\n",
      "\n",
      " [[ 7  8]\n",
      "  [ 9 10]\n",
      "  [11 12]]]\n"
     ]
    }
   ],
   "source": [
    "arr_new1=np.array([1,2,3,4,5,6,7,8,9,10,11,12])\n",
    "arr_new2 = arr_new1.reshape(2,3,2)\n",
    "print(arr_new2.shape)\n",
    "print(arr_new2)"
   ]
  },
  {
   "cell_type": "code",
   "execution_count": 85,
   "metadata": {},
   "outputs": [
    {
     "name": "stdout",
     "output_type": "stream",
     "text": [
      "(2, 3, 2)\n",
      "[[[ 1  2]\n",
      "  [ 3  4]\n",
      "  [ 5  6]]\n",
      "\n",
      " [[ 7  8]\n",
      "  [ 9 10]\n",
      "  [11 12]]]\n"
     ]
    }
   ],
   "source": [
    "arr_new3 = arr_new1.reshape(2,3,-1) # unkown dimension\n",
    "print(arr_new3.shape)\n",
    "print(arr_new3)"
   ]
  },
  {
   "cell_type": "code",
   "execution_count": 88,
   "metadata": {},
   "outputs": [
    {
     "name": "stdout",
     "output_type": "stream",
     "text": [
      "(2, 2, 3)\n",
      "[[[ 1  2  3]\n",
      "  [ 4  5  6]]\n",
      "\n",
      " [[ 7  8  9]\n",
      "  [10 11 12]]]\n"
     ]
    }
   ],
   "source": [
    "arr_new4 = arr_new1.reshape(2,2,3) # unkown dimension\n",
    "print(arr_new4.shape)\n",
    "print(arr_new4)"
   ]
  }
 ],
 "metadata": {
  "interpreter": {
   "hash": "d2e7e06b526110c95c80c641bd1e8cb72e2a40ad44dc93107b19ce85df71c180"
  },
  "kernelspec": {
   "display_name": "Python 3.9.10 64-bit (windows store)",
   "language": "python",
   "name": "python3"
  },
  "language_info": {
   "codemirror_mode": {
    "name": "ipython",
    "version": 3
   },
   "file_extension": ".py",
   "mimetype": "text/x-python",
   "name": "python",
   "nbconvert_exporter": "python",
   "pygments_lexer": "ipython3",
   "version": "3.9.10"
  },
  "orig_nbformat": 4
 },
 "nbformat": 4,
 "nbformat_minor": 2
}
