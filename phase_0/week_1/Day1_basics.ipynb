{
 "cells": [
  {
   "cell_type": "markdown",
   "id": "16ee244c",
   "metadata": {},
   "source": [
    "# DATA TYPES"
   ]
  },
  {
   "cell_type": "code",
   "execution_count": null,
   "id": "3aea8826",
   "metadata": {},
   "outputs": [],
   "source": [
    "# text: str \n",
    "# numeric: int, float, complex\n",
    "# sequence: list, tuple, range\n",
    "# mapping: dict\n",
    "# set: set, frozenset\n",
    "# boolean: bool\n",
    "# binary: bytes, bytearray, memoryview"
   ]
  },
  {
   "cell_type": "markdown",
   "id": "ec3c4b59",
   "metadata": {},
   "source": [
    "# Integer"
   ]
  },
  {
   "cell_type": "code",
   "execution_count": 11,
   "id": "f15e9768",
   "metadata": {},
   "outputs": [
    {
     "name": "stdout",
     "output_type": "stream",
     "text": [
      "100\n",
      "<class 'int'>\n"
     ]
    }
   ],
   "source": [
    "print(100)\n",
    "print(type(100))"
   ]
  },
  {
   "cell_type": "markdown",
   "id": "520428c7",
   "metadata": {},
   "source": [
    "# Float"
   ]
  },
  {
   "cell_type": "code",
   "execution_count": 12,
   "id": "37769862",
   "metadata": {},
   "outputs": [
    {
     "name": "stdout",
     "output_type": "stream",
     "text": [
      "3.14\n",
      "<class 'float'>\n",
      "0.2\n",
      "<class 'float'>\n",
      "0.0042\n",
      "<class 'float'>\n"
     ]
    }
   ],
   "source": [
    "print(3.14)\n",
    "print(type(3.14))\n",
    "\n",
    "print(.2)\n",
    "print(type(.2))\n",
    "\n",
    "print(4.2e-3)\n",
    "print(type(4.2e-3))"
   ]
  },
  {
   "cell_type": "markdown",
   "id": "1c40af01",
   "metadata": {},
   "source": [
    "# String"
   ]
  },
  {
   "cell_type": "code",
   "execution_count": 16,
   "id": "8cce653c",
   "metadata": {},
   "outputs": [
    {
     "name": "stdout",
     "output_type": "stream",
     "text": [
      "Hai\n",
      "<class 'str'>\n",
      "this string contains a single quote (') char.\n",
      "this string contains a double quote (\") char.\n"
     ]
    }
   ],
   "source": [
    "print('Hai')\n",
    "print(type('Hai'))\n",
    "print('this string contains a single quote (\\') char.')\n",
    "print('this string contains a double quote (\\\") char.')\n"
   ]
  },
  {
   "cell_type": "markdown",
   "id": "d883fe10",
   "metadata": {},
   "source": [
    "# Boolean\n",
    "objects of boolean type may have one of two values, True or Flase"
   ]
  },
  {
   "cell_type": "code",
   "execution_count": 18,
   "id": "934278e5",
   "metadata": {},
   "outputs": [
    {
     "name": "stdout",
     "output_type": "stream",
     "text": [
      "False\n",
      "False\n",
      "True\n"
     ]
    }
   ],
   "source": [
    "print(100>200)\n",
    "print(100==200)\n",
    "print(100<200)"
   ]
  },
  {
   "cell_type": "markdown",
   "id": "be047d35",
   "metadata": {},
   "source": [
    "# Comment"
   ]
  },
  {
   "cell_type": "code",
   "execution_count": 12,
   "id": "af081623",
   "metadata": {},
   "outputs": [
    {
     "name": "stdout",
     "output_type": "stream",
     "text": [
      "I'm learning something new everyday\n"
     ]
    }
   ],
   "source": [
    "# Mass comment: block -> ctrl + \\\n",
    "# multiline string (\"\"\"\") can be used as multiline comment (???)\n",
    "\n",
    "\"\"\"\n",
    "this is \n",
    "a multiline\n",
    "comment\n",
    "\"\"\"\n",
    "# /n = new line\n",
    "\n",
    "# \\ is an escape character. can be utilised like this:\n",
    "print('I\\'m learning something new everyday')"
   ]
  },
  {
   "cell_type": "markdown",
   "id": "ba8e3e69",
   "metadata": {},
   "source": [
    "# Random generator"
   ]
  },
  {
   "cell_type": "code",
   "execution_count": 14,
   "id": "f0322e24",
   "metadata": {},
   "outputs": [
    {
     "name": "stdout",
     "output_type": "stream",
     "text": [
      "946\n"
     ]
    }
   ],
   "source": [
    "# Pyhton has built-in module which can be used to generate random number\n",
    "\n",
    "import random\n",
    "\n",
    "print(random.randrange(1, 1000)) "
   ]
  },
  {
   "cell_type": "markdown",
   "id": "752b438b",
   "metadata": {},
   "source": [
    "# Variable"
   ]
  },
  {
   "cell_type": "code",
   "execution_count": 20,
   "id": "6a9c3b02",
   "metadata": {},
   "outputs": [
    {
     "name": "stdout",
     "output_type": "stream",
     "text": [
      "Naufal 11 True\n"
     ]
    }
   ],
   "source": [
    "# variable names can contain letters, numbers, and underscore\n",
    "# variable names can't start with numbers\n",
    "# variable names can start with any letter or underscore \n",
    "# is case sensitive\n",
    "\n",
    "name = 'Naufal'\n",
    "age = '11'\n",
    "has_laptop = True \n",
    "print(name, age, has_laptop)"
   ]
  },
  {
   "cell_type": "code",
   "execution_count": 21,
   "id": "40891747",
   "metadata": {},
   "outputs": [],
   "source": [
    "# commonly used naming methods\n",
    "myVariableName = 'Camel Case'\n",
    "MyVariableName = 'Pascal'\n",
    "my_variable_name = 'snake_case'"
   ]
  },
  {
   "cell_type": "markdown",
   "id": "4de632d7",
   "metadata": {},
   "source": [
    "# Arithmetic Operators"
   ]
  },
  {
   "cell_type": "code",
   "execution_count": 22,
   "id": "c569f8f2",
   "metadata": {},
   "outputs": [
    {
     "name": "stdout",
     "output_type": "stream",
     "text": [
      "7\n",
      "1\n",
      "12\n",
      "1.3333333333333333\n",
      "1\n",
      "64\n"
     ]
    }
   ],
   "source": [
    "a=4\n",
    "b=3\n",
    "\n",
    "print(a+b)\n",
    "print(a-b)\n",
    "print(a*b)\n",
    "print(a/b)\n",
    "print(a%b) # modulus\n",
    "print(a**b) # power"
   ]
  },
  {
   "cell_type": "markdown",
   "id": "ef1a2dee",
   "metadata": {},
   "source": [
    "# Comparison Operators"
   ]
  },
  {
   "cell_type": "code",
   "execution_count": 23,
   "id": "68fd601f",
   "metadata": {},
   "outputs": [
    {
     "name": "stdout",
     "output_type": "stream",
     "text": [
      "False\n",
      "True\n",
      "True\n",
      "False\n"
     ]
    }
   ],
   "source": [
    "a = 10\n",
    "b = 20\n",
    "\n",
    "print(a==b)\n",
    "print(a!=b) # not equal to\n",
    "print(a<=b)\n",
    "print(a>=b)"
   ]
  },
  {
   "cell_type": "markdown",
   "id": "b73d329f",
   "metadata": {},
   "source": [
    "# String manipulation"
   ]
  },
  {
   "cell_type": "code",
   "execution_count": 25,
   "id": "09b5cb44",
   "metadata": {},
   "outputs": [
    {
     "name": "stdout",
     "output_type": "stream",
     "text": [
      "foobar\n",
      "foofoofoofoo\n",
      "Foo\n",
      "foo\n",
      "FOO\n"
     ]
    }
   ],
   "source": [
    "s = 'foo'\n",
    "t = 'bar'\n",
    "\n",
    "print(s+t)\n",
    "print(s*4)\n",
    "\n",
    "# case conversion\n",
    "print(s.capitalize())\n",
    "print(s.lower())\n",
    "print(s.swapcase())"
   ]
  },
  {
   "cell_type": "markdown",
   "id": "fae42b3e",
   "metadata": {},
   "source": [
    "# List"
   ]
  },
  {
   "cell_type": "code",
   "execution_count": 1,
   "id": "acd905d9",
   "metadata": {},
   "outputs": [
    {
     "name": "stdout",
     "output_type": "stream",
     "text": [
      "['sign', 'igni', 10, 'quen', 'aard', 20]\n"
     ]
    }
   ],
   "source": [
    "# defined by square bracket []\n",
    "# is ordered\n",
    "# can be accessed by index (start from 0)\n",
    "# can be nested\n",
    "# mutable\n",
    "# dynamic\n",
    "\n",
    "a = ['sign', 'igni', 'yrden', 'quen', 'aard', 'axii']\n",
    "a[2]=10\n",
    "a[-1]=20\n",
    "print(a)\n"
   ]
  },
  {
   "cell_type": "code",
   "execution_count": 2,
   "id": "3c4120c6",
   "metadata": {},
   "outputs": [
    {
     "name": "stdout",
     "output_type": "stream",
     "text": [
      "['igni', 'yrden', 'quen']\n",
      "['sign', 1.1, 2.2, 3.3, 4.4, 5.5, 'aard', 'axii']\n"
     ]
    }
   ],
   "source": [
    "a = ['sign', 'igni', 'yrden', 'quen', 'aard', 'axii']\n",
    "print(a[1:4])\n",
    "\n",
    "a[1:4]=[1.1, 2.2, 3.3, 4.4, 5.5]\n",
    "print(a)"
   ]
  },
  {
   "cell_type": "code",
   "execution_count": 9,
   "id": "3fb5ff29",
   "metadata": {},
   "outputs": [
    {
     "name": "stdout",
     "output_type": "stream",
     "text": [
      "['sign', 'yrden', 'aard']\n",
      "6\n"
     ]
    }
   ],
   "source": [
    "a = ['sign', 'igni', 'yrden', 'quen', 'aard', 'axii']\n",
    "print(a[0:6:2]) #start, end, step\n",
    "\n",
    "print(len(a)) # length of the list"
   ]
  },
  {
   "cell_type": "markdown",
   "id": "48e9e804",
   "metadata": {},
   "source": [
    "# Tuples"
   ]
  },
  {
   "cell_type": "code",
   "execution_count": 4,
   "id": "3a935790",
   "metadata": {},
   "outputs": [
    {
     "name": "stdout",
     "output_type": "stream",
     "text": [
      "('sign', 'igni', 'yrden', 'quen', 'aard', 'axii')\n",
      "sign\n",
      "axii\n",
      "sign\n"
     ]
    }
   ],
   "source": [
    "# defined by parentheses ()\n",
    "# immutable (unchangable)\n",
    "# indexed\n",
    "\n",
    "t = ('sign', 'igni', 'yrden', 'quen', 'aard', 'axii')\n",
    "print(t)\n",
    "print(t[0])\n",
    "print(t[-1])\n",
    "\n",
    "# packing unpacking\n",
    "(s1, s2, s3, s4)=('sign', 'igni', 'yrden', 'quen')\n",
    "print(s1)\n"
   ]
  },
  {
   "cell_type": "markdown",
   "id": "aeb54468",
   "metadata": {},
   "source": [
    "# Dictionary"
   ]
  },
  {
   "cell_type": "code",
   "execution_count": 5,
   "id": "91b9253c",
   "metadata": {},
   "outputs": [
    {
     "name": "stdout",
     "output_type": "stream",
     "text": [
      "TS\n"
     ]
    },
    {
     "data": {
      "text/plain": [
       "{'NA': 'EG', 'SEA': 'BOOM', 'EEU': 'TS', 'WEU': 'Liquid'}"
      ]
     },
     "execution_count": 5,
     "metadata": {},
     "output_type": "execute_result"
    }
   ],
   "source": [
    "# comma-separated list of key-value pairs enclosed in curly braces {}\n",
    "# colon : separates each key from its value\n",
    "# mutable\n",
    "# dynamic\n",
    "# can be nested\n",
    "# accessed by keys\n",
    "\n",
    "DOTA_team = {\n",
    "    'NA': 'EG',\n",
    "    'SEA' : 'BOOM',\n",
    "    'EEU' : 'TS',\n",
    "}\n",
    "print(DOTA_team['EEU'])\n",
    "\n",
    "# add new entry\n",
    "DOTA_team['WEU']='Liquid'\n",
    "DOTA_team"
   ]
  },
  {
   "cell_type": "code",
   "execution_count": 6,
   "id": "6cf17853",
   "metadata": {},
   "outputs": [
    {
     "name": "stdout",
     "output_type": "stream",
     "text": [
      "{'fname': 'Hack', 'lname': '8', 'age': 51, 'spouse': 'Yenn', 'children': ['Raplh', 'Betty', 'Joey'], 'pets': {'dog': 'Fido', 'cat': 'Sox'}}\n",
      "Betty\n"
     ]
    }
   ],
   "source": [
    "# Building a Dict incrementally\n",
    "\n",
    "person ={}\n",
    "person['fname']='Hack'\n",
    "person['lname']='8'\n",
    "person['age']=51\n",
    "person['spouse']='Yenn'\n",
    "person['children']=['Raplh', 'Betty', 'Joey']\n",
    "person['pets']={'dog':'Fido', 'cat':'Sox'}\n",
    "print(person)\n",
    "print(person['children'][1])"
   ]
  }
 ],
 "metadata": {
  "kernelspec": {
   "display_name": "Python 3 (ipykernel)",
   "language": "python",
   "name": "python3"
  },
  "language_info": {
   "codemirror_mode": {
    "name": "ipython",
    "version": 3
   },
   "file_extension": ".py",
   "mimetype": "text/x-python",
   "name": "python",
   "nbconvert_exporter": "python",
   "pygments_lexer": "ipython3",
   "version": "3.9.10"
  }
 },
 "nbformat": 4,
 "nbformat_minor": 5
}
