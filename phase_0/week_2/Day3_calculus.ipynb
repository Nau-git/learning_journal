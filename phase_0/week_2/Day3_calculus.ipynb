{
 "cells": [
  {
   "cell_type": "markdown",
   "metadata": {},
   "source": [
    "# Calculus\n",
    "\n",
    "studied continuous changes"
   ]
  },
  {
   "cell_type": "markdown",
   "metadata": {},
   "source": [
    "### Turunan Symbolic"
   ]
  },
  {
   "cell_type": "code",
   "execution_count": 5,
   "metadata": {},
   "outputs": [],
   "source": [
    "import sympy as sy"
   ]
  },
  {
   "cell_type": "markdown",
   "metadata": {},
   "source": [
    "### Turunan Numerik"
   ]
  },
  {
   "cell_type": "code",
   "execution_count": 4,
   "metadata": {},
   "outputs": [],
   "source": [
    "import numpy as np"
   ]
  },
  {
   "cell_type": "markdown",
   "metadata": {},
   "source": [
    "misal ga punya data array, tapi fungsi matematika f(x = 2x^2 + 4x - 1)"
   ]
  },
  {
   "cell_type": "code",
   "execution_count": 3,
   "metadata": {},
   "outputs": [],
   "source": [
    "# np.linspace(start, stop, num=50, endpoint=True, retstep=False, dtype=None) default"
   ]
  },
  {
   "cell_type": "code",
   "execution_count": 3,
   "metadata": {},
   "outputs": [],
   "source": [
    "X = np.linspace(-100, 100) # range sumbu X\n",
    "Y = 2*X**2+4*X-1"
   ]
  },
  {
   "cell_type": "code",
   "execution_count": 4,
   "metadata": {},
   "outputs": [
    {
     "data": {
      "text/plain": [
       "array([-100.        ,  -95.91836735,  -91.83673469,  -87.75510204,\n",
       "        -83.67346939,  -79.59183673,  -75.51020408,  -71.42857143,\n",
       "        -67.34693878,  -63.26530612,  -59.18367347,  -55.10204082,\n",
       "        -51.02040816,  -46.93877551,  -42.85714286,  -38.7755102 ,\n",
       "        -34.69387755,  -30.6122449 ,  -26.53061224,  -22.44897959,\n",
       "        -18.36734694,  -14.28571429,  -10.20408163,   -6.12244898,\n",
       "         -2.04081633,    2.04081633,    6.12244898,   10.20408163,\n",
       "         14.28571429,   18.36734694,   22.44897959,   26.53061224,\n",
       "         30.6122449 ,   34.69387755,   38.7755102 ,   42.85714286,\n",
       "         46.93877551,   51.02040816,   55.10204082,   59.18367347,\n",
       "         63.26530612,   67.34693878,   71.42857143,   75.51020408,\n",
       "         79.59183673,   83.67346939,   87.75510204,   91.83673469,\n",
       "         95.91836735,  100.        ])"
      ]
     },
     "execution_count": 4,
     "metadata": {},
     "output_type": "execute_result"
    }
   ],
   "source": [
    "X"
   ]
  },
  {
   "cell_type": "code",
   "execution_count": 5,
   "metadata": {},
   "outputs": [
    {
     "data": {
      "text/plain": [
       "(50,)"
      ]
     },
     "execution_count": 5,
     "metadata": {},
     "output_type": "execute_result"
    }
   ],
   "source": [
    "X.shape"
   ]
  },
  {
   "cell_type": "code",
   "execution_count": 6,
   "metadata": {},
   "outputs": [
    {
     "data": {
      "text/plain": [
       "array([ 1.95990000e+04,  1.80159929e+04,  1.64996247e+04,  1.50498955e+04,\n",
       "        1.36668051e+04,  1.23503536e+04,  1.11005410e+04,  9.91736735e+03,\n",
       "        8.80083257e+03,  7.75093669e+03,  6.76767972e+03,  5.85106164e+03,\n",
       "        5.00108247e+03,  4.21774219e+03,  3.50104082e+03,  2.85097834e+03,\n",
       "        2.26755477e+03,  1.75077010e+03,  1.30062432e+03,  9.17117451e+02,\n",
       "        6.00249479e+02,  3.50020408e+02,  1.66430237e+02,  4.94789671e+01,\n",
       "       -8.33402749e-01,  1.54931279e+01,  9.84585589e+01,  2.48062890e+02,\n",
       "        4.64306122e+02,  7.47188255e+02,  1.09670929e+03,  1.51286922e+03,\n",
       "        1.99566805e+03,  2.54510579e+03,  3.16118242e+03,  3.84389796e+03,\n",
       "        4.59325239e+03,  5.40924573e+03,  6.29187797e+03,  7.24114910e+03,\n",
       "        8.25705914e+03,  9.33960808e+03,  1.04887959e+04,  1.17046227e+04,\n",
       "        1.29870883e+04,  1.43361928e+04,  1.57519363e+04,  1.72343186e+04,\n",
       "        1.87833399e+04,  2.03990000e+04])"
      ]
     },
     "execution_count": 6,
     "metadata": {},
     "output_type": "execute_result"
    }
   ],
   "source": [
    "Y"
   ]
  },
  {
   "cell_type": "code",
   "execution_count": 3,
   "metadata": {},
   "outputs": [],
   "source": [
    "import matplotlib.pyplot as plt"
   ]
  },
  {
   "cell_type": "code",
   "execution_count": 9,
   "metadata": {},
   "outputs": [],
   "source": [
    "# ada 2 cara\n",
    "df1 = np.diff(Y)/np.diff(X) # cara 1\n",
    "df2 = np.gradient(Y,X)  # urutannya Y dulu baru X.  cara 2"
   ]
  },
  {
   "cell_type": "code",
   "execution_count": 10,
   "metadata": {},
   "outputs": [
    {
     "data": {
      "text/plain": [
       "(49,)"
      ]
     },
     "execution_count": 10,
     "metadata": {},
     "output_type": "execute_result"
    }
   ],
   "source": [
    "df1.shape # indexnya berkurang 1"
   ]
  },
  {
   "cell_type": "code",
   "execution_count": 11,
   "metadata": {},
   "outputs": [
    {
     "data": {
      "text/plain": [
       "(50,)"
      ]
     },
     "execution_count": 11,
     "metadata": {},
     "output_type": "execute_result"
    }
   ],
   "source": [
    "df2.shape"
   ]
  },
  {
   "cell_type": "code",
   "execution_count": 14,
   "metadata": {},
   "outputs": [
    {
     "data": {
      "text/plain": [
       "[<matplotlib.lines.Line2D at 0x259aa0dfa00>]"
      ]
     },
     "execution_count": 14,
     "metadata": {},
     "output_type": "execute_result"
    },
    {
     "data": {
      "image/png": "[encoded data removed]",
      "text/plain": [
       "<Figure size 432x288 with 1 Axes>"
      ]
     },
     "metadata": {
      "needs_background": "light"
     },
     "output_type": "display_data"
    }
   ],
   "source": [
    "plt.plot(X[1:],df1)  # X dislice biar indeksnya sama"
   ]
  },
  {
   "cell_type": "code",
   "execution_count": 15,
   "metadata": {},
   "outputs": [
    {
     "data": {
      "text/plain": [
       "[<matplotlib.lines.Line2D at 0x259ab1318e0>]"
      ]
     },
     "execution_count": 15,
     "metadata": {},
     "output_type": "execute_result"
    },
    {
     "data": {
      "image/png": "[encoded data removed]",
      "text/plain": [
       "<Figure size 432x288 with 1 Axes>"
      ]
     },
     "metadata": {
      "needs_background": "light"
     },
     "output_type": "display_data"
    }
   ],
   "source": [
    "plt.plot(X, df2) #ga perlu slice X karena udah sama indexnya"
   ]
  },
  {
   "cell_type": "markdown",
   "metadata": {},
   "source": [
    "ada bengkok di masing2 ujung, TIDAK APA-APA."
   ]
  },
  {
   "cell_type": "markdown",
   "metadata": {},
   "source": [
    "## Optimisasi\n",
    "\n",
    "cari global minimum aja. ga ada syntax buat cari global max"
   ]
  },
  {
   "cell_type": "code",
   "execution_count": 1,
   "metadata": {},
   "outputs": [],
   "source": [
    "from scipy.optimize import minimize_scalar"
   ]
  },
  {
   "cell_type": "code",
   "execution_count": 17,
   "metadata": {},
   "outputs": [
    {
     "data": {
      "text/plain": [
       "     fun: -3.0\n",
       "    nfev: 9\n",
       "     nit: 4\n",
       " success: True\n",
       "       x: -1.0000000000000002"
      ]
     },
     "execution_count": 17,
     "metadata": {},
     "output_type": "execute_result"
    }
   ],
   "source": [
    "def f(x):\n",
    "    return 2*x**2+4*x-1\n",
    "\n",
    "opt = minimize_scalar(f)\n",
    "opt"
   ]
  },
  {
   "cell_type": "markdown",
   "metadata": {},
   "source": [
    "liat fun dan x saja. \n",
    "\n",
    "* fun = nilai y\n",
    "* x = letak global min\n",
    "* nit = jumlah iterasi\n",
    "* success = True artinya berhasil, kalo False berarti ga ada global min atau gagal"
   ]
  },
  {
   "cell_type": "code",
   "execution_count": 18,
   "metadata": {},
   "outputs": [
    {
     "data": {
      "text/plain": [
       "-1.0000000000000002"
      ]
     },
     "execution_count": 18,
     "metadata": {},
     "output_type": "execute_result"
    }
   ],
   "source": [
    "opt.x"
   ]
  },
  {
   "cell_type": "code",
   "execution_count": 19,
   "metadata": {},
   "outputs": [
    {
     "data": {
      "text/plain": [
       "-3.0"
      ]
     },
     "execution_count": 19,
     "metadata": {},
     "output_type": "execute_result"
    }
   ],
   "source": [
    "opt.fun"
   ]
  },
  {
   "cell_type": "markdown",
   "metadata": {},
   "source": [
    "contoh yang GA ada global minimum:"
   ]
  },
  {
   "cell_type": "code",
   "execution_count": 6,
   "metadata": {},
   "outputs": [
    {
     "data": {
      "text/plain": [
       "[<matplotlib.lines.Line2D at 0x242d7528130>]"
      ]
     },
     "execution_count": 6,
     "metadata": {},
     "output_type": "execute_result"
    },
    {
     "data": {
      "image/png": "[encoded data removed]",
      "text/plain": [
       "<Figure size 432x288 with 1 Axes>"
      ]
     },
     "metadata": {
      "needs_background": "light"
     },
     "output_type": "display_data"
    }
   ],
   "source": [
    "X1 = np.linspace(-10, 10)\n",
    "Y1 = X1**3 -6*X1**2 + 9*X1 + 1\n",
    "\n",
    "df4 = np.gradient(Y1,X1)\n",
    "plt.plot(X1, Y1)"
   ]
  },
  {
   "cell_type": "code",
   "execution_count": 7,
   "metadata": {},
   "outputs": [],
   "source": [
    "def f2(x):\n",
    "    return x**3 - 6*x**2 + 9*x + 1"
   ]
  },
  {
   "cell_type": "code",
   "execution_count": null,
   "metadata": {},
   "outputs": [],
   "source": [
    "minimize_scalar(f2)  # akan gagal karena ga punya global minimum\n",
    "# error msg -> OUTPUT ERROR: (34, 'Numerical result out of range')"
   ]
  },
  {
   "cell_type": "markdown",
   "metadata": {},
   "source": [
    "triknya flip saja!"
   ]
  },
  {
   "cell_type": "code",
   "execution_count": 9,
   "metadata": {},
   "outputs": [],
   "source": [
    "def f3(x):\n",
    "    return -(x**3 - 6*x**2 + 9*x + 1)"
   ]
  },
  {
   "cell_type": "code",
   "execution_count": 10,
   "metadata": {},
   "outputs": [
    {
     "data": {
      "text/plain": [
       "     fun: -5.0\n",
       "    nfev: 13\n",
       "     nit: 9\n",
       " success: True\n",
       "       x: 0.99999998519"
      ]
     },
     "execution_count": 10,
     "metadata": {},
     "output_type": "execute_result"
    }
   ],
   "source": [
    "minimize_scalar(f3)"
   ]
  },
  {
   "cell_type": "markdown",
   "metadata": {},
   "source": [
    "karena kita flip, berarti Y kita bukan -5 melainkan -(-5)"
   ]
  },
  {
   "cell_type": "markdown",
   "metadata": {},
   "source": [
    "# Turunan Parsial"
   ]
  },
  {
   "cell_type": "code",
   "execution_count": 26,
   "metadata": {},
   "outputs": [
    {
     "data": {
      "text/latex": [
       "$\\displaystyle x^{3} + 4 x y + x \\sin{\\left(z \\right)} + y z^{8}$"
      ],
      "text/plain": [
       "x**3 + 4*x*y + x*sin(z) + y*z**8"
      ]
     },
     "execution_count": 26,
     "metadata": {},
     "output_type": "execute_result"
    }
   ],
   "source": [
    "x, y, z = sy.symbols('x y z')\n",
    "f = 4*x*y + x*sy.sin(z) + x**3 + z**8*y\n",
    "f"
   ]
  },
  {
   "cell_type": "code",
   "execution_count": 27,
   "metadata": {},
   "outputs": [],
   "source": [
    "x = sy.Symbol('x')\n",
    "y = sy.Symbol('y')\n",
    "z = sy.Symbol('z')"
   ]
  },
  {
   "cell_type": "code",
   "execution_count": 28,
   "metadata": {},
   "outputs": [
    {
     "data": {
      "text/latex": [
       "$\\displaystyle 3 x^{2} + 4 y + \\sin{\\left(z \\right)}$"
      ],
      "text/plain": [
       "3*x**2 + 4*y + sin(z)"
      ]
     },
     "execution_count": 28,
     "metadata": {},
     "output_type": "execute_result"
    }
   ],
   "source": [
    "# turunan parsial thd x\n",
    "sy.diff(f,x)"
   ]
  },
  {
   "cell_type": "code",
   "execution_count": 29,
   "metadata": {},
   "outputs": [
    {
     "data": {
      "text/latex": [
       "$\\displaystyle 4 x + z^{8}$"
      ],
      "text/plain": [
       "4*x + z**8"
      ]
     },
     "execution_count": 29,
     "metadata": {},
     "output_type": "execute_result"
    }
   ],
   "source": [
    "# turunan parsial thd y\n",
    "sy.diff(f, y)"
   ]
  },
  {
   "cell_type": "code",
   "execution_count": 30,
   "metadata": {},
   "outputs": [
    {
     "data": {
      "text/latex": [
       "$\\displaystyle x \\cos{\\left(z \\right)} + 8 y z^{7}$"
      ],
      "text/plain": [
       "x*cos(z) + 8*y*z**7"
      ]
     },
     "execution_count": 30,
     "metadata": {},
     "output_type": "execute_result"
    }
   ],
   "source": [
    "sy.diff(f, z)"
   ]
  },
  {
   "cell_type": "markdown",
   "metadata": {},
   "source": [
    "## Gradient"
   ]
  },
  {
   "cell_type": "code",
   "execution_count": 31,
   "metadata": {},
   "outputs": [
    {
     "data": {
      "text/latex": [
       "$\\displaystyle \\left[\\begin{matrix}3 x^{2} + 4 y + \\sin{\\left(z \\right)} & 4 x + z^{8} & x \\cos{\\left(z \\right)} + 8 y z^{7}\\end{matrix}\\right]$"
      ],
      "text/plain": [
       "[3*x**2 + 4*y + sin(z), 4*x + z**8, x*cos(z) + 8*y*z**7]"
      ]
     },
     "execution_count": 31,
     "metadata": {},
     "output_type": "execute_result"
    }
   ],
   "source": [
    "from sympy.tensor.array import derive_by_array\n",
    "grad = derive_by_array(f, (x, y, z))\n",
    "grad"
   ]
  },
  {
   "cell_type": "code",
   "execution_count": 32,
   "metadata": {},
   "outputs": [
    {
     "data": {
      "text/plain": [
       "sympy.tensor.array.dense_ndim_array.ImmutableDenseNDimArray"
      ]
     },
     "execution_count": 32,
     "metadata": {},
     "output_type": "execute_result"
    }
   ],
   "source": [
    "type(grad)"
   ]
  },
  {
   "cell_type": "markdown",
   "metadata": {},
   "source": [
    "tipenya bukan vektor ternyatah"
   ]
  },
  {
   "cell_type": "markdown",
   "metadata": {},
   "source": [
    "## Jacobian"
   ]
  },
  {
   "cell_type": "code",
   "execution_count": 36,
   "metadata": {},
   "outputs": [
    {
     "data": {
      "text/latex": [
       "$\\displaystyle \\left[\\begin{matrix}x y + y\\\\2 x y - 2\\end{matrix}\\right]$"
      ],
      "text/plain": [
       "Matrix([\n",
       "[  x*y + y],\n",
       "[2*x*y - 2]])"
      ]
     },
     "execution_count": 36,
     "metadata": {},
     "output_type": "execute_result"
    }
   ],
   "source": [
    "f_jacob = sy.Matrix([x*y+y, 2*x*y-2])\n",
    "f_jacob"
   ]
  },
  {
   "cell_type": "code",
   "execution_count": 37,
   "metadata": {},
   "outputs": [
    {
     "data": {
      "text/plain": [
       "sympy.matrices.dense.MutableDenseMatrix"
      ]
     },
     "execution_count": 37,
     "metadata": {},
     "output_type": "execute_result"
    }
   ],
   "source": [
    "type(f_jacob)"
   ]
  },
  {
   "cell_type": "code",
   "execution_count": 39,
   "metadata": {},
   "outputs": [
    {
     "data": {
      "text/latex": [
       "$\\displaystyle \\left[\\begin{matrix}y & x + 1\\\\2 y & 2 x\\end{matrix}\\right]$"
      ],
      "text/plain": [
       "Matrix([\n",
       "[  y, x + 1],\n",
       "[2*y,   2*x]])"
      ]
     },
     "execution_count": 39,
     "metadata": {},
     "output_type": "execute_result"
    }
   ],
   "source": [
    "# cari Jacobiannya\n",
    "par = sy.Matrix([x, y])\n",
    "f_jacob.jacobian(par)"
   ]
  },
  {
   "cell_type": "markdown",
   "metadata": {},
   "source": []
  },
  {
   "cell_type": "code",
   "execution_count": 40,
   "metadata": {},
   "outputs": [
    {
     "data": {
      "text/latex": [
       "$\\displaystyle \\left[\\begin{matrix}3 x^{2} + 4 y + \\sin{\\left(z \\right)}\\\\4 x + z^{8}\\\\x \\cos{\\left(z \\right)} + 8 y z^{7}\\end{matrix}\\right]$"
      ],
      "text/plain": [
       "Matrix([\n",
       "[3*x**2 + 4*y + sin(z)],\n",
       "[           4*x + z**8],\n",
       "[  x*cos(z) + 8*y*z**7]])"
      ]
     },
     "execution_count": 40,
     "metadata": {},
     "output_type": "execute_result"
    }
   ],
   "source": [
    "sy.Matrix(grad)"
   ]
  },
  {
   "cell_type": "code",
   "execution_count": 41,
   "metadata": {},
   "outputs": [
    {
     "data": {
      "text/plain": [
       "sympy.matrices.dense.MutableDenseMatrix"
      ]
     },
     "execution_count": 41,
     "metadata": {},
     "output_type": "execute_result"
    }
   ],
   "source": [
    "type(sy.Matrix(grad))"
   ]
  },
  {
   "cell_type": "code",
   "execution_count": 43,
   "metadata": {},
   "outputs": [
    {
     "data": {
      "text/latex": [
       "$\\displaystyle \\left[\\begin{matrix}6 x & 4 & \\cos{\\left(z \\right)}\\\\4 & 0 & 8 z^{7}\\\\\\cos{\\left(z \\right)} & 8 z^{7} & - x \\sin{\\left(z \\right)} + 56 y z^{6}\\end{matrix}\\right]$"
      ],
      "text/plain": [
       "Matrix([\n",
       "[   6*x,      4,                cos(z)],\n",
       "[     4,      0,                8*z**7],\n",
       "[cos(z), 8*z**7, -x*sin(z) + 56*y*z**6]])"
      ]
     },
     "execution_count": 43,
     "metadata": {},
     "output_type": "execute_result"
    }
   ],
   "source": [
    "sy.Matrix(grad).jacobian(sy.Matrix([x,y,z]))"
   ]
  },
  {
   "cell_type": "markdown",
   "metadata": {},
   "source": [
    "## Hessian"
   ]
  },
  {
   "cell_type": "code",
   "execution_count": 44,
   "metadata": {},
   "outputs": [
    {
     "data": {
      "text/latex": [
       "$\\displaystyle x^{3} + 4 x y + x \\sin{\\left(z \\right)} + y z^{8}$"
      ],
      "text/plain": [
       "x**3 + 4*x*y + x*sin(z) + y*z**8"
      ]
     },
     "execution_count": 44,
     "metadata": {},
     "output_type": "execute_result"
    }
   ],
   "source": [
    "f"
   ]
  },
  {
   "cell_type": "code",
   "execution_count": 45,
   "metadata": {},
   "outputs": [
    {
     "data": {
      "text/latex": [
       "$\\displaystyle \\left[\\begin{matrix}6 x & 4 & \\cos{\\left(z \\right)}\\\\4 & 0 & 8 z^{7}\\\\\\cos{\\left(z \\right)} & 8 z^{7} & - x \\sin{\\left(z \\right)} + 56 y z^{6}\\end{matrix}\\right]$"
      ],
      "text/plain": [
       "Matrix([\n",
       "[   6*x,      4,                cos(z)],\n",
       "[     4,      0,                8*z**7],\n",
       "[cos(z), 8*z**7, -x*sin(z) + 56*y*z**6]])"
      ]
     },
     "execution_count": 45,
     "metadata": {},
     "output_type": "execute_result"
    }
   ],
   "source": [
    "sy.hessian(f,(x,y,z))"
   ]
  },
  {
   "cell_type": "markdown",
   "metadata": {},
   "source": []
  },
  {
   "cell_type": "markdown",
   "metadata": {},
   "source": []
  },
  {
   "cell_type": "markdown",
   "metadata": {},
   "source": [
    "## Turunan Parsial Numerik"
   ]
  },
  {
   "cell_type": "code",
   "execution_count": 46,
   "metadata": {},
   "outputs": [],
   "source": [
    "import numpy as np"
   ]
  },
  {
   "cell_type": "code",
   "execution_count": 47,
   "metadata": {},
   "outputs": [],
   "source": [
    "def f(x,y):\n",
    "    return x**2*y + 2*x**3*y + y**4"
   ]
  },
  {
   "cell_type": "code",
   "execution_count": 48,
   "metadata": {},
   "outputs": [],
   "source": [
    "x = np.linspace(1,10)\n",
    "y = np.linspace(1,10)\n",
    "\n",
    "z = np.array( [[f(i,j) for i in x] for j in y])\n",
    "\n",
    "dx, dy = np.gradient(z)"
   ]
  },
  {
   "cell_type": "code",
   "execution_count": 49,
   "metadata": {},
   "outputs": [
    {
     "data": {
      "text/plain": [
       "array([[4.00000000e+00, 5.71793215e+00, 7.98252429e+00, ...,\n",
       "        1.88137733e+03, 1.98916795e+03, 2.10100000e+03],\n",
       "       [5.51405365e+00, 7.54752436e+00, 1.02280620e+01, ...,\n",
       "        2.22771579e+03, 2.35530469e+03, 2.48767732e+03],\n",
       "       [7.59758576e+00, 9.94659503e+00, 1.30430782e+01, ...,\n",
       "        2.57462373e+03, 2.72201090e+03, 2.87492412e+03],\n",
       "       ...,\n",
       "       [8.63851183e+03, 8.65506008e+03, 8.67687411e+03, ...,\n",
       "        2.67226363e+04, 2.77609459e+04, 2.88381853e+04],\n",
       "       [9.31474995e+03, 9.33161373e+03, 9.35384371e+03, ...,\n",
       "        2.77436988e+04, 2.88018068e+04, 2.98995867e+04],\n",
       "       [1.00300000e+04, 1.00471793e+04, 1.00698252e+04, ...,\n",
       "        2.88037733e+04, 2.98816795e+04, 3.10000000e+04]])"
      ]
     },
     "execution_count": 49,
     "metadata": {},
     "output_type": "execute_result"
    }
   ],
   "source": [
    "z"
   ]
  },
  {
   "cell_type": "code",
   "execution_count": 50,
   "metadata": {},
   "outputs": [
    {
     "data": {
      "text/plain": [
       "(50, 50)"
      ]
     },
     "execution_count": 50,
     "metadata": {},
     "output_type": "execute_result"
    }
   ],
   "source": [
    "z.shape"
   ]
  },
  {
   "cell_type": "code",
   "execution_count": 51,
   "metadata": {},
   "outputs": [
    {
     "name": "stdout",
     "output_type": "stream",
     "text": [
      "[[   1.51405365    1.82959221    2.2455377  ...  346.33846043\n",
      "   366.13673811  386.67731896]\n",
      " [   1.79879288    2.11433144    2.53027693 ...  346.62319966\n",
      "   366.42147734  386.96205819]\n",
      " [   2.46311416    2.77865272    3.19459822 ...  347.28752094\n",
      "   367.08579863  387.62637947]\n",
      " ...\n",
      " [ 657.45523618  657.77077474  658.18672024 ... 1002.27964296\n",
      "  1022.07792064 1042.61850149]\n",
      " [ 695.74408466  696.05962322  696.47556871 ... 1040.56849144\n",
      "  1060.36676912 1080.90734997]\n",
      " [ 715.25004974  715.5655883   715.98153379 ... 1060.07445652\n",
      "  1079.8727342  1100.41331505]]\n",
      "(50, 50)\n"
     ]
    }
   ],
   "source": [
    "print(dx)\n",
    "print(dx.shape)"
   ]
  }
 ],
 "metadata": {
  "interpreter": {
   "hash": "ac4d201cf173439f415167f75b3283d122e9595905409fac84dc27488f6587b8"
  },
  "kernelspec": {
   "display_name": "Python 3.9.10 64-bit (windows store)",
   "language": "python",
   "name": "python3"
  },
  "language_info": {
   "codemirror_mode": {
    "name": "ipython",
    "version": 3
   },
   "file_extension": ".py",
   "mimetype": "text/x-python",
   "name": "python",
   "nbconvert_exporter": "python",
   "pygments_lexer": "ipython3",
   "version": "3.9.7"
  },
  "orig_nbformat": 4
 },
 "nbformat": 4,
 "nbformat_minor": 2
}
