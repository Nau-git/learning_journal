{
  "cells": [
    {
      "cell_type": "markdown",
      "metadata": {
        "id": "MCKRVeG7Rz1D"
      },
      "source": [
        "# Week 3: Day 5 AM // Web Scraping"
      ]
    },
    {
      "cell_type": "markdown",
      "metadata": {
        "id": "AUWB1h0pAYDO"
      },
      "source": [
        "## Tools Preparation\n",
        "Scrapping is basically one of the way to retrieve the data and this process is very important to know as a data scientist since sometimes we cannot get data easily as we querying the data from the database or download Kaggle. We're going to scrape Gramedia.com in this lesson using Beautifulsoup. Before we're going further, please install beautifulsoup.\n",
        "\n",
        "To install beautifulsoup, you may run one of the following commands on Anaconda Prompt (Windows) or Terminal (Linux/Mac/VSCode):\n",
        "\n",
        "```\n",
        "pip install bs4\n",
        "```\n",
        "\n",
        "and also you need to install requests to acces a web address by running:\n",
        "\n",
        "```\n",
        "pip install requests\n",
        "```"
      ]
    },
    {
      "cell_type": "markdown",
      "metadata": {
        "id": "fhv6716LAYDQ"
      },
      "source": [
        "## Basic Web Component\n",
        "\n",
        "The website that you are scraping in this lesson contains several components. Those are:\n",
        "- HTML — the main content of the page.\n",
        "- CSS — used to add styling to make the page look nicer.\n",
        "- JS — Javascript files add interactivity to web pages.\n",
        "- Images — image formats, such as JPG and PNG, allow web pages to show pictures.\n",
        "\n",
        "There’s a lot that happens behind the scenes to render a page nicely, but we don’t need to worry about most of it when we’re web scraping. When we perform web scraping, we’re interested in the main content of the web page, so we look primarily at the HTML. Hence, you need to know some HTML structure to ease your scraping works. But don't worry, you don't need to dive in deeply into it.\n",
        "\n",
        "### HTML Structure\n",
        "\n",
        "HyperText Markup Language (HTML) is the language that web pages are created in. HTML isn’t a programming language, like Python, though. It’s a markup language that tells a browser how to display content. \n",
        "\n",
        "HTML has many functions that are similar to what you might find in a word processor like Microsoft Word — it can make text bold, create paragraphs, and so on.\n",
        "\n",
        "Below an example of HTML structure:\n",
        "\n",
        "```html\n",
        "<HTML>\n",
        "    <HEAD>\n",
        "        <TITLE>My cool title</TITLE>\n",
        "    </HEAD>\n",
        "    <BODY>\n",
        "        <H1>This is a Header</H1>\n",
        "        <ul id=\"list\" class=\"coolList\">\n",
        "            <li>item 1</li>\n",
        "            <li>item 2</li>\n",
        "            <li>item 3</li>\n",
        "        </ul>\n",
        "    </BODY>\n",
        "</HTML>\n",
        "```\n",
        "\n",
        "- The red items are called as tag or element. Usually, tag follows \"<\".\n",
        "- HTML, HEAD, and BODY are the main elements and the rests are the content. For your attention, we will focus on the contents.\n",
        "- The orange items are attribut that give information about the tag.\n",
        "- The blue texts are the attribute value.\n"
      ]
    },
    {
      "cell_type": "markdown",
      "metadata": {
        "id": "_Lv1Li5NAYDR"
      },
      "source": [
        "## Accessing the Web\n",
        "\n",
        "Now, we will access https://www.gramedia.com/categories/buku for this lesson. Before we go further, we need to understand how to access the url in Python. To do it, we use requests library."
      ]
    },
    {
      "cell_type": "code",
      "execution_count": 1,
      "metadata": {
        "id": "5R63byHWAYDR",
        "outputId": "efb9e11c-a70c-49e1-81cb-21b3cfd56576"
      },
      "outputs": [
        {
          "data": {
            "text/plain": [
              "<Response [200]>"
            ]
          },
          "execution_count": 1,
          "metadata": {},
          "output_type": "execute_result"
        }
      ],
      "source": [
        "import requests\n",
        "page = requests.get(\"https://www.gramedia.com/categories/buku\")\n",
        "page"
      ]
    },
    {
      "cell_type": "markdown",
      "metadata": {
        "id": "5W_6ViMUAYDT"
      },
      "source": [
        "If you see the output is <Response [200]>, then you are success to access the url. \"200\" refers to HTTP status codes. You can read https://id.wikipedia.org/wiki/Daftar_kode_status_HTTP for further explaination.\n",
        "\n",
        "Now, you can check the HTML content of the page in Python. However, you can also check it on your browser by right click and choose Inspect element to ease your understanding od the web structure."
      ]
    },
    {
      "cell_type": "markdown",
      "metadata": {
        "id": "JdPuoNWxAYDU"
      },
      "source": [
        "Above is the HTML structure that Python successfully access. We need to parsing the structure using Beautifulsoup to make it clear and accessible to scrape."
      ]
    },
    {
      "cell_type": "code",
      "execution_count": 2,
      "metadata": {
        "id": "v-2EW9E6AYDV",
        "outputId": "45ca4c09-8613-433e-f590-0b246dd4ecf4"
      },
      "outputs": [
        {
          "name": "stdout",
          "output_type": "stream",
          "text": [
            "<html class=\"async-hide\" lang=\"id\">\n",
            " <head>\n",
            "  <base href=\"/\"/>\n",
            "  <meta charset=\"utf-8\"/>\n",
            "  <meta content=\"width=device-width, initial-scale=1\" name=\"viewport\"/>\n",
            "  <meta content=\"#281e5a\" name=\"theme-color\"/>\n",
            "  <meta content=\"index, follow\" name=\"robots\"/>\n",
            "  <link href=\"/assets/favicon.ico\" rel=\"icon\" type=\"image/x-icon\"/>\n",
            "  <link href=\"manifest.json\" rel=\"manifest\"/>\n",
            "  <link href=\"/assets/favicon.ico\" rel=\"shortcut icon\" type=\"image/x-icon\"/>\n",
            "  <meta content=\"z91Vp6ZYo9UoX5D4ur6i4Lrl0l1j3DDoCH08fD3n53g\" name=\"google-site-verification\"/>\n",
            "  <meta content=\"810657685650228\" property=\"fb:app_id\"/>\n",
            "  <style>\n",
            "   .async-hide {\n",
            "        opacity: 0 !important\n",
            "    }\n",
            "  </style>\n",
            "  <script async=\"\" src=\"//\n"
          ]
        }
      ],
      "source": [
        "from bs4 import BeautifulSoup\n",
        "from selenium import webdriver\n",
        "driver = webdriver.Chrome('chromedriver')\n",
        "\n",
        "url=\"https://www.gramedia.com/categories/buku\"\n",
        "driver.get(url)\n",
        "html = driver.page_source\n",
        "\n",
        "soup = BeautifulSoup(html, \"html.parser\")\n",
        "print(soup.prettify()[:700])"
      ]
    },
    {
      "cell_type": "markdown",
      "metadata": {
        "id": "yEDsgTsKAYDY"
      },
      "source": [
        "<img src=\"https://i.ibb.co/vsz2M33/message-Image-1636690176458.jpg\"></img>"
      ]
    },
    {
      "cell_type": "markdown",
      "metadata": {
        "id": "1kphoURZAYDa"
      },
      "source": [
        "Let that we want to retrieve the books' title, so let's check the title position on the HTML out using Inspect element!\n",
        "\n",
        "We know that based on the Inspect element, the books' title lie on this code:\n",
        "\n",
        "```html\n",
        "<div _ngcontent-web-gramedia-c53=\"\" class=\"list-title\">Creepy Case Club 4: Kasus Pohon Pemanggil</div>\n",
        "```\n",
        "\n",
        "\"Creepy Case Club 4: Kasus Pohon Pemanggil\" located at **div** tag with attribute **class** and the value of \"*list-title*\". So we will use the information to inform the soup where the titles exist.\n",
        "\n",
        "So we need to find all div elements that contain attribute class and value \"list-title\". \n",
        "\n",
        "To do that, we use ```soup.find_all(\"<element>\",{\"<attribute>\":\"<attribute value>\"})```"
      ]
    },
    {
      "cell_type": "code",
      "execution_count": 3,
      "metadata": {
        "id": "uIdlOLUPAYDc",
        "outputId": "3b3cdbb0-44ca-41cf-ff09-fc372b5d9568"
      },
      "outputs": [
        {
          "data": {
            "text/plain": [
              "[]"
            ]
          },
          "execution_count": 3,
          "metadata": {},
          "output_type": "execute_result"
        }
      ],
      "source": [
        "soup.find_all('div',{\"class\":\"list-title\"})"
      ]
    },
    {
      "cell_type": "markdown",
      "metadata": {
        "id": "falTzsfjAYDd"
      },
      "source": [
        "We see that the soup found all div elements that contain attribute class and value \"list-title\" but we need the title text only. To extract it, just add .get_text() method to each list element."
      ]
    },
    {
      "cell_type": "code",
      "execution_count": 4,
      "metadata": {
        "id": "i9nTNfvuAYDd",
        "outputId": "acca9345-257e-4310-fc46-fc3ed6929d6f"
      },
      "outputs": [],
      "source": [
        "for div_tag in soup.find_all('div',{\"class\":\"list-title\"}):\n",
        "    print(div_tag.get_text())"
      ]
    },
    {
      "cell_type": "markdown",
      "metadata": {
        "id": "dEcoQ0IFAYDe"
      },
      "source": [
        "It is easy, isn't it?\n",
        "\n",
        "Next, we will do more. Our task is to get information about Title, Author, Price, Link to the book's page, and link refers to image.\n",
        "\n",
        "Based on the Inspect element, we know that those information locate on:\n",
        "- Title: ```<div _ngcontent-web-gramedia-c53=\"\" class=\"list-title\">Creepy Case Club 4: Kasus Pohon Pemanggil</div>```\n",
        "- Author: ```<p class=\"div-author\"><span _ngcontent-web-gramedia-c53=\"\" class=\"list-author ng-star-inserted\"> Arvidan None </span>```\n",
        "- Price: ```<p _ngcontent-web-gramedia-c53=\"\" class=\"formats-price\">Rp 79.000</p>```\n",
        "- Link: ```<div class=\"ng-star-inserted\"><a _ngcontent-web-gramedia-c53=\"\" href=\"/products/think-and-grow-rich-cara-para-jutawan-dan-miliarder-meraih-kekayaan\">```\n",
        "- Image: ```<img _ngcontent-web-gramedia-c26=\"\" class=\"product-list-img ng-star-inserted ng-lazyloaded\" src=\"https://cdn.gramedia.com/uploads/items/9786230405990_Think_and_Grow_Rich__w149_hauto.jpeg\" alt=\"Think And Grow Rich : Cara Para Jutawan Dan Miliarder Meraih Kekayaan\">```\n",
        "\n",
        "Let's we wrap up the code and then input the data into Pandas DataFrame."
      ]
    },
    {
      "cell_type": "code",
      "execution_count": 5,
      "metadata": {
        "id": "MpxuSwjbAYDf",
        "outputId": "de7c7376-7667-4de6-ac36-6389245d2883"
      },
      "outputs": [
        {
          "data": {
            "text/html": [
              "<div>\n",
              "<style scoped>\n",
              "    .dataframe tbody tr th:only-of-type {\n",
              "        vertical-align: middle;\n",
              "    }\n",
              "\n",
              "    .dataframe tbody tr th {\n",
              "        vertical-align: top;\n",
              "    }\n",
              "\n",
              "    .dataframe thead th {\n",
              "        text-align: right;\n",
              "    }\n",
              "</style>\n",
              "<table border=\"1\" class=\"dataframe\">\n",
              "  <thead>\n",
              "    <tr style=\"text-align: right;\">\n",
              "      <th></th>\n",
              "      <th>Title</th>\n",
              "      <th>Author</th>\n",
              "      <th>Price</th>\n",
              "      <th>Image</th>\n",
              "      <th>Link</th>\n",
              "    </tr>\n",
              "  </thead>\n",
              "  <tbody>\n",
              "  </tbody>\n",
              "</table>\n",
              "</div>"
            ],
            "text/plain": [
              "Empty DataFrame\n",
              "Columns: [Title, Author, Price, Image, Link]\n",
              "Index: []"
            ]
          },
          "execution_count": 5,
          "metadata": {},
          "output_type": "execute_result"
        }
      ],
      "source": [
        "import pandas as pd\n",
        "\n",
        "data = pd.DataFrame()\n",
        "\n",
        "data['Title'] = [ title.get_text() for title in soup.find_all( 'div', {\"class\":\"list-title\"} ) ]\n",
        "data['Author'] = [ author.get_text() for author in soup.find_all( 'p', {\"class\":\"div-author\"} ) ]\n",
        "data['Price'] = [ price.get_text() for price in soup.find_all( 'p', {\"class\":\"formats-price\"} ) ]\n",
        "data['Image'] = [ img['src'] for img in soup.find_all( 'img',{\"class\":\"product-list-img\"} ) ]\n",
        "\n",
        "links = []\n",
        "for tag in soup.find_all( 'div',{\"_ngcontent-web-gramedia-c26\":\"\",\"class\":\"ng-star-inserted\"} ):\n",
        "    try:\n",
        "        links.append(\"https://www.gramedia.com\"+tag.find_all('a',{\"_ngcontent-web-gramedia-c26\":\"\"})[0]['href'])\n",
        "    except:\n",
        "        pass\n",
        "\n",
        "data['Link'] = links\n",
        "\n",
        "data"
      ]
    },
    {
      "cell_type": "markdown",
      "metadata": {
        "id": "qmCFjjSrAYDg"
      },
      "source": [
        "## Multipage"
      ]
    },
    {
      "cell_type": "markdown",
      "metadata": {
        "id": "F6V2CEn6AYDi"
      },
      "source": [
        "Currently, we are working on a page. However, the rest of the web consist of more pages like below:\n",
        "\n",
        "<img src=\"https://i.ibb.co/CQ6JQLv/message-Image-1636716930335.jpg\"></img>\n",
        "\n",
        "If we look at the next page such as page 2, we can see that the url change to https://www.gramedia.com/categories/buku?page=2 and page 3: https://www.gramedia.com/categories/buku?page=3. Then we know each page has a numbering format on url so we can access many pages one time automatically using loop. We exclude the image since image loader is very depended on your connection. Let's check the code below."
      ]
    },
    {
      "cell_type": "code",
      "execution_count": 6,
      "metadata": {
        "id": "gZ6jrmwQAYDj",
        "outputId": "4a5f0c47-eb95-45d8-ed71-39baf97dadf4"
      },
      "outputs": [
        {
          "data": {
            "text/html": [
              "<div>\n",
              "<style scoped>\n",
              "    .dataframe tbody tr th:only-of-type {\n",
              "        vertical-align: middle;\n",
              "    }\n",
              "\n",
              "    .dataframe tbody tr th {\n",
              "        vertical-align: top;\n",
              "    }\n",
              "\n",
              "    .dataframe thead th {\n",
              "        text-align: right;\n",
              "    }\n",
              "</style>\n",
              "<table border=\"1\" class=\"dataframe\">\n",
              "  <thead>\n",
              "    <tr style=\"text-align: right;\">\n",
              "      <th></th>\n",
              "      <th>Title</th>\n",
              "      <th>Author</th>\n",
              "      <th>Price</th>\n",
              "      <th>Image</th>\n",
              "      <th>Link</th>\n",
              "    </tr>\n",
              "  </thead>\n",
              "  <tbody>\n",
              "    <tr>\n",
              "      <th>0</th>\n",
              "      <td>The Book Of Menaklukkan Audiens</td>\n",
              "      <td>Nufi Wibisana</td>\n",
              "      <td>Rp 49.500</td>\n",
              "      <td>https://cdn.gramedia.com/uploads/items/The_Boo...</td>\n",
              "      <td>https://www.gramedia.com/products/the-book-of-...</td>\n",
              "    </tr>\n",
              "    <tr>\n",
              "      <th>1</th>\n",
              "      <td>The Book Of Membangun Relasi</td>\n",
              "      <td>Ridho Aldhily</td>\n",
              "      <td>Rp 44.500</td>\n",
              "      <td>https://cdn.gramedia.com/uploads/items/The_Boo...</td>\n",
              "      <td>https://www.gramedia.com/products/the-book-of-...</td>\n",
              "    </tr>\n",
              "    <tr>\n",
              "      <th>2</th>\n",
              "      <td>The Book Of Memotivasi Jiwa</td>\n",
              "      <td>Kinanti Linda Rahayu</td>\n",
              "      <td>Rp 44.500</td>\n",
              "      <td>https://cdn.gramedia.com/uploads/items/The_Boo...</td>\n",
              "      <td>https://www.gramedia.com/products/the-book-of-...</td>\n",
              "    </tr>\n",
              "    <tr>\n",
              "      <th>3</th>\n",
              "      <td>Diet Sodium: Diet Sehat Tanpa Garam</td>\n",
              "      <td>NINGGAR D DIASTITI, A.MD.GZ.</td>\n",
              "      <td>Rp 30.500</td>\n",
              "      <td>/assets/default-images/product.png</td>\n",
              "      <td>https://www.gramedia.com/products/diet-sodium-...</td>\n",
              "    </tr>\n",
              "    <tr>\n",
              "      <th>4</th>\n",
              "      <td>The Book Of Melepaskan Emosi &amp; Depresi</td>\n",
              "      <td>M. Heri Susilo</td>\n",
              "      <td>Rp 58.500</td>\n",
              "      <td>https://cdn.gramedia.com/uploads/items/The_Boo...</td>\n",
              "      <td>https://www.gramedia.com/products/the-book-of-...</td>\n",
              "    </tr>\n",
              "    <tr>\n",
              "      <th>5</th>\n",
              "      <td>Hello, Korean!</td>\n",
              "      <td>Borassaem</td>\n",
              "      <td>Rp 119.000</td>\n",
              "      <td>/assets/default-images/product.png</td>\n",
              "      <td>https://www.gramedia.com/products/hello-korean</td>\n",
              "    </tr>\n",
              "    <tr>\n",
              "      <th>6</th>\n",
              "      <td>The Golden Story Of Zulkarnain</td>\n",
              "      <td>Rizem Aizid</td>\n",
              "      <td>Rp 50.000</td>\n",
              "      <td>https://cdn.gramedia.com/uploads/items/The_Gol...</td>\n",
              "      <td>https://www.gramedia.com/products/the-golden-s...</td>\n",
              "    </tr>\n",
              "    <tr>\n",
              "      <th>7</th>\n",
              "      <td>Jagoan Trading Crypto</td>\n",
              "      <td>Diar Puji Oktavian</td>\n",
              "      <td>Rp 100.000</td>\n",
              "      <td>https://cdn.gramedia.com/uploads/items/cover_d...</td>\n",
              "      <td>https://www.gramedia.com/products/jagoan-tradi...</td>\n",
              "    </tr>\n",
              "    <tr>\n",
              "      <th>8</th>\n",
              "      <td>From Zero To Master English Speaking</td>\n",
              "      <td>Zae Arsy</td>\n",
              "      <td>Rp 68.000</td>\n",
              "      <td>https://cdn.gramedia.com/uploads/items/From_Ze...</td>\n",
              "      <td>https://www.gramedia.com/products/from-zero-to...</td>\n",
              "    </tr>\n",
              "    <tr>\n",
              "      <th>9</th>\n",
              "      <td>Jagat Batin Syekh Siti Jenar</td>\n",
              "      <td>Imron Mustofa</td>\n",
              "      <td>Rp 60.000</td>\n",
              "      <td>https://cdn.gramedia.com/uploads/items/Jagat_B...</td>\n",
              "      <td>https://www.gramedia.com/products/jagat-batin-...</td>\n",
              "    </tr>\n",
              "    <tr>\n",
              "      <th>10</th>\n",
              "      <td>Linimasa Pewarta Foto Kantor Berita</td>\n",
              "      <td>AUDY MIRZA ALWI</td>\n",
              "      <td>Rp 100.000</td>\n",
              "      <td>/assets/default-images/product.png</td>\n",
              "      <td>https://www.gramedia.com/products/linimasa-pew...</td>\n",
              "    </tr>\n",
              "    <tr>\n",
              "      <th>11</th>\n",
              "      <td>Khadijah: The True Love Story Of Muhammad Saw</td>\n",
              "      <td>Alfian Ricky Saputro</td>\n",
              "      <td>Rp 55.500</td>\n",
              "      <td>/assets/default-images/product.png</td>\n",
              "      <td>https://www.gramedia.com/products/khadijah-the...</td>\n",
              "    </tr>\n",
              "    <tr>\n",
              "      <th>12</th>\n",
              "      <td>Hidup Sering Kali Tidak Baik-Baik Saja, Tapi K...</td>\n",
              "      <td>MUSTHAFA AL- GHALAYAIN</td>\n",
              "      <td>Rp 119.000</td>\n",
              "      <td>/assets/default-images/product.png</td>\n",
              "      <td>https://www.gramedia.com/products/hidup-sering...</td>\n",
              "    </tr>\n",
              "    <tr>\n",
              "      <th>13</th>\n",
              "      <td>Atlas Sejarah Islam</td>\n",
              "      <td></td>\n",
              "      <td>Rp 95.000</td>\n",
              "      <td>/assets/default-images/product.png</td>\n",
              "      <td>https://www.gramedia.com/products/atlas-sejara...</td>\n",
              "    </tr>\n",
              "    <tr>\n",
              "      <th>14</th>\n",
              "      <td>Unsaid Words</td>\n",
              "      <td>Ayu Nugraheni</td>\n",
              "      <td>Rp 99.500</td>\n",
              "      <td>https://cdn.gramedia.com/uploads/items/UNSAID_...</td>\n",
              "      <td>https://www.gramedia.com/products/unsaid-words</td>\n",
              "    </tr>\n",
              "    <tr>\n",
              "      <th>15</th>\n",
              "      <td>Alaia Ii</td>\n",
              "      <td>Raden Chedid</td>\n",
              "      <td>Rp 99.500</td>\n",
              "      <td>/assets/default-images/product.png</td>\n",
              "      <td>https://www.gramedia.com/products/alaia-ii</td>\n",
              "    </tr>\n",
              "    <tr>\n",
              "      <th>16</th>\n",
              "      <td>Rajewali</td>\n",
              "      <td>MICHEL NF</td>\n",
              "      <td>Rp 99.500</td>\n",
              "      <td>/assets/default-images/product.png</td>\n",
              "      <td>https://www.gramedia.com/products/rajewali</td>\n",
              "    </tr>\n",
              "    <tr>\n",
              "      <th>17</th>\n",
              "      <td>Dia Aurora</td>\n",
              "      <td>Nurwina Sari</td>\n",
              "      <td>Rp 95.000</td>\n",
              "      <td>/assets/default-images/product.png</td>\n",
              "      <td>https://www.gramedia.com/products/dia-aurora</td>\n",
              "    </tr>\n",
              "    <tr>\n",
              "      <th>18</th>\n",
              "      <td>Fun and Simple Buku Aktivitas Tematik Anak Usi...</td>\n",
              "      <td>Abi Lingga</td>\n",
              "      <td>Rp 40.000</td>\n",
              "      <td>/assets/default-images/product.png</td>\n",
              "      <td>https://www.gramedia.com/products/fun-and-simp...</td>\n",
              "    </tr>\n",
              "    <tr>\n",
              "      <th>19</th>\n",
              "      <td>Nenek Kesepian dan Kucingnya</td>\n",
              "      <td>Taghreed Najjar</td>\n",
              "      <td>Rp 50.000</td>\n",
              "      <td>/assets/default-images/product.png</td>\n",
              "      <td>https://www.gramedia.com/products/nenek-kesepi...</td>\n",
              "    </tr>\n",
              "  </tbody>\n",
              "</table>\n",
              "</div>"
            ],
            "text/plain": [
              "                                                Title  \\\n",
              "0                     The Book Of Menaklukkan Audiens   \n",
              "1                        The Book Of Membangun Relasi   \n",
              "2                         The Book Of Memotivasi Jiwa   \n",
              "3                 Diet Sodium: Diet Sehat Tanpa Garam   \n",
              "4              The Book Of Melepaskan Emosi & Depresi   \n",
              "5                                      Hello, Korean!   \n",
              "6                      The Golden Story Of Zulkarnain   \n",
              "7                               Jagoan Trading Crypto   \n",
              "8                From Zero To Master English Speaking   \n",
              "9                        Jagat Batin Syekh Siti Jenar   \n",
              "10                Linimasa Pewarta Foto Kantor Berita   \n",
              "11      Khadijah: The True Love Story Of Muhammad Saw   \n",
              "12  Hidup Sering Kali Tidak Baik-Baik Saja, Tapi K...   \n",
              "13                                Atlas Sejarah Islam   \n",
              "14                                       Unsaid Words   \n",
              "15                                           Alaia Ii   \n",
              "16                                           Rajewali   \n",
              "17                                         Dia Aurora   \n",
              "18  Fun and Simple Buku Aktivitas Tematik Anak Usi...   \n",
              "19                       Nenek Kesepian dan Kucingnya   \n",
              "\n",
              "                            Author       Price  \\\n",
              "0                   Nufi Wibisana    Rp 49.500   \n",
              "1                   Ridho Aldhily    Rp 44.500   \n",
              "2            Kinanti Linda Rahayu    Rp 44.500   \n",
              "3    NINGGAR D DIASTITI, A.MD.GZ.    Rp 30.500   \n",
              "4                  M. Heri Susilo    Rp 58.500   \n",
              "5                      Borassaem    Rp 119.000   \n",
              "6                     Rizem Aizid    Rp 50.000   \n",
              "7              Diar Puji Oktavian   Rp 100.000   \n",
              "8                        Zae Arsy    Rp 68.000   \n",
              "9                   Imron Mustofa    Rp 60.000   \n",
              "10                AUDY MIRZA ALWI   Rp 100.000   \n",
              "11           Alfian Ricky Saputro    Rp 55.500   \n",
              "12         MUSTHAFA AL- GHALAYAIN   Rp 119.000   \n",
              "13                                   Rp 95.000   \n",
              "14                  Ayu Nugraheni    Rp 99.500   \n",
              "15                   Raden Chedid    Rp 99.500   \n",
              "16                      MICHEL NF    Rp 99.500   \n",
              "17                   Nurwina Sari    Rp 95.000   \n",
              "18                     Abi Lingga    Rp 40.000   \n",
              "19                Taghreed Najjar    Rp 50.000   \n",
              "\n",
              "                                                Image  \\\n",
              "0   https://cdn.gramedia.com/uploads/items/The_Boo...   \n",
              "1   https://cdn.gramedia.com/uploads/items/The_Boo...   \n",
              "2   https://cdn.gramedia.com/uploads/items/The_Boo...   \n",
              "3                  /assets/default-images/product.png   \n",
              "4   https://cdn.gramedia.com/uploads/items/The_Boo...   \n",
              "5                  /assets/default-images/product.png   \n",
              "6   https://cdn.gramedia.com/uploads/items/The_Gol...   \n",
              "7   https://cdn.gramedia.com/uploads/items/cover_d...   \n",
              "8   https://cdn.gramedia.com/uploads/items/From_Ze...   \n",
              "9   https://cdn.gramedia.com/uploads/items/Jagat_B...   \n",
              "10                 /assets/default-images/product.png   \n",
              "11                 /assets/default-images/product.png   \n",
              "12                 /assets/default-images/product.png   \n",
              "13                 /assets/default-images/product.png   \n",
              "14  https://cdn.gramedia.com/uploads/items/UNSAID_...   \n",
              "15                 /assets/default-images/product.png   \n",
              "16                 /assets/default-images/product.png   \n",
              "17                 /assets/default-images/product.png   \n",
              "18                 /assets/default-images/product.png   \n",
              "19                 /assets/default-images/product.png   \n",
              "\n",
              "                                                 Link  \n",
              "0   https://www.gramedia.com/products/the-book-of-...  \n",
              "1   https://www.gramedia.com/products/the-book-of-...  \n",
              "2   https://www.gramedia.com/products/the-book-of-...  \n",
              "3   https://www.gramedia.com/products/diet-sodium-...  \n",
              "4   https://www.gramedia.com/products/the-book-of-...  \n",
              "5      https://www.gramedia.com/products/hello-korean  \n",
              "6   https://www.gramedia.com/products/the-golden-s...  \n",
              "7   https://www.gramedia.com/products/jagoan-tradi...  \n",
              "8   https://www.gramedia.com/products/from-zero-to...  \n",
              "9   https://www.gramedia.com/products/jagat-batin-...  \n",
              "10  https://www.gramedia.com/products/linimasa-pew...  \n",
              "11  https://www.gramedia.com/products/khadijah-the...  \n",
              "12  https://www.gramedia.com/products/hidup-sering...  \n",
              "13  https://www.gramedia.com/products/atlas-sejara...  \n",
              "14     https://www.gramedia.com/products/unsaid-words  \n",
              "15         https://www.gramedia.com/products/alaia-ii  \n",
              "16         https://www.gramedia.com/products/rajewali  \n",
              "17       https://www.gramedia.com/products/dia-aurora  \n",
              "18  https://www.gramedia.com/products/fun-and-simp...  \n",
              "19  https://www.gramedia.com/products/nenek-kesepi...  "
            ]
          },
          "execution_count": 6,
          "metadata": {},
          "output_type": "execute_result"
        }
      ],
      "source": [
        "title = []\n",
        "author = []\n",
        "price = []\n",
        "image = []\n",
        "Links = []\n",
        "\n",
        "driver = webdriver.Chrome('chromedriver')\n",
        "\n",
        "for i in range(1,21):\n",
        "    url=\"https://www.gramedia.com/categories/buku?page={}\".format(i)\n",
        "    driver.get(url)\n",
        "    html = driver.page_source\n",
        "    soup = BeautifulSoup(html, \"html.parser\")\n",
        "\n",
        "    title += [ title.get_text() for title in soup.find_all( 'div', {\"class\":\"list-title\"} ) ]\n",
        "    author += [ author.get_text() for author in soup.find_all( 'p', {\"class\":\"div-author\"} ) ]\n",
        "    price += [ price.get_text() for price in soup.find_all( 'p', {\"class\":\"formats-price\"} ) ]\n",
        "    image += [ img['src'] for img in soup.find_all( 'img',{\"class\":\"product-list-img\"} ) ]\n",
        "\n",
        "    links = []\n",
        "    for tag in soup.find_all( 'div',{\"_ngcontent-web-gramedia-c26\":\"\",\"class\":\"ng-star-inserted\"} ):\n",
        "        try:\n",
        "            links.append(\"https://www.gramedia.com\"+tag.find_all('a',{\"_ngcontent-web-gramedia-c26\":\"\"})[0]['href'])\n",
        "        except:\n",
        "            pass\n",
        "    Links += links\n",
        "\n",
        "data_multipage = pd.DataFrame()\n",
        "data_multipage['Title'] = title\n",
        "data_multipage['Author'] = author\n",
        "data_multipage['Price'] = price\n",
        "data_multipage['Image'] = image\n",
        "data_multipage['Link'] = Links\n",
        "\n",
        "data_multipage"
      ]
    },
    {
      "cell_type": "markdown",
      "metadata": {
        "id": "J-_z1DlnAYDj"
      },
      "source": [
        "## Accessing Individual Page\n",
        "\n",
        "<img src=\"https://i.ibb.co/F8D5bCy/message-Image-1637134633305.jpg\"></img>\n",
        "\n",
        "Suppose that we want to get more detail information about the books, but the information are on the individual page. So, we will access the individual page and scrape some information on it. We will catch title, author, price, description, number of pages, date of issue and publisher."
      ]
    },
    {
      "cell_type": "code",
      "execution_count": 8,
      "metadata": {
        "id": "J8QM4LeeAYDj",
        "outputId": "3d5dfcba-5617-406c-d9b6-c94664a253fa"
      },
      "outputs": [
        {
          "data": {
            "text/html": [
              "<div>\n",
              "<style scoped>\n",
              "    .dataframe tbody tr th:only-of-type {\n",
              "        vertical-align: middle;\n",
              "    }\n",
              "\n",
              "    .dataframe tbody tr th {\n",
              "        vertical-align: top;\n",
              "    }\n",
              "\n",
              "    .dataframe thead th {\n",
              "        text-align: right;\n",
              "    }\n",
              "</style>\n",
              "<table border=\"1\" class=\"dataframe\">\n",
              "  <thead>\n",
              "    <tr style=\"text-align: right;\">\n",
              "      <th></th>\n",
              "      <th>Title</th>\n",
              "      <th>Author</th>\n",
              "      <th>Price</th>\n",
              "      <th>Desc</th>\n",
              "      <th>Num Pages</th>\n",
              "      <th>Date Issue</th>\n",
              "      <th>Publisher</th>\n",
              "    </tr>\n",
              "  </thead>\n",
              "  <tbody>\n",
              "  </tbody>\n",
              "</table>\n",
              "</div>"
            ],
            "text/plain": [
              "Empty DataFrame\n",
              "Columns: [Title, Author, Price, Desc, Num Pages, Date Issue, Publisher]\n",
              "Index: []"
            ]
          },
          "execution_count": 8,
          "metadata": {},
          "output_type": "execute_result"
        }
      ],
      "source": [
        "from time import sleep\n",
        "from random import randint\n",
        "\n",
        "title = []\n",
        "author = []\n",
        "price = []\n",
        "desc = []\n",
        "num_pages = []\n",
        "date_issue = []\n",
        "publisher = []\n",
        "\n",
        "driver = webdriver.Chrome('chromedriver')\n",
        "\n",
        "for i in range(1,2):\n",
        "    url=\"https://www.gramedia.com/categories/buku?page={}\".format(i)\n",
        "    driver.get(url)\n",
        "    sleep(randint(5,7))\n",
        "    html = driver.page_source\n",
        "    soup = BeautifulSoup(html, \"html.parser\")\n",
        "\n",
        "    for tag in soup.find_all( 'div',{\"_ngcontent-web-gramedia-c26\":\"\",\"class\":\"ng-star-inserted\"} ):\n",
        "        \n",
        "        try:\n",
        "            link = \"https://www.gramedia.com\"+tag.find('a',{\"_ngcontent-web-gramedia-c26\":\"\"})['href']\n",
        "            driver.get(link)\n",
        "            sleep(randint(5,7))\n",
        "            \n",
        "            html_ind = driver.page_source\n",
        "            soup_ind = BeautifulSoup(html_ind, \"html.parser\")\n",
        "\n",
        "            title.append( soup_ind.find( 'div', {\"class\":\"book-title\"} ).get_text() )\n",
        "            author.append( soup_ind.find('span',{\"class\":\"title-author\"}).get_text() )\n",
        "            price.append( soup_ind.find('div', {'class':'price-product'}).get_text() )\n",
        "            desc.append( soup_ind.find('pre').get_text() )\n",
        "            num_pages.append( soup_ind.find('div',{'class':'detail-section'}).find_all('p')[0].get_text() )\n",
        "            date_issue.append( soup_ind.find('div',{'class':'detail-section'}).find_all('p')[2].get_text() )\n",
        "            publisher.append( soup_ind.find('div',{'class':'detail-section'}).find_all('p')[1].get_text() )\n",
        "\n",
        "        except:\n",
        "            pass\n",
        "\n",
        "pages = pd.DataFrame()\n",
        "pages['Title'] = title\n",
        "pages['Author'] = author\n",
        "pages['Price'] = price\n",
        "pages['Desc'] = desc\n",
        "pages['Num Pages'] = num_pages\n",
        "pages['Date Issue'] = date_issue\n",
        "pages['Publisher'] = publisher\n",
        "\n",
        "pages"
      ]
    }
  ],
  "metadata": {
    "colab": {
      "collapsed_sections": [],
      "name": "d1pm.ipynb",
      "provenance": []
    },
    "kernelspec": {
      "display_name": "Python 3",
      "language": "python",
      "name": "python3"
    },
    "language_info": {
      "codemirror_mode": {
        "name": "ipython",
        "version": 3
      },
      "file_extension": ".py",
      "mimetype": "text/x-python",
      "name": "python",
      "nbconvert_exporter": "python",
      "pygments_lexer": "ipython3",
      "version": "3.9.7"
    }
  },
  "nbformat": 4,
  "nbformat_minor": 0
}
