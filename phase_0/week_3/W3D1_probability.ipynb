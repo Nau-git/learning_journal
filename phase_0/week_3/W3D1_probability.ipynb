{
 "cells": [
  {
   "cell_type": "markdown",
   "metadata": {},
   "source": [
    "## Probability Basics"
   ]
  },
  {
   "cell_type": "markdown",
   "metadata": {},
   "source": [
    "Probability is a value between 0 and 1 that indicates the likelihood of a particular event, with 0 meaning that the event is impossible, and 1 meaning that the event is inevitable."
   ]
  },
  {
   "cell_type": "markdown",
   "metadata": {},
   "source": [
    "#### Complement and Bias\n",
    "\n",
    "The complement of an event is the set of sample points that do not result in the event. `P(A') = 1 - P(A)`.\n",
    "\n",
    "Bias makes one outcome more likely than another."
   ]
  },
  {
   "cell_type": "markdown",
   "metadata": {},
   "source": [
    "Some terminologies: \n",
    "* Experiment : action that yields outcome\n",
    "* Sample space : set of all possible outcome\n",
    "* Sample point : single possingle outcome\n",
    "* Event : a specific outcome"
   ]
  },
  {
   "cell_type": "markdown",
   "metadata": {},
   "source": [
    "#### *Independent Event*\n",
    "\n",
    "Independent event is an event that is independent of all other events. Saling lepas. \n",
    "\n",
    "P (A and B) = P(A) * P(B)"
   ]
  },
  {
   "cell_type": "markdown",
   "metadata": {},
   "source": [
    "#### *Dependent Event*\n",
    "\n",
    "Dependent event is an event that is dependent on other events. \n",
    "\n",
    "P (A and B) = P(A) * P(B | A)   \n",
    "\n",
    "where P(B | A) is probability of B given A. A occured first.\n"
   ]
  },
  {
   "cell_type": "markdown",
   "metadata": {},
   "source": [
    "#### *Mutually exclusive event*\n",
    "\n",
    "is an event that is mutually exclusive with other events. Contoh: 1 dadu, P(A) = muncul 2, P(B) = muncul ganjil.\n",
    "\n",
    "P (A or B) = P(A) + P(B)\n"
   ]
  },
  {
   "cell_type": "markdown",
   "metadata": {},
   "source": [
    "#### *Mutually Inclusive event*\n",
    "\n",
    "P (A or B) = P(A) + P(B) - P(A and B)"
   ]
  },
  {
   "cell_type": "markdown",
   "metadata": {},
   "source": [
    "### Random Variable\n",
    "\n",
    "1 coin dilempar 3 kali.\n",
    "* P(Head = 2) = 3/8\n",
    "* P(Head = 1) = 3/8\n",
    "* Random variable -> X = [0,1,2,3] ; where 0,1,2,3 adalah Head=0,1,2,3\n",
    "* P (X <= 2) = P(X = 0) + P(X = 1) + P(X = 2)\n",
    "\n",
    "variable yg digunakan untuk menampung berapa banyak kemunculan dari suatu nilai?"
   ]
  },
  {
   "cell_type": "markdown",
   "metadata": {},
   "source": [
    "(n! / k! * (n-k)!) / 2^n"
   ]
  },
  {
   "cell_type": "markdown",
   "metadata": {},
   "source": [
    "Teori bilangan besar."
   ]
  },
  {
   "cell_type": "markdown",
   "metadata": {},
   "source": [
    "PMF (Probability Mass Function) = diskrit\n",
    "\n",
    "PDF (Probability Density Function) = kontinu\n",
    "\n",
    "Cummulative Density Function (CDF) = kontinu\n",
    "\n",
    "Cummulative Mass Function (CMF) = diskrit"
   ]
  },
  {
   "cell_type": "markdown",
   "metadata": {},
   "source": [
    "#### Distribusi Data\n",
    "* 1. Normal -> Gaussian, Binomial\n",
    "* 2. Not normal (skewed) -> Gamma, Poisson\n"
   ]
  },
  {
   "cell_type": "markdown",
   "metadata": {},
   "source": [
    "Sampling distribution\n",
    "\n",
    "\n",
    "Central Limit Theorem\n"
   ]
  },
  {
   "cell_type": "code",
   "execution_count": null,
   "metadata": {},
   "outputs": [],
   "source": [
    "coba dikasih pertanyaan buat cek pemahaman kak"
   ]
  }
 ],
 "metadata": {
  "interpreter": {
   "hash": "ac4d201cf173439f415167f75b3283d122e9595905409fac84dc27488f6587b8"
  },
  "kernelspec": {
   "display_name": "Python 3.9.10 64-bit (windows store)",
   "language": "python",
   "name": "python3"
  },
  "language_info": {
   "name": "python",
   "version": "3.9.12"
  },
  "orig_nbformat": 4
 },
 "nbformat": 4,
 "nbformat_minor": 2
}
