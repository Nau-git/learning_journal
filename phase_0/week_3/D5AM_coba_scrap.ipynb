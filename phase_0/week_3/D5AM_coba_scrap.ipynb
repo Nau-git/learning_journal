{
 "cells": [
  {
   "cell_type": "code",
   "execution_count": 1,
   "metadata": {},
   "outputs": [
    {
     "data": {
      "text/plain": [
       "<Response [200]>"
      ]
     },
     "execution_count": 1,
     "metadata": {},
     "output_type": "execute_result"
    }
   ],
   "source": [
    "import requests\n",
    "page = requests.get(\"https://www.togamas.com/koleksi-1\")\n",
    "page"
   ]
  },
  {
   "cell_type": "code",
   "execution_count": null,
   "metadata": {},
   "outputs": [],
   "source": [
    "!pip install selenium"
   ]
  },
  {
   "cell_type": "code",
   "execution_count": 2,
   "metadata": {},
   "outputs": [
    {
     "name": "stdout",
     "output_type": "stream",
     "text": [
      "<html itemscope=\"\" itemtype=\"http://data-vocabulary.org/Store\" xmlns=\"http://www.w3.org/1999/xhtml\">\n",
      " <head>\n",
      "  <title>\n",
      "   Togamas.com: Toko Buku Online Togamas - PastiORI\n",
      "  </title>\n",
      "  <meta charset=\"utf-8\"/>\n",
      "  <meta content=\"Togamas.com: Toko Buku Online Togamas merupakan fitur layanan terbaru dari Toko Buku Diskon Togamas yang diluncurkan sebagai bentuk peningkatan pelayanan terhadap pelanggan dalam menghadirkan kemudahan dalam berbelanja buku kapan saja dan dimana saja. \" name=\"description\"/>\n",
      "  <meta content=\"togamas,toko buku online,diskon seumur hidup,buku diskon,buku murah,novel,buku,fiksi,nonfiksi,motivasi,inspirasi,pendidikan,ibudananak,politik,sosial,budaya,matematika,fisika,kimia,bi\n"
     ]
    }
   ],
   "source": [
    "from bs4 import BeautifulSoup\n",
    "from selenium import webdriver\n",
    "driver = webdriver.Chrome('chromedriver')\n",
    "\n",
    "url=\"https://www.togamas.com/koleksi-1\"\n",
    "driver.get(url)\n",
    "html = driver.page_source\n",
    "\n",
    "soup = BeautifulSoup(html, \"html.parser\")\n",
    "print(soup.prettify()[:700])"
   ]
  },
  {
   "cell_type": "code",
   "execution_count": 4,
   "metadata": {},
   "outputs": [
    {
     "data": {
      "text/plain": [
       "[]"
      ]
     },
     "execution_count": 4,
     "metadata": {},
     "output_type": "execute_result"
    }
   ],
   "source": [
    "soup.find_all('span',{\"class\":\"dataJudul\"})"
   ]
  }
 ],
 "metadata": {
  "interpreter": {
   "hash": "1fa0a762e4a5fa149b305d9c31b7e6e75204ddcc0688d7e1540ad3781b1bcb3f"
  },
  "kernelspec": {
   "display_name": "Python 3.9.7 ('base')",
   "language": "python",
   "name": "python3"
  },
  "language_info": {
   "codemirror_mode": {
    "name": "ipython",
    "version": 3
   },
   "file_extension": ".py",
   "mimetype": "text/x-python",
   "name": "python",
   "nbconvert_exporter": "python",
   "pygments_lexer": "ipython3",
   "version": "3.9.7"
  },
  "orig_nbformat": 4
 },
 "nbformat": 4,
 "nbformat_minor": 2
}
