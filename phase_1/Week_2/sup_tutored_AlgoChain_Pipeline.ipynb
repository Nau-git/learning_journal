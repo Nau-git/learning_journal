{
  "cells": [
    {
      "cell_type": "markdown",
      "metadata": {
        "id": "XKaYNROCpDS_"
      },
      "source": [
        "# Week 2: Day 3 PM // Algorithm Chains and Pipelines"
      ]
    },
    {
      "cell_type": "markdown",
      "metadata": {
        "id": "XX8eK92jYzeJ"
      },
      "source": [
        "## Import Libraries & Data Loading"
      ]
    },
    {
      "cell_type": "code",
      "execution_count": 1,
      "metadata": {
        "colab": {
          "base_uri": "https://localhost:8080/"
        },
        "id": "RTeJtQTgpDTE",
        "outputId": "33c03d09-ece7-48d4-c2bc-83355e955139"
      },
      "outputs": [
        {
          "name": "stdout",
          "output_type": "stream",
          "text": [
            "Collecting mglearn\n",
            "  Downloading mglearn-0.1.9.tar.gz (540 kB)\n",
            "Requirement already satisfied: numpy in c:\\users\\naufal\\anaconda3\\envs\\streamlit_envi\\lib\\site-packages (from mglearn) (1.21.5)\n",
            "Requirement already satisfied: matplotlib in c:\\users\\naufal\\anaconda3\\envs\\streamlit_envi\\lib\\site-packages (from mglearn) (3.5.1)\n",
            "Requirement already satisfied: scikit-learn in c:\\users\\naufal\\anaconda3\\envs\\streamlit_envi\\lib\\site-packages (from mglearn) (1.0.2)\n",
            "Requirement already satisfied: pandas in c:\\users\\naufal\\anaconda3\\envs\\streamlit_envi\\lib\\site-packages (from mglearn) (1.4.1)\n",
            "Requirement already satisfied: pillow in c:\\users\\naufal\\anaconda3\\envs\\streamlit_envi\\lib\\site-packages (from mglearn) (9.0.1)\n",
            "Requirement already satisfied: cycler in c:\\users\\naufal\\anaconda3\\envs\\streamlit_envi\\lib\\site-packages (from mglearn) (0.11.0)\n",
            "Collecting imageio\n",
            "  Downloading imageio-2.19.1-py3-none-any.whl (3.4 MB)\n",
            "Requirement already satisfied: joblib in c:\\users\\naufal\\anaconda3\\envs\\streamlit_envi\\lib\\site-packages (from mglearn) (1.1.0)\n",
            "Requirement already satisfied: python-dateutil>=2.7 in c:\\users\\naufal\\anaconda3\\envs\\streamlit_envi\\lib\\site-packages (from matplotlib->mglearn) (2.8.2)\n",
            "Requirement already satisfied: fonttools>=4.22.0 in c:\\users\\naufal\\anaconda3\\envs\\streamlit_envi\\lib\\site-packages (from matplotlib->mglearn) (4.25.0)\n",
            "Requirement already satisfied: packaging>=20.0 in c:\\users\\naufal\\anaconda3\\envs\\streamlit_envi\\lib\\site-packages (from matplotlib->mglearn) (21.3)\n",
            "Requirement already satisfied: kiwisolver>=1.0.1 in c:\\users\\naufal\\anaconda3\\envs\\streamlit_envi\\lib\\site-packages (from matplotlib->mglearn) (1.3.2)\n",
            "Requirement already satisfied: pyparsing>=2.2.1 in c:\\users\\naufal\\anaconda3\\envs\\streamlit_envi\\lib\\site-packages (from matplotlib->mglearn) (3.0.4)\n",
            "Requirement already satisfied: six>=1.5 in c:\\users\\naufal\\anaconda3\\envs\\streamlit_envi\\lib\\site-packages (from python-dateutil>=2.7->matplotlib->mglearn) (1.16.0)\n",
            "Requirement already satisfied: pytz>=2020.1 in c:\\users\\naufal\\anaconda3\\envs\\streamlit_envi\\lib\\site-packages (from pandas->mglearn) (2021.3)\n",
            "Requirement already satisfied: scipy>=1.1.0 in c:\\users\\naufal\\anaconda3\\envs\\streamlit_envi\\lib\\site-packages (from scikit-learn->mglearn) (1.7.3)\n",
            "Requirement already satisfied: threadpoolctl>=2.0.0 in c:\\users\\naufal\\anaconda3\\envs\\streamlit_envi\\lib\\site-packages (from scikit-learn->mglearn) (3.1.0)\n",
            "Building wheels for collected packages: mglearn\n",
            "  Building wheel for mglearn (setup.py): started\n",
            "  Building wheel for mglearn (setup.py): finished with status 'done'\n",
            "  Created wheel for mglearn: filename=mglearn-0.1.9-py2.py3-none-any.whl size=582639 sha256=2ba26bd82d60c1ca67865df5a455bd3a8cd8d1808428ec8de27ce4761a1358a3\n",
            "  Stored in directory: c:\\users\\naufal\\appdata\\local\\pip\\cache\\wheels\\df\\30\\8a\\1e2c8f144c9d411b0688f628d496d2db8f61b6d14bcedaa1df\n",
            "Successfully built mglearn\n",
            "Installing collected packages: imageio, mglearn\n",
            "Successfully installed imageio-2.19.1 mglearn-0.1.9\n"
          ]
        }
      ],
      "source": [
        "# Import Libraries\n",
        "\n",
        "!pip install mglearn\n",
        "import mglearn\n",
        "import pandas as pd\n",
        "import matplotlib.pyplot as plt\n",
        "\n",
        "from sklearn.datasets import load_breast_cancer\n",
        "from sklearn.model_selection import train_test_split\n",
        "from sklearn.pipeline import Pipeline\n",
        "from sklearn.preprocessing import MinMaxScaler\n",
        "from sklearn.svm import SVC"
      ]
    },
    {
      "cell_type": "code",
      "execution_count": 2,
      "metadata": {
        "colab": {
          "base_uri": "https://localhost:8080/",
          "height": 334
        },
        "id": "sJeo0HqzZLI-",
        "outputId": "0f0595d7-01a1-4f21-b845-8aea1641b54e"
      },
      "outputs": [
        {
          "data": {
            "text/html": [
              "<div>\n",
              "<style scoped>\n",
              "    .dataframe tbody tr th:only-of-type {\n",
              "        vertical-align: middle;\n",
              "    }\n",
              "\n",
              "    .dataframe tbody tr th {\n",
              "        vertical-align: top;\n",
              "    }\n",
              "\n",
              "    .dataframe thead th {\n",
              "        text-align: right;\n",
              "    }\n",
              "</style>\n",
              "<table border=\"1\" class=\"dataframe\">\n",
              "  <thead>\n",
              "    <tr style=\"text-align: right;\">\n",
              "      <th></th>\n",
              "      <th>mean radius</th>\n",
              "      <th>mean texture</th>\n",
              "      <th>mean perimeter</th>\n",
              "      <th>mean area</th>\n",
              "      <th>mean smoothness</th>\n",
              "      <th>mean compactness</th>\n",
              "      <th>mean concavity</th>\n",
              "      <th>mean concave points</th>\n",
              "      <th>mean symmetry</th>\n",
              "      <th>mean fractal dimension</th>\n",
              "      <th>...</th>\n",
              "      <th>worst texture</th>\n",
              "      <th>worst perimeter</th>\n",
              "      <th>worst area</th>\n",
              "      <th>worst smoothness</th>\n",
              "      <th>worst compactness</th>\n",
              "      <th>worst concavity</th>\n",
              "      <th>worst concave points</th>\n",
              "      <th>worst symmetry</th>\n",
              "      <th>worst fractal dimension</th>\n",
              "      <th>target</th>\n",
              "    </tr>\n",
              "  </thead>\n",
              "  <tbody>\n",
              "    <tr>\n",
              "      <th>0</th>\n",
              "      <td>17.99</td>\n",
              "      <td>10.38</td>\n",
              "      <td>122.80</td>\n",
              "      <td>1001.0</td>\n",
              "      <td>0.11840</td>\n",
              "      <td>0.27760</td>\n",
              "      <td>0.3001</td>\n",
              "      <td>0.14710</td>\n",
              "      <td>0.2419</td>\n",
              "      <td>0.07871</td>\n",
              "      <td>...</td>\n",
              "      <td>17.33</td>\n",
              "      <td>184.60</td>\n",
              "      <td>2019.0</td>\n",
              "      <td>0.1622</td>\n",
              "      <td>0.6656</td>\n",
              "      <td>0.7119</td>\n",
              "      <td>0.2654</td>\n",
              "      <td>0.4601</td>\n",
              "      <td>0.11890</td>\n",
              "      <td>0</td>\n",
              "    </tr>\n",
              "    <tr>\n",
              "      <th>1</th>\n",
              "      <td>20.57</td>\n",
              "      <td>17.77</td>\n",
              "      <td>132.90</td>\n",
              "      <td>1326.0</td>\n",
              "      <td>0.08474</td>\n",
              "      <td>0.07864</td>\n",
              "      <td>0.0869</td>\n",
              "      <td>0.07017</td>\n",
              "      <td>0.1812</td>\n",
              "      <td>0.05667</td>\n",
              "      <td>...</td>\n",
              "      <td>23.41</td>\n",
              "      <td>158.80</td>\n",
              "      <td>1956.0</td>\n",
              "      <td>0.1238</td>\n",
              "      <td>0.1866</td>\n",
              "      <td>0.2416</td>\n",
              "      <td>0.1860</td>\n",
              "      <td>0.2750</td>\n",
              "      <td>0.08902</td>\n",
              "      <td>0</td>\n",
              "    </tr>\n",
              "    <tr>\n",
              "      <th>2</th>\n",
              "      <td>19.69</td>\n",
              "      <td>21.25</td>\n",
              "      <td>130.00</td>\n",
              "      <td>1203.0</td>\n",
              "      <td>0.10960</td>\n",
              "      <td>0.15990</td>\n",
              "      <td>0.1974</td>\n",
              "      <td>0.12790</td>\n",
              "      <td>0.2069</td>\n",
              "      <td>0.05999</td>\n",
              "      <td>...</td>\n",
              "      <td>25.53</td>\n",
              "      <td>152.50</td>\n",
              "      <td>1709.0</td>\n",
              "      <td>0.1444</td>\n",
              "      <td>0.4245</td>\n",
              "      <td>0.4504</td>\n",
              "      <td>0.2430</td>\n",
              "      <td>0.3613</td>\n",
              "      <td>0.08758</td>\n",
              "      <td>0</td>\n",
              "    </tr>\n",
              "    <tr>\n",
              "      <th>3</th>\n",
              "      <td>11.42</td>\n",
              "      <td>20.38</td>\n",
              "      <td>77.58</td>\n",
              "      <td>386.1</td>\n",
              "      <td>0.14250</td>\n",
              "      <td>0.28390</td>\n",
              "      <td>0.2414</td>\n",
              "      <td>0.10520</td>\n",
              "      <td>0.2597</td>\n",
              "      <td>0.09744</td>\n",
              "      <td>...</td>\n",
              "      <td>26.50</td>\n",
              "      <td>98.87</td>\n",
              "      <td>567.7</td>\n",
              "      <td>0.2098</td>\n",
              "      <td>0.8663</td>\n",
              "      <td>0.6869</td>\n",
              "      <td>0.2575</td>\n",
              "      <td>0.6638</td>\n",
              "      <td>0.17300</td>\n",
              "      <td>0</td>\n",
              "    </tr>\n",
              "    <tr>\n",
              "      <th>4</th>\n",
              "      <td>20.29</td>\n",
              "      <td>14.34</td>\n",
              "      <td>135.10</td>\n",
              "      <td>1297.0</td>\n",
              "      <td>0.10030</td>\n",
              "      <td>0.13280</td>\n",
              "      <td>0.1980</td>\n",
              "      <td>0.10430</td>\n",
              "      <td>0.1809</td>\n",
              "      <td>0.05883</td>\n",
              "      <td>...</td>\n",
              "      <td>16.67</td>\n",
              "      <td>152.20</td>\n",
              "      <td>1575.0</td>\n",
              "      <td>0.1374</td>\n",
              "      <td>0.2050</td>\n",
              "      <td>0.4000</td>\n",
              "      <td>0.1625</td>\n",
              "      <td>0.2364</td>\n",
              "      <td>0.07678</td>\n",
              "      <td>0</td>\n",
              "    </tr>\n",
              "  </tbody>\n",
              "</table>\n",
              "<p>5 rows × 31 columns</p>\n",
              "</div>"
            ],
            "text/plain": [
              "   mean radius  mean texture  mean perimeter  mean area  mean smoothness  \\\n",
              "0        17.99         10.38          122.80     1001.0          0.11840   \n",
              "1        20.57         17.77          132.90     1326.0          0.08474   \n",
              "2        19.69         21.25          130.00     1203.0          0.10960   \n",
              "3        11.42         20.38           77.58      386.1          0.14250   \n",
              "4        20.29         14.34          135.10     1297.0          0.10030   \n",
              "\n",
              "   mean compactness  mean concavity  mean concave points  mean symmetry  \\\n",
              "0           0.27760          0.3001              0.14710         0.2419   \n",
              "1           0.07864          0.0869              0.07017         0.1812   \n",
              "2           0.15990          0.1974              0.12790         0.2069   \n",
              "3           0.28390          0.2414              0.10520         0.2597   \n",
              "4           0.13280          0.1980              0.10430         0.1809   \n",
              "\n",
              "   mean fractal dimension  ...  worst texture  worst perimeter  worst area  \\\n",
              "0                 0.07871  ...          17.33           184.60      2019.0   \n",
              "1                 0.05667  ...          23.41           158.80      1956.0   \n",
              "2                 0.05999  ...          25.53           152.50      1709.0   \n",
              "3                 0.09744  ...          26.50            98.87       567.7   \n",
              "4                 0.05883  ...          16.67           152.20      1575.0   \n",
              "\n",
              "   worst smoothness  worst compactness  worst concavity  worst concave points  \\\n",
              "0            0.1622             0.6656           0.7119                0.2654   \n",
              "1            0.1238             0.1866           0.2416                0.1860   \n",
              "2            0.1444             0.4245           0.4504                0.2430   \n",
              "3            0.2098             0.8663           0.6869                0.2575   \n",
              "4            0.1374             0.2050           0.4000                0.1625   \n",
              "\n",
              "   worst symmetry  worst fractal dimension  target  \n",
              "0          0.4601                  0.11890       0  \n",
              "1          0.2750                  0.08902       0  \n",
              "2          0.3613                  0.08758       0  \n",
              "3          0.6638                  0.17300       0  \n",
              "4          0.2364                  0.07678       0  \n",
              "\n",
              "[5 rows x 31 columns]"
            ]
          },
          "execution_count": 2,
          "metadata": {},
          "output_type": "execute_result"
        }
      ],
      "source": [
        "# Data Loading\n",
        "\n",
        "df = pd.DataFrame(load_breast_cancer().data, columns=load_breast_cancer().feature_names)\n",
        "df['target'] = load_breast_cancer().target\n",
        "df_copy = df.copy()\n",
        "df.head()"
      ]
    },
    {
      "cell_type": "markdown",
      "metadata": {
        "id": "7O3QhHj_avuU"
      },
      "source": [
        "## Data Preprocessing"
      ]
    },
    {
      "cell_type": "code",
      "execution_count": 3,
      "metadata": {
        "colab": {
          "base_uri": "https://localhost:8080/",
          "height": 522
        },
        "id": "44JnFPZ6ZmRh",
        "outputId": "da6264e7-c6dd-4b9a-d5dc-afcbe3d76659"
      },
      "outputs": [
        {
          "data": {
            "text/html": [
              "<div>\n",
              "<style scoped>\n",
              "    .dataframe tbody tr th:only-of-type {\n",
              "        vertical-align: middle;\n",
              "    }\n",
              "\n",
              "    .dataframe tbody tr th {\n",
              "        vertical-align: top;\n",
              "    }\n",
              "\n",
              "    .dataframe thead th {\n",
              "        text-align: right;\n",
              "    }\n",
              "</style>\n",
              "<table border=\"1\" class=\"dataframe\">\n",
              "  <thead>\n",
              "    <tr style=\"text-align: right;\">\n",
              "      <th></th>\n",
              "      <th>mean radius</th>\n",
              "      <th>mean texture</th>\n",
              "      <th>mean perimeter</th>\n",
              "      <th>mean area</th>\n",
              "      <th>mean smoothness</th>\n",
              "      <th>mean compactness</th>\n",
              "      <th>mean concavity</th>\n",
              "      <th>mean concave points</th>\n",
              "      <th>mean symmetry</th>\n",
              "      <th>mean fractal dimension</th>\n",
              "      <th>...</th>\n",
              "      <th>worst radius</th>\n",
              "      <th>worst texture</th>\n",
              "      <th>worst perimeter</th>\n",
              "      <th>worst area</th>\n",
              "      <th>worst smoothness</th>\n",
              "      <th>worst compactness</th>\n",
              "      <th>worst concavity</th>\n",
              "      <th>worst concave points</th>\n",
              "      <th>worst symmetry</th>\n",
              "      <th>worst fractal dimension</th>\n",
              "    </tr>\n",
              "  </thead>\n",
              "  <tbody>\n",
              "    <tr>\n",
              "      <th>0</th>\n",
              "      <td>17.99</td>\n",
              "      <td>10.38</td>\n",
              "      <td>122.80</td>\n",
              "      <td>1001.0</td>\n",
              "      <td>0.11840</td>\n",
              "      <td>0.27760</td>\n",
              "      <td>0.30010</td>\n",
              "      <td>0.14710</td>\n",
              "      <td>0.2419</td>\n",
              "      <td>0.07871</td>\n",
              "      <td>...</td>\n",
              "      <td>25.380</td>\n",
              "      <td>17.33</td>\n",
              "      <td>184.60</td>\n",
              "      <td>2019.0</td>\n",
              "      <td>0.16220</td>\n",
              "      <td>0.66560</td>\n",
              "      <td>0.7119</td>\n",
              "      <td>0.2654</td>\n",
              "      <td>0.4601</td>\n",
              "      <td>0.11890</td>\n",
              "    </tr>\n",
              "    <tr>\n",
              "      <th>1</th>\n",
              "      <td>20.57</td>\n",
              "      <td>17.77</td>\n",
              "      <td>132.90</td>\n",
              "      <td>1326.0</td>\n",
              "      <td>0.08474</td>\n",
              "      <td>0.07864</td>\n",
              "      <td>0.08690</td>\n",
              "      <td>0.07017</td>\n",
              "      <td>0.1812</td>\n",
              "      <td>0.05667</td>\n",
              "      <td>...</td>\n",
              "      <td>24.990</td>\n",
              "      <td>23.41</td>\n",
              "      <td>158.80</td>\n",
              "      <td>1956.0</td>\n",
              "      <td>0.12380</td>\n",
              "      <td>0.18660</td>\n",
              "      <td>0.2416</td>\n",
              "      <td>0.1860</td>\n",
              "      <td>0.2750</td>\n",
              "      <td>0.08902</td>\n",
              "    </tr>\n",
              "    <tr>\n",
              "      <th>2</th>\n",
              "      <td>19.69</td>\n",
              "      <td>21.25</td>\n",
              "      <td>130.00</td>\n",
              "      <td>1203.0</td>\n",
              "      <td>0.10960</td>\n",
              "      <td>0.15990</td>\n",
              "      <td>0.19740</td>\n",
              "      <td>0.12790</td>\n",
              "      <td>0.2069</td>\n",
              "      <td>0.05999</td>\n",
              "      <td>...</td>\n",
              "      <td>23.570</td>\n",
              "      <td>25.53</td>\n",
              "      <td>152.50</td>\n",
              "      <td>1709.0</td>\n",
              "      <td>0.14440</td>\n",
              "      <td>0.42450</td>\n",
              "      <td>0.4504</td>\n",
              "      <td>0.2430</td>\n",
              "      <td>0.3613</td>\n",
              "      <td>0.08758</td>\n",
              "    </tr>\n",
              "    <tr>\n",
              "      <th>3</th>\n",
              "      <td>11.42</td>\n",
              "      <td>20.38</td>\n",
              "      <td>77.58</td>\n",
              "      <td>386.1</td>\n",
              "      <td>0.14250</td>\n",
              "      <td>0.28390</td>\n",
              "      <td>0.24140</td>\n",
              "      <td>0.10520</td>\n",
              "      <td>0.2597</td>\n",
              "      <td>0.09744</td>\n",
              "      <td>...</td>\n",
              "      <td>14.910</td>\n",
              "      <td>26.50</td>\n",
              "      <td>98.87</td>\n",
              "      <td>567.7</td>\n",
              "      <td>0.20980</td>\n",
              "      <td>0.86630</td>\n",
              "      <td>0.6869</td>\n",
              "      <td>0.2575</td>\n",
              "      <td>0.6638</td>\n",
              "      <td>0.17300</td>\n",
              "    </tr>\n",
              "    <tr>\n",
              "      <th>4</th>\n",
              "      <td>20.29</td>\n",
              "      <td>14.34</td>\n",
              "      <td>135.10</td>\n",
              "      <td>1297.0</td>\n",
              "      <td>0.10030</td>\n",
              "      <td>0.13280</td>\n",
              "      <td>0.19800</td>\n",
              "      <td>0.10430</td>\n",
              "      <td>0.1809</td>\n",
              "      <td>0.05883</td>\n",
              "      <td>...</td>\n",
              "      <td>22.540</td>\n",
              "      <td>16.67</td>\n",
              "      <td>152.20</td>\n",
              "      <td>1575.0</td>\n",
              "      <td>0.13740</td>\n",
              "      <td>0.20500</td>\n",
              "      <td>0.4000</td>\n",
              "      <td>0.1625</td>\n",
              "      <td>0.2364</td>\n",
              "      <td>0.07678</td>\n",
              "    </tr>\n",
              "    <tr>\n",
              "      <th>...</th>\n",
              "      <td>...</td>\n",
              "      <td>...</td>\n",
              "      <td>...</td>\n",
              "      <td>...</td>\n",
              "      <td>...</td>\n",
              "      <td>...</td>\n",
              "      <td>...</td>\n",
              "      <td>...</td>\n",
              "      <td>...</td>\n",
              "      <td>...</td>\n",
              "      <td>...</td>\n",
              "      <td>...</td>\n",
              "      <td>...</td>\n",
              "      <td>...</td>\n",
              "      <td>...</td>\n",
              "      <td>...</td>\n",
              "      <td>...</td>\n",
              "      <td>...</td>\n",
              "      <td>...</td>\n",
              "      <td>...</td>\n",
              "      <td>...</td>\n",
              "    </tr>\n",
              "    <tr>\n",
              "      <th>564</th>\n",
              "      <td>21.56</td>\n",
              "      <td>22.39</td>\n",
              "      <td>142.00</td>\n",
              "      <td>1479.0</td>\n",
              "      <td>0.11100</td>\n",
              "      <td>0.11590</td>\n",
              "      <td>0.24390</td>\n",
              "      <td>0.13890</td>\n",
              "      <td>0.1726</td>\n",
              "      <td>0.05623</td>\n",
              "      <td>...</td>\n",
              "      <td>25.450</td>\n",
              "      <td>26.40</td>\n",
              "      <td>166.10</td>\n",
              "      <td>2027.0</td>\n",
              "      <td>0.14100</td>\n",
              "      <td>0.21130</td>\n",
              "      <td>0.4107</td>\n",
              "      <td>0.2216</td>\n",
              "      <td>0.2060</td>\n",
              "      <td>0.07115</td>\n",
              "    </tr>\n",
              "    <tr>\n",
              "      <th>565</th>\n",
              "      <td>20.13</td>\n",
              "      <td>28.25</td>\n",
              "      <td>131.20</td>\n",
              "      <td>1261.0</td>\n",
              "      <td>0.09780</td>\n",
              "      <td>0.10340</td>\n",
              "      <td>0.14400</td>\n",
              "      <td>0.09791</td>\n",
              "      <td>0.1752</td>\n",
              "      <td>0.05533</td>\n",
              "      <td>...</td>\n",
              "      <td>23.690</td>\n",
              "      <td>38.25</td>\n",
              "      <td>155.00</td>\n",
              "      <td>1731.0</td>\n",
              "      <td>0.11660</td>\n",
              "      <td>0.19220</td>\n",
              "      <td>0.3215</td>\n",
              "      <td>0.1628</td>\n",
              "      <td>0.2572</td>\n",
              "      <td>0.06637</td>\n",
              "    </tr>\n",
              "    <tr>\n",
              "      <th>566</th>\n",
              "      <td>16.60</td>\n",
              "      <td>28.08</td>\n",
              "      <td>108.30</td>\n",
              "      <td>858.1</td>\n",
              "      <td>0.08455</td>\n",
              "      <td>0.10230</td>\n",
              "      <td>0.09251</td>\n",
              "      <td>0.05302</td>\n",
              "      <td>0.1590</td>\n",
              "      <td>0.05648</td>\n",
              "      <td>...</td>\n",
              "      <td>18.980</td>\n",
              "      <td>34.12</td>\n",
              "      <td>126.70</td>\n",
              "      <td>1124.0</td>\n",
              "      <td>0.11390</td>\n",
              "      <td>0.30940</td>\n",
              "      <td>0.3403</td>\n",
              "      <td>0.1418</td>\n",
              "      <td>0.2218</td>\n",
              "      <td>0.07820</td>\n",
              "    </tr>\n",
              "    <tr>\n",
              "      <th>567</th>\n",
              "      <td>20.60</td>\n",
              "      <td>29.33</td>\n",
              "      <td>140.10</td>\n",
              "      <td>1265.0</td>\n",
              "      <td>0.11780</td>\n",
              "      <td>0.27700</td>\n",
              "      <td>0.35140</td>\n",
              "      <td>0.15200</td>\n",
              "      <td>0.2397</td>\n",
              "      <td>0.07016</td>\n",
              "      <td>...</td>\n",
              "      <td>25.740</td>\n",
              "      <td>39.42</td>\n",
              "      <td>184.60</td>\n",
              "      <td>1821.0</td>\n",
              "      <td>0.16500</td>\n",
              "      <td>0.86810</td>\n",
              "      <td>0.9387</td>\n",
              "      <td>0.2650</td>\n",
              "      <td>0.4087</td>\n",
              "      <td>0.12400</td>\n",
              "    </tr>\n",
              "    <tr>\n",
              "      <th>568</th>\n",
              "      <td>7.76</td>\n",
              "      <td>24.54</td>\n",
              "      <td>47.92</td>\n",
              "      <td>181.0</td>\n",
              "      <td>0.05263</td>\n",
              "      <td>0.04362</td>\n",
              "      <td>0.00000</td>\n",
              "      <td>0.00000</td>\n",
              "      <td>0.1587</td>\n",
              "      <td>0.05884</td>\n",
              "      <td>...</td>\n",
              "      <td>9.456</td>\n",
              "      <td>30.37</td>\n",
              "      <td>59.16</td>\n",
              "      <td>268.6</td>\n",
              "      <td>0.08996</td>\n",
              "      <td>0.06444</td>\n",
              "      <td>0.0000</td>\n",
              "      <td>0.0000</td>\n",
              "      <td>0.2871</td>\n",
              "      <td>0.07039</td>\n",
              "    </tr>\n",
              "  </tbody>\n",
              "</table>\n",
              "<p>569 rows × 30 columns</p>\n",
              "</div>"
            ],
            "text/plain": [
              "     mean radius  mean texture  mean perimeter  mean area  mean smoothness  \\\n",
              "0          17.99         10.38          122.80     1001.0          0.11840   \n",
              "1          20.57         17.77          132.90     1326.0          0.08474   \n",
              "2          19.69         21.25          130.00     1203.0          0.10960   \n",
              "3          11.42         20.38           77.58      386.1          0.14250   \n",
              "4          20.29         14.34          135.10     1297.0          0.10030   \n",
              "..           ...           ...             ...        ...              ...   \n",
              "564        21.56         22.39          142.00     1479.0          0.11100   \n",
              "565        20.13         28.25          131.20     1261.0          0.09780   \n",
              "566        16.60         28.08          108.30      858.1          0.08455   \n",
              "567        20.60         29.33          140.10     1265.0          0.11780   \n",
              "568         7.76         24.54           47.92      181.0          0.05263   \n",
              "\n",
              "     mean compactness  mean concavity  mean concave points  mean symmetry  \\\n",
              "0             0.27760         0.30010              0.14710         0.2419   \n",
              "1             0.07864         0.08690              0.07017         0.1812   \n",
              "2             0.15990         0.19740              0.12790         0.2069   \n",
              "3             0.28390         0.24140              0.10520         0.2597   \n",
              "4             0.13280         0.19800              0.10430         0.1809   \n",
              "..                ...             ...                  ...            ...   \n",
              "564           0.11590         0.24390              0.13890         0.1726   \n",
              "565           0.10340         0.14400              0.09791         0.1752   \n",
              "566           0.10230         0.09251              0.05302         0.1590   \n",
              "567           0.27700         0.35140              0.15200         0.2397   \n",
              "568           0.04362         0.00000              0.00000         0.1587   \n",
              "\n",
              "     mean fractal dimension  ...  worst radius  worst texture  \\\n",
              "0                   0.07871  ...        25.380          17.33   \n",
              "1                   0.05667  ...        24.990          23.41   \n",
              "2                   0.05999  ...        23.570          25.53   \n",
              "3                   0.09744  ...        14.910          26.50   \n",
              "4                   0.05883  ...        22.540          16.67   \n",
              "..                      ...  ...           ...            ...   \n",
              "564                 0.05623  ...        25.450          26.40   \n",
              "565                 0.05533  ...        23.690          38.25   \n",
              "566                 0.05648  ...        18.980          34.12   \n",
              "567                 0.07016  ...        25.740          39.42   \n",
              "568                 0.05884  ...         9.456          30.37   \n",
              "\n",
              "     worst perimeter  worst area  worst smoothness  worst compactness  \\\n",
              "0             184.60      2019.0           0.16220            0.66560   \n",
              "1             158.80      1956.0           0.12380            0.18660   \n",
              "2             152.50      1709.0           0.14440            0.42450   \n",
              "3              98.87       567.7           0.20980            0.86630   \n",
              "4             152.20      1575.0           0.13740            0.20500   \n",
              "..               ...         ...               ...                ...   \n",
              "564           166.10      2027.0           0.14100            0.21130   \n",
              "565           155.00      1731.0           0.11660            0.19220   \n",
              "566           126.70      1124.0           0.11390            0.30940   \n",
              "567           184.60      1821.0           0.16500            0.86810   \n",
              "568            59.16       268.6           0.08996            0.06444   \n",
              "\n",
              "     worst concavity  worst concave points  worst symmetry  \\\n",
              "0             0.7119                0.2654          0.4601   \n",
              "1             0.2416                0.1860          0.2750   \n",
              "2             0.4504                0.2430          0.3613   \n",
              "3             0.6869                0.2575          0.6638   \n",
              "4             0.4000                0.1625          0.2364   \n",
              "..               ...                   ...             ...   \n",
              "564           0.4107                0.2216          0.2060   \n",
              "565           0.3215                0.1628          0.2572   \n",
              "566           0.3403                0.1418          0.2218   \n",
              "567           0.9387                0.2650          0.4087   \n",
              "568           0.0000                0.0000          0.2871   \n",
              "\n",
              "     worst fractal dimension  \n",
              "0                    0.11890  \n",
              "1                    0.08902  \n",
              "2                    0.08758  \n",
              "3                    0.17300  \n",
              "4                    0.07678  \n",
              "..                       ...  \n",
              "564                  0.07115  \n",
              "565                  0.06637  \n",
              "566                  0.07820  \n",
              "567                  0.12400  \n",
              "568                  0.07039  \n",
              "\n",
              "[569 rows x 30 columns]"
            ]
          },
          "execution_count": 3,
          "metadata": {},
          "output_type": "execute_result"
        }
      ],
      "source": [
        "# Split between `X` and `y`\n",
        "\n",
        "X = df.drop('target', axis=1)\n",
        "y = df['target']\n",
        "X"
      ]
    },
    {
      "cell_type": "code",
      "execution_count": 4,
      "metadata": {
        "id": "CMuccKhdN87l"
      },
      "outputs": [],
      "source": [
        "# Split Dataset into Train-Set and Test-Set\n",
        "\n",
        "X_train, X_test, y_train, y_test = train_test_split(X, y, random_state=0)"
      ]
    },
    {
      "cell_type": "code",
      "execution_count": 5,
      "metadata": {
        "id": "E91Gcf6wZ7MJ"
      },
      "outputs": [],
      "source": [
        "# Feature Scaling using MinMaxScaler\n",
        "\n",
        "scaler = MinMaxScaler()\n",
        "scaler.fit(X_train)\n",
        "\n",
        "X_train_scaled = scaler.transform(X_train)\n",
        "X_test_scaled = scaler.transform(X_test)"
      ]
    },
    {
      "cell_type": "markdown",
      "metadata": {
        "id": "vkez4zfWa4sg"
      },
      "source": [
        "## Model Traning"
      ]
    },
    {
      "cell_type": "code",
      "execution_count": 8,
      "metadata": {
        "colab": {
          "base_uri": "https://localhost:8080/"
        },
        "id": "KfEgmVJkpDTF",
        "outputId": "7d86bd91-5e26-4cc9-a581-de9307a1da8e"
      },
      "outputs": [
        {
          "name": "stdout",
          "output_type": "stream",
          "text": [
            "Train score: 0.98\n",
            "Test score: 0.37\n"
          ]
        },
        {
          "name": "stderr",
          "output_type": "stream",
          "text": [
            "c:\\Users\\Naufal\\anaconda3\\envs\\streamlit_envi\\lib\\site-packages\\sklearn\\base.py:443: UserWarning: X has feature names, but SVC was fitted without feature names\n",
            "  warnings.warn(\n"
          ]
        }
      ],
      "source": [
        "# Model Traning\n",
        "\n",
        "svm = SVC()\n",
        "svm.fit(X_train_scaled, y_train)\n",
        "\n",
        "print(\"Train score: {:.2f}\".format(svm.score(X_train_scaled, y_train)))\n",
        "print(\"Test score: {:.2f}\".format(svm.score(X_test, y_test)))"
      ]
    },
    {
      "cell_type": "code",
      "execution_count": 9,
      "metadata": {
        "colab": {
          "base_uri": "https://localhost:8080/"
        },
        "id": "ABdazRKwbU4b",
        "outputId": "bfc3ec89-c614-470b-83cb-9364cec04de1"
      },
      "outputs": [
        {
          "name": "stdout",
          "output_type": "stream",
          "text": [
            "Train score: 0.98\n",
            "Test score: 0.97\n"
          ]
        }
      ],
      "source": [
        "# Check Accuracy of Test-Set using `X_test_scaled`\n",
        "\n",
        "print(\"Train score: {:.2f}\".format(svm.score(X_train_scaled, y_train)))\n",
        "print(\"Test score: {:.2f}\".format(svm.score(X_test_scaled, y_test)))"
      ]
    },
    {
      "cell_type": "markdown",
      "metadata": {
        "id": "GQZy43dzbym9"
      },
      "source": [
        "---\n",
        "## Review of MinMaxScaler"
      ]
    },
    {
      "cell_type": "markdown",
      "metadata": {
        "id": "1ySEWBUQb3gu"
      },
      "source": [
        "Let's review `MinMaxScaler` before we continue find the mistake."
      ]
    },
    {
      "cell_type": "code",
      "execution_count": 10,
      "metadata": {
        "colab": {
          "base_uri": "https://localhost:8080/"
        },
        "id": "2EqOLEIDTMnw",
        "outputId": "f664686e-6cc2-4677-d0f9-8a7ec5b7c988"
      },
      "outputs": [
        {
          "name": "stdout",
          "output_type": "stream",
          "text": [
            "[[0.   0.  ]\n",
            " [0.25 0.25]\n",
            " [0.5  0.5 ]\n",
            " [1.   1.  ]]\n"
          ]
        }
      ],
      "source": [
        "# Example Min Max\n",
        "\n",
        "example_data = [[-1, 2], [-0.5, 6], [0, 10], [1, 18]]\n",
        "example_scaler = MinMaxScaler().fit(example_data)\n",
        "\n",
        "print(example_scaler.transform(example_data))"
      ]
    },
    {
      "cell_type": "code",
      "execution_count": 11,
      "metadata": {
        "colab": {
          "base_uri": "https://localhost:8080/",
          "height": 522
        },
        "id": "0XB25WNxdXBP",
        "outputId": "bca1f791-abd0-481f-ec94-2ea39385abcd"
      },
      "outputs": [
        {
          "data": {
            "text/html": [
              "<div>\n",
              "<style scoped>\n",
              "    .dataframe tbody tr th:only-of-type {\n",
              "        vertical-align: middle;\n",
              "    }\n",
              "\n",
              "    .dataframe tbody tr th {\n",
              "        vertical-align: top;\n",
              "    }\n",
              "\n",
              "    .dataframe thead th {\n",
              "        text-align: right;\n",
              "    }\n",
              "</style>\n",
              "<table border=\"1\" class=\"dataframe\">\n",
              "  <thead>\n",
              "    <tr style=\"text-align: right;\">\n",
              "      <th></th>\n",
              "      <th>mean radius</th>\n",
              "      <th>mean texture</th>\n",
              "      <th>mean perimeter</th>\n",
              "      <th>mean area</th>\n",
              "      <th>mean smoothness</th>\n",
              "      <th>mean compactness</th>\n",
              "      <th>mean concavity</th>\n",
              "      <th>mean concave points</th>\n",
              "      <th>mean symmetry</th>\n",
              "      <th>mean fractal dimension</th>\n",
              "      <th>...</th>\n",
              "      <th>worst radius</th>\n",
              "      <th>worst texture</th>\n",
              "      <th>worst perimeter</th>\n",
              "      <th>worst area</th>\n",
              "      <th>worst smoothness</th>\n",
              "      <th>worst compactness</th>\n",
              "      <th>worst concavity</th>\n",
              "      <th>worst concave points</th>\n",
              "      <th>worst symmetry</th>\n",
              "      <th>worst fractal dimension</th>\n",
              "    </tr>\n",
              "  </thead>\n",
              "  <tbody>\n",
              "    <tr>\n",
              "      <th>293</th>\n",
              "      <td>11.850</td>\n",
              "      <td>17.46</td>\n",
              "      <td>75.54</td>\n",
              "      <td>432.7</td>\n",
              "      <td>0.08372</td>\n",
              "      <td>0.05642</td>\n",
              "      <td>0.026880</td>\n",
              "      <td>0.022800</td>\n",
              "      <td>0.1875</td>\n",
              "      <td>0.05715</td>\n",
              "      <td>...</td>\n",
              "      <td>13.060</td>\n",
              "      <td>25.75</td>\n",
              "      <td>84.35</td>\n",
              "      <td>517.8</td>\n",
              "      <td>0.13690</td>\n",
              "      <td>0.17580</td>\n",
              "      <td>0.13160</td>\n",
              "      <td>0.09140</td>\n",
              "      <td>0.3101</td>\n",
              "      <td>0.07007</td>\n",
              "    </tr>\n",
              "    <tr>\n",
              "      <th>332</th>\n",
              "      <td>11.220</td>\n",
              "      <td>19.86</td>\n",
              "      <td>71.94</td>\n",
              "      <td>387.3</td>\n",
              "      <td>0.10540</td>\n",
              "      <td>0.06779</td>\n",
              "      <td>0.005006</td>\n",
              "      <td>0.007583</td>\n",
              "      <td>0.1940</td>\n",
              "      <td>0.06028</td>\n",
              "      <td>...</td>\n",
              "      <td>11.980</td>\n",
              "      <td>25.78</td>\n",
              "      <td>76.91</td>\n",
              "      <td>436.1</td>\n",
              "      <td>0.14240</td>\n",
              "      <td>0.09669</td>\n",
              "      <td>0.01335</td>\n",
              "      <td>0.02022</td>\n",
              "      <td>0.3292</td>\n",
              "      <td>0.06522</td>\n",
              "    </tr>\n",
              "    <tr>\n",
              "      <th>565</th>\n",
              "      <td>20.130</td>\n",
              "      <td>28.25</td>\n",
              "      <td>131.20</td>\n",
              "      <td>1261.0</td>\n",
              "      <td>0.09780</td>\n",
              "      <td>0.10340</td>\n",
              "      <td>0.144000</td>\n",
              "      <td>0.097910</td>\n",
              "      <td>0.1752</td>\n",
              "      <td>0.05533</td>\n",
              "      <td>...</td>\n",
              "      <td>23.690</td>\n",
              "      <td>38.25</td>\n",
              "      <td>155.00</td>\n",
              "      <td>1731.0</td>\n",
              "      <td>0.11660</td>\n",
              "      <td>0.19220</td>\n",
              "      <td>0.32150</td>\n",
              "      <td>0.16280</td>\n",
              "      <td>0.2572</td>\n",
              "      <td>0.06637</td>\n",
              "    </tr>\n",
              "    <tr>\n",
              "      <th>278</th>\n",
              "      <td>13.590</td>\n",
              "      <td>17.84</td>\n",
              "      <td>86.24</td>\n",
              "      <td>572.3</td>\n",
              "      <td>0.07948</td>\n",
              "      <td>0.04052</td>\n",
              "      <td>0.019970</td>\n",
              "      <td>0.012380</td>\n",
              "      <td>0.1573</td>\n",
              "      <td>0.05520</td>\n",
              "      <td>...</td>\n",
              "      <td>15.500</td>\n",
              "      <td>26.10</td>\n",
              "      <td>98.91</td>\n",
              "      <td>739.1</td>\n",
              "      <td>0.10500</td>\n",
              "      <td>0.07622</td>\n",
              "      <td>0.10600</td>\n",
              "      <td>0.05185</td>\n",
              "      <td>0.2335</td>\n",
              "      <td>0.06263</td>\n",
              "    </tr>\n",
              "    <tr>\n",
              "      <th>489</th>\n",
              "      <td>16.690</td>\n",
              "      <td>20.20</td>\n",
              "      <td>107.10</td>\n",
              "      <td>857.6</td>\n",
              "      <td>0.07497</td>\n",
              "      <td>0.07112</td>\n",
              "      <td>0.036490</td>\n",
              "      <td>0.023070</td>\n",
              "      <td>0.1846</td>\n",
              "      <td>0.05325</td>\n",
              "      <td>...</td>\n",
              "      <td>19.180</td>\n",
              "      <td>26.56</td>\n",
              "      <td>127.30</td>\n",
              "      <td>1084.0</td>\n",
              "      <td>0.10090</td>\n",
              "      <td>0.29200</td>\n",
              "      <td>0.24770</td>\n",
              "      <td>0.08737</td>\n",
              "      <td>0.4677</td>\n",
              "      <td>0.07623</td>\n",
              "    </tr>\n",
              "    <tr>\n",
              "      <th>...</th>\n",
              "      <td>...</td>\n",
              "      <td>...</td>\n",
              "      <td>...</td>\n",
              "      <td>...</td>\n",
              "      <td>...</td>\n",
              "      <td>...</td>\n",
              "      <td>...</td>\n",
              "      <td>...</td>\n",
              "      <td>...</td>\n",
              "      <td>...</td>\n",
              "      <td>...</td>\n",
              "      <td>...</td>\n",
              "      <td>...</td>\n",
              "      <td>...</td>\n",
              "      <td>...</td>\n",
              "      <td>...</td>\n",
              "      <td>...</td>\n",
              "      <td>...</td>\n",
              "      <td>...</td>\n",
              "      <td>...</td>\n",
              "      <td>...</td>\n",
              "    </tr>\n",
              "    <tr>\n",
              "      <th>277</th>\n",
              "      <td>18.810</td>\n",
              "      <td>19.98</td>\n",
              "      <td>120.90</td>\n",
              "      <td>1102.0</td>\n",
              "      <td>0.08923</td>\n",
              "      <td>0.05884</td>\n",
              "      <td>0.080200</td>\n",
              "      <td>0.058430</td>\n",
              "      <td>0.1550</td>\n",
              "      <td>0.04996</td>\n",
              "      <td>...</td>\n",
              "      <td>19.960</td>\n",
              "      <td>24.30</td>\n",
              "      <td>129.00</td>\n",
              "      <td>1236.0</td>\n",
              "      <td>0.12430</td>\n",
              "      <td>0.11600</td>\n",
              "      <td>0.22100</td>\n",
              "      <td>0.12940</td>\n",
              "      <td>0.2567</td>\n",
              "      <td>0.05737</td>\n",
              "    </tr>\n",
              "    <tr>\n",
              "      <th>9</th>\n",
              "      <td>12.460</td>\n",
              "      <td>24.04</td>\n",
              "      <td>83.97</td>\n",
              "      <td>475.9</td>\n",
              "      <td>0.11860</td>\n",
              "      <td>0.23960</td>\n",
              "      <td>0.227300</td>\n",
              "      <td>0.085430</td>\n",
              "      <td>0.2030</td>\n",
              "      <td>0.08243</td>\n",
              "      <td>...</td>\n",
              "      <td>15.090</td>\n",
              "      <td>40.68</td>\n",
              "      <td>97.65</td>\n",
              "      <td>711.4</td>\n",
              "      <td>0.18530</td>\n",
              "      <td>1.05800</td>\n",
              "      <td>1.10500</td>\n",
              "      <td>0.22100</td>\n",
              "      <td>0.4366</td>\n",
              "      <td>0.20750</td>\n",
              "    </tr>\n",
              "    <tr>\n",
              "      <th>359</th>\n",
              "      <td>9.436</td>\n",
              "      <td>18.32</td>\n",
              "      <td>59.82</td>\n",
              "      <td>278.6</td>\n",
              "      <td>0.10090</td>\n",
              "      <td>0.05956</td>\n",
              "      <td>0.027100</td>\n",
              "      <td>0.014060</td>\n",
              "      <td>0.1506</td>\n",
              "      <td>0.06959</td>\n",
              "      <td>...</td>\n",
              "      <td>12.020</td>\n",
              "      <td>25.02</td>\n",
              "      <td>75.79</td>\n",
              "      <td>439.6</td>\n",
              "      <td>0.13330</td>\n",
              "      <td>0.10490</td>\n",
              "      <td>0.11440</td>\n",
              "      <td>0.05052</td>\n",
              "      <td>0.2454</td>\n",
              "      <td>0.08136</td>\n",
              "    </tr>\n",
              "    <tr>\n",
              "      <th>192</th>\n",
              "      <td>9.720</td>\n",
              "      <td>18.22</td>\n",
              "      <td>60.73</td>\n",
              "      <td>288.1</td>\n",
              "      <td>0.06950</td>\n",
              "      <td>0.02344</td>\n",
              "      <td>0.000000</td>\n",
              "      <td>0.000000</td>\n",
              "      <td>0.1653</td>\n",
              "      <td>0.06447</td>\n",
              "      <td>...</td>\n",
              "      <td>9.968</td>\n",
              "      <td>20.83</td>\n",
              "      <td>62.25</td>\n",
              "      <td>303.8</td>\n",
              "      <td>0.07117</td>\n",
              "      <td>0.02729</td>\n",
              "      <td>0.00000</td>\n",
              "      <td>0.00000</td>\n",
              "      <td>0.1909</td>\n",
              "      <td>0.06559</td>\n",
              "    </tr>\n",
              "    <tr>\n",
              "      <th>559</th>\n",
              "      <td>11.510</td>\n",
              "      <td>23.93</td>\n",
              "      <td>74.52</td>\n",
              "      <td>403.5</td>\n",
              "      <td>0.09261</td>\n",
              "      <td>0.10210</td>\n",
              "      <td>0.111200</td>\n",
              "      <td>0.041050</td>\n",
              "      <td>0.1388</td>\n",
              "      <td>0.06570</td>\n",
              "      <td>...</td>\n",
              "      <td>12.480</td>\n",
              "      <td>37.16</td>\n",
              "      <td>82.28</td>\n",
              "      <td>474.2</td>\n",
              "      <td>0.12980</td>\n",
              "      <td>0.25170</td>\n",
              "      <td>0.36300</td>\n",
              "      <td>0.09653</td>\n",
              "      <td>0.2112</td>\n",
              "      <td>0.08732</td>\n",
              "    </tr>\n",
              "  </tbody>\n",
              "</table>\n",
              "<p>426 rows × 30 columns</p>\n",
              "</div>"
            ],
            "text/plain": [
              "     mean radius  mean texture  mean perimeter  mean area  mean smoothness  \\\n",
              "293       11.850         17.46           75.54      432.7          0.08372   \n",
              "332       11.220         19.86           71.94      387.3          0.10540   \n",
              "565       20.130         28.25          131.20     1261.0          0.09780   \n",
              "278       13.590         17.84           86.24      572.3          0.07948   \n",
              "489       16.690         20.20          107.10      857.6          0.07497   \n",
              "..           ...           ...             ...        ...              ...   \n",
              "277       18.810         19.98          120.90     1102.0          0.08923   \n",
              "9         12.460         24.04           83.97      475.9          0.11860   \n",
              "359        9.436         18.32           59.82      278.6          0.10090   \n",
              "192        9.720         18.22           60.73      288.1          0.06950   \n",
              "559       11.510         23.93           74.52      403.5          0.09261   \n",
              "\n",
              "     mean compactness  mean concavity  mean concave points  mean symmetry  \\\n",
              "293           0.05642        0.026880             0.022800         0.1875   \n",
              "332           0.06779        0.005006             0.007583         0.1940   \n",
              "565           0.10340        0.144000             0.097910         0.1752   \n",
              "278           0.04052        0.019970             0.012380         0.1573   \n",
              "489           0.07112        0.036490             0.023070         0.1846   \n",
              "..                ...             ...                  ...            ...   \n",
              "277           0.05884        0.080200             0.058430         0.1550   \n",
              "9             0.23960        0.227300             0.085430         0.2030   \n",
              "359           0.05956        0.027100             0.014060         0.1506   \n",
              "192           0.02344        0.000000             0.000000         0.1653   \n",
              "559           0.10210        0.111200             0.041050         0.1388   \n",
              "\n",
              "     mean fractal dimension  ...  worst radius  worst texture  \\\n",
              "293                 0.05715  ...        13.060          25.75   \n",
              "332                 0.06028  ...        11.980          25.78   \n",
              "565                 0.05533  ...        23.690          38.25   \n",
              "278                 0.05520  ...        15.500          26.10   \n",
              "489                 0.05325  ...        19.180          26.56   \n",
              "..                      ...  ...           ...            ...   \n",
              "277                 0.04996  ...        19.960          24.30   \n",
              "9                   0.08243  ...        15.090          40.68   \n",
              "359                 0.06959  ...        12.020          25.02   \n",
              "192                 0.06447  ...         9.968          20.83   \n",
              "559                 0.06570  ...        12.480          37.16   \n",
              "\n",
              "     worst perimeter  worst area  worst smoothness  worst compactness  \\\n",
              "293            84.35       517.8           0.13690            0.17580   \n",
              "332            76.91       436.1           0.14240            0.09669   \n",
              "565           155.00      1731.0           0.11660            0.19220   \n",
              "278            98.91       739.1           0.10500            0.07622   \n",
              "489           127.30      1084.0           0.10090            0.29200   \n",
              "..               ...         ...               ...                ...   \n",
              "277           129.00      1236.0           0.12430            0.11600   \n",
              "9              97.65       711.4           0.18530            1.05800   \n",
              "359            75.79       439.6           0.13330            0.10490   \n",
              "192            62.25       303.8           0.07117            0.02729   \n",
              "559            82.28       474.2           0.12980            0.25170   \n",
              "\n",
              "     worst concavity  worst concave points  worst symmetry  \\\n",
              "293          0.13160               0.09140          0.3101   \n",
              "332          0.01335               0.02022          0.3292   \n",
              "565          0.32150               0.16280          0.2572   \n",
              "278          0.10600               0.05185          0.2335   \n",
              "489          0.24770               0.08737          0.4677   \n",
              "..               ...                   ...             ...   \n",
              "277          0.22100               0.12940          0.2567   \n",
              "9            1.10500               0.22100          0.4366   \n",
              "359          0.11440               0.05052          0.2454   \n",
              "192          0.00000               0.00000          0.1909   \n",
              "559          0.36300               0.09653          0.2112   \n",
              "\n",
              "     worst fractal dimension  \n",
              "293                  0.07007  \n",
              "332                  0.06522  \n",
              "565                  0.06637  \n",
              "278                  0.06263  \n",
              "489                  0.07623  \n",
              "..                       ...  \n",
              "277                  0.05737  \n",
              "9                    0.20750  \n",
              "359                  0.08136  \n",
              "192                  0.06559  \n",
              "559                  0.08732  \n",
              "\n",
              "[426 rows x 30 columns]"
            ]
          },
          "execution_count": 11,
          "metadata": {},
          "output_type": "execute_result"
        }
      ],
      "source": [
        "# Display `X_train`\n",
        "\n",
        "X_train"
      ]
    },
    {
      "cell_type": "code",
      "execution_count": 12,
      "metadata": {
        "colab": {
          "base_uri": "https://localhost:8080/",
          "height": 334
        },
        "id": "T7QJBrRmc4uO",
        "outputId": "2b42b6dd-eb1f-4e7d-f24f-4a93254585cf"
      },
      "outputs": [
        {
          "data": {
            "text/html": [
              "<div>\n",
              "<style scoped>\n",
              "    .dataframe tbody tr th:only-of-type {\n",
              "        vertical-align: middle;\n",
              "    }\n",
              "\n",
              "    .dataframe tbody tr th {\n",
              "        vertical-align: top;\n",
              "    }\n",
              "\n",
              "    .dataframe thead th {\n",
              "        text-align: right;\n",
              "    }\n",
              "</style>\n",
              "<table border=\"1\" class=\"dataframe\">\n",
              "  <thead>\n",
              "    <tr style=\"text-align: right;\">\n",
              "      <th></th>\n",
              "      <th>mean radius</th>\n",
              "      <th>mean texture</th>\n",
              "      <th>mean perimeter</th>\n",
              "      <th>mean area</th>\n",
              "      <th>mean smoothness</th>\n",
              "      <th>mean compactness</th>\n",
              "      <th>mean concavity</th>\n",
              "      <th>mean concave points</th>\n",
              "      <th>mean symmetry</th>\n",
              "      <th>mean fractal dimension</th>\n",
              "      <th>...</th>\n",
              "      <th>worst radius</th>\n",
              "      <th>worst texture</th>\n",
              "      <th>worst perimeter</th>\n",
              "      <th>worst area</th>\n",
              "      <th>worst smoothness</th>\n",
              "      <th>worst compactness</th>\n",
              "      <th>worst concavity</th>\n",
              "      <th>worst concave points</th>\n",
              "      <th>worst symmetry</th>\n",
              "      <th>worst fractal dimension</th>\n",
              "    </tr>\n",
              "  </thead>\n",
              "  <tbody>\n",
              "    <tr>\n",
              "      <th>0</th>\n",
              "      <td>0.230442</td>\n",
              "      <td>0.321577</td>\n",
              "      <td>0.219404</td>\n",
              "      <td>0.122672</td>\n",
              "      <td>0.337678</td>\n",
              "      <td>0.126841</td>\n",
              "      <td>0.062980</td>\n",
              "      <td>0.113320</td>\n",
              "      <td>0.411616</td>\n",
              "      <td>0.151432</td>\n",
              "      <td>...</td>\n",
              "      <td>0.182497</td>\n",
              "      <td>0.365938</td>\n",
              "      <td>0.169032</td>\n",
              "      <td>0.081744</td>\n",
              "      <td>0.434062</td>\n",
              "      <td>0.144085</td>\n",
              "      <td>0.105112</td>\n",
              "      <td>0.314847</td>\n",
              "      <td>0.302779</td>\n",
              "      <td>0.098583</td>\n",
              "    </tr>\n",
              "    <tr>\n",
              "      <th>1</th>\n",
              "      <td>0.200625</td>\n",
              "      <td>0.421162</td>\n",
              "      <td>0.194527</td>\n",
              "      <td>0.103415</td>\n",
              "      <td>0.573151</td>\n",
              "      <td>0.165776</td>\n",
              "      <td>0.011729</td>\n",
              "      <td>0.037689</td>\n",
              "      <td>0.444444</td>\n",
              "      <td>0.217355</td>\n",
              "      <td>...</td>\n",
              "      <td>0.144077</td>\n",
              "      <td>0.366738</td>\n",
              "      <td>0.131979</td>\n",
              "      <td>0.061664</td>\n",
              "      <td>0.470382</td>\n",
              "      <td>0.067332</td>\n",
              "      <td>0.010663</td>\n",
              "      <td>0.069652</td>\n",
              "      <td>0.340430</td>\n",
              "      <td>0.066772</td>\n",
              "    </tr>\n",
              "    <tr>\n",
              "      <th>2</th>\n",
              "      <td>0.622320</td>\n",
              "      <td>0.769295</td>\n",
              "      <td>0.604036</td>\n",
              "      <td>0.474019</td>\n",
              "      <td>0.490605</td>\n",
              "      <td>0.287720</td>\n",
              "      <td>0.337395</td>\n",
              "      <td>0.486630</td>\n",
              "      <td>0.349495</td>\n",
              "      <td>0.113100</td>\n",
              "      <td>...</td>\n",
              "      <td>0.560655</td>\n",
              "      <td>0.699094</td>\n",
              "      <td>0.520892</td>\n",
              "      <td>0.379915</td>\n",
              "      <td>0.300007</td>\n",
              "      <td>0.159997</td>\n",
              "      <td>0.256789</td>\n",
              "      <td>0.560799</td>\n",
              "      <td>0.198502</td>\n",
              "      <td>0.074315</td>\n",
              "    </tr>\n",
              "    <tr>\n",
              "      <th>3</th>\n",
              "      <td>0.312793</td>\n",
              "      <td>0.337344</td>\n",
              "      <td>0.293345</td>\n",
              "      <td>0.181888</td>\n",
              "      <td>0.291626</td>\n",
              "      <td>0.072392</td>\n",
              "      <td>0.046790</td>\n",
              "      <td>0.061531</td>\n",
              "      <td>0.259091</td>\n",
              "      <td>0.110362</td>\n",
              "      <td>...</td>\n",
              "      <td>0.269299</td>\n",
              "      <td>0.375267</td>\n",
              "      <td>0.241546</td>\n",
              "      <td>0.136134</td>\n",
              "      <td>0.223404</td>\n",
              "      <td>0.047472</td>\n",
              "      <td>0.084665</td>\n",
              "      <td>0.178608</td>\n",
              "      <td>0.151784</td>\n",
              "      <td>0.049784</td>\n",
              "    </tr>\n",
              "    <tr>\n",
              "      <th>4</th>\n",
              "      <td>0.459511</td>\n",
              "      <td>0.435270</td>\n",
              "      <td>0.437496</td>\n",
              "      <td>0.302906</td>\n",
              "      <td>0.242641</td>\n",
              "      <td>0.177180</td>\n",
              "      <td>0.085497</td>\n",
              "      <td>0.114662</td>\n",
              "      <td>0.396970</td>\n",
              "      <td>0.069292</td>\n",
              "      <td>...</td>\n",
              "      <td>0.400213</td>\n",
              "      <td>0.387527</td>\n",
              "      <td>0.382937</td>\n",
              "      <td>0.220901</td>\n",
              "      <td>0.196328</td>\n",
              "      <td>0.256823</td>\n",
              "      <td>0.197843</td>\n",
              "      <td>0.300965</td>\n",
              "      <td>0.613444</td>\n",
              "      <td>0.138987</td>\n",
              "    </tr>\n",
              "  </tbody>\n",
              "</table>\n",
              "<p>5 rows × 30 columns</p>\n",
              "</div>"
            ],
            "text/plain": [
              "   mean radius  mean texture  mean perimeter  mean area  mean smoothness  \\\n",
              "0     0.230442      0.321577        0.219404   0.122672         0.337678   \n",
              "1     0.200625      0.421162        0.194527   0.103415         0.573151   \n",
              "2     0.622320      0.769295        0.604036   0.474019         0.490605   \n",
              "3     0.312793      0.337344        0.293345   0.181888         0.291626   \n",
              "4     0.459511      0.435270        0.437496   0.302906         0.242641   \n",
              "\n",
              "   mean compactness  mean concavity  mean concave points  mean symmetry  \\\n",
              "0          0.126841        0.062980             0.113320       0.411616   \n",
              "1          0.165776        0.011729             0.037689       0.444444   \n",
              "2          0.287720        0.337395             0.486630       0.349495   \n",
              "3          0.072392        0.046790             0.061531       0.259091   \n",
              "4          0.177180        0.085497             0.114662       0.396970   \n",
              "\n",
              "   mean fractal dimension  ...  worst radius  worst texture  worst perimeter  \\\n",
              "0                0.151432  ...      0.182497       0.365938         0.169032   \n",
              "1                0.217355  ...      0.144077       0.366738         0.131979   \n",
              "2                0.113100  ...      0.560655       0.699094         0.520892   \n",
              "3                0.110362  ...      0.269299       0.375267         0.241546   \n",
              "4                0.069292  ...      0.400213       0.387527         0.382937   \n",
              "\n",
              "   worst area  worst smoothness  worst compactness  worst concavity  \\\n",
              "0    0.081744          0.434062           0.144085         0.105112   \n",
              "1    0.061664          0.470382           0.067332         0.010663   \n",
              "2    0.379915          0.300007           0.159997         0.256789   \n",
              "3    0.136134          0.223404           0.047472         0.084665   \n",
              "4    0.220901          0.196328           0.256823         0.197843   \n",
              "\n",
              "   worst concave points  worst symmetry  worst fractal dimension  \n",
              "0              0.314847        0.302779                 0.098583  \n",
              "1              0.069652        0.340430                 0.066772  \n",
              "2              0.560799        0.198502                 0.074315  \n",
              "3              0.178608        0.151784                 0.049784  \n",
              "4              0.300965        0.613444                 0.138987  \n",
              "\n",
              "[5 rows x 30 columns]"
            ]
          },
          "execution_count": 12,
          "metadata": {},
          "output_type": "execute_result"
        }
      ],
      "source": [
        "# Display `X_train_scaled` from MinMaxScaler\n",
        "\n",
        "X_train_scaled = pd.DataFrame(X_train_scaled, columns=X_train.columns.tolist())\n",
        "X_train_scaled.head()"
      ]
    },
    {
      "cell_type": "code",
      "execution_count": 13,
      "metadata": {
        "colab": {
          "base_uri": "https://localhost:8080/",
          "height": 517
        },
        "id": "j3kO9ykGP6j6",
        "outputId": "3c3f4d25-682a-4e0e-8f7e-260f3bed68f6"
      },
      "outputs": [
        {
          "data": {
            "text/plain": [
              "[Text(0.5, 1.0, 'After MaxMinScaler, Mean Radius'), Text(0, 0.5, 'Frequency')]"
            ]
          },
          "execution_count": 13,
          "metadata": {},
          "output_type": "execute_result"
        },
        {
          "data": {
            "image/png": "[encoded data removed]",
            "text/plain": [
              "<Figure size 1152x576 with 2 Axes>"
            ]
          },
          "metadata": {
            "needs_background": "light"
          },
          "output_type": "display_data"
        }
      ],
      "source": [
        "# Compare Before and After MinMaxScaler\n",
        "\n",
        "x1 = X_train['mean radius'].tolist()\n",
        "x2 = X_train_scaled['mean radius'].tolist()\n",
        "\n",
        "kwargs = dict(alpha=0.5, bins=100)\n",
        "\n",
        "plt.figure(figsize=(16, 8)) \n",
        "plt.subplot(1,2,1)\n",
        "plt.hist(x1, **kwargs, color='g', label='old')\n",
        "plt.gca().set(title='Before MaxMinScaler, Mean Radius', ylabel='Frequency')\n",
        "plt.subplot(1,2,2)\n",
        "plt.hist(x2, **kwargs, color='b', label='new')\n",
        "plt.gca().set(title='After MaxMinScaler, Mean Radius', ylabel='Frequency')"
      ]
    },
    {
      "cell_type": "markdown",
      "metadata": {
        "id": "mEHszsbNpDTH"
      },
      "source": [
        "### Parameter Selection with Preprocessing "
      ]
    },
    {
      "cell_type": "code",
      "execution_count": 14,
      "metadata": {
        "colab": {
          "base_uri": "https://localhost:8080/"
        },
        "id": "bOYhKuSTpDTH",
        "outputId": "e53575c1-8f5a-4303-c51f-3c29ff1dd41b"
      },
      "outputs": [
        {
          "name": "stdout",
          "output_type": "stream",
          "text": [
            "Best cross-validation accuracy: 0.98\n",
            "Best parameters:  {'C': 1, 'gamma': 1}\n",
            "Test set accuracy: 0.97\n",
            "CPU times: total: 1.52 s\n",
            "Wall time: 1.54 s\n"
          ]
        },
        {
          "name": "stderr",
          "output_type": "stream",
          "text": [
            "c:\\Users\\Naufal\\anaconda3\\envs\\streamlit_envi\\lib\\site-packages\\sklearn\\base.py:450: UserWarning: X does not have valid feature names, but SVC was fitted with feature names\n",
            "  warnings.warn(\n"
          ]
        }
      ],
      "source": [
        "%%time\n",
        "from sklearn.model_selection import GridSearchCV\n",
        "# for illustration purposes only, don't use this code!\n",
        "param_grid = {'C': [0.001, 0.01, 0.1, 1, 10, 100],\n",
        "              'gamma': [0.001, 0.01, 0.1, 1, 10, 100]}\n",
        "grid = GridSearchCV(SVC(), param_grid=param_grid, cv=5)\n",
        "grid.fit(X_train_scaled, y_train)\n",
        "print(\"Best cross-validation accuracy: {:.2f}\".format(grid.best_score_))\n",
        "print(\"Best parameters: \", grid.best_params_)\n",
        "print(\"Test set accuracy: {:.2f}\".format(grid.score(X_test_scaled, y_test)))"
      ]
    },
    {
      "cell_type": "code",
      "execution_count": 15,
      "metadata": {
        "colab": {
          "base_uri": "https://localhost:8080/",
          "height": 602
        },
        "hide_input": false,
        "id": "HWqNLfdJpDTI",
        "outputId": "5e02fb72-64fd-4b57-a042-bc1a2a27fd2f"
      },
      "outputs": [
        {
          "data": {
            "image/png": "[encoded data removed]",
            "text/plain": [
              "<Figure size 1080x720 with 2 Axes>"
            ]
          },
          "metadata": {},
          "output_type": "display_data"
        }
      ],
      "source": [
        "mglearn.plots.plot_improper_processing()"
      ]
    },
    {
      "cell_type": "markdown",
      "metadata": {
        "id": "qahzRVUvpDTJ"
      },
      "source": [
        "### Building Pipelines"
      ]
    },
    {
      "cell_type": "code",
      "execution_count": 16,
      "metadata": {
        "id": "qrgJ8EompDTK"
      },
      "outputs": [],
      "source": [
        "from sklearn.pipeline import Pipeline\n",
        "scaler = MinMaxScaler()\n",
        "clf = SVC()\n",
        "pipe = Pipeline([(\"scaler\", scaler), (\"svm\", clf)])"
      ]
    },
    {
      "cell_type": "code",
      "execution_count": null,
      "metadata": {
        "id": "URF8uPaPqomZ"
      },
      "outputs": [],
      "source": [
        "# pipe = Pipeline([(\"scaler\", MinMaxScaler()), (\"svm\", SVC())])"
      ]
    },
    {
      "cell_type": "code",
      "execution_count": 17,
      "metadata": {
        "colab": {
          "base_uri": "https://localhost:8080/"
        },
        "id": "x8J-H1hHpDTL",
        "outputId": "9ad2d139-a6ac-4503-809a-302abf7ed898"
      },
      "outputs": [
        {
          "data": {
            "text/plain": [
              "Pipeline(steps=[('scaler', MinMaxScaler()), ('svm', SVC())])"
            ]
          },
          "execution_count": 17,
          "metadata": {},
          "output_type": "execute_result"
        }
      ],
      "source": [
        "pipe.fit(X_train, y_train)"
      ]
    },
    {
      "cell_type": "code",
      "execution_count": 18,
      "metadata": {
        "colab": {
          "base_uri": "https://localhost:8080/"
        },
        "id": "hF6KTjBYpDTL",
        "outputId": "252b3510-1fb1-4989-dfb4-d939951df637"
      },
      "outputs": [
        {
          "name": "stdout",
          "output_type": "stream",
          "text": [
            "Test score: 0.97\n"
          ]
        }
      ],
      "source": [
        "print(\"Test score: {:.2f}\".format(pipe.score(X_test, y_test)))"
      ]
    },
    {
      "cell_type": "code",
      "execution_count": 19,
      "metadata": {
        "colab": {
          "base_uri": "https://localhost:8080/"
        },
        "id": "2AjdPTzPBDDH",
        "outputId": "f0f3833b-f002-4181-c38e-47c26b332a13"
      },
      "outputs": [
        {
          "name": "stdout",
          "output_type": "stream",
          "text": [
            "              precision    recall  f1-score   support\n",
            "\n",
            "           0       0.98      0.94      0.96        53\n",
            "           1       0.97      0.99      0.98        90\n",
            "\n",
            "    accuracy                           0.97       143\n",
            "   macro avg       0.97      0.97      0.97       143\n",
            "weighted avg       0.97      0.97      0.97       143\n",
            "\n"
          ]
        }
      ],
      "source": [
        "from sklearn.metrics import accuracy_score, classification_report\n",
        "y_pred = pipe.predict(X_test)\n",
        "print(classification_report(y_test, y_pred))"
      ]
    },
    {
      "cell_type": "markdown",
      "metadata": {
        "id": "hhGyJemopDTM"
      },
      "source": [
        "### Using Pipelines in Grid-searches"
      ]
    },
    {
      "cell_type": "code",
      "execution_count": 20,
      "metadata": {
        "colab": {
          "base_uri": "https://localhost:8080/"
        },
        "id": "AuaEdyEapDTN",
        "outputId": "99d32f70-9d1a-41bb-fb84-3f274c3c4f63"
      },
      "outputs": [
        {
          "name": "stdout",
          "output_type": "stream",
          "text": [
            "Best cross-validation accuracy: 0.98\n",
            "Test set score: 0.97\n",
            "Best parameters: {'clf__C': 1, 'clf__gamma': 1}\n"
          ]
        }
      ],
      "source": [
        "pipe = Pipeline([(\"scaler\", MinMaxScaler()), (\"clf\", SVC())])\n",
        "\n",
        "param_grid = {'clf__C': [0.001, 0.01, 0.1, 1, 10, 100],\n",
        "              'clf__gamma': [0.001, 0.01, 0.1, 1, 10, 100]}\n",
        "\n",
        "grid = GridSearchCV(pipe, param_grid=param_grid, cv=5)\n",
        "grid.fit(X_train, y_train)\n",
        "print(\"Best cross-validation accuracy: {:.2f}\".format(grid.best_score_))\n",
        "print(\"Test set score: {:.2f}\".format(grid.score(X_test, y_test)))\n",
        "print(\"Best parameters: {}\".format(grid.best_params_))"
      ]
    },
    {
      "cell_type": "code",
      "execution_count": 21,
      "metadata": {
        "colab": {
          "base_uri": "https://localhost:8080/",
          "height": 493
        },
        "hide_input": false,
        "id": "YAsIetJ3pDTQ",
        "outputId": "f0683104-e59f-4da8-ef2e-e794876293d7"
      },
      "outputs": [
        {
          "data": {
            "image/png": "[encoded data removed]",
            "text/plain": [
              "<Figure size 1080x576 with 2 Axes>"
            ]
          },
          "metadata": {},
          "output_type": "display_data"
        }
      ],
      "source": [
        "mglearn.plots.plot_proper_processing()"
      ]
    },
    {
      "cell_type": "markdown",
      "metadata": {
        "id": "NrPtQHNNpDTS"
      },
      "source": [
        "### The General Pipeline Interface"
      ]
    },
    {
      "cell_type": "code",
      "execution_count": 22,
      "metadata": {
        "id": "Le3eg31BpDTS"
      },
      "outputs": [],
      "source": [
        "def fit(self, X, y):\n",
        "    X_transformed = X\n",
        "    for name, estimator in self.steps[:-1]:\n",
        "        # iterate over all but the final step\n",
        "        # fit and transform the data\n",
        "        X_transformed = estimator.fit_transform(X_transformed, y)\n",
        "    # fit the last step\n",
        "    self.steps[-1][1].fit(X_transformed, y)\n",
        "    return self"
      ]
    },
    {
      "cell_type": "code",
      "execution_count": 23,
      "metadata": {
        "id": "RiunSz53pDTT"
      },
      "outputs": [],
      "source": [
        "def predict(self, X):\n",
        "    X_transformed = X\n",
        "    for step in self.steps[:-1]:\n",
        "        # iterate over all but the final step\n",
        "        # transform the data\n",
        "        X_transformed = step[1].transform(X_transformed)\n",
        "    # predict using the last step\n",
        "    return self.steps[-1][1].predict(X_transformed)"
      ]
    },
    {
      "cell_type": "markdown",
      "metadata": {
        "id": "SDJ3Kg7PpDTT"
      },
      "source": [
        "### Convenient Pipeline creation with ``make_pipeline``"
      ]
    },
    {
      "cell_type": "code",
      "execution_count": 24,
      "metadata": {
        "colab": {
          "base_uri": "https://localhost:8080/"
        },
        "id": "4qRRhxRSpDTT",
        "outputId": "44631896-df59-404c-b4e5-6929eb6d9dfc"
      },
      "outputs": [
        {
          "data": {
            "text/plain": [
              "[('scaler', MinMaxScaler()), ('svm', SVC(C=100))]"
            ]
          },
          "execution_count": 24,
          "metadata": {},
          "output_type": "execute_result"
        }
      ],
      "source": [
        "from sklearn.pipeline import Pipeline, make_pipeline\n",
        "# standard syntax\n",
        "pipe_long = Pipeline([(\"scaler\", MinMaxScaler()), (\"svm\", SVC(C=100))])\n",
        "pipe_long.steps"
      ]
    },
    {
      "cell_type": "code",
      "execution_count": 25,
      "metadata": {
        "colab": {
          "base_uri": "https://localhost:8080/"
        },
        "id": "Z8yIZr1tpDTU",
        "outputId": "7821bb04-7ab1-49b0-9b20-9ac71dd94007"
      },
      "outputs": [
        {
          "name": "stdout",
          "output_type": "stream",
          "text": [
            "Pipeline steps:\n",
            "[('minmaxscaler', MinMaxScaler()), ('svc', SVC(C=100))]\n"
          ]
        }
      ],
      "source": [
        "# abbreviated syntax\n",
        "pipe_short = make_pipeline(MinMaxScaler(), SVC(C=100))\n",
        "print(\"Pipeline steps:\\n{}\".format(pipe_short.steps))"
      ]
    },
    {
      "cell_type": "code",
      "execution_count": 26,
      "metadata": {
        "colab": {
          "base_uri": "https://localhost:8080/"
        },
        "id": "YNQUJ4uQpDTU",
        "outputId": "017f6ba4-c99f-41f0-e25d-239a5a0668a7"
      },
      "outputs": [
        {
          "name": "stdout",
          "output_type": "stream",
          "text": [
            "Pipeline steps:\n",
            "[('standardscaler-1', StandardScaler()), ('pca', PCA(n_components=2)), ('standardscaler-2', StandardScaler())]\n"
          ]
        }
      ],
      "source": [
        "# example if multiple steps have the same class\n",
        "from sklearn.preprocessing import StandardScaler\n",
        "from sklearn.decomposition import PCA\n",
        "\n",
        "pipe = make_pipeline(StandardScaler(), PCA(n_components=2), StandardScaler())\n",
        "print(\"Pipeline steps:\\n{}\".format(pipe.steps))"
      ]
    },
    {
      "cell_type": "markdown",
      "metadata": {
        "id": "eIrKLpcZpDTV"
      },
      "source": [
        "#### Accessing Attributes in a Pipeline inside GridSearchCV"
      ]
    },
    {
      "cell_type": "code",
      "execution_count": 27,
      "metadata": {
        "colab": {
          "base_uri": "https://localhost:8080/"
        },
        "id": "0_j5QtFPpDTV",
        "outputId": "b6975c60-1597-4374-c693-4f3f31becc2e"
      },
      "outputs": [
        {
          "data": {
            "text/plain": [
              "[('standardscaler', StandardScaler()),\n",
              " ('logisticregression', LogisticRegression(max_iter=1000))]"
            ]
          },
          "execution_count": 27,
          "metadata": {},
          "output_type": "execute_result"
        }
      ],
      "source": [
        "from sklearn.linear_model import LogisticRegression\n",
        "\n",
        "pipe = make_pipeline(StandardScaler(), LogisticRegression(max_iter=1000))\n",
        "pipe.steps"
      ]
    },
    {
      "cell_type": "code",
      "execution_count": 28,
      "metadata": {
        "id": "ZEhcdmA3pDTV"
      },
      "outputs": [],
      "source": [
        "param_grid = {'logisticregression__C': [0.01, 0.1, 1, 10, 100]}"
      ]
    },
    {
      "cell_type": "code",
      "execution_count": 29,
      "metadata": {
        "colab": {
          "base_uri": "https://localhost:8080/"
        },
        "id": "NjIjZq0gpDTW",
        "outputId": "23ad42a1-a175-4782-8de4-fbf08dcbc9da"
      },
      "outputs": [
        {
          "data": {
            "text/plain": [
              "GridSearchCV(cv=5,\n",
              "             estimator=Pipeline(steps=[('standardscaler', StandardScaler()),\n",
              "                                       ('logisticregression',\n",
              "                                        LogisticRegression(max_iter=1000))]),\n",
              "             param_grid={'logisticregression__C': [0.01, 0.1, 1, 10, 100]})"
            ]
          },
          "execution_count": 29,
          "metadata": {},
          "output_type": "execute_result"
        }
      ],
      "source": [
        "# load and split the data\n",
        "\n",
        "cancer = load_breast_cancer()\n",
        "\n",
        "X_train, X_test, y_train, y_test = train_test_split(cancer.data, \n",
        "                                                    cancer.target, \n",
        "                                                    random_state=4)\n",
        "\n",
        "grid = GridSearchCV(pipe, param_grid, cv=5)\n",
        "grid.fit(X_train, y_train)"
      ]
    },
    {
      "cell_type": "code",
      "execution_count": 30,
      "metadata": {
        "colab": {
          "base_uri": "https://localhost:8080/"
        },
        "id": "iwrNI9i9pDTW",
        "outputId": "16070676-c831-4390-8246-9878df6bc76d"
      },
      "outputs": [
        {
          "name": "stdout",
          "output_type": "stream",
          "text": [
            "Best estimator:\n",
            "Pipeline(steps=[('standardscaler', StandardScaler()),\n",
            "                ('logisticregression', LogisticRegression(C=1, max_iter=1000))])\n"
          ]
        }
      ],
      "source": [
        "print(\"Best estimator:\\n{}\".format(grid.best_estimator_))"
      ]
    },
    {
      "cell_type": "code",
      "execution_count": 31,
      "metadata": {
        "id": "EtbYE0wVokk6"
      },
      "outputs": [],
      "source": [
        "lr = grid.best_estimator_.named_steps[\"logisticregression\"]"
      ]
    },
    {
      "cell_type": "code",
      "execution_count": 32,
      "metadata": {
        "colab": {
          "base_uri": "https://localhost:8080/"
        },
        "id": "kafo_jWFJ-Ud",
        "outputId": "65115b01-cbc6-4944-bef3-d8f012dadc31"
      },
      "outputs": [
        {
          "data": {
            "text/plain": [
              "array([[ 1.11491297, -2.03449436,  1.28751646, ...,  2.31707382,\n",
              "         2.77113274,  1.95337338],\n",
              "       [ 1.85614078, -0.33675539,  1.70728339, ...,  1.10604329,\n",
              "        -0.2501468 ,  0.3082897 ],\n",
              "       [ 1.60331889,  0.46272115,  1.58675625, ...,  1.97542289,\n",
              "         1.15847786,  0.22900856],\n",
              "       ...,\n",
              "       [ 0.7155693 ,  2.03180873,  0.68488077, ...,  0.4318928 ,\n",
              "        -1.11849943, -0.28741999],\n",
              "       [ 1.86475971,  2.31897703,  2.00652318, ...,  2.31097291,\n",
              "         1.93216047,  2.23416076],\n",
              "       [-1.82414149,  1.21854811, -1.82457735, ..., -1.7308796 ,\n",
              "        -0.05264554, -0.71741006]])"
            ]
          },
          "execution_count": 32,
          "metadata": {},
          "output_type": "execute_result"
        }
      ],
      "source": [
        "scaler = grid.best_estimator_.named_steps[\"standardscaler\"]\n",
        "scaler.transform(cancer.data)"
      ]
    },
    {
      "cell_type": "code",
      "execution_count": 33,
      "metadata": {
        "colab": {
          "base_uri": "https://localhost:8080/"
        },
        "id": "jNIehYfnKI4d",
        "outputId": "cded83f6-bad8-480b-9c0d-ad034bf31db2"
      },
      "outputs": [
        {
          "data": {
            "text/plain": [
              "array([0, 0, 0, 0, 0, 0, 0, 0, 0, 0, 0, 0, 0, 0, 0, 0, 0, 0, 0, 1, 1, 1,\n",
              "       0, 0, 0, 0, 0, 0, 0, 0, 0, 0, 0, 0, 0, 0, 0, 1, 0, 0, 1, 0, 0, 0,\n",
              "       0, 0, 1, 0, 1, 1, 1, 1, 1, 0, 0, 1, 0, 0, 1, 1, 1, 1, 0, 1, 0, 0,\n",
              "       1, 1, 1, 1, 0, 1, 0, 1, 1, 0, 1, 0, 0, 1, 1, 1, 0, 0, 1, 0, 0, 0,\n",
              "       1, 1, 1, 0, 1, 1, 0, 0, 1, 1, 1, 0, 0, 1, 1, 1, 1, 0, 1, 1, 0, 1,\n",
              "       1, 1, 1, 1, 1, 1, 1, 0, 0, 0, 1, 0, 0, 1, 1, 1, 0, 0, 1, 0, 1, 0,\n",
              "       0, 1, 0, 1, 1, 1, 0, 1, 1, 0, 1, 1, 1, 1, 1, 1, 1, 1, 1, 1, 1, 1,\n",
              "       1, 1, 0, 0, 1, 1, 1, 0, 0, 1, 0, 1, 1, 0, 0, 1, 1, 0, 0, 1, 1, 1,\n",
              "       1, 0, 1, 1, 0, 0, 0, 1, 0, 1, 0, 1, 1, 1, 0, 1, 1, 0, 0, 1, 0, 0,\n",
              "       0, 0, 1, 0, 0, 0, 1, 0, 1, 0, 1, 1, 0, 1, 0, 0, 0, 0, 1, 1, 0, 0,\n",
              "       1, 1, 1, 0, 1, 1, 1, 1, 1, 0, 0, 1, 1, 0, 1, 1, 0, 0, 0, 0, 1, 1,\n",
              "       1, 1, 0, 1, 1, 1, 1, 1, 0, 1, 0, 0, 0, 0, 0, 0, 0, 0, 0, 0, 0, 0,\n",
              "       0, 0, 1, 1, 1, 1, 1, 1, 0, 1, 0, 1, 1, 0, 1, 1, 0, 1, 0, 0, 1, 1,\n",
              "       1, 1, 1, 1, 1, 1, 1, 1, 1, 1, 1, 1, 1, 1, 0, 1, 0, 1, 1, 1, 1, 1,\n",
              "       1, 1, 1, 1, 1, 1, 1, 1, 1, 0, 1, 1, 1, 0, 1, 0, 1, 1, 1, 1, 0, 0,\n",
              "       0, 1, 1, 1, 1, 0, 1, 0, 1, 0, 1, 1, 1, 0, 1, 1, 1, 1, 1, 1, 1, 0,\n",
              "       0, 0, 1, 1, 1, 1, 1, 1, 1, 1, 1, 0, 1, 0, 0, 1, 0, 0, 0, 1, 0, 0,\n",
              "       1, 1, 1, 1, 1, 0, 1, 1, 1, 1, 1, 0, 1, 1, 1, 0, 1, 1, 0, 0, 1, 1,\n",
              "       1, 1, 1, 1, 0, 1, 1, 1, 1, 1, 1, 1, 0, 1, 1, 1, 1, 0, 0, 1, 1, 0,\n",
              "       1, 1, 1, 1, 1, 1, 1, 1, 1, 1, 1, 1, 0, 1, 0, 0, 1, 0, 1, 1, 1, 1,\n",
              "       1, 0, 1, 1, 0, 1, 0, 1, 1, 0, 1, 0, 1, 1, 1, 1, 1, 1, 1, 1, 0, 0,\n",
              "       1, 1, 1, 1, 1, 1, 0, 1, 1, 1, 1, 1, 1, 1, 1, 1, 1, 0, 1, 1, 1, 1,\n",
              "       1, 1, 1, 0, 1, 0, 1, 0, 0, 1, 1, 1, 1, 1, 0, 0, 1, 0, 1, 0, 1, 1,\n",
              "       1, 1, 1, 0, 1, 1, 0, 1, 0, 1, 0, 0, 1, 1, 1, 0, 1, 1, 1, 1, 1, 1,\n",
              "       1, 1, 1, 1, 1, 0, 1, 0, 0, 1, 1, 1, 1, 0, 1, 1, 1, 1, 1, 1, 1, 1,\n",
              "       1, 1, 1, 1, 1, 1, 1, 1, 1, 1, 1, 1, 0, 0, 0, 0, 0, 0, 1])"
            ]
          },
          "execution_count": 33,
          "metadata": {},
          "output_type": "execute_result"
        }
      ],
      "source": [
        "pipe = grid.best_estimator_\n",
        "pipe.predict(cancer.data)"
      ]
    },
    {
      "cell_type": "code",
      "execution_count": 34,
      "metadata": {
        "colab": {
          "base_uri": "https://localhost:8080/"
        },
        "id": "Bvxi5UpapDTW",
        "outputId": "b8c8952a-6357-441b-8b4b-66c05cec5411"
      },
      "outputs": [
        {
          "name": "stdout",
          "output_type": "stream",
          "text": [
            "Logistic regression coefficients:\n",
            "[[-0.43570655 -0.34266946 -0.40809443 -0.5344574  -0.14971847  0.61034122\n",
            "  -0.72634347 -0.78538827  0.03886087  0.27497198 -1.29780109  0.04926005\n",
            "  -0.67336941 -0.93447426 -0.13939555  0.45032641 -0.13009864 -0.10144273\n",
            "   0.43432027  0.71596578 -1.09068862 -1.09463976 -0.85183755 -1.06406198\n",
            "  -0.74316099  0.07252425 -0.82323903 -0.65321239 -0.64379499 -0.42026013]]\n"
          ]
        }
      ],
      "source": [
        "print(\"Logistic regression coefficients:\\n{}\".format(\n",
        "      grid.best_estimator_.named_steps[\"logisticregression\"].coef_))"
      ]
    }
  ],
  "metadata": {
    "anaconda-cloud": {},
    "colab": {
      "collapsed_sections": [
        "NrPtQHNNpDTS"
      ],
      "name": "P1W2D3PM - 20220420 - FTDS-010 - Algorithm Chains and Pipelines.ipynb",
      "provenance": []
    },
    "interpreter": {
      "hash": "f7c97302e4b4594ca75996a8da4638e90f26baf6fd49d76b89217181551e7aab"
    },
    "kernelspec": {
      "display_name": "Python 3.9.11 ('streamlit_envi')",
      "language": "python",
      "name": "python3"
    },
    "language_info": {
      "codemirror_mode": {
        "name": "ipython",
        "version": 3
      },
      "file_extension": ".py",
      "mimetype": "text/x-python",
      "name": "python",
      "nbconvert_exporter": "python",
      "pygments_lexer": "ipython3",
      "version": "3.9.11"
    }
  },
  "nbformat": 4,
  "nbformat_minor": 0
}
